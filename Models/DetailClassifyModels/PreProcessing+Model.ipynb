{
  "nbformat": 4,
  "nbformat_minor": 0,
  "metadata": {
    "colab": {
      "name": "PreProcessing+Model.ipynb",
      "provenance": [],
      "collapsed_sections": [],
      "machine_shape": "hm",
      "authorship_tag": "ABX9TyMV8n5aslA3sh+s4deEWNAz",
      "include_colab_link": true
    },
    "kernelspec": {
      "name": "python3",
      "display_name": "Python 3"
    },
    "language_info": {
      "name": "python"
    },
    "accelerator": "GPU",
    "widgets": {
      "application/vnd.jupyter.widget-state+json": {
        "7c6262f00161448cadfc4896fdfd3b3b": {
          "model_module": "@jupyter-widgets/controls",
          "model_name": "HBoxModel",
          "model_module_version": "1.5.0",
          "state": {
            "_view_name": "HBoxView",
            "_dom_classes": [],
            "_model_name": "HBoxModel",
            "_view_module": "@jupyter-widgets/controls",
            "_model_module_version": "1.5.0",
            "_view_count": null,
            "_view_module_version": "1.5.0",
            "box_style": "",
            "layout": "IPY_MODEL_ecc426a2de4e4b7f95b0728568971f2c",
            "_model_module": "@jupyter-widgets/controls",
            "children": [
              "IPY_MODEL_94259193828044bc91f671e980966552",
              "IPY_MODEL_6c6dac4488524ab280953611c64a63a0",
              "IPY_MODEL_c9c93766a882429e844a510154edba1f"
            ]
          }
        },
        "ecc426a2de4e4b7f95b0728568971f2c": {
          "model_module": "@jupyter-widgets/base",
          "model_name": "LayoutModel",
          "model_module_version": "1.2.0",
          "state": {
            "_view_name": "LayoutView",
            "grid_template_rows": null,
            "right": null,
            "justify_content": null,
            "_view_module": "@jupyter-widgets/base",
            "overflow": null,
            "_model_module_version": "1.2.0",
            "_view_count": null,
            "flex_flow": null,
            "width": null,
            "min_width": null,
            "border": null,
            "align_items": null,
            "bottom": null,
            "_model_module": "@jupyter-widgets/base",
            "top": null,
            "grid_column": null,
            "overflow_y": null,
            "overflow_x": null,
            "grid_auto_flow": null,
            "grid_area": null,
            "grid_template_columns": null,
            "flex": null,
            "_model_name": "LayoutModel",
            "justify_items": null,
            "grid_row": null,
            "max_height": null,
            "align_content": null,
            "visibility": null,
            "align_self": null,
            "height": null,
            "min_height": null,
            "padding": null,
            "grid_auto_rows": null,
            "grid_gap": null,
            "max_width": null,
            "order": null,
            "_view_module_version": "1.2.0",
            "grid_template_areas": null,
            "object_position": null,
            "object_fit": null,
            "grid_auto_columns": null,
            "margin": null,
            "display": null,
            "left": null
          }
        },
        "94259193828044bc91f671e980966552": {
          "model_module": "@jupyter-widgets/controls",
          "model_name": "HTMLModel",
          "model_module_version": "1.5.0",
          "state": {
            "_view_name": "HTMLView",
            "style": "IPY_MODEL_ba8e39017eaf4267b01a1f5014d3f2ab",
            "_dom_classes": [],
            "description": "",
            "_model_name": "HTMLModel",
            "placeholder": "​",
            "_view_module": "@jupyter-widgets/controls",
            "_model_module_version": "1.5.0",
            "value": "Downloading: 100%",
            "_view_count": null,
            "_view_module_version": "1.5.0",
            "description_tooltip": null,
            "_model_module": "@jupyter-widgets/controls",
            "layout": "IPY_MODEL_1dfca19ed94048108d0704901ee289ae"
          }
        },
        "6c6dac4488524ab280953611c64a63a0": {
          "model_module": "@jupyter-widgets/controls",
          "model_name": "FloatProgressModel",
          "model_module_version": "1.5.0",
          "state": {
            "_view_name": "ProgressView",
            "style": "IPY_MODEL_288fbdf477584c91a283367a0b106c48",
            "_dom_classes": [],
            "description": "",
            "_model_name": "FloatProgressModel",
            "bar_style": "success",
            "max": 344259,
            "_view_module": "@jupyter-widgets/controls",
            "_model_module_version": "1.5.0",
            "value": 344259,
            "_view_count": null,
            "_view_module_version": "1.5.0",
            "orientation": "horizontal",
            "min": 0,
            "description_tooltip": null,
            "_model_module": "@jupyter-widgets/controls",
            "layout": "IPY_MODEL_0bb5b9c904ff4461aada561ab08e5ea8"
          }
        },
        "c9c93766a882429e844a510154edba1f": {
          "model_module": "@jupyter-widgets/controls",
          "model_name": "HTMLModel",
          "model_module_version": "1.5.0",
          "state": {
            "_view_name": "HTMLView",
            "style": "IPY_MODEL_32231e837a5f485c80d46a4ab32300f5",
            "_dom_classes": [],
            "description": "",
            "_model_name": "HTMLModel",
            "placeholder": "​",
            "_view_module": "@jupyter-widgets/controls",
            "_model_module_version": "1.5.0",
            "value": " 336k/336k [00:00&lt;00:00, 897kB/s]",
            "_view_count": null,
            "_view_module_version": "1.5.0",
            "description_tooltip": null,
            "_model_module": "@jupyter-widgets/controls",
            "layout": "IPY_MODEL_d14d6c8321384e0a8c801f7d90ddc6cb"
          }
        },
        "ba8e39017eaf4267b01a1f5014d3f2ab": {
          "model_module": "@jupyter-widgets/controls",
          "model_name": "DescriptionStyleModel",
          "model_module_version": "1.5.0",
          "state": {
            "_view_name": "StyleView",
            "_model_name": "DescriptionStyleModel",
            "description_width": "",
            "_view_module": "@jupyter-widgets/base",
            "_model_module_version": "1.5.0",
            "_view_count": null,
            "_view_module_version": "1.2.0",
            "_model_module": "@jupyter-widgets/controls"
          }
        },
        "1dfca19ed94048108d0704901ee289ae": {
          "model_module": "@jupyter-widgets/base",
          "model_name": "LayoutModel",
          "model_module_version": "1.2.0",
          "state": {
            "_view_name": "LayoutView",
            "grid_template_rows": null,
            "right": null,
            "justify_content": null,
            "_view_module": "@jupyter-widgets/base",
            "overflow": null,
            "_model_module_version": "1.2.0",
            "_view_count": null,
            "flex_flow": null,
            "width": null,
            "min_width": null,
            "border": null,
            "align_items": null,
            "bottom": null,
            "_model_module": "@jupyter-widgets/base",
            "top": null,
            "grid_column": null,
            "overflow_y": null,
            "overflow_x": null,
            "grid_auto_flow": null,
            "grid_area": null,
            "grid_template_columns": null,
            "flex": null,
            "_model_name": "LayoutModel",
            "justify_items": null,
            "grid_row": null,
            "max_height": null,
            "align_content": null,
            "visibility": null,
            "align_self": null,
            "height": null,
            "min_height": null,
            "padding": null,
            "grid_auto_rows": null,
            "grid_gap": null,
            "max_width": null,
            "order": null,
            "_view_module_version": "1.2.0",
            "grid_template_areas": null,
            "object_position": null,
            "object_fit": null,
            "grid_auto_columns": null,
            "margin": null,
            "display": null,
            "left": null
          }
        },
        "288fbdf477584c91a283367a0b106c48": {
          "model_module": "@jupyter-widgets/controls",
          "model_name": "ProgressStyleModel",
          "model_module_version": "1.5.0",
          "state": {
            "_view_name": "StyleView",
            "_model_name": "ProgressStyleModel",
            "description_width": "",
            "_view_module": "@jupyter-widgets/base",
            "_model_module_version": "1.5.0",
            "_view_count": null,
            "_view_module_version": "1.2.0",
            "bar_color": null,
            "_model_module": "@jupyter-widgets/controls"
          }
        },
        "0bb5b9c904ff4461aada561ab08e5ea8": {
          "model_module": "@jupyter-widgets/base",
          "model_name": "LayoutModel",
          "model_module_version": "1.2.0",
          "state": {
            "_view_name": "LayoutView",
            "grid_template_rows": null,
            "right": null,
            "justify_content": null,
            "_view_module": "@jupyter-widgets/base",
            "overflow": null,
            "_model_module_version": "1.2.0",
            "_view_count": null,
            "flex_flow": null,
            "width": null,
            "min_width": null,
            "border": null,
            "align_items": null,
            "bottom": null,
            "_model_module": "@jupyter-widgets/base",
            "top": null,
            "grid_column": null,
            "overflow_y": null,
            "overflow_x": null,
            "grid_auto_flow": null,
            "grid_area": null,
            "grid_template_columns": null,
            "flex": null,
            "_model_name": "LayoutModel",
            "justify_items": null,
            "grid_row": null,
            "max_height": null,
            "align_content": null,
            "visibility": null,
            "align_self": null,
            "height": null,
            "min_height": null,
            "padding": null,
            "grid_auto_rows": null,
            "grid_gap": null,
            "max_width": null,
            "order": null,
            "_view_module_version": "1.2.0",
            "grid_template_areas": null,
            "object_position": null,
            "object_fit": null,
            "grid_auto_columns": null,
            "margin": null,
            "display": null,
            "left": null
          }
        },
        "32231e837a5f485c80d46a4ab32300f5": {
          "model_module": "@jupyter-widgets/controls",
          "model_name": "DescriptionStyleModel",
          "model_module_version": "1.5.0",
          "state": {
            "_view_name": "StyleView",
            "_model_name": "DescriptionStyleModel",
            "description_width": "",
            "_view_module": "@jupyter-widgets/base",
            "_model_module_version": "1.5.0",
            "_view_count": null,
            "_view_module_version": "1.2.0",
            "_model_module": "@jupyter-widgets/controls"
          }
        },
        "d14d6c8321384e0a8c801f7d90ddc6cb": {
          "model_module": "@jupyter-widgets/base",
          "model_name": "LayoutModel",
          "model_module_version": "1.2.0",
          "state": {
            "_view_name": "LayoutView",
            "grid_template_rows": null,
            "right": null,
            "justify_content": null,
            "_view_module": "@jupyter-widgets/base",
            "overflow": null,
            "_model_module_version": "1.2.0",
            "_view_count": null,
            "flex_flow": null,
            "width": null,
            "min_width": null,
            "border": null,
            "align_items": null,
            "bottom": null,
            "_model_module": "@jupyter-widgets/base",
            "top": null,
            "grid_column": null,
            "overflow_y": null,
            "overflow_x": null,
            "grid_auto_flow": null,
            "grid_area": null,
            "grid_template_columns": null,
            "flex": null,
            "_model_name": "LayoutModel",
            "justify_items": null,
            "grid_row": null,
            "max_height": null,
            "align_content": null,
            "visibility": null,
            "align_self": null,
            "height": null,
            "min_height": null,
            "padding": null,
            "grid_auto_rows": null,
            "grid_gap": null,
            "max_width": null,
            "order": null,
            "_view_module_version": "1.2.0",
            "grid_template_areas": null,
            "object_position": null,
            "object_fit": null,
            "grid_auto_columns": null,
            "margin": null,
            "display": null,
            "left": null
          }
        },
        "f06aff25977748e9b1b2f09a8b02851e": {
          "model_module": "@jupyter-widgets/controls",
          "model_name": "HBoxModel",
          "model_module_version": "1.5.0",
          "state": {
            "_view_name": "HBoxView",
            "_dom_classes": [],
            "_model_name": "HBoxModel",
            "_view_module": "@jupyter-widgets/controls",
            "_model_module_version": "1.5.0",
            "_view_count": null,
            "_view_module_version": "1.5.0",
            "box_style": "",
            "layout": "IPY_MODEL_bb879503bd254fe095b1dae632c69d47",
            "_model_module": "@jupyter-widgets/controls",
            "children": [
              "IPY_MODEL_af41a984645a442facac436a5d6e88f0",
              "IPY_MODEL_15c8084cc14e4465a85134d14d633d6a",
              "IPY_MODEL_c53d388be4414c6c8d6d6664d7ac47d3"
            ]
          }
        },
        "bb879503bd254fe095b1dae632c69d47": {
          "model_module": "@jupyter-widgets/base",
          "model_name": "LayoutModel",
          "model_module_version": "1.2.0",
          "state": {
            "_view_name": "LayoutView",
            "grid_template_rows": null,
            "right": null,
            "justify_content": null,
            "_view_module": "@jupyter-widgets/base",
            "overflow": null,
            "_model_module_version": "1.2.0",
            "_view_count": null,
            "flex_flow": null,
            "width": null,
            "min_width": null,
            "border": null,
            "align_items": null,
            "bottom": null,
            "_model_module": "@jupyter-widgets/base",
            "top": null,
            "grid_column": null,
            "overflow_y": null,
            "overflow_x": null,
            "grid_auto_flow": null,
            "grid_area": null,
            "grid_template_columns": null,
            "flex": null,
            "_model_name": "LayoutModel",
            "justify_items": null,
            "grid_row": null,
            "max_height": null,
            "align_content": null,
            "visibility": null,
            "align_self": null,
            "height": null,
            "min_height": null,
            "padding": null,
            "grid_auto_rows": null,
            "grid_gap": null,
            "max_width": null,
            "order": null,
            "_view_module_version": "1.2.0",
            "grid_template_areas": null,
            "object_position": null,
            "object_fit": null,
            "grid_auto_columns": null,
            "margin": null,
            "display": null,
            "left": null
          }
        },
        "af41a984645a442facac436a5d6e88f0": {
          "model_module": "@jupyter-widgets/controls",
          "model_name": "HTMLModel",
          "model_module_version": "1.5.0",
          "state": {
            "_view_name": "HTMLView",
            "style": "IPY_MODEL_6983c02680ee4197b170c68df580ac21",
            "_dom_classes": [],
            "description": "",
            "_model_name": "HTMLModel",
            "placeholder": "​",
            "_view_module": "@jupyter-widgets/controls",
            "_model_module_version": "1.5.0",
            "value": "Downloading: 100%",
            "_view_count": null,
            "_view_module_version": "1.5.0",
            "description_tooltip": null,
            "_model_module": "@jupyter-widgets/controls",
            "layout": "IPY_MODEL_3eed65a48db748c692e8bd75843a8692"
          }
        },
        "15c8084cc14e4465a85134d14d633d6a": {
          "model_module": "@jupyter-widgets/controls",
          "model_name": "FloatProgressModel",
          "model_module_version": "1.5.0",
          "state": {
            "_view_name": "ProgressView",
            "style": "IPY_MODEL_b7048bcdd68747c7a66391e21ec40fd9",
            "_dom_classes": [],
            "description": "",
            "_model_name": "FloatProgressModel",
            "bar_style": "success",
            "max": 80,
            "_view_module": "@jupyter-widgets/controls",
            "_model_module_version": "1.5.0",
            "value": 80,
            "_view_count": null,
            "_view_module_version": "1.5.0",
            "orientation": "horizontal",
            "min": 0,
            "description_tooltip": null,
            "_model_module": "@jupyter-widgets/controls",
            "layout": "IPY_MODEL_8916edf86a4a4d359102b66eaf1dec72"
          }
        },
        "c53d388be4414c6c8d6d6664d7ac47d3": {
          "model_module": "@jupyter-widgets/controls",
          "model_name": "HTMLModel",
          "model_module_version": "1.5.0",
          "state": {
            "_view_name": "HTMLView",
            "style": "IPY_MODEL_f91c2fbdd0e34da5927df8cfe64ed500",
            "_dom_classes": [],
            "description": "",
            "_model_name": "HTMLModel",
            "placeholder": "​",
            "_view_module": "@jupyter-widgets/controls",
            "_model_module_version": "1.5.0",
            "value": " 80.0/80.0 [00:00&lt;00:00, 3.09kB/s]",
            "_view_count": null,
            "_view_module_version": "1.5.0",
            "description_tooltip": null,
            "_model_module": "@jupyter-widgets/controls",
            "layout": "IPY_MODEL_d9fe5abe5a5944fd83ec37301b732b1c"
          }
        },
        "6983c02680ee4197b170c68df580ac21": {
          "model_module": "@jupyter-widgets/controls",
          "model_name": "DescriptionStyleModel",
          "model_module_version": "1.5.0",
          "state": {
            "_view_name": "StyleView",
            "_model_name": "DescriptionStyleModel",
            "description_width": "",
            "_view_module": "@jupyter-widgets/base",
            "_model_module_version": "1.5.0",
            "_view_count": null,
            "_view_module_version": "1.2.0",
            "_model_module": "@jupyter-widgets/controls"
          }
        },
        "3eed65a48db748c692e8bd75843a8692": {
          "model_module": "@jupyter-widgets/base",
          "model_name": "LayoutModel",
          "model_module_version": "1.2.0",
          "state": {
            "_view_name": "LayoutView",
            "grid_template_rows": null,
            "right": null,
            "justify_content": null,
            "_view_module": "@jupyter-widgets/base",
            "overflow": null,
            "_model_module_version": "1.2.0",
            "_view_count": null,
            "flex_flow": null,
            "width": null,
            "min_width": null,
            "border": null,
            "align_items": null,
            "bottom": null,
            "_model_module": "@jupyter-widgets/base",
            "top": null,
            "grid_column": null,
            "overflow_y": null,
            "overflow_x": null,
            "grid_auto_flow": null,
            "grid_area": null,
            "grid_template_columns": null,
            "flex": null,
            "_model_name": "LayoutModel",
            "justify_items": null,
            "grid_row": null,
            "max_height": null,
            "align_content": null,
            "visibility": null,
            "align_self": null,
            "height": null,
            "min_height": null,
            "padding": null,
            "grid_auto_rows": null,
            "grid_gap": null,
            "max_width": null,
            "order": null,
            "_view_module_version": "1.2.0",
            "grid_template_areas": null,
            "object_position": null,
            "object_fit": null,
            "grid_auto_columns": null,
            "margin": null,
            "display": null,
            "left": null
          }
        },
        "b7048bcdd68747c7a66391e21ec40fd9": {
          "model_module": "@jupyter-widgets/controls",
          "model_name": "ProgressStyleModel",
          "model_module_version": "1.5.0",
          "state": {
            "_view_name": "StyleView",
            "_model_name": "ProgressStyleModel",
            "description_width": "",
            "_view_module": "@jupyter-widgets/base",
            "_model_module_version": "1.5.0",
            "_view_count": null,
            "_view_module_version": "1.2.0",
            "bar_color": null,
            "_model_module": "@jupyter-widgets/controls"
          }
        },
        "8916edf86a4a4d359102b66eaf1dec72": {
          "model_module": "@jupyter-widgets/base",
          "model_name": "LayoutModel",
          "model_module_version": "1.2.0",
          "state": {
            "_view_name": "LayoutView",
            "grid_template_rows": null,
            "right": null,
            "justify_content": null,
            "_view_module": "@jupyter-widgets/base",
            "overflow": null,
            "_model_module_version": "1.2.0",
            "_view_count": null,
            "flex_flow": null,
            "width": null,
            "min_width": null,
            "border": null,
            "align_items": null,
            "bottom": null,
            "_model_module": "@jupyter-widgets/base",
            "top": null,
            "grid_column": null,
            "overflow_y": null,
            "overflow_x": null,
            "grid_auto_flow": null,
            "grid_area": null,
            "grid_template_columns": null,
            "flex": null,
            "_model_name": "LayoutModel",
            "justify_items": null,
            "grid_row": null,
            "max_height": null,
            "align_content": null,
            "visibility": null,
            "align_self": null,
            "height": null,
            "min_height": null,
            "padding": null,
            "grid_auto_rows": null,
            "grid_gap": null,
            "max_width": null,
            "order": null,
            "_view_module_version": "1.2.0",
            "grid_template_areas": null,
            "object_position": null,
            "object_fit": null,
            "grid_auto_columns": null,
            "margin": null,
            "display": null,
            "left": null
          }
        },
        "f91c2fbdd0e34da5927df8cfe64ed500": {
          "model_module": "@jupyter-widgets/controls",
          "model_name": "DescriptionStyleModel",
          "model_module_version": "1.5.0",
          "state": {
            "_view_name": "StyleView",
            "_model_name": "DescriptionStyleModel",
            "description_width": "",
            "_view_module": "@jupyter-widgets/base",
            "_model_module_version": "1.5.0",
            "_view_count": null,
            "_view_module_version": "1.2.0",
            "_model_module": "@jupyter-widgets/controls"
          }
        },
        "d9fe5abe5a5944fd83ec37301b732b1c": {
          "model_module": "@jupyter-widgets/base",
          "model_name": "LayoutModel",
          "model_module_version": "1.2.0",
          "state": {
            "_view_name": "LayoutView",
            "grid_template_rows": null,
            "right": null,
            "justify_content": null,
            "_view_module": "@jupyter-widgets/base",
            "overflow": null,
            "_model_module_version": "1.2.0",
            "_view_count": null,
            "flex_flow": null,
            "width": null,
            "min_width": null,
            "border": null,
            "align_items": null,
            "bottom": null,
            "_model_module": "@jupyter-widgets/base",
            "top": null,
            "grid_column": null,
            "overflow_y": null,
            "overflow_x": null,
            "grid_auto_flow": null,
            "grid_area": null,
            "grid_template_columns": null,
            "flex": null,
            "_model_name": "LayoutModel",
            "justify_items": null,
            "grid_row": null,
            "max_height": null,
            "align_content": null,
            "visibility": null,
            "align_self": null,
            "height": null,
            "min_height": null,
            "padding": null,
            "grid_auto_rows": null,
            "grid_gap": null,
            "max_width": null,
            "order": null,
            "_view_module_version": "1.2.0",
            "grid_template_areas": null,
            "object_position": null,
            "object_fit": null,
            "grid_auto_columns": null,
            "margin": null,
            "display": null,
            "left": null
          }
        },
        "0f63368d49df4715902a2ba57cc84ed2": {
          "model_module": "@jupyter-widgets/controls",
          "model_name": "HBoxModel",
          "model_module_version": "1.5.0",
          "state": {
            "_view_name": "HBoxView",
            "_dom_classes": [],
            "_model_name": "HBoxModel",
            "_view_module": "@jupyter-widgets/controls",
            "_model_module_version": "1.5.0",
            "_view_count": null,
            "_view_module_version": "1.5.0",
            "box_style": "",
            "layout": "IPY_MODEL_8cf2cda4bc704971b88c4d5000147bc3",
            "_model_module": "@jupyter-widgets/controls",
            "children": [
              "IPY_MODEL_16bb5c52fb5b4a56b934534a0e1be2fb",
              "IPY_MODEL_815f929df5b64ec1934f0eee9245e302",
              "IPY_MODEL_0ea096a86f434493a5789a5c227b8fc6"
            ]
          }
        },
        "8cf2cda4bc704971b88c4d5000147bc3": {
          "model_module": "@jupyter-widgets/base",
          "model_name": "LayoutModel",
          "model_module_version": "1.2.0",
          "state": {
            "_view_name": "LayoutView",
            "grid_template_rows": null,
            "right": null,
            "justify_content": null,
            "_view_module": "@jupyter-widgets/base",
            "overflow": null,
            "_model_module_version": "1.2.0",
            "_view_count": null,
            "flex_flow": null,
            "width": null,
            "min_width": null,
            "border": null,
            "align_items": null,
            "bottom": null,
            "_model_module": "@jupyter-widgets/base",
            "top": null,
            "grid_column": null,
            "overflow_y": null,
            "overflow_x": null,
            "grid_auto_flow": null,
            "grid_area": null,
            "grid_template_columns": null,
            "flex": null,
            "_model_name": "LayoutModel",
            "justify_items": null,
            "grid_row": null,
            "max_height": null,
            "align_content": null,
            "visibility": null,
            "align_self": null,
            "height": null,
            "min_height": null,
            "padding": null,
            "grid_auto_rows": null,
            "grid_gap": null,
            "max_width": null,
            "order": null,
            "_view_module_version": "1.2.0",
            "grid_template_areas": null,
            "object_position": null,
            "object_fit": null,
            "grid_auto_columns": null,
            "margin": null,
            "display": null,
            "left": null
          }
        },
        "16bb5c52fb5b4a56b934534a0e1be2fb": {
          "model_module": "@jupyter-widgets/controls",
          "model_name": "HTMLModel",
          "model_module_version": "1.5.0",
          "state": {
            "_view_name": "HTMLView",
            "style": "IPY_MODEL_6ba34f5c790549639fe431932b04bcd0",
            "_dom_classes": [],
            "description": "",
            "_model_name": "HTMLModel",
            "placeholder": "​",
            "_view_module": "@jupyter-widgets/controls",
            "_model_module_version": "1.5.0",
            "value": "Downloading: 100%",
            "_view_count": null,
            "_view_module_version": "1.5.0",
            "description_tooltip": null,
            "_model_module": "@jupyter-widgets/controls",
            "layout": "IPY_MODEL_2cc37f5aac9349c8aa2fb66346eea505"
          }
        },
        "815f929df5b64ec1934f0eee9245e302": {
          "model_module": "@jupyter-widgets/controls",
          "model_name": "FloatProgressModel",
          "model_module_version": "1.5.0",
          "state": {
            "_view_name": "ProgressView",
            "style": "IPY_MODEL_1b1b40483aac43449a8753437c7a96ff",
            "_dom_classes": [],
            "description": "",
            "_model_name": "FloatProgressModel",
            "bar_style": "success",
            "max": 725,
            "_view_module": "@jupyter-widgets/controls",
            "_model_module_version": "1.5.0",
            "value": 725,
            "_view_count": null,
            "_view_module_version": "1.5.0",
            "orientation": "horizontal",
            "min": 0,
            "description_tooltip": null,
            "_model_module": "@jupyter-widgets/controls",
            "layout": "IPY_MODEL_52cbe8043a304ebea6d633393627f949"
          }
        },
        "0ea096a86f434493a5789a5c227b8fc6": {
          "model_module": "@jupyter-widgets/controls",
          "model_name": "HTMLModel",
          "model_module_version": "1.5.0",
          "state": {
            "_view_name": "HTMLView",
            "style": "IPY_MODEL_7b3e342f537e424ca361a4df60046504",
            "_dom_classes": [],
            "description": "",
            "_model_name": "HTMLModel",
            "placeholder": "​",
            "_view_module": "@jupyter-widgets/controls",
            "_model_module_version": "1.5.0",
            "value": " 725/725 [00:00&lt;00:00, 28.8kB/s]",
            "_view_count": null,
            "_view_module_version": "1.5.0",
            "description_tooltip": null,
            "_model_module": "@jupyter-widgets/controls",
            "layout": "IPY_MODEL_42fc05c8b2354948ab15c68501466ba2"
          }
        },
        "6ba34f5c790549639fe431932b04bcd0": {
          "model_module": "@jupyter-widgets/controls",
          "model_name": "DescriptionStyleModel",
          "model_module_version": "1.5.0",
          "state": {
            "_view_name": "StyleView",
            "_model_name": "DescriptionStyleModel",
            "description_width": "",
            "_view_module": "@jupyter-widgets/base",
            "_model_module_version": "1.5.0",
            "_view_count": null,
            "_view_module_version": "1.2.0",
            "_model_module": "@jupyter-widgets/controls"
          }
        },
        "2cc37f5aac9349c8aa2fb66346eea505": {
          "model_module": "@jupyter-widgets/base",
          "model_name": "LayoutModel",
          "model_module_version": "1.2.0",
          "state": {
            "_view_name": "LayoutView",
            "grid_template_rows": null,
            "right": null,
            "justify_content": null,
            "_view_module": "@jupyter-widgets/base",
            "overflow": null,
            "_model_module_version": "1.2.0",
            "_view_count": null,
            "flex_flow": null,
            "width": null,
            "min_width": null,
            "border": null,
            "align_items": null,
            "bottom": null,
            "_model_module": "@jupyter-widgets/base",
            "top": null,
            "grid_column": null,
            "overflow_y": null,
            "overflow_x": null,
            "grid_auto_flow": null,
            "grid_area": null,
            "grid_template_columns": null,
            "flex": null,
            "_model_name": "LayoutModel",
            "justify_items": null,
            "grid_row": null,
            "max_height": null,
            "align_content": null,
            "visibility": null,
            "align_self": null,
            "height": null,
            "min_height": null,
            "padding": null,
            "grid_auto_rows": null,
            "grid_gap": null,
            "max_width": null,
            "order": null,
            "_view_module_version": "1.2.0",
            "grid_template_areas": null,
            "object_position": null,
            "object_fit": null,
            "grid_auto_columns": null,
            "margin": null,
            "display": null,
            "left": null
          }
        },
        "1b1b40483aac43449a8753437c7a96ff": {
          "model_module": "@jupyter-widgets/controls",
          "model_name": "ProgressStyleModel",
          "model_module_version": "1.5.0",
          "state": {
            "_view_name": "StyleView",
            "_model_name": "ProgressStyleModel",
            "description_width": "",
            "_view_module": "@jupyter-widgets/base",
            "_model_module_version": "1.5.0",
            "_view_count": null,
            "_view_module_version": "1.2.0",
            "bar_color": null,
            "_model_module": "@jupyter-widgets/controls"
          }
        },
        "52cbe8043a304ebea6d633393627f949": {
          "model_module": "@jupyter-widgets/base",
          "model_name": "LayoutModel",
          "model_module_version": "1.2.0",
          "state": {
            "_view_name": "LayoutView",
            "grid_template_rows": null,
            "right": null,
            "justify_content": null,
            "_view_module": "@jupyter-widgets/base",
            "overflow": null,
            "_model_module_version": "1.2.0",
            "_view_count": null,
            "flex_flow": null,
            "width": null,
            "min_width": null,
            "border": null,
            "align_items": null,
            "bottom": null,
            "_model_module": "@jupyter-widgets/base",
            "top": null,
            "grid_column": null,
            "overflow_y": null,
            "overflow_x": null,
            "grid_auto_flow": null,
            "grid_area": null,
            "grid_template_columns": null,
            "flex": null,
            "_model_name": "LayoutModel",
            "justify_items": null,
            "grid_row": null,
            "max_height": null,
            "align_content": null,
            "visibility": null,
            "align_self": null,
            "height": null,
            "min_height": null,
            "padding": null,
            "grid_auto_rows": null,
            "grid_gap": null,
            "max_width": null,
            "order": null,
            "_view_module_version": "1.2.0",
            "grid_template_areas": null,
            "object_position": null,
            "object_fit": null,
            "grid_auto_columns": null,
            "margin": null,
            "display": null,
            "left": null
          }
        },
        "7b3e342f537e424ca361a4df60046504": {
          "model_module": "@jupyter-widgets/controls",
          "model_name": "DescriptionStyleModel",
          "model_module_version": "1.5.0",
          "state": {
            "_view_name": "StyleView",
            "_model_name": "DescriptionStyleModel",
            "description_width": "",
            "_view_module": "@jupyter-widgets/base",
            "_model_module_version": "1.5.0",
            "_view_count": null,
            "_view_module_version": "1.2.0",
            "_model_module": "@jupyter-widgets/controls"
          }
        },
        "42fc05c8b2354948ab15c68501466ba2": {
          "model_module": "@jupyter-widgets/base",
          "model_name": "LayoutModel",
          "model_module_version": "1.2.0",
          "state": {
            "_view_name": "LayoutView",
            "grid_template_rows": null,
            "right": null,
            "justify_content": null,
            "_view_module": "@jupyter-widgets/base",
            "overflow": null,
            "_model_module_version": "1.2.0",
            "_view_count": null,
            "flex_flow": null,
            "width": null,
            "min_width": null,
            "border": null,
            "align_items": null,
            "bottom": null,
            "_model_module": "@jupyter-widgets/base",
            "top": null,
            "grid_column": null,
            "overflow_y": null,
            "overflow_x": null,
            "grid_auto_flow": null,
            "grid_area": null,
            "grid_template_columns": null,
            "flex": null,
            "_model_name": "LayoutModel",
            "justify_items": null,
            "grid_row": null,
            "max_height": null,
            "align_content": null,
            "visibility": null,
            "align_self": null,
            "height": null,
            "min_height": null,
            "padding": null,
            "grid_auto_rows": null,
            "grid_gap": null,
            "max_width": null,
            "order": null,
            "_view_module_version": "1.2.0",
            "grid_template_areas": null,
            "object_position": null,
            "object_fit": null,
            "grid_auto_columns": null,
            "margin": null,
            "display": null,
            "left": null
          }
        },
        "176df1e9acf640958fd396ccdae4136b": {
          "model_module": "@jupyter-widgets/controls",
          "model_name": "HBoxModel",
          "model_module_version": "1.5.0",
          "state": {
            "_view_name": "HBoxView",
            "_dom_classes": [],
            "_model_name": "HBoxModel",
            "_view_module": "@jupyter-widgets/controls",
            "_model_module_version": "1.5.0",
            "_view_count": null,
            "_view_module_version": "1.5.0",
            "box_style": "",
            "layout": "IPY_MODEL_00b78a2d498946a4900e01278b7d436d",
            "_model_module": "@jupyter-widgets/controls",
            "children": [
              "IPY_MODEL_fef99705313e47639e0edffc2a02dd89",
              "IPY_MODEL_b7bd1dbf1dd041e4a2c44033639427f0",
              "IPY_MODEL_b9a039c1c1ab48a6bf4a234c5848bd06"
            ]
          }
        },
        "00b78a2d498946a4900e01278b7d436d": {
          "model_module": "@jupyter-widgets/base",
          "model_name": "LayoutModel",
          "model_module_version": "1.2.0",
          "state": {
            "_view_name": "LayoutView",
            "grid_template_rows": null,
            "right": null,
            "justify_content": null,
            "_view_module": "@jupyter-widgets/base",
            "overflow": null,
            "_model_module_version": "1.2.0",
            "_view_count": null,
            "flex_flow": null,
            "width": null,
            "min_width": null,
            "border": null,
            "align_items": null,
            "bottom": null,
            "_model_module": "@jupyter-widgets/base",
            "top": null,
            "grid_column": null,
            "overflow_y": null,
            "overflow_x": null,
            "grid_auto_flow": null,
            "grid_area": null,
            "grid_template_columns": null,
            "flex": null,
            "_model_name": "LayoutModel",
            "justify_items": null,
            "grid_row": null,
            "max_height": null,
            "align_content": null,
            "visibility": null,
            "align_self": null,
            "height": null,
            "min_height": null,
            "padding": null,
            "grid_auto_rows": null,
            "grid_gap": null,
            "max_width": null,
            "order": null,
            "_view_module_version": "1.2.0",
            "grid_template_areas": null,
            "object_position": null,
            "object_fit": null,
            "grid_auto_columns": null,
            "margin": null,
            "display": null,
            "left": null
          }
        },
        "fef99705313e47639e0edffc2a02dd89": {
          "model_module": "@jupyter-widgets/controls",
          "model_name": "HTMLModel",
          "model_module_version": "1.5.0",
          "state": {
            "_view_name": "HTMLView",
            "style": "IPY_MODEL_2861c323e1d248ab853343b26b890b59",
            "_dom_classes": [],
            "description": "",
            "_model_name": "HTMLModel",
            "placeholder": "​",
            "_view_module": "@jupyter-widgets/controls",
            "_model_module_version": "1.5.0",
            "value": "Downloading: 100%",
            "_view_count": null,
            "_view_module_version": "1.5.0",
            "description_tooltip": null,
            "_model_module": "@jupyter-widgets/controls",
            "layout": "IPY_MODEL_2e36d0dc555744a1a78420b8daf27a39"
          }
        },
        "b7bd1dbf1dd041e4a2c44033639427f0": {
          "model_module": "@jupyter-widgets/controls",
          "model_name": "FloatProgressModel",
          "model_module_version": "1.5.0",
          "state": {
            "_view_name": "ProgressView",
            "style": "IPY_MODEL_bb5d0575438b4e4aad9b7b8313b47bf0",
            "_dom_classes": [],
            "description": "",
            "_model_name": "FloatProgressModel",
            "bar_style": "success",
            "max": 344240,
            "_view_module": "@jupyter-widgets/controls",
            "_model_module_version": "1.5.0",
            "value": 344240,
            "_view_count": null,
            "_view_module_version": "1.5.0",
            "orientation": "horizontal",
            "min": 0,
            "description_tooltip": null,
            "_model_module": "@jupyter-widgets/controls",
            "layout": "IPY_MODEL_3dae216809854d1099a39d9c08403a33"
          }
        },
        "b9a039c1c1ab48a6bf4a234c5848bd06": {
          "model_module": "@jupyter-widgets/controls",
          "model_name": "HTMLModel",
          "model_module_version": "1.5.0",
          "state": {
            "_view_name": "HTMLView",
            "style": "IPY_MODEL_9d7818198d8f472aa3e4fac3a9530344",
            "_dom_classes": [],
            "description": "",
            "_model_name": "HTMLModel",
            "placeholder": "​",
            "_view_module": "@jupyter-widgets/controls",
            "_model_module_version": "1.5.0",
            "value": " 336k/336k [00:00&lt;00:00, 927kB/s]",
            "_view_count": null,
            "_view_module_version": "1.5.0",
            "description_tooltip": null,
            "_model_module": "@jupyter-widgets/controls",
            "layout": "IPY_MODEL_945f111fb7ac45cb9204bee1e27a1641"
          }
        },
        "2861c323e1d248ab853343b26b890b59": {
          "model_module": "@jupyter-widgets/controls",
          "model_name": "DescriptionStyleModel",
          "model_module_version": "1.5.0",
          "state": {
            "_view_name": "StyleView",
            "_model_name": "DescriptionStyleModel",
            "description_width": "",
            "_view_module": "@jupyter-widgets/base",
            "_model_module_version": "1.5.0",
            "_view_count": null,
            "_view_module_version": "1.2.0",
            "_model_module": "@jupyter-widgets/controls"
          }
        },
        "2e36d0dc555744a1a78420b8daf27a39": {
          "model_module": "@jupyter-widgets/base",
          "model_name": "LayoutModel",
          "model_module_version": "1.2.0",
          "state": {
            "_view_name": "LayoutView",
            "grid_template_rows": null,
            "right": null,
            "justify_content": null,
            "_view_module": "@jupyter-widgets/base",
            "overflow": null,
            "_model_module_version": "1.2.0",
            "_view_count": null,
            "flex_flow": null,
            "width": null,
            "min_width": null,
            "border": null,
            "align_items": null,
            "bottom": null,
            "_model_module": "@jupyter-widgets/base",
            "top": null,
            "grid_column": null,
            "overflow_y": null,
            "overflow_x": null,
            "grid_auto_flow": null,
            "grid_area": null,
            "grid_template_columns": null,
            "flex": null,
            "_model_name": "LayoutModel",
            "justify_items": null,
            "grid_row": null,
            "max_height": null,
            "align_content": null,
            "visibility": null,
            "align_self": null,
            "height": null,
            "min_height": null,
            "padding": null,
            "grid_auto_rows": null,
            "grid_gap": null,
            "max_width": null,
            "order": null,
            "_view_module_version": "1.2.0",
            "grid_template_areas": null,
            "object_position": null,
            "object_fit": null,
            "grid_auto_columns": null,
            "margin": null,
            "display": null,
            "left": null
          }
        },
        "bb5d0575438b4e4aad9b7b8313b47bf0": {
          "model_module": "@jupyter-widgets/controls",
          "model_name": "ProgressStyleModel",
          "model_module_version": "1.5.0",
          "state": {
            "_view_name": "StyleView",
            "_model_name": "ProgressStyleModel",
            "description_width": "",
            "_view_module": "@jupyter-widgets/base",
            "_model_module_version": "1.5.0",
            "_view_count": null,
            "_view_module_version": "1.2.0",
            "bar_color": null,
            "_model_module": "@jupyter-widgets/controls"
          }
        },
        "3dae216809854d1099a39d9c08403a33": {
          "model_module": "@jupyter-widgets/base",
          "model_name": "LayoutModel",
          "model_module_version": "1.2.0",
          "state": {
            "_view_name": "LayoutView",
            "grid_template_rows": null,
            "right": null,
            "justify_content": null,
            "_view_module": "@jupyter-widgets/base",
            "overflow": null,
            "_model_module_version": "1.2.0",
            "_view_count": null,
            "flex_flow": null,
            "width": null,
            "min_width": null,
            "border": null,
            "align_items": null,
            "bottom": null,
            "_model_module": "@jupyter-widgets/base",
            "top": null,
            "grid_column": null,
            "overflow_y": null,
            "overflow_x": null,
            "grid_auto_flow": null,
            "grid_area": null,
            "grid_template_columns": null,
            "flex": null,
            "_model_name": "LayoutModel",
            "justify_items": null,
            "grid_row": null,
            "max_height": null,
            "align_content": null,
            "visibility": null,
            "align_self": null,
            "height": null,
            "min_height": null,
            "padding": null,
            "grid_auto_rows": null,
            "grid_gap": null,
            "max_width": null,
            "order": null,
            "_view_module_version": "1.2.0",
            "grid_template_areas": null,
            "object_position": null,
            "object_fit": null,
            "grid_auto_columns": null,
            "margin": null,
            "display": null,
            "left": null
          }
        },
        "9d7818198d8f472aa3e4fac3a9530344": {
          "model_module": "@jupyter-widgets/controls",
          "model_name": "DescriptionStyleModel",
          "model_module_version": "1.5.0",
          "state": {
            "_view_name": "StyleView",
            "_model_name": "DescriptionStyleModel",
            "description_width": "",
            "_view_module": "@jupyter-widgets/base",
            "_model_module_version": "1.5.0",
            "_view_count": null,
            "_view_module_version": "1.2.0",
            "_model_module": "@jupyter-widgets/controls"
          }
        },
        "945f111fb7ac45cb9204bee1e27a1641": {
          "model_module": "@jupyter-widgets/base",
          "model_name": "LayoutModel",
          "model_module_version": "1.2.0",
          "state": {
            "_view_name": "LayoutView",
            "grid_template_rows": null,
            "right": null,
            "justify_content": null,
            "_view_module": "@jupyter-widgets/base",
            "overflow": null,
            "_model_module_version": "1.2.0",
            "_view_count": null,
            "flex_flow": null,
            "width": null,
            "min_width": null,
            "border": null,
            "align_items": null,
            "bottom": null,
            "_model_module": "@jupyter-widgets/base",
            "top": null,
            "grid_column": null,
            "overflow_y": null,
            "overflow_x": null,
            "grid_auto_flow": null,
            "grid_area": null,
            "grid_template_columns": null,
            "flex": null,
            "_model_name": "LayoutModel",
            "justify_items": null,
            "grid_row": null,
            "max_height": null,
            "align_content": null,
            "visibility": null,
            "align_self": null,
            "height": null,
            "min_height": null,
            "padding": null,
            "grid_auto_rows": null,
            "grid_gap": null,
            "max_width": null,
            "order": null,
            "_view_module_version": "1.2.0",
            "grid_template_areas": null,
            "object_position": null,
            "object_fit": null,
            "grid_auto_columns": null,
            "margin": null,
            "display": null,
            "left": null
          }
        },
        "f8cd67371d164f8db4c77f6c80285642": {
          "model_module": "@jupyter-widgets/controls",
          "model_name": "HBoxModel",
          "model_module_version": "1.5.0",
          "state": {
            "_view_name": "HBoxView",
            "_dom_classes": [],
            "_model_name": "HBoxModel",
            "_view_module": "@jupyter-widgets/controls",
            "_model_module_version": "1.5.0",
            "_view_count": null,
            "_view_module_version": "1.5.0",
            "box_style": "",
            "layout": "IPY_MODEL_12e2ad581bf44b0b876d8c2ae87d2c7f",
            "_model_module": "@jupyter-widgets/controls",
            "children": [
              "IPY_MODEL_369163e9e9154c83aab827996f269a94",
              "IPY_MODEL_97038fc40b1444d4b22a687d8c3c6c8b",
              "IPY_MODEL_574e4b971d6f429db1cd3e055f6a25bd"
            ]
          }
        },
        "12e2ad581bf44b0b876d8c2ae87d2c7f": {
          "model_module": "@jupyter-widgets/base",
          "model_name": "LayoutModel",
          "model_module_version": "1.2.0",
          "state": {
            "_view_name": "LayoutView",
            "grid_template_rows": null,
            "right": null,
            "justify_content": null,
            "_view_module": "@jupyter-widgets/base",
            "overflow": null,
            "_model_module_version": "1.2.0",
            "_view_count": null,
            "flex_flow": null,
            "width": null,
            "min_width": null,
            "border": null,
            "align_items": null,
            "bottom": null,
            "_model_module": "@jupyter-widgets/base",
            "top": null,
            "grid_column": null,
            "overflow_y": null,
            "overflow_x": null,
            "grid_auto_flow": null,
            "grid_area": null,
            "grid_template_columns": null,
            "flex": null,
            "_model_name": "LayoutModel",
            "justify_items": null,
            "grid_row": null,
            "max_height": null,
            "align_content": null,
            "visibility": null,
            "align_self": null,
            "height": null,
            "min_height": null,
            "padding": null,
            "grid_auto_rows": null,
            "grid_gap": null,
            "max_width": null,
            "order": null,
            "_view_module_version": "1.2.0",
            "grid_template_areas": null,
            "object_position": null,
            "object_fit": null,
            "grid_auto_columns": null,
            "margin": null,
            "display": null,
            "left": null
          }
        },
        "369163e9e9154c83aab827996f269a94": {
          "model_module": "@jupyter-widgets/controls",
          "model_name": "HTMLModel",
          "model_module_version": "1.5.0",
          "state": {
            "_view_name": "HTMLView",
            "style": "IPY_MODEL_a16121fc05d04264b5f6dbab53d2ddb3",
            "_dom_classes": [],
            "description": "",
            "_model_name": "HTMLModel",
            "placeholder": "​",
            "_view_module": "@jupyter-widgets/controls",
            "_model_module_version": "1.5.0",
            "value": "Downloading: 100%",
            "_view_count": null,
            "_view_module_version": "1.5.0",
            "description_tooltip": null,
            "_model_module": "@jupyter-widgets/controls",
            "layout": "IPY_MODEL_48f39813baa5411b9d178238e9b55e23"
          }
        },
        "97038fc40b1444d4b22a687d8c3c6c8b": {
          "model_module": "@jupyter-widgets/controls",
          "model_name": "FloatProgressModel",
          "model_module_version": "1.5.0",
          "state": {
            "_view_name": "ProgressView",
            "style": "IPY_MODEL_f677987ee9964f82be3c5c0c883f13da",
            "_dom_classes": [],
            "description": "",
            "_model_name": "FloatProgressModel",
            "bar_style": "success",
            "max": 153,
            "_view_module": "@jupyter-widgets/controls",
            "_model_module_version": "1.5.0",
            "value": 153,
            "_view_count": null,
            "_view_module_version": "1.5.0",
            "orientation": "horizontal",
            "min": 0,
            "description_tooltip": null,
            "_model_module": "@jupyter-widgets/controls",
            "layout": "IPY_MODEL_36ba615e9a134f8b9fe4a4351f9b9196"
          }
        },
        "574e4b971d6f429db1cd3e055f6a25bd": {
          "model_module": "@jupyter-widgets/controls",
          "model_name": "HTMLModel",
          "model_module_version": "1.5.0",
          "state": {
            "_view_name": "HTMLView",
            "style": "IPY_MODEL_12c6bc4ea23a416b92c9273e6358f949",
            "_dom_classes": [],
            "description": "",
            "_model_name": "HTMLModel",
            "placeholder": "​",
            "_view_module": "@jupyter-widgets/controls",
            "_model_module_version": "1.5.0",
            "value": " 153/153 [00:00&lt;00:00, 5.79kB/s]",
            "_view_count": null,
            "_view_module_version": "1.5.0",
            "description_tooltip": null,
            "_model_module": "@jupyter-widgets/controls",
            "layout": "IPY_MODEL_1fe40518142b46d5abb5dc580d156319"
          }
        },
        "a16121fc05d04264b5f6dbab53d2ddb3": {
          "model_module": "@jupyter-widgets/controls",
          "model_name": "DescriptionStyleModel",
          "model_module_version": "1.5.0",
          "state": {
            "_view_name": "StyleView",
            "_model_name": "DescriptionStyleModel",
            "description_width": "",
            "_view_module": "@jupyter-widgets/base",
            "_model_module_version": "1.5.0",
            "_view_count": null,
            "_view_module_version": "1.2.0",
            "_model_module": "@jupyter-widgets/controls"
          }
        },
        "48f39813baa5411b9d178238e9b55e23": {
          "model_module": "@jupyter-widgets/base",
          "model_name": "LayoutModel",
          "model_module_version": "1.2.0",
          "state": {
            "_view_name": "LayoutView",
            "grid_template_rows": null,
            "right": null,
            "justify_content": null,
            "_view_module": "@jupyter-widgets/base",
            "overflow": null,
            "_model_module_version": "1.2.0",
            "_view_count": null,
            "flex_flow": null,
            "width": null,
            "min_width": null,
            "border": null,
            "align_items": null,
            "bottom": null,
            "_model_module": "@jupyter-widgets/base",
            "top": null,
            "grid_column": null,
            "overflow_y": null,
            "overflow_x": null,
            "grid_auto_flow": null,
            "grid_area": null,
            "grid_template_columns": null,
            "flex": null,
            "_model_name": "LayoutModel",
            "justify_items": null,
            "grid_row": null,
            "max_height": null,
            "align_content": null,
            "visibility": null,
            "align_self": null,
            "height": null,
            "min_height": null,
            "padding": null,
            "grid_auto_rows": null,
            "grid_gap": null,
            "max_width": null,
            "order": null,
            "_view_module_version": "1.2.0",
            "grid_template_areas": null,
            "object_position": null,
            "object_fit": null,
            "grid_auto_columns": null,
            "margin": null,
            "display": null,
            "left": null
          }
        },
        "f677987ee9964f82be3c5c0c883f13da": {
          "model_module": "@jupyter-widgets/controls",
          "model_name": "ProgressStyleModel",
          "model_module_version": "1.5.0",
          "state": {
            "_view_name": "StyleView",
            "_model_name": "ProgressStyleModel",
            "description_width": "",
            "_view_module": "@jupyter-widgets/base",
            "_model_module_version": "1.5.0",
            "_view_count": null,
            "_view_module_version": "1.2.0",
            "bar_color": null,
            "_model_module": "@jupyter-widgets/controls"
          }
        },
        "36ba615e9a134f8b9fe4a4351f9b9196": {
          "model_module": "@jupyter-widgets/base",
          "model_name": "LayoutModel",
          "model_module_version": "1.2.0",
          "state": {
            "_view_name": "LayoutView",
            "grid_template_rows": null,
            "right": null,
            "justify_content": null,
            "_view_module": "@jupyter-widgets/base",
            "overflow": null,
            "_model_module_version": "1.2.0",
            "_view_count": null,
            "flex_flow": null,
            "width": null,
            "min_width": null,
            "border": null,
            "align_items": null,
            "bottom": null,
            "_model_module": "@jupyter-widgets/base",
            "top": null,
            "grid_column": null,
            "overflow_y": null,
            "overflow_x": null,
            "grid_auto_flow": null,
            "grid_area": null,
            "grid_template_columns": null,
            "flex": null,
            "_model_name": "LayoutModel",
            "justify_items": null,
            "grid_row": null,
            "max_height": null,
            "align_content": null,
            "visibility": null,
            "align_self": null,
            "height": null,
            "min_height": null,
            "padding": null,
            "grid_auto_rows": null,
            "grid_gap": null,
            "max_width": null,
            "order": null,
            "_view_module_version": "1.2.0",
            "grid_template_areas": null,
            "object_position": null,
            "object_fit": null,
            "grid_auto_columns": null,
            "margin": null,
            "display": null,
            "left": null
          }
        },
        "12c6bc4ea23a416b92c9273e6358f949": {
          "model_module": "@jupyter-widgets/controls",
          "model_name": "DescriptionStyleModel",
          "model_module_version": "1.5.0",
          "state": {
            "_view_name": "StyleView",
            "_model_name": "DescriptionStyleModel",
            "description_width": "",
            "_view_module": "@jupyter-widgets/base",
            "_model_module_version": "1.5.0",
            "_view_count": null,
            "_view_module_version": "1.2.0",
            "_model_module": "@jupyter-widgets/controls"
          }
        },
        "1fe40518142b46d5abb5dc580d156319": {
          "model_module": "@jupyter-widgets/base",
          "model_name": "LayoutModel",
          "model_module_version": "1.2.0",
          "state": {
            "_view_name": "LayoutView",
            "grid_template_rows": null,
            "right": null,
            "justify_content": null,
            "_view_module": "@jupyter-widgets/base",
            "overflow": null,
            "_model_module_version": "1.2.0",
            "_view_count": null,
            "flex_flow": null,
            "width": null,
            "min_width": null,
            "border": null,
            "align_items": null,
            "bottom": null,
            "_model_module": "@jupyter-widgets/base",
            "top": null,
            "grid_column": null,
            "overflow_y": null,
            "overflow_x": null,
            "grid_auto_flow": null,
            "grid_area": null,
            "grid_template_columns": null,
            "flex": null,
            "_model_name": "LayoutModel",
            "justify_items": null,
            "grid_row": null,
            "max_height": null,
            "align_content": null,
            "visibility": null,
            "align_self": null,
            "height": null,
            "min_height": null,
            "padding": null,
            "grid_auto_rows": null,
            "grid_gap": null,
            "max_width": null,
            "order": null,
            "_view_module_version": "1.2.0",
            "grid_template_areas": null,
            "object_position": null,
            "object_fit": null,
            "grid_auto_columns": null,
            "margin": null,
            "display": null,
            "left": null
          }
        },
        "1578063aa31441c098a476504de4f40c": {
          "model_module": "@jupyter-widgets/controls",
          "model_name": "HBoxModel",
          "model_module_version": "1.5.0",
          "state": {
            "_view_name": "HBoxView",
            "_dom_classes": [],
            "_model_name": "HBoxModel",
            "_view_module": "@jupyter-widgets/controls",
            "_model_module_version": "1.5.0",
            "_view_count": null,
            "_view_module_version": "1.5.0",
            "box_style": "",
            "layout": "IPY_MODEL_e732c76f61ea453da34f26ef321d103c",
            "_model_module": "@jupyter-widgets/controls",
            "children": [
              "IPY_MODEL_cbba749e3c4d4a9d9fa354e7e78d86a5",
              "IPY_MODEL_9842fface4044e38b631b14c9384aadf",
              "IPY_MODEL_84c5abfa393f4cb4a67936308266ebc1"
            ]
          }
        },
        "e732c76f61ea453da34f26ef321d103c": {
          "model_module": "@jupyter-widgets/base",
          "model_name": "LayoutModel",
          "model_module_version": "1.2.0",
          "state": {
            "_view_name": "LayoutView",
            "grid_template_rows": null,
            "right": null,
            "justify_content": null,
            "_view_module": "@jupyter-widgets/base",
            "overflow": null,
            "_model_module_version": "1.2.0",
            "_view_count": null,
            "flex_flow": null,
            "width": null,
            "min_width": null,
            "border": null,
            "align_items": null,
            "bottom": null,
            "_model_module": "@jupyter-widgets/base",
            "top": null,
            "grid_column": null,
            "overflow_y": null,
            "overflow_x": null,
            "grid_auto_flow": null,
            "grid_area": null,
            "grid_template_columns": null,
            "flex": null,
            "_model_name": "LayoutModel",
            "justify_items": null,
            "grid_row": null,
            "max_height": null,
            "align_content": null,
            "visibility": null,
            "align_self": null,
            "height": null,
            "min_height": null,
            "padding": null,
            "grid_auto_rows": null,
            "grid_gap": null,
            "max_width": null,
            "order": null,
            "_view_module_version": "1.2.0",
            "grid_template_areas": null,
            "object_position": null,
            "object_fit": null,
            "grid_auto_columns": null,
            "margin": null,
            "display": null,
            "left": null
          }
        },
        "cbba749e3c4d4a9d9fa354e7e78d86a5": {
          "model_module": "@jupyter-widgets/controls",
          "model_name": "HTMLModel",
          "model_module_version": "1.5.0",
          "state": {
            "_view_name": "HTMLView",
            "style": "IPY_MODEL_229e54d0a5dd4184a0136182803e2e16",
            "_dom_classes": [],
            "description": "",
            "_model_name": "HTMLModel",
            "placeholder": "​",
            "_view_module": "@jupyter-widgets/controls",
            "_model_module_version": "1.5.0",
            "value": "Downloading: 100%",
            "_view_count": null,
            "_view_module_version": "1.5.0",
            "description_tooltip": null,
            "_model_module": "@jupyter-widgets/controls",
            "layout": "IPY_MODEL_a4a9aad7de5e425fac621af157749667"
          }
        },
        "9842fface4044e38b631b14c9384aadf": {
          "model_module": "@jupyter-widgets/controls",
          "model_name": "FloatProgressModel",
          "model_module_version": "1.5.0",
          "state": {
            "_view_name": "ProgressView",
            "style": "IPY_MODEL_e1766e3d49bb4d8f9bde301282dd1ead",
            "_dom_classes": [],
            "description": "",
            "_model_name": "FloatProgressModel",
            "bar_style": "success",
            "max": 363,
            "_view_module": "@jupyter-widgets/controls",
            "_model_module_version": "1.5.0",
            "value": 363,
            "_view_count": null,
            "_view_module_version": "1.5.0",
            "orientation": "horizontal",
            "min": 0,
            "description_tooltip": null,
            "_model_module": "@jupyter-widgets/controls",
            "layout": "IPY_MODEL_941af46601b3439796a9fac7f426c713"
          }
        },
        "84c5abfa393f4cb4a67936308266ebc1": {
          "model_module": "@jupyter-widgets/controls",
          "model_name": "HTMLModel",
          "model_module_version": "1.5.0",
          "state": {
            "_view_name": "HTMLView",
            "style": "IPY_MODEL_ac9f758a71a4471c80ecf333039317a8",
            "_dom_classes": [],
            "description": "",
            "_model_name": "HTMLModel",
            "placeholder": "​",
            "_view_module": "@jupyter-widgets/controls",
            "_model_module_version": "1.5.0",
            "value": " 363/363 [00:00&lt;00:00, 15.5kB/s]",
            "_view_count": null,
            "_view_module_version": "1.5.0",
            "description_tooltip": null,
            "_model_module": "@jupyter-widgets/controls",
            "layout": "IPY_MODEL_68e948d51884477981c4d79cf970e785"
          }
        },
        "229e54d0a5dd4184a0136182803e2e16": {
          "model_module": "@jupyter-widgets/controls",
          "model_name": "DescriptionStyleModel",
          "model_module_version": "1.5.0",
          "state": {
            "_view_name": "StyleView",
            "_model_name": "DescriptionStyleModel",
            "description_width": "",
            "_view_module": "@jupyter-widgets/base",
            "_model_module_version": "1.5.0",
            "_view_count": null,
            "_view_module_version": "1.2.0",
            "_model_module": "@jupyter-widgets/controls"
          }
        },
        "a4a9aad7de5e425fac621af157749667": {
          "model_module": "@jupyter-widgets/base",
          "model_name": "LayoutModel",
          "model_module_version": "1.2.0",
          "state": {
            "_view_name": "LayoutView",
            "grid_template_rows": null,
            "right": null,
            "justify_content": null,
            "_view_module": "@jupyter-widgets/base",
            "overflow": null,
            "_model_module_version": "1.2.0",
            "_view_count": null,
            "flex_flow": null,
            "width": null,
            "min_width": null,
            "border": null,
            "align_items": null,
            "bottom": null,
            "_model_module": "@jupyter-widgets/base",
            "top": null,
            "grid_column": null,
            "overflow_y": null,
            "overflow_x": null,
            "grid_auto_flow": null,
            "grid_area": null,
            "grid_template_columns": null,
            "flex": null,
            "_model_name": "LayoutModel",
            "justify_items": null,
            "grid_row": null,
            "max_height": null,
            "align_content": null,
            "visibility": null,
            "align_self": null,
            "height": null,
            "min_height": null,
            "padding": null,
            "grid_auto_rows": null,
            "grid_gap": null,
            "max_width": null,
            "order": null,
            "_view_module_version": "1.2.0",
            "grid_template_areas": null,
            "object_position": null,
            "object_fit": null,
            "grid_auto_columns": null,
            "margin": null,
            "display": null,
            "left": null
          }
        },
        "e1766e3d49bb4d8f9bde301282dd1ead": {
          "model_module": "@jupyter-widgets/controls",
          "model_name": "ProgressStyleModel",
          "model_module_version": "1.5.0",
          "state": {
            "_view_name": "StyleView",
            "_model_name": "ProgressStyleModel",
            "description_width": "",
            "_view_module": "@jupyter-widgets/base",
            "_model_module_version": "1.5.0",
            "_view_count": null,
            "_view_module_version": "1.2.0",
            "bar_color": null,
            "_model_module": "@jupyter-widgets/controls"
          }
        },
        "941af46601b3439796a9fac7f426c713": {
          "model_module": "@jupyter-widgets/base",
          "model_name": "LayoutModel",
          "model_module_version": "1.2.0",
          "state": {
            "_view_name": "LayoutView",
            "grid_template_rows": null,
            "right": null,
            "justify_content": null,
            "_view_module": "@jupyter-widgets/base",
            "overflow": null,
            "_model_module_version": "1.2.0",
            "_view_count": null,
            "flex_flow": null,
            "width": null,
            "min_width": null,
            "border": null,
            "align_items": null,
            "bottom": null,
            "_model_module": "@jupyter-widgets/base",
            "top": null,
            "grid_column": null,
            "overflow_y": null,
            "overflow_x": null,
            "grid_auto_flow": null,
            "grid_area": null,
            "grid_template_columns": null,
            "flex": null,
            "_model_name": "LayoutModel",
            "justify_items": null,
            "grid_row": null,
            "max_height": null,
            "align_content": null,
            "visibility": null,
            "align_self": null,
            "height": null,
            "min_height": null,
            "padding": null,
            "grid_auto_rows": null,
            "grid_gap": null,
            "max_width": null,
            "order": null,
            "_view_module_version": "1.2.0",
            "grid_template_areas": null,
            "object_position": null,
            "object_fit": null,
            "grid_auto_columns": null,
            "margin": null,
            "display": null,
            "left": null
          }
        },
        "ac9f758a71a4471c80ecf333039317a8": {
          "model_module": "@jupyter-widgets/controls",
          "model_name": "DescriptionStyleModel",
          "model_module_version": "1.5.0",
          "state": {
            "_view_name": "StyleView",
            "_model_name": "DescriptionStyleModel",
            "description_width": "",
            "_view_module": "@jupyter-widgets/base",
            "_model_module_version": "1.5.0",
            "_view_count": null,
            "_view_module_version": "1.2.0",
            "_model_module": "@jupyter-widgets/controls"
          }
        },
        "68e948d51884477981c4d79cf970e785": {
          "model_module": "@jupyter-widgets/base",
          "model_name": "LayoutModel",
          "model_module_version": "1.2.0",
          "state": {
            "_view_name": "LayoutView",
            "grid_template_rows": null,
            "right": null,
            "justify_content": null,
            "_view_module": "@jupyter-widgets/base",
            "overflow": null,
            "_model_module_version": "1.2.0",
            "_view_count": null,
            "flex_flow": null,
            "width": null,
            "min_width": null,
            "border": null,
            "align_items": null,
            "bottom": null,
            "_model_module": "@jupyter-widgets/base",
            "top": null,
            "grid_column": null,
            "overflow_y": null,
            "overflow_x": null,
            "grid_auto_flow": null,
            "grid_area": null,
            "grid_template_columns": null,
            "flex": null,
            "_model_name": "LayoutModel",
            "justify_items": null,
            "grid_row": null,
            "max_height": null,
            "align_content": null,
            "visibility": null,
            "align_self": null,
            "height": null,
            "min_height": null,
            "padding": null,
            "grid_auto_rows": null,
            "grid_gap": null,
            "max_width": null,
            "order": null,
            "_view_module_version": "1.2.0",
            "grid_template_areas": null,
            "object_position": null,
            "object_fit": null,
            "grid_auto_columns": null,
            "margin": null,
            "display": null,
            "left": null
          }
        },
        "ad9b69ebacd04e848842b25014537ae0": {
          "model_module": "@jupyter-widgets/controls",
          "model_name": "HBoxModel",
          "model_module_version": "1.5.0",
          "state": {
            "_view_name": "HBoxView",
            "_dom_classes": [],
            "_model_name": "HBoxModel",
            "_view_module": "@jupyter-widgets/controls",
            "_model_module_version": "1.5.0",
            "_view_count": null,
            "_view_module_version": "1.5.0",
            "box_style": "",
            "layout": "IPY_MODEL_20cdfadc28df4a868a7c42b9b051642c",
            "_model_module": "@jupyter-widgets/controls",
            "children": [
              "IPY_MODEL_54eb6e7d797346478e2fda7e824355c5",
              "IPY_MODEL_5200e7dd28df49b6a3a37d4fe20a57ee",
              "IPY_MODEL_38f543190ad54f38b19014f15cf81490"
            ]
          }
        },
        "20cdfadc28df4a868a7c42b9b051642c": {
          "model_module": "@jupyter-widgets/base",
          "model_name": "LayoutModel",
          "model_module_version": "1.2.0",
          "state": {
            "_view_name": "LayoutView",
            "grid_template_rows": null,
            "right": null,
            "justify_content": null,
            "_view_module": "@jupyter-widgets/base",
            "overflow": null,
            "_model_module_version": "1.2.0",
            "_view_count": null,
            "flex_flow": null,
            "width": null,
            "min_width": null,
            "border": null,
            "align_items": null,
            "bottom": null,
            "_model_module": "@jupyter-widgets/base",
            "top": null,
            "grid_column": null,
            "overflow_y": null,
            "overflow_x": null,
            "grid_auto_flow": null,
            "grid_area": null,
            "grid_template_columns": null,
            "flex": null,
            "_model_name": "LayoutModel",
            "justify_items": null,
            "grid_row": null,
            "max_height": null,
            "align_content": null,
            "visibility": null,
            "align_self": null,
            "height": null,
            "min_height": null,
            "padding": null,
            "grid_auto_rows": null,
            "grid_gap": null,
            "max_width": null,
            "order": null,
            "_view_module_version": "1.2.0",
            "grid_template_areas": null,
            "object_position": null,
            "object_fit": null,
            "grid_auto_columns": null,
            "margin": null,
            "display": null,
            "left": null
          }
        },
        "54eb6e7d797346478e2fda7e824355c5": {
          "model_module": "@jupyter-widgets/controls",
          "model_name": "HTMLModel",
          "model_module_version": "1.5.0",
          "state": {
            "_view_name": "HTMLView",
            "style": "IPY_MODEL_73c843ae509a467b9aa44cc74d32109a",
            "_dom_classes": [],
            "description": "",
            "_model_name": "HTMLModel",
            "placeholder": "​",
            "_view_module": "@jupyter-widgets/controls",
            "_model_module_version": "1.5.0",
            "value": "Downloading: 100%",
            "_view_count": null,
            "_view_module_version": "1.5.0",
            "description_tooltip": null,
            "_model_module": "@jupyter-widgets/controls",
            "layout": "IPY_MODEL_0dee403ef6094f9ab88fbf3865c348c2"
          }
        },
        "5200e7dd28df49b6a3a37d4fe20a57ee": {
          "model_module": "@jupyter-widgets/controls",
          "model_name": "FloatProgressModel",
          "model_module_version": "1.5.0",
          "state": {
            "_view_name": "ProgressView",
            "style": "IPY_MODEL_fe37bb1da885416286d20d3a6bff13f6",
            "_dom_classes": [],
            "description": "",
            "_model_name": "FloatProgressModel",
            "bar_style": "success",
            "max": 725,
            "_view_module": "@jupyter-widgets/controls",
            "_model_module_version": "1.5.0",
            "value": 725,
            "_view_count": null,
            "_view_module_version": "1.5.0",
            "orientation": "horizontal",
            "min": 0,
            "description_tooltip": null,
            "_model_module": "@jupyter-widgets/controls",
            "layout": "IPY_MODEL_1520d259e5e9405cb1c7024b6e1c7ea2"
          }
        },
        "38f543190ad54f38b19014f15cf81490": {
          "model_module": "@jupyter-widgets/controls",
          "model_name": "HTMLModel",
          "model_module_version": "1.5.0",
          "state": {
            "_view_name": "HTMLView",
            "style": "IPY_MODEL_30c2c490701349a2b50caccfb28e3e44",
            "_dom_classes": [],
            "description": "",
            "_model_name": "HTMLModel",
            "placeholder": "​",
            "_view_module": "@jupyter-widgets/controls",
            "_model_module_version": "1.5.0",
            "value": " 725/725 [00:00&lt;00:00, 27.4kB/s]",
            "_view_count": null,
            "_view_module_version": "1.5.0",
            "description_tooltip": null,
            "_model_module": "@jupyter-widgets/controls",
            "layout": "IPY_MODEL_527cdabad41146208362899ee3c7fea9"
          }
        },
        "73c843ae509a467b9aa44cc74d32109a": {
          "model_module": "@jupyter-widgets/controls",
          "model_name": "DescriptionStyleModel",
          "model_module_version": "1.5.0",
          "state": {
            "_view_name": "StyleView",
            "_model_name": "DescriptionStyleModel",
            "description_width": "",
            "_view_module": "@jupyter-widgets/base",
            "_model_module_version": "1.5.0",
            "_view_count": null,
            "_view_module_version": "1.2.0",
            "_model_module": "@jupyter-widgets/controls"
          }
        },
        "0dee403ef6094f9ab88fbf3865c348c2": {
          "model_module": "@jupyter-widgets/base",
          "model_name": "LayoutModel",
          "model_module_version": "1.2.0",
          "state": {
            "_view_name": "LayoutView",
            "grid_template_rows": null,
            "right": null,
            "justify_content": null,
            "_view_module": "@jupyter-widgets/base",
            "overflow": null,
            "_model_module_version": "1.2.0",
            "_view_count": null,
            "flex_flow": null,
            "width": null,
            "min_width": null,
            "border": null,
            "align_items": null,
            "bottom": null,
            "_model_module": "@jupyter-widgets/base",
            "top": null,
            "grid_column": null,
            "overflow_y": null,
            "overflow_x": null,
            "grid_auto_flow": null,
            "grid_area": null,
            "grid_template_columns": null,
            "flex": null,
            "_model_name": "LayoutModel",
            "justify_items": null,
            "grid_row": null,
            "max_height": null,
            "align_content": null,
            "visibility": null,
            "align_self": null,
            "height": null,
            "min_height": null,
            "padding": null,
            "grid_auto_rows": null,
            "grid_gap": null,
            "max_width": null,
            "order": null,
            "_view_module_version": "1.2.0",
            "grid_template_areas": null,
            "object_position": null,
            "object_fit": null,
            "grid_auto_columns": null,
            "margin": null,
            "display": null,
            "left": null
          }
        },
        "fe37bb1da885416286d20d3a6bff13f6": {
          "model_module": "@jupyter-widgets/controls",
          "model_name": "ProgressStyleModel",
          "model_module_version": "1.5.0",
          "state": {
            "_view_name": "StyleView",
            "_model_name": "ProgressStyleModel",
            "description_width": "",
            "_view_module": "@jupyter-widgets/base",
            "_model_module_version": "1.5.0",
            "_view_count": null,
            "_view_module_version": "1.2.0",
            "bar_color": null,
            "_model_module": "@jupyter-widgets/controls"
          }
        },
        "1520d259e5e9405cb1c7024b6e1c7ea2": {
          "model_module": "@jupyter-widgets/base",
          "model_name": "LayoutModel",
          "model_module_version": "1.2.0",
          "state": {
            "_view_name": "LayoutView",
            "grid_template_rows": null,
            "right": null,
            "justify_content": null,
            "_view_module": "@jupyter-widgets/base",
            "overflow": null,
            "_model_module_version": "1.2.0",
            "_view_count": null,
            "flex_flow": null,
            "width": null,
            "min_width": null,
            "border": null,
            "align_items": null,
            "bottom": null,
            "_model_module": "@jupyter-widgets/base",
            "top": null,
            "grid_column": null,
            "overflow_y": null,
            "overflow_x": null,
            "grid_auto_flow": null,
            "grid_area": null,
            "grid_template_columns": null,
            "flex": null,
            "_model_name": "LayoutModel",
            "justify_items": null,
            "grid_row": null,
            "max_height": null,
            "align_content": null,
            "visibility": null,
            "align_self": null,
            "height": null,
            "min_height": null,
            "padding": null,
            "grid_auto_rows": null,
            "grid_gap": null,
            "max_width": null,
            "order": null,
            "_view_module_version": "1.2.0",
            "grid_template_areas": null,
            "object_position": null,
            "object_fit": null,
            "grid_auto_columns": null,
            "margin": null,
            "display": null,
            "left": null
          }
        },
        "30c2c490701349a2b50caccfb28e3e44": {
          "model_module": "@jupyter-widgets/controls",
          "model_name": "DescriptionStyleModel",
          "model_module_version": "1.5.0",
          "state": {
            "_view_name": "StyleView",
            "_model_name": "DescriptionStyleModel",
            "description_width": "",
            "_view_module": "@jupyter-widgets/base",
            "_model_module_version": "1.5.0",
            "_view_count": null,
            "_view_module_version": "1.2.0",
            "_model_module": "@jupyter-widgets/controls"
          }
        },
        "527cdabad41146208362899ee3c7fea9": {
          "model_module": "@jupyter-widgets/base",
          "model_name": "LayoutModel",
          "model_module_version": "1.2.0",
          "state": {
            "_view_name": "LayoutView",
            "grid_template_rows": null,
            "right": null,
            "justify_content": null,
            "_view_module": "@jupyter-widgets/base",
            "overflow": null,
            "_model_module_version": "1.2.0",
            "_view_count": null,
            "flex_flow": null,
            "width": null,
            "min_width": null,
            "border": null,
            "align_items": null,
            "bottom": null,
            "_model_module": "@jupyter-widgets/base",
            "top": null,
            "grid_column": null,
            "overflow_y": null,
            "overflow_x": null,
            "grid_auto_flow": null,
            "grid_area": null,
            "grid_template_columns": null,
            "flex": null,
            "_model_name": "LayoutModel",
            "justify_items": null,
            "grid_row": null,
            "max_height": null,
            "align_content": null,
            "visibility": null,
            "align_self": null,
            "height": null,
            "min_height": null,
            "padding": null,
            "grid_auto_rows": null,
            "grid_gap": null,
            "max_width": null,
            "order": null,
            "_view_module_version": "1.2.0",
            "grid_template_areas": null,
            "object_position": null,
            "object_fit": null,
            "grid_auto_columns": null,
            "margin": null,
            "display": null,
            "left": null
          }
        },
        "868365bede98441cbfe693ea7ea8d9c0": {
          "model_module": "@jupyter-widgets/controls",
          "model_name": "HBoxModel",
          "model_module_version": "1.5.0",
          "state": {
            "_view_name": "HBoxView",
            "_dom_classes": [],
            "_model_name": "HBoxModel",
            "_view_module": "@jupyter-widgets/controls",
            "_model_module_version": "1.5.0",
            "_view_count": null,
            "_view_module_version": "1.5.0",
            "box_style": "",
            "layout": "IPY_MODEL_b50588eaff384ba0a41724044dfe51c5",
            "_model_module": "@jupyter-widgets/controls",
            "children": [
              "IPY_MODEL_2af56585c8444e7a9f888f787186dd16",
              "IPY_MODEL_1f270d7c24ee4da8ab6ec31ba1ef8d7e",
              "IPY_MODEL_50437e2d401f48089e7933cbe99ddf5e"
            ]
          }
        },
        "b50588eaff384ba0a41724044dfe51c5": {
          "model_module": "@jupyter-widgets/base",
          "model_name": "LayoutModel",
          "model_module_version": "1.2.0",
          "state": {
            "_view_name": "LayoutView",
            "grid_template_rows": null,
            "right": null,
            "justify_content": null,
            "_view_module": "@jupyter-widgets/base",
            "overflow": null,
            "_model_module_version": "1.2.0",
            "_view_count": null,
            "flex_flow": null,
            "width": null,
            "min_width": null,
            "border": null,
            "align_items": null,
            "bottom": null,
            "_model_module": "@jupyter-widgets/base",
            "top": null,
            "grid_column": null,
            "overflow_y": null,
            "overflow_x": null,
            "grid_auto_flow": null,
            "grid_area": null,
            "grid_template_columns": null,
            "flex": null,
            "_model_name": "LayoutModel",
            "justify_items": null,
            "grid_row": null,
            "max_height": null,
            "align_content": null,
            "visibility": null,
            "align_self": null,
            "height": null,
            "min_height": null,
            "padding": null,
            "grid_auto_rows": null,
            "grid_gap": null,
            "max_width": null,
            "order": null,
            "_view_module_version": "1.2.0",
            "grid_template_areas": null,
            "object_position": null,
            "object_fit": null,
            "grid_auto_columns": null,
            "margin": null,
            "display": null,
            "left": null
          }
        },
        "2af56585c8444e7a9f888f787186dd16": {
          "model_module": "@jupyter-widgets/controls",
          "model_name": "HTMLModel",
          "model_module_version": "1.5.0",
          "state": {
            "_view_name": "HTMLView",
            "style": "IPY_MODEL_473e108af630487582e68616a58542bc",
            "_dom_classes": [],
            "description": "",
            "_model_name": "HTMLModel",
            "placeholder": "​",
            "_view_module": "@jupyter-widgets/controls",
            "_model_module_version": "1.5.0",
            "value": "Downloading: 100%",
            "_view_count": null,
            "_view_module_version": "1.5.0",
            "description_tooltip": null,
            "_model_module": "@jupyter-widgets/controls",
            "layout": "IPY_MODEL_365586f62ac342ffb5e06c32313b87f5"
          }
        },
        "1f270d7c24ee4da8ab6ec31ba1ef8d7e": {
          "model_module": "@jupyter-widgets/controls",
          "model_name": "FloatProgressModel",
          "model_module_version": "1.5.0",
          "state": {
            "_view_name": "ProgressView",
            "style": "IPY_MODEL_5d62c690729a4e7d9fb2d20c8b90c5dd",
            "_dom_classes": [],
            "description": "",
            "_model_name": "FloatProgressModel",
            "bar_style": "success",
            "max": 743572761,
            "_view_module": "@jupyter-widgets/controls",
            "_model_module_version": "1.5.0",
            "value": 743572761,
            "_view_count": null,
            "_view_module_version": "1.5.0",
            "orientation": "horizontal",
            "min": 0,
            "description_tooltip": null,
            "_model_module": "@jupyter-widgets/controls",
            "layout": "IPY_MODEL_fa079e94790545108e8ff3951f22b794"
          }
        },
        "50437e2d401f48089e7933cbe99ddf5e": {
          "model_module": "@jupyter-widgets/controls",
          "model_name": "HTMLModel",
          "model_module_version": "1.5.0",
          "state": {
            "_view_name": "HTMLView",
            "style": "IPY_MODEL_08b8f938815e464a999619a41ec549b4",
            "_dom_classes": [],
            "description": "",
            "_model_name": "HTMLModel",
            "placeholder": "​",
            "_view_module": "@jupyter-widgets/controls",
            "_model_module_version": "1.5.0",
            "value": " 709M/709M [00:13&lt;00:00, 63.0MB/s]",
            "_view_count": null,
            "_view_module_version": "1.5.0",
            "description_tooltip": null,
            "_model_module": "@jupyter-widgets/controls",
            "layout": "IPY_MODEL_7dd82d4fe3514aa4b04e898f811914a7"
          }
        },
        "473e108af630487582e68616a58542bc": {
          "model_module": "@jupyter-widgets/controls",
          "model_name": "DescriptionStyleModel",
          "model_module_version": "1.5.0",
          "state": {
            "_view_name": "StyleView",
            "_model_name": "DescriptionStyleModel",
            "description_width": "",
            "_view_module": "@jupyter-widgets/base",
            "_model_module_version": "1.5.0",
            "_view_count": null,
            "_view_module_version": "1.2.0",
            "_model_module": "@jupyter-widgets/controls"
          }
        },
        "365586f62ac342ffb5e06c32313b87f5": {
          "model_module": "@jupyter-widgets/base",
          "model_name": "LayoutModel",
          "model_module_version": "1.2.0",
          "state": {
            "_view_name": "LayoutView",
            "grid_template_rows": null,
            "right": null,
            "justify_content": null,
            "_view_module": "@jupyter-widgets/base",
            "overflow": null,
            "_model_module_version": "1.2.0",
            "_view_count": null,
            "flex_flow": null,
            "width": null,
            "min_width": null,
            "border": null,
            "align_items": null,
            "bottom": null,
            "_model_module": "@jupyter-widgets/base",
            "top": null,
            "grid_column": null,
            "overflow_y": null,
            "overflow_x": null,
            "grid_auto_flow": null,
            "grid_area": null,
            "grid_template_columns": null,
            "flex": null,
            "_model_name": "LayoutModel",
            "justify_items": null,
            "grid_row": null,
            "max_height": null,
            "align_content": null,
            "visibility": null,
            "align_self": null,
            "height": null,
            "min_height": null,
            "padding": null,
            "grid_auto_rows": null,
            "grid_gap": null,
            "max_width": null,
            "order": null,
            "_view_module_version": "1.2.0",
            "grid_template_areas": null,
            "object_position": null,
            "object_fit": null,
            "grid_auto_columns": null,
            "margin": null,
            "display": null,
            "left": null
          }
        },
        "5d62c690729a4e7d9fb2d20c8b90c5dd": {
          "model_module": "@jupyter-widgets/controls",
          "model_name": "ProgressStyleModel",
          "model_module_version": "1.5.0",
          "state": {
            "_view_name": "StyleView",
            "_model_name": "ProgressStyleModel",
            "description_width": "",
            "_view_module": "@jupyter-widgets/base",
            "_model_module_version": "1.5.0",
            "_view_count": null,
            "_view_module_version": "1.2.0",
            "bar_color": null,
            "_model_module": "@jupyter-widgets/controls"
          }
        },
        "fa079e94790545108e8ff3951f22b794": {
          "model_module": "@jupyter-widgets/base",
          "model_name": "LayoutModel",
          "model_module_version": "1.2.0",
          "state": {
            "_view_name": "LayoutView",
            "grid_template_rows": null,
            "right": null,
            "justify_content": null,
            "_view_module": "@jupyter-widgets/base",
            "overflow": null,
            "_model_module_version": "1.2.0",
            "_view_count": null,
            "flex_flow": null,
            "width": null,
            "min_width": null,
            "border": null,
            "align_items": null,
            "bottom": null,
            "_model_module": "@jupyter-widgets/base",
            "top": null,
            "grid_column": null,
            "overflow_y": null,
            "overflow_x": null,
            "grid_auto_flow": null,
            "grid_area": null,
            "grid_template_columns": null,
            "flex": null,
            "_model_name": "LayoutModel",
            "justify_items": null,
            "grid_row": null,
            "max_height": null,
            "align_content": null,
            "visibility": null,
            "align_self": null,
            "height": null,
            "min_height": null,
            "padding": null,
            "grid_auto_rows": null,
            "grid_gap": null,
            "max_width": null,
            "order": null,
            "_view_module_version": "1.2.0",
            "grid_template_areas": null,
            "object_position": null,
            "object_fit": null,
            "grid_auto_columns": null,
            "margin": null,
            "display": null,
            "left": null
          }
        },
        "08b8f938815e464a999619a41ec549b4": {
          "model_module": "@jupyter-widgets/controls",
          "model_name": "DescriptionStyleModel",
          "model_module_version": "1.5.0",
          "state": {
            "_view_name": "StyleView",
            "_model_name": "DescriptionStyleModel",
            "description_width": "",
            "_view_module": "@jupyter-widgets/base",
            "_model_module_version": "1.5.0",
            "_view_count": null,
            "_view_module_version": "1.2.0",
            "_model_module": "@jupyter-widgets/controls"
          }
        },
        "7dd82d4fe3514aa4b04e898f811914a7": {
          "model_module": "@jupyter-widgets/base",
          "model_name": "LayoutModel",
          "model_module_version": "1.2.0",
          "state": {
            "_view_name": "LayoutView",
            "grid_template_rows": null,
            "right": null,
            "justify_content": null,
            "_view_module": "@jupyter-widgets/base",
            "overflow": null,
            "_model_module_version": "1.2.0",
            "_view_count": null,
            "flex_flow": null,
            "width": null,
            "min_width": null,
            "border": null,
            "align_items": null,
            "bottom": null,
            "_model_module": "@jupyter-widgets/base",
            "top": null,
            "grid_column": null,
            "overflow_y": null,
            "overflow_x": null,
            "grid_auto_flow": null,
            "grid_area": null,
            "grid_template_columns": null,
            "flex": null,
            "_model_name": "LayoutModel",
            "justify_items": null,
            "grid_row": null,
            "max_height": null,
            "align_content": null,
            "visibility": null,
            "align_self": null,
            "height": null,
            "min_height": null,
            "padding": null,
            "grid_auto_rows": null,
            "grid_gap": null,
            "max_width": null,
            "order": null,
            "_view_module_version": "1.2.0",
            "grid_template_areas": null,
            "object_position": null,
            "object_fit": null,
            "grid_auto_columns": null,
            "margin": null,
            "display": null,
            "left": null
          }
        }
      }
    }
  },
  "cells": [
    {
      "cell_type": "markdown",
      "metadata": {
        "id": "view-in-github",
        "colab_type": "text"
      },
      "source": [
        "<a href=\"https://colab.research.google.com/github/OKHYUNJONG/CapstoneTermProject/blob/main/PreProcessing%2BModel.ipynb\" target=\"_parent\"><img src=\"https://colab.research.google.com/assets/colab-badge.svg\" alt=\"Open In Colab\"/></a>"
      ]
    },
    {
      "cell_type": "code",
      "metadata": {
        "colab": {
          "base_uri": "https://localhost:8080/"
        },
        "id": "gPeTQNf0Qlb9",
        "outputId": "082fcce6-9be3-48e8-a840-43d0a8711f58"
      },
      "source": [
        "from google.colab import drive\n",
        "drive.mount('/content/drive')"
      ],
      "execution_count": null,
      "outputs": [
        {
          "output_type": "stream",
          "name": "stdout",
          "text": [
            "Mounted at /content/drive\n"
          ]
        }
      ]
    },
    {
      "cell_type": "code",
      "metadata": {
        "id": "O1aBpPIsQpRq"
      },
      "source": [
        "import os\n",
        "import numpy as np\n",
        "import pandas as pd"
      ],
      "execution_count": null,
      "outputs": []
    },
    {
      "cell_type": "code",
      "metadata": {
        "colab": {
          "base_uri": "https://localhost:8080/"
        },
        "id": "yzukFqdKQpUJ",
        "outputId": "4d457671-51e2-4a4b-8223-e5b3deac99ae"
      },
      "source": [
        "data_dir = '/content/drive/MyDrive/ColabNotebooks/데이터분석캡스톤디자인' #경로 지정하기\n",
        "file_list = os.listdir(data_dir)\n",
        "print(file_list)"
      ],
      "execution_count": null,
      "outputs": [
        {
          "output_type": "stream",
          "name": "stdout",
          "text": [
            "['Make_data.ipynb', 'data.csv', 'Untitled1.ipynb']\n"
          ]
        }
      ]
    },
    {
      "cell_type": "code",
      "metadata": {
        "id": "5GtBXJhhQpWg"
      },
      "source": [
        "train_df =pd.read_csv(data_dir + '/data.csv')"
      ],
      "execution_count": null,
      "outputs": []
    },
    {
      "cell_type": "code",
      "metadata": {
        "colab": {
          "base_uri": "https://localhost:8080/"
        },
        "id": "ir7-poEZ1Nz-",
        "outputId": "bd1525e1-89bf-451c-ff0a-116f17f6cbab"
      },
      "source": [
        "train_df.duplicated([\"index\"]).value_counts()"
      ],
      "execution_count": null,
      "outputs": [
        {
          "output_type": "execute_result",
          "data": {
            "text/plain": [
              "False    1403\n",
              "True       22\n",
              "dtype: int64"
            ]
          },
          "metadata": {},
          "execution_count": 53
        }
      ]
    },
    {
      "cell_type": "markdown",
      "metadata": {
        "id": "gGeoN-kJTeAe"
      },
      "source": [
        "101 : 게임\n",
        "102 : 공유기\n",
        "103 : 기타\n",
        "104 : 노트북\n",
        "105 : 데스크탑\n",
        "106 : 마우스\n",
        "107 : 메모리\n",
        "108 : 모니터\n",
        "109 : 보조배터리\n",
        "110 : 블랙박스\n",
        "111 : 선풍기\n",
        "112 : 세탁기\n",
        "113 : 스피커\n",
        "114 : 시계\n",
        "115 : 에어컨\n",
        "116 : 외장하드\n",
        "117 : 이어폰\n",
        "118 : 제습기\n",
        "119 : 청소기\n",
        "120 : 충전기\n",
        "121 : 카메라\n",
        "122 : 케이블\n",
        "123 : 케이스\n",
        "124 : 키보드\n",
        "125 : 태블릿\n",
        "126 : 티비\n",
        "127 : 프린터\n",
        "128 : 핸드폰\n",
        "129 : 헤드폰\n",
        "130 : SD카드\n",
        "131 : SSD"
      ]
    },
    {
      "cell_type": "code",
      "metadata": {
        "id": "i8ldYBTaRomf"
      },
      "source": [
        "train_df.drop_duplicated([\"index\"])"
      ],
      "execution_count": null,
      "outputs": []
    },
    {
      "cell_type": "code",
      "metadata": {
        "colab": {
          "base_uri": "https://localhost:8080/",
          "height": 419
        },
        "id": "WLem7aZ41bpq",
        "outputId": "ad7990f4-50ee-4717-f5cc-226669d997c0"
      },
      "source": [
        "train_df"
      ],
      "execution_count": null,
      "outputs": [
        {
          "output_type": "execute_result",
          "data": {
            "text/html": [
              "<div>\n",
              "<style scoped>\n",
              "    .dataframe tbody tr th:only-of-type {\n",
              "        vertical-align: middle;\n",
              "    }\n",
              "\n",
              "    .dataframe tbody tr th {\n",
              "        vertical-align: top;\n",
              "    }\n",
              "\n",
              "    .dataframe thead th {\n",
              "        text-align: right;\n",
              "    }\n",
              "</style>\n",
              "<table border=\"1\" class=\"dataframe\">\n",
              "  <thead>\n",
              "    <tr style=\"text-align: right;\">\n",
              "      <th></th>\n",
              "      <th>id</th>\n",
              "      <th>index</th>\n",
              "      <th>title</th>\n",
              "      <th>category</th>\n",
              "      <th>hotdeal_place</th>\n",
              "      <th>label</th>\n",
              "    </tr>\n",
              "  </thead>\n",
              "  <tbody>\n",
              "    <tr>\n",
              "      <th>0</th>\n",
              "      <td>361</td>\n",
              "      <td>2_400335</td>\n",
              "      <td>Out of the park baseball 22 할인 41,000원 -&gt; 10,2...</td>\n",
              "      <td>[디지털]</td>\n",
              "      <td>스팀</td>\n",
              "      <td>0</td>\n",
              "    </tr>\n",
              "    <tr>\n",
              "      <th>1</th>\n",
              "      <td>541</td>\n",
              "      <td>2_400125</td>\n",
              "      <td>Renzo Racer</td>\n",
              "      <td>[디지털]</td>\n",
              "      <td>indiegala</td>\n",
              "      <td>0</td>\n",
              "    </tr>\n",
              "    <tr>\n",
              "      <th>2</th>\n",
              "      <td>906</td>\n",
              "      <td>2_399669</td>\n",
              "      <td>Die Young: Prologue</td>\n",
              "      <td>[디지털]</td>\n",
              "      <td>indiegala</td>\n",
              "      <td>0</td>\n",
              "    </tr>\n",
              "    <tr>\n",
              "      <th>3</th>\n",
              "      <td>943</td>\n",
              "      <td>2_399617</td>\n",
              "      <td>Chop Chop Princess!</td>\n",
              "      <td>[디지털]</td>\n",
              "      <td>indiegala</td>\n",
              "      <td>0</td>\n",
              "    </tr>\n",
              "    <tr>\n",
              "      <th>4</th>\n",
              "      <td>960</td>\n",
              "      <td>2_399592</td>\n",
              "      <td>Tom Clancys Ghost Recon</td>\n",
              "      <td>[디지털]</td>\n",
              "      <td>유비소프트</td>\n",
              "      <td>0</td>\n",
              "    </tr>\n",
              "    <tr>\n",
              "      <th>...</th>\n",
              "      <td>...</td>\n",
              "      <td>...</td>\n",
              "      <td>...</td>\n",
              "      <td>...</td>\n",
              "      <td>...</td>\n",
              "      <td>...</td>\n",
              "    </tr>\n",
              "    <tr>\n",
              "      <th>1420</th>\n",
              "      <td>6120</td>\n",
              "      <td>2_393251</td>\n",
              "      <td>ADATA SX8200Pro NVMe 1TB</td>\n",
              "      <td>[디지털]</td>\n",
              "      <td>11번가</td>\n",
              "      <td>30</td>\n",
              "    </tr>\n",
              "    <tr>\n",
              "      <th>1421</th>\n",
              "      <td>7166</td>\n",
              "      <td>2_391859</td>\n",
              "      <td>SK하이닉스 SK hynix Gold S31 SSD 1TB TLC 2.5</td>\n",
              "      <td>[디지털]</td>\n",
              "      <td>옥션</td>\n",
              "      <td>30</td>\n",
              "    </tr>\n",
              "    <tr>\n",
              "      <th>1422</th>\n",
              "      <td>7247</td>\n",
              "      <td>2_391746</td>\n",
              "      <td>Sandisk Ultra 3D NVME SSD 1TB</td>\n",
              "      <td>[디지털]</td>\n",
              "      <td>롯데온][KB국민</td>\n",
              "      <td>30</td>\n",
              "    </tr>\n",
              "    <tr>\n",
              "      <th>1423</th>\n",
              "      <td>8529</td>\n",
              "      <td>2_390074</td>\n",
              "      <td>씨게이트 바라쿠다 510 M.2 Nvme 500gb</td>\n",
              "      <td>[디지털]</td>\n",
              "      <td>11번가</td>\n",
              "      <td>30</td>\n",
              "    </tr>\n",
              "    <tr>\n",
              "      <th>1424</th>\n",
              "      <td>9098</td>\n",
              "      <td>2_389301</td>\n",
              "      <td>마이크론 Crucial MX500 1TB SSD</td>\n",
              "      <td>[디지털]</td>\n",
              "      <td>11번가</td>\n",
              "      <td>30</td>\n",
              "    </tr>\n",
              "  </tbody>\n",
              "</table>\n",
              "<p>1425 rows × 6 columns</p>\n",
              "</div>"
            ],
            "text/plain": [
              "        id     index  ... hotdeal_place label\n",
              "0      361  2_400335  ...            스팀     0\n",
              "1      541  2_400125  ...     indiegala     0\n",
              "2      906  2_399669  ...     indiegala     0\n",
              "3      943  2_399617  ...     indiegala     0\n",
              "4      960  2_399592  ...         유비소프트     0\n",
              "...    ...       ...  ...           ...   ...\n",
              "1420  6120  2_393251  ...          11번가    30\n",
              "1421  7166  2_391859  ...            옥션    30\n",
              "1422  7247  2_391746  ...     롯데온][KB국민    30\n",
              "1423  8529  2_390074  ...          11번가    30\n",
              "1424  9098  2_389301  ...          11번가    30\n",
              "\n",
              "[1425 rows x 6 columns]"
            ]
          },
          "metadata": {},
          "execution_count": 52
        }
      ]
    },
    {
      "cell_type": "code",
      "metadata": {
        "colab": {
          "base_uri": "https://localhost:8080/"
        },
        "id": "YWcijMU_QpYx",
        "outputId": "da8e3472-4b4e-46fb-9363-221fee911e6e"
      },
      "source": [
        "train_df[\"label\"].value_counts()"
      ],
      "execution_count": null,
      "outputs": [
        {
          "output_type": "execute_result",
          "data": {
            "text/plain": [
              "2     236\n",
              "16    187\n",
              "24    153\n",
              "0     147\n",
              "13     76\n",
              "27     74\n",
              "19     51\n",
              "5      45\n",
              "12     43\n",
              "7      42\n",
              "25     36\n",
              "29     29\n",
              "28     27\n",
              "21     26\n",
              "18     26\n",
              "15     24\n",
              "23     23\n",
              "3      23\n",
              "26     20\n",
              "22     19\n",
              "30     18\n",
              "14     17\n",
              "10     14\n",
              "9      12\n",
              "20     10\n",
              "1      10\n",
              "17      9\n",
              "4       8\n",
              "8       7\n",
              "6       7\n",
              "11      6\n",
              "Name: label, dtype: int64"
            ]
          },
          "metadata": {},
          "execution_count": 5
        }
      ]
    },
    {
      "cell_type": "code",
      "metadata": {
        "colab": {
          "base_uri": "https://localhost:8080/",
          "height": 204
        },
        "id": "B-83yQK4RQBw",
        "outputId": "a632bfe7-dbbc-4804-e48e-d3100d578130"
      },
      "source": [
        "train_df.head()"
      ],
      "execution_count": null,
      "outputs": [
        {
          "output_type": "execute_result",
          "data": {
            "text/html": [
              "<div>\n",
              "<style scoped>\n",
              "    .dataframe tbody tr th:only-of-type {\n",
              "        vertical-align: middle;\n",
              "    }\n",
              "\n",
              "    .dataframe tbody tr th {\n",
              "        vertical-align: top;\n",
              "    }\n",
              "\n",
              "    .dataframe thead th {\n",
              "        text-align: right;\n",
              "    }\n",
              "</style>\n",
              "<table border=\"1\" class=\"dataframe\">\n",
              "  <thead>\n",
              "    <tr style=\"text-align: right;\">\n",
              "      <th></th>\n",
              "      <th>id</th>\n",
              "      <th>index</th>\n",
              "      <th>title</th>\n",
              "      <th>category</th>\n",
              "      <th>hotdeal_place</th>\n",
              "      <th>label</th>\n",
              "    </tr>\n",
              "  </thead>\n",
              "  <tbody>\n",
              "    <tr>\n",
              "      <th>0</th>\n",
              "      <td>361</td>\n",
              "      <td>2_400335</td>\n",
              "      <td>Out of the park baseball 22 할인 41,000원 -&gt; 10,2...</td>\n",
              "      <td>[디지털]</td>\n",
              "      <td>스팀</td>\n",
              "      <td>0</td>\n",
              "    </tr>\n",
              "    <tr>\n",
              "      <th>1</th>\n",
              "      <td>541</td>\n",
              "      <td>2_400125</td>\n",
              "      <td>Renzo Racer</td>\n",
              "      <td>[디지털]</td>\n",
              "      <td>indiegala</td>\n",
              "      <td>0</td>\n",
              "    </tr>\n",
              "    <tr>\n",
              "      <th>2</th>\n",
              "      <td>906</td>\n",
              "      <td>2_399669</td>\n",
              "      <td>Die Young: Prologue</td>\n",
              "      <td>[디지털]</td>\n",
              "      <td>indiegala</td>\n",
              "      <td>0</td>\n",
              "    </tr>\n",
              "    <tr>\n",
              "      <th>3</th>\n",
              "      <td>943</td>\n",
              "      <td>2_399617</td>\n",
              "      <td>Chop Chop Princess!</td>\n",
              "      <td>[디지털]</td>\n",
              "      <td>indiegala</td>\n",
              "      <td>0</td>\n",
              "    </tr>\n",
              "    <tr>\n",
              "      <th>4</th>\n",
              "      <td>960</td>\n",
              "      <td>2_399592</td>\n",
              "      <td>Tom Clancys Ghost Recon</td>\n",
              "      <td>[디지털]</td>\n",
              "      <td>유비소프트</td>\n",
              "      <td>0</td>\n",
              "    </tr>\n",
              "  </tbody>\n",
              "</table>\n",
              "</div>"
            ],
            "text/plain": [
              "    id     index  ... hotdeal_place label\n",
              "0  361  2_400335  ...            스팀     0\n",
              "1  541  2_400125  ...     indiegala     0\n",
              "2  906  2_399669  ...     indiegala     0\n",
              "3  943  2_399617  ...     indiegala     0\n",
              "4  960  2_399592  ...         유비소프트     0\n",
              "\n",
              "[5 rows x 6 columns]"
            ]
          },
          "metadata": {},
          "execution_count": 6
        }
      ]
    },
    {
      "cell_type": "code",
      "metadata": {
        "colab": {
          "base_uri": "https://localhost:8080/",
          "height": 646
        },
        "id": "pINT2R61RKKj",
        "outputId": "d7f122d1-a442-4f87-e9ce-f45e15fcb584"
      },
      "source": [
        "import matplotlib.pyplot as plt\n",
        "import seaborn as sns\n",
        "plt.style.use('fivethirtyeight')\n",
        "import warnings\n",
        "warnings.filterwarnings('ignore')\n",
        "%matplotlib inline\n",
        "\n",
        "length=train_df['title'].astype(str).apply(len)\n",
        "plt.hist(length, bins=50, alpha=0.5, color='r', label='word')\n",
        "plt.title('title length graph')\n",
        "plt.figure(figsize=(12, 5))\n",
        "plt.boxplot(length, labels=['counts'], showmeans=True)\n",
        "print('title 길이 최댓값: {}'.format(np.max(length)))\n",
        "print('title 길이 최솟값: {}'.format(np.min(length)))\n",
        "print('title 길이 평균값: {}'.format(np.mean(length)))\n",
        "print('title 길이 중간값: {}'.format(np.median(length)))"
      ],
      "execution_count": null,
      "outputs": [
        {
          "output_type": "stream",
          "name": "stdout",
          "text": [
            "title 길이 최댓값: 102\n",
            "title 길이 최솟값: 3\n",
            "title 길이 평균값: 21.88421052631579\n",
            "title 길이 중간값: 20.0\n"
          ]
        },
        {
          "output_type": "display_data",
          "data": {
            "image/png": "[encoded data removed]",
            "text/plain": [
              "<Figure size 432x288 with 1 Axes>"
            ]
          },
          "metadata": {
            "needs_background": "light"
          }
        },
        {
          "output_type": "display_data",
          "data": {
            "image/png": "[encoded data removed]",
            "text/plain": [
              "<Figure size 864x360 with 1 Axes>"
            ]
          },
          "metadata": {
            "needs_background": "light"
          }
        }
      ]
    },
    {
      "cell_type": "code",
      "metadata": {
        "id": "FLWy7yWBR9QS"
      },
      "source": [
        "from collections import Counter\n",
        "\n",
        "def count_words(i,col):\n",
        "  print(\"label:\",i)\n",
        "  train_label=train_df[train_df['label'] == i]\n",
        "  train_label=train_label[[col,'label']]\n",
        "  train_tmp = train_label[[col]]\n",
        "\n",
        "  to_txt = '' \n",
        "  for i in range(len(train_label)): \n",
        "    to_txt += str(train_tmp.iloc[i,0]) + '\\n'\n",
        "    \n",
        "  with open('train.txt', 'w', encoding='utf-8') as f: \n",
        "    f.write(to_txt)\n",
        "\n",
        "  with open('train.txt', 'r') as f:\n",
        "      words = [w.strip('.,') for w in f.read().split()]\n",
        "      print(\"총 문장의 갯수:\",len(train_label))\n",
        "      for w, c in Counter(words).most_common(50):\n",
        "          print(w, c)\n",
        "  print(\"\")\n",
        "  print(\"---------------------------------\")"
      ],
      "execution_count": null,
      "outputs": []
    },
    {
      "cell_type": "code",
      "metadata": {
        "colab": {
          "base_uri": "https://localhost:8080/"
        },
        "id": "jtLiqOvASBA7",
        "outputId": "f6c38200-1777-4073-c7e5-1df81ee3f239"
      },
      "source": [
        "for i in range(0,31):\n",
        "  count_words(i,\"title\")"
      ],
      "execution_count": null,
      "outputs": [
        {
          "output_type": "stream",
          "name": "stdout",
          "text": [
            "label: 0\n",
            "총 문장의 갯수: 147\n",
            "/ 33\n",
            "- 14\n",
            "The 14\n",
            "2 10\n",
            "닌텐도 9\n",
            "of 7\n",
            "할인 6\n",
            "에디션 6\n",
            "Battlefield 6\n",
            "Leisure 6\n",
            "Suit 6\n",
            "Larry 6\n",
            "the 5\n",
            "스위치 5\n",
            "Edition 5\n",
            "게임 4\n",
            "4 4\n",
            "Island 4\n",
            "오브 4\n",
            "세일 3\n",
            "Complete 3\n",
            "1 3\n",
            "Syberia 3\n",
            "II 3\n",
            "Minion 3\n",
            "Masters 3\n",
            "Collection 3\n",
            "Assault 3\n",
            "Syndicate 3\n",
            "Return 3\n",
            "to 3\n",
            "Mysterious 3\n",
            "XBOX 3\n",
            "Company 3\n",
            "Witcher 3\n",
            "한글판 3\n",
            "링피트 3\n",
            "라스트 3\n",
            "어스 3\n",
            "Out 2\n",
            "22 2\n",
            "Chop 2\n",
            "Ghost 2\n",
            "Recon 2\n",
            "동물의숲 2\n",
            "Horizon 2\n",
            "Hell 2\n",
            "ONE 2\n",
            "I 2\n",
            "THE 2\n",
            "\n",
            "---------------------------------\n",
            "label: 1\n",
            "총 문장의 갯수: 10\n",
            "ASUS 4\n",
            "유무선공유기 4\n",
            "공유기 2\n",
            "iptime 2\n",
            "asus 1\n",
            "zenwifi 1\n",
            "xt8공유기 1\n",
            "Netgear 1\n",
            "RAX20 1\n",
            "AX1800 1\n",
            "Router 1\n",
            "아수스 1\n",
            "ax88u 1\n",
            "아이피타임 1\n",
            "AX2004BCM 1\n",
            "RT-AX88U 1\n",
            "RT-AX82U 1\n",
            "외35%할인 1\n",
            "TUF 1\n",
            "Gaming 1\n",
            "AX3000 1\n",
            "기가 1\n",
            "와이파이 1\n",
            "WiFi 1\n",
            "기가비트 1\n",
            "무선 1\n",
            "라우터 1\n",
            "AC2900 1\n",
            "| 1\n",
            "Dual-Band 1\n",
            "A8004t-xr 1\n",
            "\n",
            "---------------------------------\n",
            "label: 2\n",
            "총 문장의 갯수: 236\n",
            "+ 9\n",
            "4K 8\n",
            "2세대 8\n",
            "필립스 8\n",
            "TiVo 7\n",
            "Stream 7\n",
            "무선 7\n",
            "[디지 6\n",
            "삼성 6\n",
            "공기청정기 6\n",
            "1+1 6\n",
            "샤오미 6\n",
            "PF50KA 6\n",
            "오큘러스 5\n",
            "애플펜슬 5\n",
            "/ 5\n",
            "크롬캐스트 5\n",
            "식기세척기 5\n",
            "빔프로젝터 5\n",
            "프로 4\n",
            "스마트 4\n",
            "4 4\n",
            "무료 4\n",
            "및 4\n",
            "브라운 4\n",
            "에어랩 4\n",
            "컴플리트 4\n",
            "커피머신 4\n",
            "1200 4\n",
            "EP1224/03 4\n",
            "플러스 3\n",
            "휴대용 3\n",
            "면도기 3\n",
            "Xbox 3\n",
            "LED 3\n",
            "도어락 3\n",
            "DJI 3\n",
            "로지텍 3\n",
            "아이나비 3\n",
            "퀘스트2 3\n",
            "128GB 3\n",
            "프로젝터 3\n",
            "화이트 3\n",
            "FPP 3\n",
            "FHD 3\n",
            "PSN 3\n",
            "정품 3\n",
            "LG 3\n",
            "롱 3\n",
            "쿠쿠 3\n",
            "\n",
            "---------------------------------\n",
            "label: 3\n",
            "총 문장의 갯수: 23\n",
            "레노버 4\n",
            "노트북 4\n",
            "갤럭시북 3\n",
            "아이디어패드 3\n",
            "스위프트3 2\n",
            "실버 2\n",
            "HP 2\n",
            "2021 2\n",
            "맥북에어 2\n",
            "M1 2\n",
            "LG 2\n",
            "삼성전자 2\n",
            "삼성노트북 1\n",
            "NT750XDA 1\n",
            "15.6인치 1\n",
            "811,850원 1\n",
            "이버 1\n",
            "쇼핑 1\n",
            "페스타 1\n",
            "삼성갤럭시북프로 1\n",
            "NT950XDX-G51A 1\n",
            "V15 1\n",
            "라이젠3 1\n",
            "3250U/4GB/1TB 1\n",
            "4시간 1\n",
            "타임딜 1\n",
            "FX516PM-HN002 1\n",
            "인텔11th 1\n",
            "RTX3060 1\n",
            "SF314-43 1\n",
            "R5 1\n",
            "씬스틸러2 1\n",
            "빅터스 1\n",
            "16-e0141AX+램8GB 1\n",
            "업그레이드 1\n",
            "에이수스 1\n",
            "TUF 1\n",
            "Gaming 1\n",
            "15.6 1\n",
            "애플 1\n",
            "맥북 1\n",
            "air 1\n",
            "스페이스 1\n",
            "그레이 1\n",
            "m1 1\n",
            "MSI 1\n",
            "B4MW-R5 1\n",
            "256g/8g 1\n",
            "Slim3-15ITL 1\n",
            "5DX 1\n",
            "\n",
            "---------------------------------\n",
            "label: 4\n",
            "총 문장의 갯수: 8\n",
            "데스크탑 4\n",
            "세트 4\n",
            "라이젠 3\n",
            "앱코 2\n",
            "무선 2\n",
            "3종 2\n",
            "스컬프트 2\n",
            "에고노믹 2\n",
            "포유컴퓨터 2\n",
            "5600X/RTX3070TI/16GB/500G 2\n",
            "WKM650 1\n",
            "WKM620 1\n",
            "TKL 1\n",
            "미니 1\n",
            "사무용 1\n",
            "컴퓨터 1\n",
            "2종 1\n",
            "컴퓨리 1\n",
            "5600X/RTX3060TI 1\n",
            "LHR/16GB/500G 1\n",
            "마이크로소프트 1\n",
            "\n",
            "---------------------------------\n",
            "label: 5\n",
            "총 문장의 갯수: 45\n",
            "마우스 23\n",
            "로지텍 14\n",
            "무선 13\n",
            "게이밍 9\n",
            "무선마우스 8\n",
            "G304 8\n",
            "마이크로소프트 6\n",
            "에고노믹 6\n",
            "PRO 5\n",
            "스컬프트 5\n",
            "블루투스 5\n",
            "G502 4\n",
            "로지텍코리아 4\n",
            "X 4\n",
            "SUPERLIGHT 3\n",
            "레이저 3\n",
            "무소음 3\n",
            "정품 3\n",
            "MX 3\n",
            "등 3\n",
            "M590 3\n",
            "mx 2\n",
            "Sculpt 2\n",
            "Ergonomic 2\n",
            "인체공학 2\n",
            "유선 2\n",
            "master3 2\n",
            "K/DA 2\n",
            "Anywhere 2\n",
            "3 2\n",
            "레드한정 2\n",
            "LIGHTSPEED 2\n",
            "모음딜 2\n",
            "ROCCAT 2\n",
            "KONE 2\n",
            "라일락색상 2\n",
            "게이밍마우스 1\n",
            "G604 1\n",
            "무선게이밍마우스 1\n",
            "로지텍G 1\n",
            "무선게이밍 1\n",
            "2년보증 1\n",
            "anywhere 1\n",
            "2s 1\n",
            "정발/블랙 1\n",
            "Basilisk 1\n",
            "HyperSpeed 1\n",
            "RC30-031501 1\n",
            "및 1\n",
            "G 1\n",
            "\n",
            "---------------------------------\n",
            "label: 6\n",
            "총 문장의 갯수: 7\n",
            "메모리 4\n",
            "DDR4 2\n",
            "16G 2\n",
            "할인 2\n",
            "커세어 2\n",
            "64GB 2\n",
            "삼성전자 1\n",
            "PC4-21300 1\n",
            "PNY 1\n",
            "XLR8 1\n",
            "3600 1\n",
            "게이밍 1\n",
            "8GBx2 1\n",
            "외2종 1\n",
            "클레브 1\n",
            "PC4-25600 1\n",
            "CL16 1\n",
            "도미네이터 1\n",
            "플래티넘 1\n",
            "RGB 1\n",
            "브랜드 1\n",
            "위크 1\n",
            "/ 1\n",
            "행사 1\n",
            "전품목 1\n",
            "30% 1\n",
            "SF-E64 1\n",
            "소니 1\n",
            "SDXC 1\n",
            "C10 1\n",
            "E 1\n",
            "UHS-II 1\n",
            "U3 1\n",
            "읽기270MB 1\n",
            "쓰기 1\n",
            "70MB 1\n",
            "삼성 1\n",
            "메모리카드 1\n",
            "512g 1\n",
            "\n",
            "---------------------------------\n",
            "label: 7\n",
            "총 문장의 갯수: 42\n",
            "모니터 20\n",
            "LG 9\n",
            "삼성 6\n",
            "IPS 6\n",
            "27인치 6\n",
            "게이밍 5\n",
            "UHD 4\n",
            "4K 4\n",
            "큐닉스 3\n",
            "REAL 3\n",
            "165 3\n",
            "무결점 3\n",
            "오디세이 3\n",
            "FHD 3\n",
            "32인치 3\n",
            "울트라 3\n",
            "32GK850F 3\n",
            "최저가 2\n",
            "스마트 2\n",
            "삼성전자 2\n",
            "G3 2\n",
            "게이밍모니터 2\n",
            "M7 2\n",
            "29인치 2\n",
            "스마트모니터 2\n",
            "QX32QHD 2\n",
            "PIVOT 2\n",
            "라익미 2\n",
            "D8201L 2\n",
            "HDR 2\n",
            "82인치 2\n",
            "TV 2\n",
            "패널 2\n",
            "커브드모니터 1\n",
            "LC27R500FHKXKR 1\n",
            "LG게이밍모니터 1\n",
            "27GN650 1\n",
            "롯데카드 1\n",
            "역대 1\n",
            "296,860 1\n",
            "스탠바이미 1\n",
            "스크린 1\n",
            "QHD27L 1\n",
            "NANO 1\n",
            "LG전자 1\n",
            "32UN880 1\n",
            "갱신 1\n",
            "TV용/게이밍용/스마트 1\n",
            "추천 1\n",
            "4종 1\n",
            "\n",
            "---------------------------------\n",
            "label: 8\n",
            "총 문장의 갯수: 7\n",
            "보조배터리 4\n",
            "PD 3\n",
            "10000mAh 2\n",
            "미니 2\n",
            "삼성 1\n",
            "pd 1\n",
            "20000mah 1\n",
            "무충10000mah 1\n",
            "배터리팩 1\n",
            "블루원/아트뮤/실리콘파워/템플러 1\n",
            "유선 1\n",
            "or 1\n",
            "무선 1\n",
            "외 1\n",
            "카카오프렌즈 1\n",
            "엑티몬 1\n",
            "C타입 1\n",
            "거치대 1\n",
            "5000mAh 1\n",
            "ALIO 1\n",
            "보조배터리10000mAh 1\n",
            "알로코리아 1\n",
            "고속 1\n",
            "충전 1\n",
            "1001PD 1\n",
            "고속충전 1\n",
            "PB10 1\n",
            "핑크 1\n",
            "\n",
            "---------------------------------\n",
            "label: 9\n",
            "총 문장의 갯수: 12\n",
            "블랙박스 7\n",
            "+ 4\n",
            "전후방 3\n",
            "아이나비 3\n",
            "16GB 3\n",
            "GPS 2\n",
            "2채널 2\n",
            "아이로드 2\n",
            "QXD5500mini 2\n",
            "기본패키지 2\n",
            "무료장착 1\n",
            "T10시즌2 1\n",
            "풀HD 1\n",
            "와이파이 1\n",
            "아이로드프라이버시 1\n",
            "QHD2채널블랙박스 1\n",
            "FXD7000 1\n",
            "무선충전기 1\n",
            "옵티마2X 1\n",
            "16g 1\n",
            "오토비 1\n",
            "AQ300 1\n",
            "32G 1\n",
            "Q/QHD 1\n",
            "무료장착+GPS 1\n",
            "초절전 1\n",
            "HDR 1\n",
            "만도 1\n",
            "Q7 1\n",
            "QHD 1\n",
            "64G 1\n",
            "신제품 1\n",
            "출시 1\n",
            "R2 1\n",
            "32GB 1\n",
            "FHD 1\n",
            "룸미러 1\n",
            "1번가 1\n",
            "169.000원 1\n",
            "아이나비블랙박스3500미니 1\n",
            "9 1\n",
            "[디지 1\n",
            "g마켓) 1\n",
            "QHD블랙박스 1\n",
            "스클+삼카 1\n",
            "\n",
            "---------------------------------\n",
            "label: 10\n",
            "총 문장의 갯수: 14\n",
            "선풍기 5\n",
            "샤오미 3\n",
            "무선선풍기 2\n",
            "[디지 2\n",
            "휴대용 2\n",
            "엑타코 2\n",
            "1+1 2\n",
            "서큘레이터 2\n",
            "핸디선풍기 2\n",
            "에어 2\n",
            "드림메이커 1\n",
            "중국판 1\n",
            "48100원 1\n",
            "72 1\n",
            "해피세일 1\n",
            "코어팬시 1\n",
            "9,900 1\n",
            "45 1\n",
            "G9} 1\n",
            "DreamMaker 1\n",
            "21년신상/BLDC/한국형코드/리모컨/국내AS 1\n",
            "플릭 1\n",
            "블루스핀 1\n",
            "PIK-AC360 1\n",
            "지마켓)아이리버 1\n",
            "넥밴드 1\n",
            "엘레컴 1\n",
            "LIKE 1\n",
            "IT 1\n",
            "케이엠모터스 1\n",
            "3단트윈 1\n",
            "차량용 1\n",
            "에어킷 1\n",
            "박스팬 1\n",
            "10인치 1\n",
            "윈드피아 1\n",
            "스탠드 1\n",
            "모음 1\n",
            "공식수입 1\n",
            "스마트미 1\n",
            "2S 1\n",
            "무선 1\n",
            "선풍기+리모컨 1\n",
            "대우 1\n",
            "스탠드형 1\n",
            "써큘레이터 1\n",
            "다이젠 1\n",
            "휴대 1\n",
            "탁상용 1\n",
            "\n",
            "---------------------------------\n",
            "label: 11\n",
            "총 문장의 갯수: 6\n",
            "그랑데 3\n",
            "AI 3\n",
            "DV16T8740BW 3\n",
            "삼성 2\n",
            "lg세탁기18kg 1\n",
            "2020년출시 1\n",
            "730.800 1\n",
            "31 1\n",
            "[디지 1\n",
            "몰))삼성 1\n",
            "그랑데ai 1\n",
            "올인원컨트롤 1\n",
            "세탁기+건조기세트 1\n",
            "WF21T6500KW 1\n",
            "+ 1\n",
            "상단키트 1\n",
            "삼성전자 1\n",
            "LG 1\n",
            "통돌이세탁기 1\n",
            "T20VVT 1\n",
            "블랙라벨+ 1\n",
            "DD모터 1\n",
            "20kg 1\n",
            "16KG 1\n",
            "\n",
            "---------------------------------\n",
            "label: 12\n",
            "총 문장의 갯수: 43\n",
            "스피커 19\n",
            "블루투스 11\n",
            "JBL 9\n",
            "사운드바 6\n",
            "E3.5 5\n",
            "구글 4\n",
            "네스트 4\n",
            "마샬 3\n",
            "이리스 3\n",
            "BAR 3\n",
            "프리소너스 3\n",
            "PULSE4 3\n",
            "PreSonus 2\n",
            "보스 2\n",
            "사운드링크 2\n",
            "9.1 2\n",
            "오디오 2\n",
            "뱅앤올룹슨 2\n",
            "블투 2\n",
            "펄스4 2\n",
            "미니 2\n",
            "크리에이티브 2\n",
            "액톤2 2\n",
            "스탠모어2 1\n",
            "국민카드시 1\n",
            "305,670 1\n",
            "하만카돈 1\n",
            "오닉스 1\n",
            "스튜디오5 1\n",
            "Presonus 1\n",
            "유선액티브 1\n",
            "BT 1\n",
            "Mackie 1\n",
            "CR-X 1\n",
            "4인치 1\n",
            "모니터스피커 1\n",
            "HW-Q950A/KR 1\n",
            "11.1.4채널 1\n",
            "Q심포니 1\n",
            "Marshall 1\n",
            "Emberton 1\n",
            "휴대용 1\n",
            "미니2 1\n",
            "SE 1\n",
            "e3.5 1\n",
            "iRiver 1\n",
            "아이리버 1\n",
            "IR-SB1 1\n",
            "품절풀림: 1\n",
            "익스플로어 1\n",
            "\n",
            "---------------------------------\n",
            "label: 13\n",
            "총 문장의 갯수: 76\n",
            "40mm 21\n",
            "갤럭시워치4 18\n",
            "44mm 10\n",
            "애플워치 10\n",
            "갤럭시 8\n",
            "미밴드6 7\n",
            "어메이즈핏 6\n",
            "워치4 5\n",
            "mini 5\n",
            "블랙 5\n",
            "골프에디션 4\n",
            "GPS 4\n",
            "GTS 4\n",
            "2 4\n",
            "클래식 4\n",
            "+ 4\n",
            "갤럭시워치3 4\n",
            "애플워치6 3\n",
            "/ 3\n",
            "SE 3\n",
            "스마트워치 3\n",
            "워치 3\n",
            "국내정발 3\n",
            "se 3\n",
            "애플워치5 3\n",
            "샤오미 3\n",
            "애플워치7 2\n",
            "사전예약 2\n",
            "알루미늄 2\n",
            "지샥 2\n",
            "지얄오크 2\n",
            "GA 2\n",
            "2100 2\n",
            "1ADR 2\n",
            "Amazfit 2\n",
            "실버 2\n",
            "GTS2 2\n",
            "MINI 2\n",
            "애플워치SE 2\n",
            "및 2\n",
            "SKT 2\n",
            "스틸 2\n",
            "스테인리스 2\n",
            "5 2\n",
            "45mm 2\n",
            "LTE 2\n",
            "쿠팡직수입 2\n",
            "액티브2 2\n",
            "핑크골드 1\n",
            "골프 1\n",
            "\n",
            "---------------------------------\n",
            "label: 14\n",
            "총 문장의 갯수: 17\n",
            "에어컨 9\n",
            "창문형 6\n",
            "파세코 4\n",
            "한일 2\n",
            "삼성 2\n",
            "창문형에어컨 2\n",
            "인버터 2\n",
            "창문형에어컨PWA-3300WM 2\n",
            "삼성전자 1\n",
            "무풍벽걸이 1\n",
            "AR07T9170HAT 1\n",
            "이마트 1\n",
            "wac1905 1\n",
            "윈도우핏 1\n",
            "2 1\n",
            "PWA-3200W 1\n",
            "자가설치 1\n",
            "와우회원 1\n",
            "전용가격+카드할인 1\n",
            "WAC-1900 1\n",
            "TCL 1\n",
            "21년 1\n",
            "신형 1\n",
            "TWA-6F1 1\n",
            "캐리어 1\n",
            "AWA07VOOS 1\n",
            "한일창문형에어컨wac-1905 1\n",
            "휘센 1\n",
            "듀얼 1\n",
            "2in1 1\n",
            "신일전자 1\n",
            "1등급 1\n",
            "SMA-C7800HS 1\n",
            "삼성무풍 1\n",
            "19평 1\n",
            "2in 1\n",
            "one 1\n",
            "무풍2in1에어컨 1\n",
            "삼성멀티에어컨 1\n",
            "AF16M6476LZR 1\n",
            "PWA-3300 1\n",
            "미니 1\n",
            "\n",
            "---------------------------------\n",
            "label: 15\n",
            "총 문장의 갯수: 24\n",
            "외장하드 11\n",
            "4TB 8\n",
            "WD 7\n",
            "도시바 5\n",
            "삼성 4\n",
            "외장SSD 4\n",
            "T5 4\n",
            "500GB 4\n",
            "외장 3\n",
            "마이크론 3\n",
            "X8 3\n",
            "5TB 2\n",
            "씨게이트 2\n",
            "J3 2\n",
            "1TB 2\n",
            "Crucial 2\n",
            "엘리먼츠 1\n",
            "2TB 1\n",
            "마이 1\n",
            "패스포트 1\n",
            "휴대용 1\n",
            "하드 1\n",
            "현대,하나카드 1\n",
            "Western 1\n",
            "Digital 1\n",
            "Red 1\n",
            "Plus 1\n",
            "Ultrastar 1\n",
            "18TB 1\n",
            "CMR 1\n",
            "Black 1\n",
            "5Tb 1\n",
            "P10 1\n",
            "역대가 1\n",
            "선착순 1\n",
            "100대 1\n",
            "FireCuda 1\n",
            "Gaming 1\n",
            "HDD 1\n",
            "신제품+데이터복구+ 1\n",
            "어드밴스 1\n",
            "시놀로지 1\n",
            "DS220+ 1\n",
            "2Bay 1\n",
            "NAS 1\n",
            "삼성전자 1\n",
            "Portable 1\n",
            "USB 1\n",
            "3.0 1\n",
            "Advance 1\n",
            "\n",
            "---------------------------------\n",
            "label: 16\n",
            "총 문장의 갯수: 187\n",
            "갤럭시 37\n",
            "이어폰 36\n",
            "버즈 35\n",
            "프로 30\n",
            "블루투스 28\n",
            "에어팟 19\n",
            "라이브 13\n",
            "자브라 13\n",
            "소니 12\n",
            "무선 11\n",
            "톤프리 11\n",
            "무선이어폰 11\n",
            "플러스 11\n",
            "LG 10\n",
            "에어팟프로 10\n",
            "WF-1000XM4 9\n",
            "QCY 9\n",
            "블루투스이어폰 8\n",
            "젠하이저 7\n",
            "무선충전 7\n",
            "JBL 7\n",
            "애플 7\n",
            "LG톤프리 6\n",
            "Elite 6\n",
            "블랙 6\n",
            "T13 6\n",
            "외 6\n",
            "2 5\n",
            "버즈2 5\n",
            "Apple 5\n",
            "Jabra 4\n",
            "보스 4\n",
            "노이즈캔슬링 4\n",
            "모멘텀 4\n",
            "역대가 4\n",
            "75t 4\n",
            "TFP8 4\n",
            "TONE-TFP8 3\n",
            "SM-R180 3\n",
            "화이트 3\n",
            "QC이어버드 3\n",
            "LG전자 3\n",
            "club 3\n",
            "pro+ 3\n",
            "CX 3\n",
            "qcy 3\n",
            "t13 3\n",
            "2세대 3\n",
            "갤럭시버즈 3\n",
            "삼성 3\n",
            "\n",
            "---------------------------------\n",
            "label: 17\n",
            "총 문장의 갯수: 9\n",
            "제습기 6\n",
            "20L 4\n",
            "LG 2\n",
            "DQ200PGAA 2\n",
            "10L 2\n",
            "LG제습기 2\n",
            "골드 2\n",
            "블루 1\n",
            "DQ200PBBC 1\n",
            "WHISEN 1\n",
            "캐리어 1\n",
            "클라윈드 1\n",
            "18L 1\n",
            "가정용 1\n",
            "CDHM-C018LMAB 1\n",
            "위닉스 1\n",
            "DXAH100-JWK 1\n",
            "외 1\n",
            "등등 1\n",
            "lg제습기 1\n",
            "엘지 1\n",
            "현대카드 1\n",
            "청구할인시 1\n",
            "메리트 1\n",
            "있음 1\n",
            "27 1\n",
            "[디지 1\n",
            "\n",
            "---------------------------------\n",
            "label: 18\n",
            "총 문장의 갯수: 26\n",
            "로보락 9\n",
            "로봇청소기 7\n",
            "청소기 5\n",
            "s6 4\n",
            "maxv 4\n",
            "샤오미 3\n",
            "드리미 3\n",
            "삼성 2\n",
            "일렉트로룩스 2\n",
            "오즈모 2\n",
            "+ 2\n",
            "물걸레 2\n",
            "무선청소기 2\n",
            "S6 2\n",
            "LG 2\n",
            "오브제 2\n",
            "올인원타워 2\n",
            "다이슨 1\n",
            "디지털슬림플러피 1\n",
            "보상판매 1\n",
            "비스포크 1\n",
            "제트 1\n",
            "3종 1\n",
            "퓨어 1\n",
            "Q9 1\n",
            "디봇 1\n",
            "950 1\n",
            "에브리봇 1\n",
            "3iPOP 1\n",
            "에코백스 1\n",
            "T8 1\n",
            "오토엠티스테이션 1\n",
            "풀패키지 1\n",
            "무선 1\n",
            "SOLO10 1\n",
            "한국형 1\n",
            "어댑터 1\n",
            "그랜드 1\n",
            "오픈 1\n",
            "행사 1\n",
            "등 1\n",
            "다양 1\n",
            "제트+청정스테이션 1\n",
            "VS20T9278S3CS 1\n",
            "무선청소기v11 1\n",
            "한국버전/관부가세 1\n",
            "포함 1\n",
            "역대가 1\n",
            "엣지 1\n",
            "D9 1\n",
            "\n",
            "---------------------------------\n",
            "label: 19\n",
            "총 문장의 갯수: 51\n",
            "충전기 17\n",
            "PD 10\n",
            "고속 10\n",
            "+ 10\n",
            "케이블 8\n",
            "차량용 8\n",
            "C타입 7\n",
            "2개 7\n",
            "3포트 6\n",
            "맥세이프 5\n",
            "거치대 5\n",
            "1개 5\n",
            "GaN 4\n",
            "접지플러그 4\n",
            "4포트 4\n",
            "멀티충전기 4\n",
            "130PDGAN 4\n",
            "무선 4\n",
            "충전 4\n",
            "UM2 4\n",
            "3in1 4\n",
            "15W 4\n",
            "삼성 4\n",
            "무선충전기 4\n",
            "고속충전기 4\n",
            "C 3\n",
            "벨킨 3\n",
            "25W 3\n",
            "PPS 3\n",
            "35W 3\n",
            "듀얼 3\n",
            "or 3\n",
            "클레오스 3\n",
            "퀵차지3.0 3\n",
            "CC301 3\n",
            "펀디안 2\n",
            "DCP 2\n",
            "고속충전 2\n",
            "변환젠더 2\n",
            "스탠드 2\n",
            "WIZ009kr 2\n",
            "초고속 2\n",
            "아이오티 2\n",
            "고속무선충전기 2\n",
            "무선충전거치대 2\n",
            "멀티 2\n",
            "에어팟 2\n",
            "무선충전 2\n",
            "포트 2\n",
            "패드형 2\n",
            "\n",
            "---------------------------------\n",
            "label: 20\n",
            "총 문장의 갯수: 10\n",
            "[디지 3\n",
            "고프로 2\n",
            "4K 2\n",
            "DJI 2\n",
            "오즈모 2\n",
            "히어로 1\n",
            "9 1\n",
            "SNOPPA 1\n",
            "vmate 1\n",
            "169,000원 1\n",
            "23 1\n",
            "포켓2 1\n",
            "액션캠 1\n",
            "와우회원 1\n",
            "골드박스딜 1\n",
            "역대가 1\n",
            "액션 1\n",
            "히어로8 1\n",
            "번들팩 1\n",
            "소니알파 1\n",
            "미러리스 1\n",
            "카메라 1\n",
            "A7R 1\n",
            "3 1\n",
            "본체 1\n",
            "고프로히어로9 1\n",
            "액션캠패키지 1\n",
            "니콘 1\n",
            "미러리스카메라/렌즈 1\n",
            "현대카드 1\n",
            "최장60개월무이자 1\n",
            "6 1\n",
            "인터파크)고프로8 1\n",
            "번들패키지 1\n",
            "청구할인 1\n",
            "313,870 1\n",
            "/ 1\n",
            "무료 1\n",
            "20 1\n",
            "로지텍 1\n",
            "Stream 1\n",
            "Cam 1\n",
            "스트리밍캠 1\n",
            "정품 1\n",
            "\n",
            "---------------------------------\n",
            "label: 21\n",
            "총 문장의 갯수: 26\n",
            "케이블 19\n",
            "C 10\n",
            "C타입 9\n",
            "to 7\n",
            "고속충전 7\n",
            "2M 4\n",
            "c 4\n",
            "PD 4\n",
            "스카이 3\n",
            "+ 3\n",
            "1+1+1 3\n",
            "100W 2\n",
            "고속충전케이블 2\n",
            "HDMI 2\n",
            "3개 2\n",
            "or 2\n",
            "충전기 2\n",
            "2개 2\n",
            "2m 2\n",
            "특가상품 2\n",
            "USB포트 2\n",
            "기타등등 2\n",
            "25W/60W 2\n",
            "주파집 1\n",
            "cwc01+듀얼pd충전기+2m 1\n",
            "c타입케이블+기프트박스 1\n",
            "USB3.2 1\n",
            "Gen1 1\n",
            "1+1+1+1+1 1\n",
            "NEXT 1\n",
            "v1.4 1\n",
            "1M/3M 1\n",
            "60W 1\n",
            "리뷰스벅아메 1\n",
            "휴대폰 1\n",
            "충전케이블 1\n",
            "1+1 1\n",
            "신지모루 1\n",
            "충전 1\n",
            "바나다 1\n",
            "삼성 1\n",
            "호환 1\n",
            "1.5m 1\n",
            "5개 1\n",
            "이지넷 1\n",
            "넥스트 1\n",
            "50CM 1\n",
            "35W 1\n",
            "듀얼 1\n",
            "포트 1\n",
            "\n",
            "---------------------------------\n",
            "label: 22\n",
            "총 문장의 갯수: 19\n",
            "케이스 14\n",
            "북커버 2\n",
            "S10 2\n",
            "휴대폰 2\n",
            "100/2500 2\n",
            "42 2\n",
            "[디지 2\n",
            "투명 2\n",
            "v50용 1\n",
            "에어범퍼 1\n",
            "& 1\n",
            "강화유리 1\n",
            "3개씩 1\n",
            "P11/P11 1\n",
            "Pro 1\n",
            "캐릭터 1\n",
            "CASE 1\n",
            "아이폰 1\n",
            "신한카드 1\n",
            "터치결제 1\n",
            "레노버 1\n",
            "p11 1\n",
            "태블릿 1\n",
            "및 1\n",
            "보호필름 1\n",
            "BT21 1\n",
            "이어폰케이스 1\n",
            "버즈케이스 1\n",
            "에어팟케이스 1\n",
            "타타 1\n",
            "쿠키 1\n",
            "슈키 1\n",
            "치미 1\n",
            "BTS 1\n",
            "방탄소년단 1\n",
            "파우치 1\n",
            "갤럭시탭 1\n",
            "s7+용 1\n",
            "키보드 1\n",
            "신지모루 1\n",
            "900원 1\n",
            "필름1+1 1\n",
            "2900원 1\n",
            "등 1\n",
            "갤럭시 1\n",
            "5G 1\n",
            "디자인 1\n",
            "로고 1\n",
            "하드케이스 1\n",
            "아이콘 1\n",
            "\n",
            "---------------------------------\n",
            "label: 23\n",
            "총 문장의 갯수: 23\n",
            "키보드 13\n",
            "로지텍 9\n",
            "블루투스 4\n",
            "기계식 3\n",
            "게이밍 3\n",
            "+ 2\n",
            "KEYS 2\n",
            "TO 2\n",
            "GO 2\n",
            "TKL 2\n",
            "텐키리스 2\n",
            "정품 2\n",
            "무선 2\n",
            "지클릭커 2\n",
            "GMK-510X 2\n",
            "실버,메탈그레이 2\n",
            "스틸시리즈 2\n",
            "APEX 2\n",
            "7 2\n",
            "적축/청축 2\n",
            "K380 2\n",
            "영문 1\n",
            "k480 1\n",
            "한글 1\n",
            "자판 1\n",
            "스티커 1\n",
            "체리키보드G80 1\n",
            "3.0S 1\n",
            "역대가 1\n",
            "COX 1\n",
            "PBT 1\n",
            "게이트론 1\n",
            "누메릭 1\n",
            "갈축 1\n",
            "CK89 1\n",
            "서피스 1\n",
            "프로7 1\n",
            "+블랙타입커버세트 1\n",
            "K835 1\n",
            "오피스팩 1\n",
            "AVOS 1\n",
            "BT-KB20 1\n",
            "Apple 1\n",
            "매직 1\n",
            "iPad 1\n",
            "Pro 1\n",
            "12.9 1\n",
            "5세대 1\n",
            "SteelSeries 1\n",
            "apex 1\n",
            "\n",
            "---------------------------------\n",
            "label: 24\n",
            "총 문장의 갯수: 153\n",
            "아이패드 50\n",
            "프로 33\n",
            "갤럭시탭 27\n",
            "P11 22\n",
            "레노버 22\n",
            "wifi 17\n",
            "LTE 16\n",
            "3세대 16\n",
            "WIFI 14\n",
            "5세대 13\n",
            "갤럭시 11\n",
            "태블릿 11\n",
            "128GB 11\n",
            "셀룰러 11\n",
            "탭 10\n",
            "64G 9\n",
            "11인치 9\n",
            "12.9 9\n",
            "S6 8\n",
            "WiFi 8\n",
            "삼성 7\n",
            "64GB 7\n",
            "32G 7\n",
            "128gb 7\n",
            "8세대 7\n",
            "S7 6\n",
            "M1 6\n",
            "256GB 6\n",
            "11형 6\n",
            "아마존 6\n",
            "2021 6\n",
            "파이어 6\n",
            "FE 5\n",
            "12.9인치 5\n",
            "M1칩 5\n",
            "A7 5\n",
            "s7+ 5\n",
            "올 5\n",
            "뉴 5\n",
            "HD10 5\n",
            "블랙 5\n",
            "라이트 5\n",
            "글로벌롬 4\n",
            "XiaoxinPad 4\n",
            "11 4\n",
            "lite 4\n",
            "lte 4\n",
            "128G 4\n",
            "갤럭시탭S7 4\n",
            "Apple 4\n",
            "\n",
            "---------------------------------\n",
            "label: 25\n",
            "총 문장의 갯수: 36\n",
            "TV 23\n",
            "삼성 12\n",
            "UHD 9\n",
            "LG 8\n",
            "75인치 5\n",
            "4K 5\n",
            "85인치 5\n",
            "올레드 4\n",
            "OLED 4\n",
            "Crystal 4\n",
            "QLED 3\n",
            "삼성전자 3\n",
            "55인치 3\n",
            "LG전자 3\n",
            "OLED48C1KNB 3\n",
            "86인치 3\n",
            "86UN8570AUD 3\n",
            "2021 2\n",
            "48인치 2\n",
            "해외직구 2\n",
            "tv 2\n",
            "50인치 2\n",
            "120cm 2\n",
            "티비 2\n",
            "KU75UT8090FXKR 2\n",
            "KU85UA8100FXKR+사운드바 2\n",
            "/ 2\n",
            "이엔티비 1\n",
            "43형 1\n",
            "DIEN43F-CJ 1\n",
            "Full 1\n",
            "HD 1\n",
            "65인치 1\n",
            "8K 1\n",
            "신형 1\n",
            "QN75Q80AAFXZA 1\n",
            "프리즘 1\n",
            "70인치 1\n",
            "HDR 1\n",
            "OLED48CXKNB 1\n",
            "OLED48A1ENA 1\n",
            "146cm 1\n",
            "KU58UA7000FXKR 1\n",
            "중소기업 1\n",
            "안드로이드TV 1\n",
            "86NANO90UPA 1\n",
            "KU85UA8000FXKR 1\n",
            "카카오페이 1\n",
            "특정 1\n",
            "카드 1\n",
            "\n",
            "---------------------------------\n",
            "label: 26\n",
            "총 문장의 갯수: 20\n",
            "복합기 12\n",
            "삼성 9\n",
            "정품무한 7\n",
            "잉크젯 5\n",
            "SL-T1670W 4\n",
            "삼성전자 4\n",
            "잉크젯복합기 3\n",
            "SL-T1670 3\n",
            "무한잉크 2\n",
            "브라더 2\n",
            "정품 2\n",
            "프린터 2\n",
            "무선 2\n",
            "SL-T1672W 2\n",
            "화이트 2\n",
            "엡손 1\n",
            "레이저&잉크젯 1\n",
            "모음전 1\n",
            "무한잉크복합기 1\n",
            "DCP-T720DW 1\n",
            "캐논 1\n",
            "정품무한잉크 1\n",
            "G3923 1\n",
            "몬 1\n",
            "WiFi지원 1\n",
            "129,000인데 1\n",
            "카카오페이로 1\n",
            "결제하면 1\n",
            "116,100 1\n",
            "입니다 1\n",
            "34 1\n",
            "[디지 1\n",
            "무한 1\n",
            "컬러잉크젯 1\n",
            "SL-J1670w 1\n",
            "컬러레이저 1\n",
            "SL-C563W 1\n",
            "쥐마켓)SL-T1670W 1\n",
            "삼성복합기 1\n",
            "팬텀프린터 1\n",
            "호환토너 1\n",
            "pc-210ev 1\n",
            "SL-J1680 1\n",
            "긴급공수 1\n",
            "무한잉크젯 1\n",
            "시리즈 1\n",
            "\n",
            "---------------------------------\n",
            "label: 27\n",
            "총 문장의 갯수: 74\n",
            "자급제 20\n",
            "갤럭시 19\n",
            "아이폰 11\n",
            "아이폰12 9\n",
            "256GB 8\n",
            "12 6\n",
            "13 5\n",
            "/ 5\n",
            "기변 5\n",
            "아이폰13 4\n",
            "프로 4\n",
            "플립3 4\n",
            "삼성 4\n",
            "LG 4\n",
            "블루 4\n",
            "Z 4\n",
            "LTE 4\n",
            "SKT 4\n",
            "갤럭시S21 3\n",
            "pro 3\n",
            "폴드3 3\n",
            "중고 3\n",
            "256기가 3\n",
            "256 3\n",
            "64GB 3\n",
            "5G 3\n",
            "사전예약 3\n",
            "선약 3\n",
            "[디지 3\n",
            "애플 3\n",
            "S21 3\n",
            "아이폰SE2 3\n",
            "완납/선약/슬림 3\n",
            "삼성전자 2\n",
            "울트라 2\n",
            "강화유리 2\n",
            "미니 2\n",
            "128GB 2\n",
            "128 2\n",
            "삼성카드링크 2\n",
            "12%할인 2\n",
            "+ 2\n",
            "15만원 2\n",
            "민팃 2\n",
            "추가보상+ 2\n",
            "보고쿠폰 2\n",
            "8만원 2\n",
            "v50 2\n",
            "퍼시픽 2\n",
            "케이스 2\n",
            "\n",
            "---------------------------------\n",
            "label: 28\n",
            "총 문장의 갯수: 27\n",
            "헤드폰 11\n",
            "헤드셋 7\n",
            "소니 4\n",
            "무선 3\n",
            "앤커 3\n",
            "노이즈캔슬링 3\n",
            "게이밍 3\n",
            "레이저 2\n",
            "크라켄 2\n",
            "X 2\n",
            "무선헤드셋 2\n",
            "오디오 2\n",
            "테크니카 2\n",
            "ATH-ANC700BT 2\n",
            "사운드코어 2\n",
            "WH-1000XM4 2\n",
            "블루투스 2\n",
            "제이비엘 2\n",
            "퀀텀 2\n",
            "800 2\n",
            "모멘텀3 2\n",
            "와이어리스 2\n",
            "젠하이저 2\n",
            "에어팟맥스 1\n",
            "터틀비치 1\n",
            "스텔스700 1\n",
            "gen2 1\n",
            "PS용 1\n",
            "바라쿠다 1\n",
            "엑스 1\n",
            "노이즈 1\n",
            "캔슬링 1\n",
            "q30 1\n",
            "킹스톤 1\n",
            "HyperX 1\n",
            "Cloud 1\n",
            "II 1\n",
            "A3025 1\n",
            "라이프 1\n",
            "Q20 1\n",
            "Koss 1\n",
            "휴대용 1\n",
            "스테레오폰 1\n",
            "화이트 1\n",
            "그레이 1\n",
            "KSC75 1\n",
            "HD600 1\n",
            "HD660s 1\n",
            "id4 1\n",
            "자브라 1\n",
            "\n",
            "---------------------------------\n",
            "label: 29\n",
            "총 문장의 갯수: 29\n",
            "삼성 22\n",
            "EVO 15\n",
            "PLUS 15\n",
            "512GB 13\n",
            "MicroSD 8\n",
            "마이크로SD 7\n",
            "128GB 5\n",
            "공식인증 5\n",
            "마이크로SD카드 4\n",
            "[디지 3\n",
            "PRO 3\n",
            "Endurance 3\n",
            "메모리카드 3\n",
            "마이크로 3\n",
            "SD카드 3\n",
            "evo 3\n",
            "plus 3\n",
            "에보 2\n",
            "플러스 2\n",
            "256GB 2\n",
            "micro 2\n",
            "pro 2\n",
            "삼성전자 2\n",
            "MB-MC512HA/KR 2\n",
            "삼성카드 2\n",
            "최종혜택가 2\n",
            "59,000원 2\n",
            "/무료배송 2\n",
            "47 2\n",
            "Sandisk 1\n",
            "sd 1\n",
            "extream 1\n",
            "256g 1\n",
            "샌디스크 1\n",
            "울트라 1\n",
            "sdxc 1\n",
            "256gb 1\n",
            "512GM 1\n",
            "60,230원/무료 1\n",
            "국민카드 1\n",
            "56,020원 1\n",
            "37 1\n",
            "MB-MJ128GA/APC 1\n",
            "512 1\n",
            "MLC 1\n",
            "마이크로sd 1\n",
            "endurance 1\n",
            "128g 1\n",
            "등 1\n",
            "여러개 1\n",
            "\n",
            "---------------------------------\n",
            "label: 30\n",
            "총 문장의 갯수: 18\n",
            "1TB 10\n",
            "SSD 7\n",
            "SK하이닉스 4\n",
            "Crucial 3\n",
            "마이크론 3\n",
            "GOLD 3\n",
            "P31 3\n",
            "NVMe 2\n",
            "포터블 2\n",
            "MX500 2\n",
            "X8 2\n",
            "500gb 2\n",
            "P5 1\n",
            "삼성 1\n",
            "evo 1\n",
            "plus 1\n",
            "512g 1\n",
            "21년판 1\n",
            "하얀색 1\n",
            "+ 1\n",
            "카카오핸드타월 1\n",
            "증정 1\n",
            "2021 1\n",
            "아이맥 1\n",
            "24/퍼플/M1/8cpu/8gpu/16GB/256ssd 1\n",
            "에센코어 1\n",
            "클레브 1\n",
            "8GB 1\n",
            "PC4-25600 1\n",
            "외 1\n",
            "WD 1\n",
            "1tb 1\n",
            "SN850 1\n",
            "샌디스크 1\n",
            "익스트림 1\n",
            "E61 1\n",
            "삼성전자 1\n",
            "외장SSD 1\n",
            "T7 1\n",
            "대원CTS 1\n",
            "2TB 1\n",
            "크루셜 1\n",
            "외장 1\n",
            "500 1\n",
            "GB 1\n",
            "ADATA 1\n",
            "SX8200Pro 1\n",
            "SK 1\n",
            "hynix 1\n",
            "Gold 1\n",
            "\n",
            "---------------------------------\n"
          ]
        }
      ]
    },
    {
      "cell_type": "code",
      "metadata": {
        "id": "vmi-4NV9UG8K"
      },
      "source": [
        "train_df['title'] = train_df['title'] + train_df['category']"
      ],
      "execution_count": null,
      "outputs": []
    },
    {
      "cell_type": "code",
      "metadata": {
        "colab": {
          "base_uri": "https://localhost:8080/",
          "height": 204
        },
        "id": "jEQigfziQ9Ry",
        "outputId": "4f6ccc2c-495d-45c3-9939-77723d835fbc"
      },
      "source": [
        "import re\n",
        "s1 = re.compile('1+1')\n",
        "s2 = re.compile('역대가')\n",
        "p = re.compile('[\\!@#$%\\^&\\*\\(\\)\\-\\=\\[\\]\\{\\}\\.,/\\?~\\+\\'\"|_:;><`┃…]')\n",
        "\n",
        "def remove_special_characters(sentence, lower=True):\n",
        "    sentence = s1.sub(' ', str(sentence))\n",
        "    sentence = p.sub(' ', sentence) \n",
        "    sentence = s1.sub(' ', sentence)\n",
        "    sentence = ' '.join(sentence.split())\n",
        "    if lower:\n",
        "        sentence = sentence.lower()\n",
        "    return sentence\n",
        "\n",
        "train_df['title'] = train_df['title'].map(remove_special_characters)\n",
        "train_df.head() "
      ],
      "execution_count": null,
      "outputs": [
        {
          "output_type": "execute_result",
          "data": {
            "text/html": [
              "<div>\n",
              "<style scoped>\n",
              "    .dataframe tbody tr th:only-of-type {\n",
              "        vertical-align: middle;\n",
              "    }\n",
              "\n",
              "    .dataframe tbody tr th {\n",
              "        vertical-align: top;\n",
              "    }\n",
              "\n",
              "    .dataframe thead th {\n",
              "        text-align: right;\n",
              "    }\n",
              "</style>\n",
              "<table border=\"1\" class=\"dataframe\">\n",
              "  <thead>\n",
              "    <tr style=\"text-align: right;\">\n",
              "      <th></th>\n",
              "      <th>id</th>\n",
              "      <th>index</th>\n",
              "      <th>title</th>\n",
              "      <th>category</th>\n",
              "      <th>hotdeal_place</th>\n",
              "      <th>label</th>\n",
              "    </tr>\n",
              "  </thead>\n",
              "  <tbody>\n",
              "    <tr>\n",
              "      <th>0</th>\n",
              "      <td>361</td>\n",
              "      <td>2_400335</td>\n",
              "      <td>out of the park baseball 22 할인 41 000원 10 250원...</td>\n",
              "      <td>[디지털]</td>\n",
              "      <td>스팀</td>\n",
              "      <td>0</td>\n",
              "    </tr>\n",
              "    <tr>\n",
              "      <th>1</th>\n",
              "      <td>541</td>\n",
              "      <td>2_400125</td>\n",
              "      <td>renzo racer 디지털</td>\n",
              "      <td>[디지털]</td>\n",
              "      <td>indiegala</td>\n",
              "      <td>0</td>\n",
              "    </tr>\n",
              "    <tr>\n",
              "      <th>2</th>\n",
              "      <td>906</td>\n",
              "      <td>2_399669</td>\n",
              "      <td>die young prologue 디지털</td>\n",
              "      <td>[디지털]</td>\n",
              "      <td>indiegala</td>\n",
              "      <td>0</td>\n",
              "    </tr>\n",
              "    <tr>\n",
              "      <th>3</th>\n",
              "      <td>943</td>\n",
              "      <td>2_399617</td>\n",
              "      <td>chop chop princess 디지털</td>\n",
              "      <td>[디지털]</td>\n",
              "      <td>indiegala</td>\n",
              "      <td>0</td>\n",
              "    </tr>\n",
              "    <tr>\n",
              "      <th>4</th>\n",
              "      <td>960</td>\n",
              "      <td>2_399592</td>\n",
              "      <td>tom clancys ghost recon 디지털</td>\n",
              "      <td>[디지털]</td>\n",
              "      <td>유비소프트</td>\n",
              "      <td>0</td>\n",
              "    </tr>\n",
              "  </tbody>\n",
              "</table>\n",
              "</div>"
            ],
            "text/plain": [
              "    id     index  ... hotdeal_place label\n",
              "0  361  2_400335  ...            스팀     0\n",
              "1  541  2_400125  ...     indiegala     0\n",
              "2  906  2_399669  ...     indiegala     0\n",
              "3  943  2_399617  ...     indiegala     0\n",
              "4  960  2_399592  ...         유비소프트     0\n",
              "\n",
              "[5 rows x 6 columns]"
            ]
          },
          "metadata": {},
          "execution_count": 11
        }
      ]
    },
    {
      "cell_type": "code",
      "metadata": {
        "id": "5nhd_306Q9Z5"
      },
      "source": [
        "from sklearn.model_selection import StratifiedKFold, KFold\n",
        "\n",
        "folds = StratifiedKFold(n_splits=10, random_state=8, shuffle=True)\n",
        "train_idx, valid_idx = list(folds.split(train_df.values, train_df['label']))[0]\n",
        "train = train_df.iloc[train_idx]\n",
        "valid = train_df.iloc[valid_idx]"
      ],
      "execution_count": null,
      "outputs": []
    },
    {
      "cell_type": "markdown",
      "metadata": {
        "id": "xK7R_vmuS6gF"
      },
      "source": [
        "# 1.Fasttext"
      ]
    },
    {
      "cell_type": "code",
      "metadata": {
        "colab": {
          "base_uri": "https://localhost:8080/"
        },
        "id": "3weR7fbHQ9Up",
        "outputId": "c070e60b-2529-407f-b3b3-88efa31add8d"
      },
      "source": [
        "!pip install fasttext\n",
        "!git clone https://github.com/facebookresearch/fastText"
      ],
      "execution_count": null,
      "outputs": [
        {
          "output_type": "stream",
          "name": "stdout",
          "text": [
            "Collecting fasttext\n",
            "  Downloading fasttext-0.9.2.tar.gz (68 kB)\n",
            "\u001b[?25l\r\u001b[K     |████▊                           | 10 kB 40.1 MB/s eta 0:00:01\r\u001b[K     |█████████▌                      | 20 kB 29.6 MB/s eta 0:00:01\r\u001b[K     |██████████████▎                 | 30 kB 17.7 MB/s eta 0:00:01\r\u001b[K     |███████████████████             | 40 kB 15.6 MB/s eta 0:00:01\r\u001b[K     |███████████████████████▉        | 51 kB 10.5 MB/s eta 0:00:01\r\u001b[K     |████████████████████████████▋   | 61 kB 10.1 MB/s eta 0:00:01\r\u001b[K     |████████████████████████████████| 68 kB 5.2 MB/s \n",
            "\u001b[?25hCollecting pybind11>=2.2\n",
            "  Using cached pybind11-2.8.1-py2.py3-none-any.whl (208 kB)\n",
            "Requirement already satisfied: setuptools>=0.7.0 in /usr/local/lib/python3.7/dist-packages (from fasttext) (57.4.0)\n",
            "Requirement already satisfied: numpy in /usr/local/lib/python3.7/dist-packages (from fasttext) (1.19.5)\n",
            "Building wheels for collected packages: fasttext\n",
            "  Building wheel for fasttext (setup.py) ... \u001b[?25l\u001b[?25hdone\n",
            "  Created wheel for fasttext: filename=fasttext-0.9.2-cp37-cp37m-linux_x86_64.whl size=3121238 sha256=591c8d10f335096a6b6a0dd19afc4cf98fc07becd5ca2ff744b49ca8cb5198ad\n",
            "  Stored in directory: /root/.cache/pip/wheels/4e/ca/bf/b020d2be95f7641801a6597a29c8f4f19e38f9c02a345bab9b\n",
            "Successfully built fasttext\n",
            "Installing collected packages: pybind11, fasttext\n",
            "Successfully installed fasttext-0.9.2 pybind11-2.8.1\n",
            "Cloning into 'fastText'...\n",
            "remote: Enumerating objects: 3854, done.\u001b[K\n",
            "remote: Total 3854 (delta 0), reused 0 (delta 0), pack-reused 3854\u001b[K\n",
            "Receiving objects: 100% (3854/3854), 8.22 MiB | 29.76 MiB/s, done.\n",
            "Resolving deltas: 100% (2417/2417), done.\n"
          ]
        }
      ]
    },
    {
      "cell_type": "code",
      "metadata": {
        "id": "4tP1-hVHQ9XM"
      },
      "source": [
        "import fasttext\n",
        "from tqdm import tqdm"
      ],
      "execution_count": null,
      "outputs": []
    },
    {
      "cell_type": "code",
      "metadata": {
        "id": "Hl2CTe9cQ9cz"
      },
      "source": [
        "train2 = train[['title']]\n",
        "train3 = train[['label']]"
      ],
      "execution_count": null,
      "outputs": []
    },
    {
      "cell_type": "code",
      "metadata": {
        "colab": {
          "base_uri": "https://localhost:8080/",
          "height": 204
        },
        "id": "D5IhFwMuT_WK",
        "outputId": "ffa58e7f-ec78-4f2a-d90c-d95f2eb08ca0"
      },
      "source": [
        "train2.head()"
      ],
      "execution_count": null,
      "outputs": [
        {
          "output_type": "execute_result",
          "data": {
            "text/html": [
              "<div>\n",
              "<style scoped>\n",
              "    .dataframe tbody tr th:only-of-type {\n",
              "        vertical-align: middle;\n",
              "    }\n",
              "\n",
              "    .dataframe tbody tr th {\n",
              "        vertical-align: top;\n",
              "    }\n",
              "\n",
              "    .dataframe thead th {\n",
              "        text-align: right;\n",
              "    }\n",
              "</style>\n",
              "<table border=\"1\" class=\"dataframe\">\n",
              "  <thead>\n",
              "    <tr style=\"text-align: right;\">\n",
              "      <th></th>\n",
              "      <th>title</th>\n",
              "    </tr>\n",
              "  </thead>\n",
              "  <tbody>\n",
              "    <tr>\n",
              "      <th>1</th>\n",
              "      <td>renzo racer 디지털</td>\n",
              "    </tr>\n",
              "    <tr>\n",
              "      <th>2</th>\n",
              "      <td>die young prologue 디지털</td>\n",
              "    </tr>\n",
              "    <tr>\n",
              "      <th>3</th>\n",
              "      <td>chop chop princess 디지털</td>\n",
              "    </tr>\n",
              "    <tr>\n",
              "      <th>4</th>\n",
              "      <td>tom clancys ghost recon 디지털</td>\n",
              "    </tr>\n",
              "    <tr>\n",
              "      <th>5</th>\n",
              "      <td>ghost recon wildlands fallen ghosts 디지털</td>\n",
              "    </tr>\n",
              "  </tbody>\n",
              "</table>\n",
              "</div>"
            ],
            "text/plain": [
              "                                     title\n",
              "1                          renzo racer 디지털\n",
              "2                   die young prologue 디지털\n",
              "3                   chop chop princess 디지털\n",
              "4              tom clancys ghost recon 디지털\n",
              "5  ghost recon wildlands fallen ghosts 디지털"
            ]
          },
          "metadata": {},
          "execution_count": 16
        }
      ]
    },
    {
      "cell_type": "code",
      "metadata": {
        "colab": {
          "base_uri": "https://localhost:8080/"
        },
        "id": "KW2CpolgQ9fD",
        "outputId": "a4393e41-15bb-4b04-aba0-363a1f06c9f8"
      },
      "source": [
        "to_txt = '' \n",
        "for i in tqdm(range(len(train))): \n",
        "  to_txt += \"__label__\"+str(train3.iloc[i,0])+\" \"+ str(train2.iloc[i,0]) + '\\n'"
      ],
      "execution_count": null,
      "outputs": [
        {
          "output_type": "stream",
          "name": "stderr",
          "text": [
            "100%|██████████| 1282/1282 [00:00<00:00, 21544.33it/s]\n"
          ]
        }
      ]
    },
    {
      "cell_type": "code",
      "metadata": {
        "id": "7huX9qM_UTvN"
      },
      "source": [
        "with open('train.txt', 'w', encoding='utf-8') as f: \n",
        "  f.write(to_txt)"
      ],
      "execution_count": null,
      "outputs": []
    },
    {
      "cell_type": "code",
      "metadata": {
        "colab": {
          "base_uri": "https://localhost:8080/"
        },
        "id": "qNepNiXGUTxx",
        "outputId": "26380fb3-ea3f-4c2d-8faf-06695c78ab5f"
      },
      "source": [
        "model = fasttext.train_supervised('train.txt', wordNgrams=2, epoch=120, lr=0.1)\n",
        "\n",
        "def print_results(N, p, r):\n",
        "    print(\"N\\t\" + str(N))\n",
        "    print(\"P@{}\\t{:.3f}\".format(1, p))\n",
        "    print(\"R@{}\\t{:.3f}\".format(1, r))\n",
        "\n",
        "print_results(*model.test('train.txt'))\n",
        "\n",
        "print (model.predict(\"에어팟 프로\"))\n",
        "\n",
        "model.save_model(\"fasttext_model.bin\")\n",
        "\n",
        "valid2 = valid[['title']]\n",
        "valid3 = valid[['label']]\n",
        "\n",
        "cnt = 0\n",
        "for i in tqdm(range(len(valid))): \n",
        "  tmp_str = str(valid2.iloc[i,0]).replace(\"\\n\", \"\")\n",
        "  a = model.predict(tmp_str)\n",
        "  a = a[0][0]\n",
        "  if len(a) == 10:\n",
        "    pred = int(a[-1])\n",
        "    if pred != valid3.iloc[i,0]:\n",
        "      cnt +=1\n",
        "  else:\n",
        "    pred = int(a[-2:])\n",
        "    if pred != valid3.iloc[i,0]:\n",
        "      cnt +=1"
      ],
      "execution_count": null,
      "outputs": [
        {
          "output_type": "stream",
          "name": "stdout",
          "text": [
            "N\t1282\n",
            "P@1\t0.998\n",
            "R@1\t0.998\n",
            "(('__label__16',), array([0.99592078]))\n"
          ]
        },
        {
          "output_type": "stream",
          "name": "stderr",
          "text": [
            "100%|██████████| 143/143 [00:00<00:00, 11895.55it/s]\n"
          ]
        }
      ]
    },
    {
      "cell_type": "code",
      "metadata": {
        "colab": {
          "base_uri": "https://localhost:8080/"
        },
        "id": "8XCzjXqeUT0W",
        "outputId": "01b0cbcb-02a6-450d-8855-113e0a206c9a"
      },
      "source": [
        "print(\"acc: \",(len(valid) - cnt)/len(valid))"
      ],
      "execution_count": null,
      "outputs": [
        {
          "output_type": "stream",
          "name": "stdout",
          "text": [
            "acc:  0.7902097902097902\n"
          ]
        }
      ]
    },
    {
      "cell_type": "markdown",
      "metadata": {
        "id": "dXsG6RzXq_nu"
      },
      "source": [
        "## Score정리\n",
        "\n",
        "\n",
        "\n",
        "(%)|Fasttext (Ngrams=2, epoch=10, lr=0.5) | Fasttext (Ngrams=2, epoch=50, lr=0.1)|Fasttext (Ngrams=2, epoch=120, lr=0.1|Fasttext (Ngrams=2, epoch=80, lr=0.1| \n",
        "---|---|---|---|---| \n",
        "`validate acc` | 0.636 | 0.713 | *0.804 | 0.797 | "
      ]
    },
    {
      "cell_type": "markdown",
      "metadata": {
        "id": "k8LZx4ocsrJ1"
      },
      "source": [
        "# 2.Attention이용 모델"
      ]
    },
    {
      "cell_type": "code",
      "metadata": {
        "colab": {
          "base_uri": "https://localhost:8080/"
        },
        "id": "Xl6-qbvIVyuj",
        "outputId": "4b37e116-1e5a-4109-8149-e851914b8d28"
      },
      "source": [
        "!pip install transformers"
      ],
      "execution_count": null,
      "outputs": [
        {
          "output_type": "stream",
          "name": "stdout",
          "text": [
            "Collecting transformers\n",
            "  Downloading transformers-4.11.3-py3-none-any.whl (2.9 MB)\n",
            "\u001b[K     |████████████████████████████████| 2.9 MB 9.2 MB/s \n",
            "\u001b[?25hRequirement already satisfied: packaging>=20.0 in /usr/local/lib/python3.7/dist-packages (from transformers) (21.0)\n",
            "Requirement already satisfied: requests in /usr/local/lib/python3.7/dist-packages (from transformers) (2.23.0)\n",
            "Requirement already satisfied: importlib-metadata in /usr/local/lib/python3.7/dist-packages (from transformers) (4.8.1)\n",
            "Requirement already satisfied: regex!=2019.12.17 in /usr/local/lib/python3.7/dist-packages (from transformers) (2019.12.20)\n",
            "Collecting pyyaml>=5.1\n",
            "  Downloading PyYAML-6.0-cp37-cp37m-manylinux_2_5_x86_64.manylinux1_x86_64.manylinux_2_12_x86_64.manylinux2010_x86_64.whl (596 kB)\n",
            "\u001b[K     |████████████████████████████████| 596 kB 54.1 MB/s \n",
            "\u001b[?25hCollecting sacremoses\n",
            "  Downloading sacremoses-0.0.46-py3-none-any.whl (895 kB)\n",
            "\u001b[K     |████████████████████████████████| 895 kB 69.6 MB/s \n",
            "\u001b[?25hCollecting tokenizers<0.11,>=0.10.1\n",
            "  Downloading tokenizers-0.10.3-cp37-cp37m-manylinux_2_5_x86_64.manylinux1_x86_64.manylinux_2_12_x86_64.manylinux2010_x86_64.whl (3.3 MB)\n",
            "\u001b[K     |████████████████████████████████| 3.3 MB 63.4 MB/s \n",
            "\u001b[?25hRequirement already satisfied: filelock in /usr/local/lib/python3.7/dist-packages (from transformers) (3.3.0)\n",
            "Collecting huggingface-hub>=0.0.17\n",
            "  Downloading huggingface_hub-0.0.19-py3-none-any.whl (56 kB)\n",
            "\u001b[K     |████████████████████████████████| 56 kB 5.2 MB/s \n",
            "\u001b[?25hRequirement already satisfied: tqdm>=4.27 in /usr/local/lib/python3.7/dist-packages (from transformers) (4.62.3)\n",
            "Requirement already satisfied: numpy>=1.17 in /usr/local/lib/python3.7/dist-packages (from transformers) (1.19.5)\n",
            "Requirement already satisfied: typing-extensions in /usr/local/lib/python3.7/dist-packages (from huggingface-hub>=0.0.17->transformers) (3.7.4.3)\n",
            "Requirement already satisfied: pyparsing>=2.0.2 in /usr/local/lib/python3.7/dist-packages (from packaging>=20.0->transformers) (2.4.7)\n",
            "Requirement already satisfied: zipp>=0.5 in /usr/local/lib/python3.7/dist-packages (from importlib-metadata->transformers) (3.6.0)\n",
            "Requirement already satisfied: chardet<4,>=3.0.2 in /usr/local/lib/python3.7/dist-packages (from requests->transformers) (3.0.4)\n",
            "Requirement already satisfied: urllib3!=1.25.0,!=1.25.1,<1.26,>=1.21.1 in /usr/local/lib/python3.7/dist-packages (from requests->transformers) (1.24.3)\n",
            "Requirement already satisfied: certifi>=2017.4.17 in /usr/local/lib/python3.7/dist-packages (from requests->transformers) (2021.5.30)\n",
            "Requirement already satisfied: idna<3,>=2.5 in /usr/local/lib/python3.7/dist-packages (from requests->transformers) (2.10)\n",
            "Requirement already satisfied: six in /usr/local/lib/python3.7/dist-packages (from sacremoses->transformers) (1.15.0)\n",
            "Requirement already satisfied: click in /usr/local/lib/python3.7/dist-packages (from sacremoses->transformers) (7.1.2)\n",
            "Requirement already satisfied: joblib in /usr/local/lib/python3.7/dist-packages (from sacremoses->transformers) (1.0.1)\n",
            "Installing collected packages: pyyaml, tokenizers, sacremoses, huggingface-hub, transformers\n",
            "  Attempting uninstall: pyyaml\n",
            "    Found existing installation: PyYAML 3.13\n",
            "    Uninstalling PyYAML-3.13:\n",
            "      Successfully uninstalled PyYAML-3.13\n",
            "Successfully installed huggingface-hub-0.0.19 pyyaml-6.0 sacremoses-0.0.46 tokenizers-0.10.3 transformers-4.11.3\n"
          ]
        }
      ]
    },
    {
      "cell_type": "code",
      "metadata": {
        "id": "YQj4wrg8VyxY"
      },
      "source": [
        "from transformers import AutoTokenizer, AutoModelForSequenceClassification, AutoModel,BertTokenizerFast, AlbertModel, BertModel, AutoTokenizer\n",
        "from transformers import BertModel, RobertaTokenizer\n",
        "import torch\n",
        "import torch.nn as nn\n",
        "import torch.optim as optim\n",
        "import torch.nn.functional as F\n",
        "from torch.utils.data import Dataset, DataLoader\n",
        "from transformers import AdamW\n",
        "from transformers.optimization import get_cosine_schedule_with_warmup, get_linear_schedule_with_warmup"
      ],
      "execution_count": null,
      "outputs": []
    },
    {
      "cell_type": "code",
      "metadata": {
        "id": "9TWwgdAjV4ED"
      },
      "source": [
        "class CategoryDataset(Dataset):\n",
        "  def __init__(self, subjects, targets, tokenizer, max_len):\n",
        "    self.subjects = subjects\n",
        "    self.targets = targets\n",
        "    self.tokenizer = tokenizer\n",
        "    self.max_len = max_len\n",
        "  def __len__(self):\n",
        "    return len(self.subjects)\n",
        "  def __getitem__(self, item):\n",
        "    subject = str(self.subjects[item])\n",
        "    target = self.targets[item]\n",
        "    encoding = self.tokenizer.encode_plus(\n",
        "      subject,\n",
        "      add_special_tokens=True,\n",
        "      max_length=self.max_len,\n",
        "      return_token_type_ids=False,\n",
        "      padding = 'max_length',\n",
        "      truncation = True,\n",
        "      return_attention_mask=True,\n",
        "      return_tensors='pt',\n",
        "    )\n",
        "    return {\n",
        "      'subject_text': subject,\n",
        "      'input_ids': encoding['input_ids'].flatten(),\n",
        "      'attention_mask': encoding['attention_mask'].flatten(),\n",
        "      'targets': torch.tensor(target, dtype=torch.long)\n",
        "    }\n",
        "def create_data_loader(df, tokenizer, max_len, batch_size, shuffle_=False, valid=False):\n",
        "  if valid:\n",
        "    ds = CategoryDataset(\n",
        "      subjects=df.title.to_numpy(),\n",
        "      targets=df.label.to_numpy(),\n",
        "      tokenizer=tokenizer,\n",
        "      max_len=max_len\n",
        "      )\n",
        "  else:\n",
        "    ds = CategoryDataset(\n",
        "      subjects=df.title.to_numpy(),\n",
        "      targets=df.label.to_numpy(),\n",
        "      tokenizer=tokenizer,\n",
        "      max_len=max_len\n",
        "    )\n",
        "  return DataLoader(\n",
        "    ds,\n",
        "    batch_size=batch_size,\n",
        "    num_workers=4,\n",
        "    shuffle = shuffle_\n",
        "  )"
      ],
      "execution_count": null,
      "outputs": []
    },
    {
      "cell_type": "code",
      "metadata": {
        "id": "Oub4JCqbV4HZ"
      },
      "source": [
        "from sklearn.metrics import f1_score\n",
        "import time\n",
        "import math\n",
        "import random\n",
        "import argparse\n",
        "\n",
        "def calc_review_acc(pred, label):\n",
        "    _, idx = pred.max(1)\n",
        "    \n",
        "    acc = torch.eq(idx, label).sum().item() / idx.size()[0] #batchsize\n",
        "    x = label.cpu().numpy()\n",
        "    y = idx.cpu().numpy()\n",
        "    f1_acc = f1_score(x, y, average='macro')\n",
        "    return acc,f1_acc\n",
        "\n",
        "\n",
        "\n",
        "\n",
        "class AverageMeter(object):\n",
        "    \"\"\"Computes and stores the average and current value\"\"\"\n",
        "    def __init__(self):\n",
        "        self.reset()\n",
        "\n",
        "    def reset(self):\n",
        "        self.val = 0\n",
        "        self.avg = 0\n",
        "        self.sum = 0\n",
        "        self.count = 0\n",
        "\n",
        "    def update(self, val, n=1):\n",
        "        self.val = val\n",
        "        self.sum += val * n\n",
        "        self.count += n\n",
        "        self.avg = self.sum / self.count\n",
        "\n",
        "\n",
        "def asMinutes(s):\n",
        "    m = math.floor(s / 60)\n",
        "    s -= m * 60\n",
        "    return '%dm %ds' % (m, s)\n",
        "\n",
        "\n",
        "def timeSince(since, percent):\n",
        "    now = time.time()\n",
        "    s = now - since\n",
        "    es = s / (percent)\n",
        "    rs = es - s\n",
        "    return '%s (remain %s)' % (asMinutes(s), asMinutes(rs))\n"
      ],
      "execution_count": null,
      "outputs": []
    },
    {
      "cell_type": "markdown",
      "metadata": {
        "id": "GTH0wFDfs13p"
      },
      "source": [
        "## (1) bert-kor-base"
      ]
    },
    {
      "cell_type": "code",
      "metadata": {
        "colab": {
          "base_uri": "https://localhost:8080/",
          "height": 113,
          "referenced_widgets": [
            "7c6262f00161448cadfc4896fdfd3b3b",
            "ecc426a2de4e4b7f95b0728568971f2c",
            "94259193828044bc91f671e980966552",
            "6c6dac4488524ab280953611c64a63a0",
            "c9c93766a882429e844a510154edba1f",
            "ba8e39017eaf4267b01a1f5014d3f2ab",
            "1dfca19ed94048108d0704901ee289ae",
            "288fbdf477584c91a283367a0b106c48",
            "0bb5b9c904ff4461aada561ab08e5ea8",
            "32231e837a5f485c80d46a4ab32300f5",
            "d14d6c8321384e0a8c801f7d90ddc6cb",
            "f06aff25977748e9b1b2f09a8b02851e",
            "bb879503bd254fe095b1dae632c69d47",
            "af41a984645a442facac436a5d6e88f0",
            "15c8084cc14e4465a85134d14d633d6a",
            "c53d388be4414c6c8d6d6664d7ac47d3",
            "6983c02680ee4197b170c68df580ac21",
            "3eed65a48db748c692e8bd75843a8692",
            "b7048bcdd68747c7a66391e21ec40fd9",
            "8916edf86a4a4d359102b66eaf1dec72",
            "f91c2fbdd0e34da5927df8cfe64ed500",
            "d9fe5abe5a5944fd83ec37301b732b1c",
            "0f63368d49df4715902a2ba57cc84ed2",
            "8cf2cda4bc704971b88c4d5000147bc3",
            "16bb5c52fb5b4a56b934534a0e1be2fb",
            "815f929df5b64ec1934f0eee9245e302",
            "0ea096a86f434493a5789a5c227b8fc6",
            "6ba34f5c790549639fe431932b04bcd0",
            "2cc37f5aac9349c8aa2fb66346eea505",
            "1b1b40483aac43449a8753437c7a96ff",
            "52cbe8043a304ebea6d633393627f949",
            "7b3e342f537e424ca361a4df60046504",
            "42fc05c8b2354948ab15c68501466ba2"
          ]
        },
        "id": "4LSxZQzLV4KT",
        "outputId": "d2079fbb-d4ba-4560-d7f4-fbfe6af9ed65"
      },
      "source": [
        "tokenizer_bert_kor_base = BertTokenizerFast.from_pretrained(\"kykim/bert-kor-base\")\n",
        "BATCH_SIZE =128\n",
        "MAX_LEN =64\n",
        "train_data_loader = create_data_loader(train, tokenizer_bert_kor_base, MAX_LEN, BATCH_SIZE, shuffle_=True)\n",
        "valid_data_loader = create_data_loader(valid, tokenizer_bert_kor_base, MAX_LEN, BATCH_SIZE, valid=True)"
      ],
      "execution_count": null,
      "outputs": [
        {
          "output_type": "display_data",
          "data": {
            "application/vnd.jupyter.widget-view+json": {
              "model_id": "7c6262f00161448cadfc4896fdfd3b3b",
              "version_minor": 0,
              "version_major": 2
            },
            "text/plain": [
              "Downloading:   0%|          | 0.00/336k [00:00<?, ?B/s]"
            ]
          },
          "metadata": {}
        },
        {
          "output_type": "display_data",
          "data": {
            "application/vnd.jupyter.widget-view+json": {
              "model_id": "f06aff25977748e9b1b2f09a8b02851e",
              "version_minor": 0,
              "version_major": 2
            },
            "text/plain": [
              "Downloading:   0%|          | 0.00/80.0 [00:00<?, ?B/s]"
            ]
          },
          "metadata": {}
        },
        {
          "output_type": "display_data",
          "data": {
            "application/vnd.jupyter.widget-view+json": {
              "model_id": "0f63368d49df4715902a2ba57cc84ed2",
              "version_minor": 0,
              "version_major": 2
            },
            "text/plain": [
              "Downloading:   0%|          | 0.00/725 [00:00<?, ?B/s]"
            ]
          },
          "metadata": {}
        }
      ]
    },
    {
      "cell_type": "code",
      "metadata": {
        "id": "-cx1lN7RWiiO"
      },
      "source": [
        "class ReviewClassifier(nn.Module):\n",
        "  def __init__(self, n_classes):\n",
        "    super(ReviewClassifier, self).__init__()\n",
        "    self.bert = BertModel.from_pretrained(\"kykim/bert-kor-base\")\n",
        "    self.drop = nn.Dropout(p=0.1)\n",
        "    self.out = nn.Linear(self.bert.config.hidden_size, n_classes)\n",
        "  def forward(self, input_ids, attention_mask):\n",
        "    _, pooled_output = self.bert(\n",
        "      input_ids=input_ids,\n",
        "      attention_mask=attention_mask,\n",
        "       return_dict=False\n",
        "    )\n",
        "    output = self.drop(pooled_output)\n",
        "    return self.out(output)\n",
        "\n",
        "device = torch.device(\"cuda\")\n",
        "\n",
        "def get_predictions(model, data_loader):\n",
        "  model = model.eval()\n",
        "  subject_texts = []\n",
        "  predictions = []\n",
        "  prediction_probs = []\n",
        "  with torch.no_grad():\n",
        "    for d in data_loader:\n",
        "      texts = d[\"subject_text\"]\n",
        "      input_ids = d[\"input_ids\"].to(device)\n",
        "      attention_mask = d[\"attention_mask\"].to(device)\n",
        "      targets = d[\"targets\"].to(device)\n",
        "      outputs = model(\n",
        "        input_ids=input_ids,\n",
        "        attention_mask=attention_mask\n",
        "      )\n",
        "      _, preds = torch.max(outputs, dim=1)\n",
        "      subject_texts.extend(texts)\n",
        "      predictions.extend(preds)\n",
        "      prediction_probs.extend(outputs)\n",
        "  predictions = torch.stack(predictions).cpu()\n",
        "  prediction_probs = torch.stack(prediction_probs).cpu()\n",
        "  return subject_texts, predictions, prediction_probs\n"
      ],
      "execution_count": null,
      "outputs": []
    },
    {
      "cell_type": "code",
      "metadata": {
        "colab": {
          "base_uri": "https://localhost:8080/"
        },
        "id": "nQqV3o1FWrRF",
        "outputId": "63fe03bd-3327-4b55-df10-4deb629a1aec"
      },
      "source": [
        "import gc\n",
        "\n",
        "\n",
        "EPOCHS = 30\n",
        "model_bert_kor_base = ReviewClassifier(n_classes=31).to(device)\n",
        "optimizer = AdamW(model_bert_kor_base.parameters(), lr=3e-5)\n",
        "total_steps = len(train_data_loader) * EPOCHS\n",
        "scheduler = get_cosine_schedule_with_warmup(\n",
        "  optimizer,\n",
        "  num_warmup_steps=int(total_steps*0.1),\n",
        "  num_training_steps=total_steps\n",
        ")\n",
        "loss_fn = nn.CrossEntropyLoss().to(device)"
      ],
      "execution_count": null,
      "outputs": [
        {
          "output_type": "stream",
          "name": "stderr",
          "text": [
            "Some weights of the model checkpoint at kykim/bert-kor-base were not used when initializing BertModel: ['cls.predictions.bias', 'cls.predictions.transform.dense.bias', 'cls.predictions.decoder.weight', 'cls.predictions.transform.LayerNorm.weight', 'cls.predictions.transform.LayerNorm.bias', 'cls.seq_relationship.bias', 'cls.predictions.decoder.bias', 'cls.seq_relationship.weight', 'cls.predictions.transform.dense.weight']\n",
            "- This IS expected if you are initializing BertModel from the checkpoint of a model trained on another task or with another architecture (e.g. initializing a BertForSequenceClassification model from a BertForPreTraining model).\n",
            "- This IS NOT expected if you are initializing BertModel from the checkpoint of a model that you expect to be exactly identical (initializing a BertForSequenceClassification model from a BertForSequenceClassification model).\n"
          ]
        }
      ]
    },
    {
      "cell_type": "code",
      "metadata": {
        "colab": {
          "base_uri": "https://localhost:8080/"
        },
        "id": "-FSuNeecW4t0",
        "outputId": "dcaa3126-c8a5-4c0d-953d-8d3b5b31b2f1"
      },
      "source": [
        "from tqdm import tqdm\n",
        "def train_epoch(model,data_loader,loss_fn,optimizer,device,scheduler,n_examples):\n",
        "\n",
        "  batch_time = AverageMeter()     \n",
        "  data_time = AverageMeter()      \n",
        "  losses = AverageMeter()         \n",
        "  accuracies = AverageMeter()\n",
        "  f1_accuracies = AverageMeter()\n",
        "  \n",
        "  sent_count = AverageMeter()   \n",
        "    \n",
        "\n",
        "  start = end = time.time()\n",
        "\n",
        "  model = model.train()\n",
        "  correct_predictions = 0\n",
        "  for step,d in enumerate(data_loader):\n",
        "    data_time.update(time.time() - end)\n",
        "    batch_size = d[\"input_ids\"].size(0) \n",
        "\n",
        "    input_ids = d[\"input_ids\"].to(device)\n",
        "    attention_mask = d[\"attention_mask\"].to(device)\n",
        "    targets = d[\"targets\"].to(device)\n",
        "    outputs = model(\n",
        "      input_ids=input_ids,\n",
        "      attention_mask=attention_mask\n",
        "    )\n",
        "    _, preds = torch.max(outputs, dim=1)\n",
        "    loss = loss_fn(outputs, targets)\n",
        "    correct_predictions += torch.sum(preds == targets)\n",
        "    losses.update(loss.item(), batch_size)\n",
        "    loss.backward()\n",
        "    nn.utils.clip_grad_norm_(model.parameters(), max_norm=1.0)\n",
        "    optimizer.step()\n",
        "    scheduler.step()\n",
        "    optimizer.zero_grad()\n",
        "\n",
        "    batch_time.update(time.time() - end)\n",
        "    end = time.time()\n",
        "\n",
        "    sent_count.update(batch_size)\n",
        "    if step % 4 == 0 or step == (len(data_loader)-1):\n",
        "                acc,f1_acc = calc_review_acc(outputs, targets)\n",
        "                accuracies.update(acc, batch_size)\n",
        "                f1_accuracies.update(f1_acc, batch_size)\n",
        "\n",
        "                \n",
        "                print('Epoch: [{0}][{1}/{2}] '\n",
        "                      'Data {data_time.val:.3f} ({data_time.avg:.3f}) '\n",
        "                      'Elapsed {remain:s} '\n",
        "                      'Loss: {loss.val:.3f}({loss.avg:.3f}) '\n",
        "                      'Acc: {acc.val:.3f}({acc.avg:.3f}) '   \n",
        "                      'f1_Acc: {f1_acc.val:.3f}({f1_acc.avg:.3f}) '           \n",
        "                      'sent/s {sent_s:.0f} '\n",
        "                      .format(\n",
        "                      epoch, step+1, len(data_loader),\n",
        "                      data_time=data_time, loss=losses,\n",
        "                      acc=accuracies,\n",
        "                      f1_acc=f1_accuracies,\n",
        "                      remain=timeSince(start, float(step+1)/len(data_loader)),\n",
        "                      sent_s=sent_count.avg/batch_time.avg\n",
        "                      ))\n",
        "\n",
        "  return correct_predictions.double() / n_examples, losses.avg\n",
        "\n",
        "def validate(model,data_loader,loss_fn,optimizer,device,scheduler,n_examples):\n",
        "  model = model.eval()\n",
        "  losses = []\n",
        "  correct_predictions = 0\n",
        "  for d in tqdm(data_loader):\n",
        "    input_ids = d[\"input_ids\"].to(device)\n",
        "    attention_mask = d[\"attention_mask\"].to(device)\n",
        "    targets = d[\"targets\"].to(device)\n",
        "    outputs = model(\n",
        "      input_ids=input_ids,\n",
        "      attention_mask=attention_mask\n",
        "    )\n",
        "    _, preds = torch.max(outputs, dim=1)\n",
        "    loss = loss_fn(outputs, targets)\n",
        "    correct_predictions += torch.sum(preds == targets)\n",
        "    losses.append(loss.item())\n",
        "    nn.utils.clip_grad_norm_(model.parameters(), max_norm=1.0)\n",
        "  return correct_predictions.double() / n_examples, np.mean(losses)\n",
        "\n",
        "for epoch in range(EPOCHS):\n",
        "  print('-' * 10)\n",
        "  print(f'Epoch {epoch}/{EPOCHS-1}')\n",
        "  print('-' * 10)\n",
        "  train_acc, train_loss = train_epoch(\n",
        "    model_bert_kor_base,\n",
        "    train_data_loader,\n",
        "    loss_fn,\n",
        "    optimizer,\n",
        "    device,\n",
        "    scheduler,\n",
        "    len(train)\n",
        "  )\n",
        "  validate_acc, validate_loss = validate(\n",
        "    model_bert_kor_base,\n",
        "    valid_data_loader,\n",
        "    loss_fn,\n",
        "    optimizer,\n",
        "    device,\n",
        "    scheduler,\n",
        "    len(valid)\n",
        "  )\n",
        "  print(f'Train loss {train_loss} accuracy {train_acc}')\n",
        "  print(f'Validate loss {validate_loss} accuracy {validate_acc}')\n",
        "  print(\"\")\n",
        "  print(\"\")\n"
      ],
      "execution_count": null,
      "outputs": [
        {
          "output_type": "stream",
          "name": "stdout",
          "text": [
            "----------\n",
            "Epoch 0/29\n",
            "----------\n",
            "Epoch: [0][1/11] Data 0.237 (0.237) Elapsed 0m 0s (remain 0m 9s) Loss: 3.485(3.485) Acc: 0.008(0.008) f1_Acc: 0.001(0.001) sent/s 134 \n",
            "Epoch: [0][5/11] Data 0.002 (0.050) Elapsed 0m 3s (remain 0m 4s) Loss: 3.446(3.493) Acc: 0.000(0.004) f1_Acc: 0.000(0.000) sent/s 171 \n",
            "Epoch: [0][9/11] Data 0.002 (0.029) Elapsed 0m 6s (remain 0m 1s) Loss: 3.374(3.450) Acc: 0.016(0.008) f1_Acc: 0.002(0.001) sent/s 176 \n",
            "Epoch: [0][11/11] Data 0.002 (0.025) Elapsed 0m 7s (remain 0m 0s) Loss: 3.710(3.437) Acc: 0.000(0.008) f1_Acc: 0.000(0.001) sent/s 175 \n"
          ]
        },
        {
          "output_type": "stream",
          "name": "stderr",
          "text": [
            "100%|██████████| 2/2 [00:00<00:00,  3.67it/s]"
          ]
        },
        {
          "output_type": "stream",
          "name": "stdout",
          "text": [
            "Train loss 3.4367865489537186 accuracy 0.015600624024960999\n",
            "Validate loss 3.2959619760513306 accuracy 0.1958041958041958\n",
            "\n",
            "\n",
            "----------\n",
            "Epoch 1/29\n",
            "----------\n"
          ]
        },
        {
          "output_type": "stream",
          "name": "stderr",
          "text": [
            "\n"
          ]
        },
        {
          "output_type": "stream",
          "name": "stdout",
          "text": [
            "Epoch: [1][1/11] Data 0.238 (0.238) Elapsed 0m 0s (remain 0m 9s) Loss: 3.177(3.177) Acc: 0.133(0.133) f1_Acc: 0.025(0.025) sent/s 137 \n",
            "Epoch: [1][5/11] Data 0.002 (0.051) Elapsed 0m 3s (remain 0m 4s) Loss: 3.084(3.158) Acc: 0.172(0.152) f1_Acc: 0.021(0.023) sent/s 171 \n",
            "Epoch: [1][9/11] Data 0.002 (0.030) Elapsed 0m 6s (remain 0m 1s) Loss: 3.011(3.098) Acc: 0.164(0.156) f1_Acc: 0.011(0.019) sent/s 176 \n",
            "Epoch: [1][11/11] Data 0.002 (0.026) Elapsed 0m 7s (remain 0m 0s) Loss: 2.828(3.078) Acc: 0.000(0.155) f1_Acc: 0.000(0.019) sent/s 176 \n"
          ]
        },
        {
          "output_type": "stream",
          "name": "stderr",
          "text": [
            "100%|██████████| 2/2 [00:00<00:00,  3.73it/s]"
          ]
        },
        {
          "output_type": "stream",
          "name": "stdout",
          "text": [
            "Train loss 3.0777090945965413 accuracy 0.15366614664586584\n",
            "Validate loss 3.125460624694824 accuracy 0.23776223776223776\n",
            "\n",
            "\n",
            "----------\n",
            "Epoch 2/29\n",
            "----------\n"
          ]
        },
        {
          "output_type": "stream",
          "name": "stderr",
          "text": [
            "\n"
          ]
        },
        {
          "output_type": "stream",
          "name": "stdout",
          "text": [
            "Epoch: [2][1/11] Data 0.241 (0.241) Elapsed 0m 0s (remain 0m 9s) Loss: 2.867(2.867) Acc: 0.172(0.172) f1_Acc: 0.034(0.034) sent/s 137 \n",
            "Epoch: [2][5/11] Data 0.000 (0.051) Elapsed 0m 3s (remain 0m 4s) Loss: 2.861(2.903) Acc: 0.234(0.203) f1_Acc: 0.056(0.045) sent/s 171 \n",
            "Epoch: [2][9/11] Data 0.000 (0.030) Elapsed 0m 6s (remain 0m 1s) Loss: 2.581(2.798) Acc: 0.391(0.266) f1_Acc: 0.095(0.062) sent/s 176 \n",
            "Epoch: [2][11/11] Data 0.002 (0.026) Elapsed 0m 7s (remain 0m 0s) Loss: 2.381(2.780) Acc: 0.500(0.267) f1_Acc: 0.333(0.063) sent/s 176 \n"
          ]
        },
        {
          "output_type": "stream",
          "name": "stderr",
          "text": [
            "100%|██████████| 2/2 [00:00<00:00,  3.71it/s]"
          ]
        },
        {
          "output_type": "stream",
          "name": "stdout",
          "text": [
            "Train loss 2.779718993048586 accuracy 0.2761310452418097\n",
            "Validate loss 2.7413257360458374 accuracy 0.35664335664335667\n",
            "\n",
            "\n",
            "----------\n",
            "Epoch 3/29\n",
            "----------\n"
          ]
        },
        {
          "output_type": "stream",
          "name": "stderr",
          "text": [
            "\n"
          ]
        },
        {
          "output_type": "stream",
          "name": "stdout",
          "text": [
            "Epoch: [3][1/11] Data 0.243 (0.243) Elapsed 0m 0s (remain 0m 9s) Loss: 2.689(2.689) Acc: 0.281(0.281) f1_Acc: 0.071(0.071) sent/s 136 \n",
            "Epoch: [3][5/11] Data 0.002 (0.052) Elapsed 0m 3s (remain 0m 4s) Loss: 2.432(2.530) Acc: 0.359(0.320) f1_Acc: 0.100(0.085) sent/s 172 \n",
            "Epoch: [3][9/11] Data 0.002 (0.030) Elapsed 0m 6s (remain 0m 1s) Loss: 2.152(2.416) Acc: 0.453(0.365) f1_Acc: 0.136(0.102) sent/s 177 \n",
            "Epoch: [3][11/11] Data 0.002 (0.026) Elapsed 0m 7s (remain 0m 0s) Loss: 2.302(2.374) Acc: 0.500(0.365) f1_Acc: 0.333(0.103) sent/s 176 \n"
          ]
        },
        {
          "output_type": "stream",
          "name": "stderr",
          "text": [
            "100%|██████████| 2/2 [00:00<00:00,  3.75it/s]"
          ]
        },
        {
          "output_type": "stream",
          "name": "stdout",
          "text": [
            "Train loss 2.373577809742944 accuracy 0.41107644305772234\n",
            "Validate loss 2.2471266984939575 accuracy 0.4965034965034965\n",
            "\n",
            "\n",
            "----------\n",
            "Epoch 4/29\n",
            "----------\n"
          ]
        },
        {
          "output_type": "stream",
          "name": "stderr",
          "text": [
            "\n"
          ]
        },
        {
          "output_type": "stream",
          "name": "stdout",
          "text": [
            "Epoch: [4][1/11] Data 0.239 (0.239) Elapsed 0m 0s (remain 0m 9s) Loss: 2.158(2.158) Acc: 0.445(0.445) f1_Acc: 0.156(0.156) sent/s 137 \n",
            "Epoch: [4][5/11] Data 0.003 (0.051) Elapsed 0m 3s (remain 0m 4s) Loss: 1.831(1.956) Acc: 0.508(0.477) f1_Acc: 0.131(0.144) sent/s 171 \n",
            "Epoch: [4][9/11] Data 0.002 (0.030) Elapsed 0m 6s (remain 0m 1s) Loss: 1.596(1.900) Acc: 0.633(0.529) f1_Acc: 0.266(0.184) sent/s 176 \n",
            "Epoch: [4][11/11] Data 0.002 (0.026) Elapsed 0m 7s (remain 0m 0s) Loss: 0.577(1.880) Acc: 1.000(0.531) f1_Acc: 1.000(0.189) sent/s 176 \n"
          ]
        },
        {
          "output_type": "stream",
          "name": "stderr",
          "text": [
            "100%|██████████| 2/2 [00:00<00:00,  3.67it/s]"
          ]
        },
        {
          "output_type": "stream",
          "name": "stdout",
          "text": [
            "Train loss 1.880099973235971 accuracy 0.531201248049922\n",
            "Validate loss 1.841935634613037 accuracy 0.6083916083916084\n",
            "\n",
            "\n",
            "----------\n",
            "Epoch 5/29\n",
            "----------\n"
          ]
        },
        {
          "output_type": "stream",
          "name": "stderr",
          "text": [
            "\n"
          ]
        },
        {
          "output_type": "stream",
          "name": "stdout",
          "text": [
            "Epoch: [5][1/11] Data 0.232 (0.232) Elapsed 0m 0s (remain 0m 9s) Loss: 1.562(1.562) Acc: 0.625(0.625) f1_Acc: 0.350(0.350) sent/s 139 \n",
            "Epoch: [5][5/11] Data 0.002 (0.049) Elapsed 0m 3s (remain 0m 4s) Loss: 1.307(1.515) Acc: 0.703(0.664) f1_Acc: 0.332(0.341) sent/s 173 \n",
            "Epoch: [5][9/11] Data 0.002 (0.029) Elapsed 0m 6s (remain 0m 1s) Loss: 1.368(1.470) Acc: 0.688(0.672) f1_Acc: 0.414(0.365) sent/s 177 \n",
            "Epoch: [5][11/11] Data 0.002 (0.025) Elapsed 0m 7s (remain 0m 0s) Loss: 2.181(1.449) Acc: 0.500(0.671) f1_Acc: 0.333(0.365) sent/s 176 \n"
          ]
        },
        {
          "output_type": "stream",
          "name": "stderr",
          "text": [
            "100%|██████████| 2/2 [00:00<00:00,  3.63it/s]"
          ]
        },
        {
          "output_type": "stream",
          "name": "stdout",
          "text": [
            "Train loss 1.4487543771865774 accuracy 0.6739469578783152\n",
            "Validate loss 1.3812206387519836 accuracy 0.7062937062937062\n",
            "\n",
            "\n",
            "----------\n",
            "Epoch 6/29\n",
            "----------\n"
          ]
        },
        {
          "output_type": "stream",
          "name": "stderr",
          "text": [
            "\n"
          ]
        },
        {
          "output_type": "stream",
          "name": "stdout",
          "text": [
            "Epoch: [6][1/11] Data 0.243 (0.243) Elapsed 0m 0s (remain 0m 9s) Loss: 1.066(1.066) Acc: 0.820(0.820) f1_Acc: 0.487(0.487) sent/s 137 \n",
            "Epoch: [6][5/11] Data 0.003 (0.052) Elapsed 0m 3s (remain 0m 4s) Loss: 1.167(1.116) Acc: 0.758(0.789) f1_Acc: 0.480(0.483) sent/s 172 \n",
            "Epoch: [6][9/11] Data 0.002 (0.030) Elapsed 0m 6s (remain 0m 1s) Loss: 0.950(1.087) Acc: 0.781(0.786) f1_Acc: 0.423(0.463) sent/s 176 \n",
            "Epoch: [6][11/11] Data 0.002 (0.026) Elapsed 0m 7s (remain 0m 0s) Loss: 0.848(1.097) Acc: 1.000(0.788) f1_Acc: 1.000(0.466) sent/s 176 \n"
          ]
        },
        {
          "output_type": "stream",
          "name": "stderr",
          "text": [
            "100%|██████████| 2/2 [00:00<00:00,  3.62it/s]"
          ]
        },
        {
          "output_type": "stream",
          "name": "stdout",
          "text": [
            "Train loss 1.0965844759145134 accuracy 0.7550702028081123\n",
            "Validate loss 1.1035887002944946 accuracy 0.7342657342657343\n",
            "\n",
            "\n",
            "----------\n",
            "Epoch 7/29\n",
            "----------\n"
          ]
        },
        {
          "output_type": "stream",
          "name": "stderr",
          "text": [
            "\n"
          ]
        },
        {
          "output_type": "stream",
          "name": "stdout",
          "text": [
            "Epoch: [7][1/11] Data 0.253 (0.253) Elapsed 0m 0s (remain 0m 9s) Loss: 0.997(0.997) Acc: 0.781(0.781) f1_Acc: 0.424(0.424) sent/s 135 \n",
            "Epoch: [7][5/11] Data 0.002 (0.054) Elapsed 0m 3s (remain 0m 4s) Loss: 0.948(0.924) Acc: 0.805(0.793) f1_Acc: 0.571(0.497) sent/s 171 \n",
            "Epoch: [7][9/11] Data 0.002 (0.031) Elapsed 0m 6s (remain 0m 1s) Loss: 0.967(0.893) Acc: 0.789(0.792) f1_Acc: 0.528(0.507) sent/s 176 \n",
            "Epoch: [7][11/11] Data 0.002 (0.027) Elapsed 0m 7s (remain 0m 0s) Loss: 0.308(0.885) Acc: 1.000(0.793) f1_Acc: 1.000(0.510) sent/s 176 \n"
          ]
        },
        {
          "output_type": "stream",
          "name": "stderr",
          "text": [
            "100%|██████████| 2/2 [00:00<00:00,  3.63it/s]"
          ]
        },
        {
          "output_type": "stream",
          "name": "stdout",
          "text": [
            "Train loss 0.8846246800073038 accuracy 0.8096723868954758\n",
            "Validate loss 0.9230117499828339 accuracy 0.8391608391608392\n",
            "\n",
            "\n",
            "----------\n",
            "Epoch 8/29\n",
            "----------\n"
          ]
        },
        {
          "output_type": "stream",
          "name": "stderr",
          "text": [
            "\n"
          ]
        },
        {
          "output_type": "stream",
          "name": "stdout",
          "text": [
            "Epoch: [8][1/11] Data 0.257 (0.257) Elapsed 0m 0s (remain 0m 9s) Loss: 0.699(0.699) Acc: 0.883(0.883) f1_Acc: 0.690(0.690) sent/s 134 \n",
            "Epoch: [8][5/11] Data 0.002 (0.054) Elapsed 0m 3s (remain 0m 4s) Loss: 0.660(0.714) Acc: 0.875(0.879) f1_Acc: 0.794(0.742) sent/s 171 \n",
            "Epoch: [8][9/11] Data 0.002 (0.032) Elapsed 0m 6s (remain 0m 1s) Loss: 0.700(0.695) Acc: 0.844(0.867) f1_Acc: 0.725(0.736) sent/s 176 \n",
            "Epoch: [8][11/11] Data 0.002 (0.027) Elapsed 0m 7s (remain 0m 0s) Loss: 1.778(0.684) Acc: 0.500(0.865) f1_Acc: 0.333(0.734) sent/s 176 \n"
          ]
        },
        {
          "output_type": "stream",
          "name": "stderr",
          "text": [
            "100%|██████████| 2/2 [00:00<00:00,  3.62it/s]"
          ]
        },
        {
          "output_type": "stream",
          "name": "stdout",
          "text": [
            "Train loss 0.6838029107883828 accuracy 0.8634945397815913\n",
            "Validate loss 0.8265059888362885 accuracy 0.8391608391608392\n",
            "\n",
            "\n",
            "----------\n",
            "Epoch 9/29\n",
            "----------\n"
          ]
        },
        {
          "output_type": "stream",
          "name": "stderr",
          "text": [
            "\n"
          ]
        },
        {
          "output_type": "stream",
          "name": "stdout",
          "text": [
            "Epoch: [9][1/11] Data 0.250 (0.250) Elapsed 0m 0s (remain 0m 9s) Loss: 0.680(0.680) Acc: 0.891(0.891) f1_Acc: 0.750(0.750) sent/s 135 \n",
            "Epoch: [9][5/11] Data 0.003 (0.053) Elapsed 0m 3s (remain 0m 4s) Loss: 0.493(0.539) Acc: 0.906(0.898) f1_Acc: 0.779(0.765) sent/s 171 \n",
            "Epoch: [9][9/11] Data 0.002 (0.031) Elapsed 0m 6s (remain 0m 1s) Loss: 0.608(0.544) Acc: 0.914(0.904) f1_Acc: 0.801(0.777) sent/s 176 \n",
            "Epoch: [9][11/11] Data 0.002 (0.026) Elapsed 0m 7s (remain 0m 0s) Loss: 0.345(0.538) Acc: 1.000(0.904) f1_Acc: 1.000(0.778) sent/s 176 \n"
          ]
        },
        {
          "output_type": "stream",
          "name": "stderr",
          "text": [
            "100%|██████████| 2/2 [00:00<00:00,  3.56it/s]"
          ]
        },
        {
          "output_type": "stream",
          "name": "stdout",
          "text": [
            "Train loss 0.538480505881927 accuracy 0.9087363494539782\n",
            "Validate loss 0.7105613648891449 accuracy 0.8741258741258742\n",
            "\n",
            "\n",
            "----------\n",
            "Epoch 10/29\n",
            "----------\n"
          ]
        },
        {
          "output_type": "stream",
          "name": "stderr",
          "text": [
            "\n"
          ]
        },
        {
          "output_type": "stream",
          "name": "stdout",
          "text": [
            "Epoch: [10][1/11] Data 0.246 (0.246) Elapsed 0m 0s (remain 0m 9s) Loss: 0.502(0.502) Acc: 0.914(0.914) f1_Acc: 0.766(0.766) sent/s 136 \n",
            "Epoch: [10][5/11] Data 0.000 (0.052) Elapsed 0m 3s (remain 0m 4s) Loss: 0.347(0.437) Acc: 0.938(0.926) f1_Acc: 0.845(0.806) sent/s 172 \n",
            "Epoch: [10][9/11] Data 0.000 (0.030) Elapsed 0m 6s (remain 0m 1s) Loss: 0.376(0.421) Acc: 0.945(0.932) f1_Acc: 0.885(0.832) sent/s 177 \n",
            "Epoch: [10][11/11] Data 0.002 (0.026) Elapsed 0m 7s (remain 0m 0s) Loss: 0.122(0.423) Acc: 1.000(0.933) f1_Acc: 1.000(0.833) sent/s 176 \n"
          ]
        },
        {
          "output_type": "stream",
          "name": "stderr",
          "text": [
            "100%|██████████| 2/2 [00:00<00:00,  3.52it/s]"
          ]
        },
        {
          "output_type": "stream",
          "name": "stdout",
          "text": [
            "Train loss 0.422963326544081 accuracy 0.9290171606864275\n",
            "Validate loss 0.7801004350185394 accuracy 0.8671328671328671\n",
            "\n",
            "\n",
            "----------\n",
            "Epoch 11/29\n",
            "----------\n"
          ]
        },
        {
          "output_type": "stream",
          "name": "stderr",
          "text": [
            "\n"
          ]
        },
        {
          "output_type": "stream",
          "name": "stdout",
          "text": [
            "Epoch: [11][1/11] Data 0.276 (0.276) Elapsed 0m 0s (remain 0m 9s) Loss: 0.434(0.434) Acc: 0.906(0.906) f1_Acc: 0.852(0.852) sent/s 129 \n",
            "Epoch: [11][5/11] Data 0.002 (0.059) Elapsed 0m 3s (remain 0m 4s) Loss: 0.394(0.393) Acc: 0.922(0.914) f1_Acc: 0.789(0.820) sent/s 169 \n",
            "Epoch: [11][9/11] Data 0.002 (0.034) Elapsed 0m 6s (remain 0m 1s) Loss: 0.267(0.372) Acc: 0.984(0.938) f1_Acc: 0.950(0.864) sent/s 175 \n",
            "Epoch: [11][11/11] Data 0.002 (0.029) Elapsed 0m 7s (remain 0m 0s) Loss: 0.098(0.362) Acc: 1.000(0.938) f1_Acc: 1.000(0.864) sent/s 175 \n"
          ]
        },
        {
          "output_type": "stream",
          "name": "stderr",
          "text": [
            "100%|██████████| 2/2 [00:00<00:00,  3.61it/s]"
          ]
        },
        {
          "output_type": "stream",
          "name": "stdout",
          "text": [
            "Train loss 0.3616469197916724 accuracy 0.9422776911076444\n",
            "Validate loss 0.7198164761066437 accuracy 0.8671328671328671\n",
            "\n",
            "\n",
            "----------\n",
            "Epoch 12/29\n",
            "----------\n"
          ]
        },
        {
          "output_type": "stream",
          "name": "stderr",
          "text": [
            "\n"
          ]
        },
        {
          "output_type": "stream",
          "name": "stdout",
          "text": [
            "Epoch: [12][1/11] Data 0.241 (0.241) Elapsed 0m 0s (remain 0m 9s) Loss: 0.311(0.311) Acc: 0.938(0.938) f1_Acc: 0.851(0.851) sent/s 137 \n",
            "Epoch: [12][5/11] Data 0.005 (0.051) Elapsed 0m 3s (remain 0m 4s) Loss: 0.321(0.304) Acc: 0.961(0.949) f1_Acc: 0.917(0.884) sent/s 172 \n",
            "Epoch: [12][9/11] Data 0.002 (0.029) Elapsed 0m 6s (remain 0m 1s) Loss: 0.257(0.303) Acc: 0.977(0.958) f1_Acc: 0.893(0.887) sent/s 177 \n",
            "Epoch: [12][11/11] Data 0.002 (0.025) Elapsed 0m 7s (remain 0m 0s) Loss: 0.233(0.296) Acc: 1.000(0.959) f1_Acc: 1.000(0.887) sent/s 176 \n"
          ]
        },
        {
          "output_type": "stream",
          "name": "stderr",
          "text": [
            "100%|██████████| 2/2 [00:00<00:00,  3.61it/s]"
          ]
        },
        {
          "output_type": "stream",
          "name": "stdout",
          "text": [
            "Train loss 0.2964740345565466 accuracy 0.9563182527301093\n",
            "Validate loss 0.6143944263458252 accuracy 0.9020979020979021\n",
            "\n",
            "\n",
            "----------\n",
            "Epoch 13/29\n",
            "----------\n"
          ]
        },
        {
          "output_type": "stream",
          "name": "stderr",
          "text": [
            "\n"
          ]
        },
        {
          "output_type": "stream",
          "name": "stdout",
          "text": [
            "Epoch: [13][1/11] Data 0.241 (0.241) Elapsed 0m 0s (remain 0m 9s) Loss: 0.277(0.277) Acc: 0.945(0.945) f1_Acc: 0.821(0.821) sent/s 136 \n",
            "Epoch: [13][5/11] Data 0.000 (0.051) Elapsed 0m 3s (remain 0m 4s) Loss: 0.259(0.253) Acc: 0.977(0.961) f1_Acc: 0.932(0.876) sent/s 171 \n",
            "Epoch: [13][9/11] Data 0.002 (0.030) Elapsed 0m 6s (remain 0m 1s) Loss: 0.230(0.251) Acc: 0.977(0.966) f1_Acc: 0.917(0.890) sent/s 176 \n",
            "Epoch: [13][11/11] Data 0.002 (0.025) Elapsed 0m 7s (remain 0m 0s) Loss: 0.082(0.247) Acc: 1.000(0.966) f1_Acc: 1.000(0.891) sent/s 176 \n"
          ]
        },
        {
          "output_type": "stream",
          "name": "stderr",
          "text": [
            "100%|██████████| 2/2 [00:00<00:00,  3.71it/s]"
          ]
        },
        {
          "output_type": "stream",
          "name": "stdout",
          "text": [
            "Train loss 0.2466540405419241 accuracy 0.9711388455538222\n",
            "Validate loss 0.6704682856798172 accuracy 0.8951048951048951\n",
            "\n",
            "\n",
            "----------\n",
            "Epoch 14/29\n",
            "----------\n"
          ]
        },
        {
          "output_type": "stream",
          "name": "stderr",
          "text": [
            "\n"
          ]
        },
        {
          "output_type": "stream",
          "name": "stdout",
          "text": [
            "Epoch: [14][1/11] Data 0.241 (0.241) Elapsed 0m 0s (remain 0m 9s) Loss: 0.231(0.231) Acc: 0.992(0.992) f1_Acc: 0.987(0.987) sent/s 137 \n",
            "Epoch: [14][5/11] Data 0.004 (0.051) Elapsed 0m 3s (remain 0m 4s) Loss: 0.215(0.239) Acc: 0.977(0.984) f1_Acc: 0.945(0.966) sent/s 171 \n",
            "Epoch: [14][9/11] Data 0.002 (0.030) Elapsed 0m 6s (remain 0m 1s) Loss: 0.212(0.232) Acc: 0.992(0.987) f1_Acc: 0.990(0.974) sent/s 176 \n",
            "Epoch: [14][11/11] Data 0.002 (0.025) Elapsed 0m 7s (remain 0m 0s) Loss: 0.053(0.229) Acc: 1.000(0.987) f1_Acc: 1.000(0.974) sent/s 176 \n"
          ]
        },
        {
          "output_type": "stream",
          "name": "stderr",
          "text": [
            "100%|██████████| 2/2 [00:00<00:00,  3.72it/s]"
          ]
        },
        {
          "output_type": "stream",
          "name": "stdout",
          "text": [
            "Train loss 0.2292697259897654 accuracy 0.9703588143525741\n",
            "Validate loss 0.5279688090085983 accuracy 0.916083916083916\n",
            "\n",
            "\n",
            "----------\n",
            "Epoch 15/29\n",
            "----------\n"
          ]
        },
        {
          "output_type": "stream",
          "name": "stderr",
          "text": [
            "\n"
          ]
        },
        {
          "output_type": "stream",
          "name": "stdout",
          "text": [
            "Epoch: [15][1/11] Data 0.252 (0.252) Elapsed 0m 0s (remain 0m 9s) Loss: 0.158(0.158) Acc: 0.992(0.992) f1_Acc: 0.998(0.998) sent/s 135 \n",
            "Epoch: [15][5/11] Data 0.000 (0.054) Elapsed 0m 3s (remain 0m 4s) Loss: 0.142(0.188) Acc: 0.977(0.984) f1_Acc: 0.966(0.982) sent/s 171 \n",
            "Epoch: [15][9/11] Data 0.002 (0.031) Elapsed 0m 6s (remain 0m 1s) Loss: 0.200(0.180) Acc: 0.992(0.987) f1_Acc: 0.982(0.982) sent/s 176 \n",
            "Epoch: [15][11/11] Data 0.002 (0.027) Elapsed 0m 7s (remain 0m 0s) Loss: 0.136(0.181) Acc: 1.000(0.987) f1_Acc: 1.000(0.982) sent/s 176 \n"
          ]
        },
        {
          "output_type": "stream",
          "name": "stderr",
          "text": [
            "100%|██████████| 2/2 [00:00<00:00,  3.67it/s]"
          ]
        },
        {
          "output_type": "stream",
          "name": "stdout",
          "text": [
            "Train loss 0.18064232521607612 accuracy 0.9789391575663027\n",
            "Validate loss 0.6842426061630249 accuracy 0.8881118881118881\n",
            "\n",
            "\n",
            "----------\n",
            "Epoch 16/29\n",
            "----------\n"
          ]
        },
        {
          "output_type": "stream",
          "name": "stderr",
          "text": [
            "\n"
          ]
        },
        {
          "output_type": "stream",
          "name": "stdout",
          "text": [
            "Epoch: [16][1/11] Data 0.262 (0.262) Elapsed 0m 0s (remain 0m 9s) Loss: 0.244(0.244) Acc: 0.961(0.961) f1_Acc: 0.955(0.955) sent/s 134 \n",
            "Epoch: [16][5/11] Data 0.003 (0.055) Elapsed 0m 3s (remain 0m 4s) Loss: 0.143(0.173) Acc: 1.000(0.980) f1_Acc: 1.000(0.977) sent/s 171 \n",
            "Epoch: [16][9/11] Data 0.002 (0.032) Elapsed 0m 6s (remain 0m 1s) Loss: 0.160(0.165) Acc: 0.969(0.977) f1_Acc: 0.916(0.957) sent/s 176 \n",
            "Epoch: [16][11/11] Data 0.002 (0.027) Elapsed 0m 7s (remain 0m 0s) Loss: 0.187(0.161) Acc: 1.000(0.977) f1_Acc: 1.000(0.957) sent/s 176 \n"
          ]
        },
        {
          "output_type": "stream",
          "name": "stderr",
          "text": [
            "100%|██████████| 2/2 [00:00<00:00,  3.58it/s]"
          ]
        },
        {
          "output_type": "stream",
          "name": "stdout",
          "text": [
            "Train loss 0.16050635745484446 accuracy 0.984399375975039\n",
            "Validate loss 0.5927622020244598 accuracy 0.8951048951048951\n",
            "\n",
            "\n",
            "----------\n",
            "Epoch 17/29\n",
            "----------\n"
          ]
        },
        {
          "output_type": "stream",
          "name": "stderr",
          "text": [
            "\n"
          ]
        },
        {
          "output_type": "stream",
          "name": "stdout",
          "text": [
            "Epoch: [17][1/11] Data 0.233 (0.233) Elapsed 0m 0s (remain 0m 9s) Loss: 0.224(0.224) Acc: 0.969(0.969) f1_Acc: 0.960(0.960) sent/s 138 \n",
            "Epoch: [17][5/11] Data 0.000 (0.050) Elapsed 0m 3s (remain 0m 4s) Loss: 0.123(0.156) Acc: 0.984(0.977) f1_Acc: 0.919(0.939) sent/s 172 \n",
            "Epoch: [17][9/11] Data 0.002 (0.029) Elapsed 0m 6s (remain 0m 1s) Loss: 0.122(0.143) Acc: 0.992(0.982) f1_Acc: 0.988(0.956) sent/s 177 \n",
            "Epoch: [17][11/11] Data 0.002 (0.025) Elapsed 0m 7s (remain 0m 0s) Loss: 0.212(0.140) Acc: 1.000(0.982) f1_Acc: 1.000(0.956) sent/s 176 \n"
          ]
        },
        {
          "output_type": "stream",
          "name": "stderr",
          "text": [
            "100%|██████████| 2/2 [00:00<00:00,  3.67it/s]"
          ]
        },
        {
          "output_type": "stream",
          "name": "stdout",
          "text": [
            "Train loss 0.13969248563469666 accuracy 0.9875195007800313\n",
            "Validate loss 0.650708481669426 accuracy 0.8951048951048951\n",
            "\n",
            "\n",
            "----------\n",
            "Epoch 18/29\n",
            "----------\n"
          ]
        },
        {
          "output_type": "stream",
          "name": "stderr",
          "text": [
            "\n"
          ]
        },
        {
          "output_type": "stream",
          "name": "stdout",
          "text": [
            "Epoch: [18][1/11] Data 0.238 (0.238) Elapsed 0m 0s (remain 0m 9s) Loss: 0.126(0.126) Acc: 0.984(0.984) f1_Acc: 0.969(0.969) sent/s 137 \n",
            "Epoch: [18][5/11] Data 0.003 (0.051) Elapsed 0m 3s (remain 0m 4s) Loss: 0.107(0.108) Acc: 0.992(0.988) f1_Acc: 0.978(0.973) sent/s 172 \n",
            "Epoch: [18][9/11] Data 0.002 (0.030) Elapsed 0m 6s (remain 0m 1s) Loss: 0.079(0.114) Acc: 1.000(0.992) f1_Acc: 1.000(0.982) sent/s 177 \n",
            "Epoch: [18][11/11] Data 0.002 (0.025) Elapsed 0m 7s (remain 0m 0s) Loss: 0.052(0.121) Acc: 1.000(0.992) f1_Acc: 1.000(0.982) sent/s 176 \n"
          ]
        },
        {
          "output_type": "stream",
          "name": "stderr",
          "text": [
            "100%|██████████| 2/2 [00:00<00:00,  3.70it/s]"
          ]
        },
        {
          "output_type": "stream",
          "name": "stdout",
          "text": [
            "Train loss 0.12142129397592195 accuracy 0.9882995319812793\n",
            "Validate loss 0.6257889568805695 accuracy 0.9020979020979021\n",
            "\n",
            "\n",
            "----------\n",
            "Epoch 19/29\n",
            "----------\n"
          ]
        },
        {
          "output_type": "stream",
          "name": "stderr",
          "text": [
            "\n"
          ]
        },
        {
          "output_type": "stream",
          "name": "stdout",
          "text": [
            "Epoch: [19][1/11] Data 0.245 (0.245) Elapsed 0m 0s (remain 0m 9s) Loss: 0.103(0.103) Acc: 1.000(1.000) f1_Acc: 1.000(1.000) sent/s 136 \n",
            "Epoch: [19][5/11] Data 0.002 (0.052) Elapsed 0m 3s (remain 0m 4s) Loss: 0.174(0.132) Acc: 0.977(0.988) f1_Acc: 0.953(0.976) sent/s 171 \n",
            "Epoch: [19][9/11] Data 0.002 (0.031) Elapsed 0m 6s (remain 0m 1s) Loss: 0.088(0.112) Acc: 0.992(0.990) f1_Acc: 0.982(0.978) sent/s 176 \n",
            "Epoch: [19][11/11] Data 0.002 (0.026) Elapsed 0m 7s (remain 0m 0s) Loss: 0.033(0.108) Acc: 1.000(0.990) f1_Acc: 1.000(0.979) sent/s 176 \n"
          ]
        },
        {
          "output_type": "stream",
          "name": "stderr",
          "text": [
            "100%|██████████| 2/2 [00:00<00:00,  3.65it/s]"
          ]
        },
        {
          "output_type": "stream",
          "name": "stdout",
          "text": [
            "Train loss 0.1078043208688544 accuracy 0.9906396255850234\n",
            "Validate loss 0.6488160192966461 accuracy 0.9020979020979021\n",
            "\n",
            "\n",
            "----------\n",
            "Epoch 20/29\n",
            "----------\n"
          ]
        },
        {
          "output_type": "stream",
          "name": "stderr",
          "text": [
            "\n"
          ]
        },
        {
          "output_type": "stream",
          "name": "stdout",
          "text": [
            "Epoch: [20][1/11] Data 0.246 (0.246) Elapsed 0m 0s (remain 0m 9s) Loss: 0.104(0.104) Acc: 0.984(0.984) f1_Acc: 0.980(0.980) sent/s 136 \n",
            "Epoch: [20][5/11] Data 0.000 (0.052) Elapsed 0m 3s (remain 0m 4s) Loss: 0.102(0.116) Acc: 1.000(0.992) f1_Acc: 1.000(0.990) sent/s 171 \n",
            "Epoch: [20][9/11] Data 0.002 (0.031) Elapsed 0m 6s (remain 0m 1s) Loss: 0.110(0.109) Acc: 0.984(0.990) f1_Acc: 0.963(0.981) sent/s 176 \n",
            "Epoch: [20][11/11] Data 0.002 (0.026) Elapsed 0m 7s (remain 0m 0s) Loss: 0.395(0.106) Acc: 1.000(0.990) f1_Acc: 1.000(0.981) sent/s 176 \n"
          ]
        },
        {
          "output_type": "stream",
          "name": "stderr",
          "text": [
            "100%|██████████| 2/2 [00:00<00:00,  3.61it/s]"
          ]
        },
        {
          "output_type": "stream",
          "name": "stdout",
          "text": [
            "Train loss 0.1057203844445358 accuracy 0.9914196567862715\n",
            "Validate loss 0.621804267168045 accuracy 0.8881118881118881\n",
            "\n",
            "\n",
            "----------\n",
            "Epoch 21/29\n",
            "----------\n"
          ]
        },
        {
          "output_type": "stream",
          "name": "stderr",
          "text": [
            "\n"
          ]
        },
        {
          "output_type": "stream",
          "name": "stdout",
          "text": [
            "Epoch: [21][1/11] Data 0.225 (0.225) Elapsed 0m 0s (remain 0m 9s) Loss: 0.118(0.118) Acc: 0.984(0.984) f1_Acc: 0.980(0.980) sent/s 140 \n",
            "Epoch: [21][5/11] Data 0.004 (0.048) Elapsed 0m 3s (remain 0m 4s) Loss: 0.116(0.096) Acc: 0.984(0.984) f1_Acc: 0.984(0.982) sent/s 172 \n",
            "Epoch: [21][9/11] Data 0.002 (0.028) Elapsed 0m 6s (remain 0m 1s) Loss: 0.150(0.096) Acc: 0.977(0.982) f1_Acc: 0.969(0.978) sent/s 177 \n",
            "Epoch: [21][11/11] Data 0.002 (0.024) Elapsed 0m 7s (remain 0m 0s) Loss: 0.291(0.096) Acc: 1.000(0.982) f1_Acc: 1.000(0.978) sent/s 177 \n"
          ]
        },
        {
          "output_type": "stream",
          "name": "stderr",
          "text": [
            "100%|██████████| 2/2 [00:00<00:00,  3.67it/s]"
          ]
        },
        {
          "output_type": "stream",
          "name": "stdout",
          "text": [
            "Train loss 0.0959028184134949 accuracy 0.9914196567862715\n",
            "Validate loss 0.6311563104391098 accuracy 0.8951048951048951\n",
            "\n",
            "\n",
            "----------\n",
            "Epoch 22/29\n",
            "----------\n"
          ]
        },
        {
          "output_type": "stream",
          "name": "stderr",
          "text": [
            "\n"
          ]
        },
        {
          "output_type": "stream",
          "name": "stdout",
          "text": [
            "Epoch: [22][1/11] Data 0.243 (0.243) Elapsed 0m 0s (remain 0m 9s) Loss: 0.098(0.098) Acc: 0.992(0.992) f1_Acc: 0.993(0.993) sent/s 137 \n",
            "Epoch: [22][5/11] Data 0.003 (0.052) Elapsed 0m 3s (remain 0m 4s) Loss: 0.078(0.084) Acc: 0.992(0.992) f1_Acc: 0.990(0.992) sent/s 172 \n",
            "Epoch: [22][9/11] Data 0.002 (0.030) Elapsed 0m 6s (remain 0m 1s) Loss: 0.090(0.084) Acc: 0.992(0.992) f1_Acc: 0.964(0.982) sent/s 176 \n",
            "Epoch: [22][11/11] Data 0.002 (0.026) Elapsed 0m 7s (remain 0m 0s) Loss: 0.138(0.084) Acc: 1.000(0.992) f1_Acc: 1.000(0.982) sent/s 176 \n"
          ]
        },
        {
          "output_type": "stream",
          "name": "stderr",
          "text": [
            "100%|██████████| 2/2 [00:00<00:00,  3.66it/s]"
          ]
        },
        {
          "output_type": "stream",
          "name": "stdout",
          "text": [
            "Train loss 0.08393798010676588 accuracy 0.9953198127925117\n",
            "Validate loss 0.6079542636871338 accuracy 0.8951048951048951\n",
            "\n",
            "\n",
            "----------\n",
            "Epoch 23/29\n",
            "----------\n"
          ]
        },
        {
          "output_type": "stream",
          "name": "stderr",
          "text": [
            "\n"
          ]
        },
        {
          "output_type": "stream",
          "name": "stdout",
          "text": [
            "Epoch: [23][1/11] Data 0.243 (0.243) Elapsed 0m 0s (remain 0m 9s) Loss: 0.089(0.089) Acc: 0.992(0.992) f1_Acc: 0.995(0.995) sent/s 136 \n",
            "Epoch: [23][5/11] Data 0.003 (0.051) Elapsed 0m 3s (remain 0m 4s) Loss: 0.078(0.083) Acc: 0.992(0.992) f1_Acc: 0.957(0.976) sent/s 172 \n",
            "Epoch: [23][9/11] Data 0.002 (0.030) Elapsed 0m 6s (remain 0m 1s) Loss: 0.070(0.078) Acc: 1.000(0.995) f1_Acc: 1.000(0.984) sent/s 177 \n",
            "Epoch: [23][11/11] Data 0.002 (0.026) Elapsed 0m 7s (remain 0m 0s) Loss: 0.094(0.078) Acc: 1.000(0.995) f1_Acc: 1.000(0.984) sent/s 176 \n"
          ]
        },
        {
          "output_type": "stream",
          "name": "stderr",
          "text": [
            "100%|██████████| 2/2 [00:00<00:00,  3.70it/s]"
          ]
        },
        {
          "output_type": "stream",
          "name": "stdout",
          "text": [
            "Train loss 0.07839714481194567 accuracy 0.9953198127925117\n",
            "Validate loss 0.6142073571681976 accuracy 0.9020979020979021\n",
            "\n",
            "\n",
            "----------\n",
            "Epoch 24/29\n",
            "----------\n"
          ]
        },
        {
          "output_type": "stream",
          "name": "stderr",
          "text": [
            "\n"
          ]
        },
        {
          "output_type": "stream",
          "name": "stdout",
          "text": [
            "Epoch: [24][1/11] Data 0.226 (0.226) Elapsed 0m 0s (remain 0m 9s) Loss: 0.053(0.053) Acc: 1.000(1.000) f1_Acc: 1.000(1.000) sent/s 139 \n",
            "Epoch: [24][5/11] Data 0.006 (0.049) Elapsed 0m 3s (remain 0m 4s) Loss: 0.086(0.071) Acc: 0.992(0.996) f1_Acc: 0.959(0.979) sent/s 172 \n",
            "Epoch: [24][9/11] Data 0.002 (0.029) Elapsed 0m 6s (remain 0m 1s) Loss: 0.061(0.075) Acc: 1.000(0.997) f1_Acc: 1.000(0.986) sent/s 177 \n",
            "Epoch: [24][11/11] Data 0.002 (0.025) Elapsed 0m 7s (remain 0m 0s) Loss: 0.024(0.075) Acc: 1.000(0.997) f1_Acc: 1.000(0.986) sent/s 176 \n"
          ]
        },
        {
          "output_type": "stream",
          "name": "stderr",
          "text": [
            "100%|██████████| 2/2 [00:00<00:00,  3.59it/s]"
          ]
        },
        {
          "output_type": "stream",
          "name": "stdout",
          "text": [
            "Train loss 0.07461473851663739 accuracy 0.9968798751950079\n",
            "Validate loss 0.6223267763853073 accuracy 0.9020979020979021\n",
            "\n",
            "\n",
            "----------\n",
            "Epoch 25/29\n",
            "----------\n"
          ]
        },
        {
          "output_type": "stream",
          "name": "stderr",
          "text": [
            "\n"
          ]
        },
        {
          "output_type": "stream",
          "name": "stdout",
          "text": [
            "Epoch: [25][1/11] Data 0.240 (0.240) Elapsed 0m 0s (remain 0m 9s) Loss: 0.065(0.065) Acc: 0.992(0.992) f1_Acc: 0.960(0.960) sent/s 136 \n",
            "Epoch: [25][5/11] Data 0.004 (0.051) Elapsed 0m 3s (remain 0m 4s) Loss: 0.066(0.067) Acc: 1.000(0.996) f1_Acc: 1.000(0.980) sent/s 171 \n",
            "Epoch: [25][9/11] Data 0.002 (0.030) Elapsed 0m 6s (remain 0m 1s) Loss: 0.063(0.075) Acc: 1.000(0.997) f1_Acc: 1.000(0.987) sent/s 176 \n",
            "Epoch: [25][11/11] Data 0.002 (0.025) Elapsed 0m 7s (remain 0m 0s) Loss: 0.029(0.074) Acc: 1.000(0.997) f1_Acc: 1.000(0.987) sent/s 176 \n"
          ]
        },
        {
          "output_type": "stream",
          "name": "stderr",
          "text": [
            "100%|██████████| 2/2 [00:00<00:00,  3.59it/s]"
          ]
        },
        {
          "output_type": "stream",
          "name": "stdout",
          "text": [
            "Train loss 0.07411646605258612 accuracy 0.9945397815912637\n",
            "Validate loss 0.6166520714759827 accuracy 0.9020979020979021\n",
            "\n",
            "\n",
            "----------\n",
            "Epoch 26/29\n",
            "----------\n"
          ]
        },
        {
          "output_type": "stream",
          "name": "stderr",
          "text": [
            "\n"
          ]
        },
        {
          "output_type": "stream",
          "name": "stdout",
          "text": [
            "Epoch: [26][1/11] Data 0.244 (0.244) Elapsed 0m 0s (remain 0m 9s) Loss: 0.090(0.090) Acc: 0.992(0.992) f1_Acc: 0.981(0.981) sent/s 136 \n",
            "Epoch: [26][5/11] Data 0.000 (0.052) Elapsed 0m 3s (remain 0m 4s) Loss: 0.057(0.080) Acc: 1.000(0.996) f1_Acc: 1.000(0.990) sent/s 171 \n",
            "Epoch: [26][9/11] Data 0.000 (0.030) Elapsed 0m 6s (remain 0m 1s) Loss: 0.083(0.074) Acc: 0.992(0.995) f1_Acc: 0.986(0.989) sent/s 177 \n",
            "Epoch: [26][11/11] Data 0.002 (0.026) Elapsed 0m 7s (remain 0m 0s) Loss: 0.352(0.073) Acc: 1.000(0.995) f1_Acc: 1.000(0.989) sent/s 176 \n"
          ]
        },
        {
          "output_type": "stream",
          "name": "stderr",
          "text": [
            "100%|██████████| 2/2 [00:00<00:00,  3.69it/s]"
          ]
        },
        {
          "output_type": "stream",
          "name": "stdout",
          "text": [
            "Train loss 0.0730600384021884 accuracy 0.9960998439937598\n",
            "Validate loss 0.62823286652565 accuracy 0.9020979020979021\n",
            "\n",
            "\n",
            "----------\n",
            "Epoch 27/29\n",
            "----------\n"
          ]
        },
        {
          "output_type": "stream",
          "name": "stderr",
          "text": [
            "\n"
          ]
        },
        {
          "output_type": "stream",
          "name": "stdout",
          "text": [
            "Epoch: [27][1/11] Data 0.233 (0.233) Elapsed 0m 0s (remain 0m 9s) Loss: 0.078(0.078) Acc: 0.992(0.992) f1_Acc: 0.990(0.990) sent/s 138 \n",
            "Epoch: [27][5/11] Data 0.002 (0.050) Elapsed 0m 3s (remain 0m 4s) Loss: 0.070(0.070) Acc: 0.992(0.992) f1_Acc: 0.992(0.991) sent/s 172 \n",
            "Epoch: [27][9/11] Data 0.002 (0.029) Elapsed 0m 6s (remain 0m 1s) Loss: 0.053(0.070) Acc: 1.000(0.995) f1_Acc: 1.000(0.994) sent/s 177 \n",
            "Epoch: [27][11/11] Data 0.002 (0.025) Elapsed 0m 7s (remain 0m 0s) Loss: 0.013(0.071) Acc: 1.000(0.995) f1_Acc: 1.000(0.994) sent/s 176 \n"
          ]
        },
        {
          "output_type": "stream",
          "name": "stderr",
          "text": [
            "100%|██████████| 2/2 [00:00<00:00,  3.67it/s]"
          ]
        },
        {
          "output_type": "stream",
          "name": "stdout",
          "text": [
            "Train loss 0.07059939095224493 accuracy 0.9945397815912637\n",
            "Validate loss 0.6317608654499054 accuracy 0.9020979020979021\n",
            "\n",
            "\n",
            "----------\n",
            "Epoch 28/29\n",
            "----------\n"
          ]
        },
        {
          "output_type": "stream",
          "name": "stderr",
          "text": [
            "\n"
          ]
        },
        {
          "output_type": "stream",
          "name": "stdout",
          "text": [
            "Epoch: [28][1/11] Data 0.236 (0.236) Elapsed 0m 0s (remain 0m 9s) Loss: 0.076(0.076) Acc: 0.992(0.992) f1_Acc: 0.983(0.983) sent/s 137 \n",
            "Epoch: [28][5/11] Data 0.000 (0.050) Elapsed 0m 3s (remain 0m 4s) Loss: 0.072(0.067) Acc: 0.992(0.992) f1_Acc: 0.990(0.986) sent/s 172 \n",
            "Epoch: [28][9/11] Data 0.002 (0.030) Elapsed 0m 6s (remain 0m 1s) Loss: 0.064(0.073) Acc: 0.992(0.992) f1_Acc: 0.961(0.978) sent/s 177 \n",
            "Epoch: [28][11/11] Data 0.002 (0.025) Elapsed 0m 7s (remain 0m 0s) Loss: 0.029(0.071) Acc: 1.000(0.992) f1_Acc: 1.000(0.978) sent/s 176 \n"
          ]
        },
        {
          "output_type": "stream",
          "name": "stderr",
          "text": [
            "100%|██████████| 2/2 [00:00<00:00,  3.68it/s]"
          ]
        },
        {
          "output_type": "stream",
          "name": "stdout",
          "text": [
            "Train loss 0.07132261552137444 accuracy 0.9937597503900156\n",
            "Validate loss 0.6301133334636688 accuracy 0.9020979020979021\n",
            "\n",
            "\n",
            "----------\n",
            "Epoch 29/29\n",
            "----------\n"
          ]
        },
        {
          "output_type": "stream",
          "name": "stderr",
          "text": [
            "\n"
          ]
        },
        {
          "output_type": "stream",
          "name": "stdout",
          "text": [
            "Epoch: [29][1/11] Data 0.227 (0.227) Elapsed 0m 0s (remain 0m 9s) Loss: 0.061(0.061) Acc: 1.000(1.000) f1_Acc: 1.000(1.000) sent/s 139 \n",
            "Epoch: [29][5/11] Data 0.000 (0.049) Elapsed 0m 3s (remain 0m 4s) Loss: 0.057(0.062) Acc: 1.000(1.000) f1_Acc: 1.000(1.000) sent/s 172 \n",
            "Epoch: [29][9/11] Data 0.000 (0.028) Elapsed 0m 6s (remain 0m 1s) Loss: 0.108(0.071) Acc: 0.992(0.997) f1_Acc: 0.996(0.999) sent/s 177 \n",
            "Epoch: [29][11/11] Data 0.002 (0.024) Elapsed 0m 7s (remain 0m 0s) Loss: 0.037(0.069) Acc: 1.000(0.997) f1_Acc: 1.000(0.999) sent/s 176 \n"
          ]
        },
        {
          "output_type": "stream",
          "name": "stderr",
          "text": [
            "100%|██████████| 2/2 [00:00<00:00,  3.65it/s]"
          ]
        },
        {
          "output_type": "stream",
          "name": "stdout",
          "text": [
            "Train loss 0.06925393317284152 accuracy 0.9960998439937598\n",
            "Validate loss 0.6298128217458725 accuracy 0.9020979020979021\n",
            "\n",
            "\n"
          ]
        },
        {
          "output_type": "stream",
          "name": "stderr",
          "text": [
            "\n"
          ]
        }
      ]
    },
    {
      "cell_type": "markdown",
      "metadata": {
        "id": "eSYNd3rWcF2s"
      },
      "source": [
        "unbalance된 데이터\n",
        "\n",
        "1. Loss의 적절한 변형\n",
        "2. Oversampling \n",
        "둘 중 2부터 "
      ]
    },
    {
      "cell_type": "markdown",
      "metadata": {
        "id": "Dq48x18Vc7kX"
      },
      "source": [
        "### oversamlpling"
      ]
    },
    {
      "cell_type": "code",
      "metadata": {
        "id": "5K5AG3JicYQd"
      },
      "source": [
        "train = train[[\"index\",\"title\",\"label\"]]\n",
        "\n",
        "train = train.fillna(\"\")"
      ],
      "execution_count": null,
      "outputs": []
    },
    {
      "cell_type": "code",
      "metadata": {
        "id": "ZAkNwO30czsZ"
      },
      "source": [
        "valid = valid[[\"index\",\"title\",\"label\"]]\n",
        "\n",
        "valid = valid.fillna(\"\")"
      ],
      "execution_count": null,
      "outputs": []
    },
    {
      "cell_type": "code",
      "metadata": {
        "colab": {
          "base_uri": "https://localhost:8080/"
        },
        "id": "EprR5qFUcQPm",
        "outputId": "966f7ecf-95fc-4f0a-f0d5-6a547541ad52"
      },
      "source": [
        "import collections\n",
        "X = train.drop('label', axis = 1)\n",
        "y = train.iloc[:, -1]\n",
        "counter = collections.Counter(y)\n",
        "print(counter)"
      ],
      "execution_count": null,
      "outputs": [
        {
          "output_type": "stream",
          "name": "stdout",
          "text": [
            "Counter({2: 212, 16: 168, 24: 137, 0: 132, 13: 68, 27: 66, 19: 46, 5: 41, 12: 39, 7: 38, 25: 33, 29: 26, 28: 25, 18: 24, 21: 23, 15: 22, 3: 21, 23: 21, 26: 18, 22: 17, 30: 16, 14: 15, 10: 12, 9: 11, 1: 9, 20: 9, 17: 8, 4: 7, 6: 6, 8: 6, 11: 6})\n"
          ]
        }
      ]
    },
    {
      "cell_type": "code",
      "metadata": {
        "colab": {
          "base_uri": "https://localhost:8080/"
        },
        "id": "SsZXykatcTit",
        "outputId": "a868c7d6-8525-456b-d26e-4030873a6ff1"
      },
      "source": [
        "from imblearn.over_sampling import RandomOverSampler\n",
        "ros = RandomOverSampler(random_state=0)\n",
        "ros.fit(X, y)\n",
        "X_resampled, y_resampled = ros.fit_resample(X, y)\n",
        "counter = collections.Counter(y_resampled)\n",
        "print(counter)"
      ],
      "execution_count": null,
      "outputs": [
        {
          "output_type": "stream",
          "name": "stdout",
          "text": [
            "Counter({0: 212, 1: 212, 2: 212, 3: 212, 4: 212, 5: 212, 6: 212, 7: 212, 8: 212, 9: 212, 10: 212, 11: 212, 12: 212, 13: 212, 14: 212, 15: 212, 16: 212, 17: 212, 18: 212, 19: 212, 20: 212, 21: 212, 22: 212, 23: 212, 24: 212, 25: 212, 26: 212, 27: 212, 28: 212, 29: 212, 30: 212})\n"
          ]
        }
      ]
    },
    {
      "cell_type": "code",
      "metadata": {
        "colab": {
          "base_uri": "https://localhost:8080/",
          "height": 419
        },
        "id": "LkET5Sh4c2GQ",
        "outputId": "089b6077-5ccd-4165-b698-f7280ca2f8a5"
      },
      "source": [
        "data_res = pd.DataFrame()\n",
        "data_res['index'] = X_resampled[:,0]\n",
        "data_res['title'] = X_resampled[:,1]\n",
        "data_res['label'] = y_resampled\n",
        "train = data_res\n",
        "train"
      ],
      "execution_count": null,
      "outputs": [
        {
          "output_type": "execute_result",
          "data": {
            "text/html": [
              "<div>\n",
              "<style scoped>\n",
              "    .dataframe tbody tr th:only-of-type {\n",
              "        vertical-align: middle;\n",
              "    }\n",
              "\n",
              "    .dataframe tbody tr th {\n",
              "        vertical-align: top;\n",
              "    }\n",
              "\n",
              "    .dataframe thead th {\n",
              "        text-align: right;\n",
              "    }\n",
              "</style>\n",
              "<table border=\"1\" class=\"dataframe\">\n",
              "  <thead>\n",
              "    <tr style=\"text-align: right;\">\n",
              "      <th></th>\n",
              "      <th>index</th>\n",
              "      <th>title</th>\n",
              "      <th>label</th>\n",
              "    </tr>\n",
              "  </thead>\n",
              "  <tbody>\n",
              "    <tr>\n",
              "      <th>0</th>\n",
              "      <td>2_400125</td>\n",
              "      <td>renzo racer 디지털</td>\n",
              "      <td>0</td>\n",
              "    </tr>\n",
              "    <tr>\n",
              "      <th>1</th>\n",
              "      <td>2_399669</td>\n",
              "      <td>die young prologue 디지털</td>\n",
              "      <td>0</td>\n",
              "    </tr>\n",
              "    <tr>\n",
              "      <th>2</th>\n",
              "      <td>2_399617</td>\n",
              "      <td>chop chop princess 디지털</td>\n",
              "      <td>0</td>\n",
              "    </tr>\n",
              "    <tr>\n",
              "      <th>3</th>\n",
              "      <td>2_399592</td>\n",
              "      <td>tom clancys ghost recon 디지털</td>\n",
              "      <td>0</td>\n",
              "    </tr>\n",
              "    <tr>\n",
              "      <th>4</th>\n",
              "      <td>2_399583</td>\n",
              "      <td>ghost recon wildlands fallen ghosts 디지털</td>\n",
              "      <td>0</td>\n",
              "    </tr>\n",
              "    <tr>\n",
              "      <th>...</th>\n",
              "      <td>...</td>\n",
              "      <td>...</td>\n",
              "      <td>...</td>\n",
              "    </tr>\n",
              "    <tr>\n",
              "      <th>6567</th>\n",
              "      <td>2_397263</td>\n",
              "      <td>삼성전자 외장ssd t7 1tb 디지털</td>\n",
              "      <td>30</td>\n",
              "    </tr>\n",
              "    <tr>\n",
              "      <th>6568</th>\n",
              "      <td>2_390074</td>\n",
              "      <td>씨게이트 바라쿠다 510 m 2 nvme 500gb 디지털</td>\n",
              "      <td>30</td>\n",
              "    </tr>\n",
              "    <tr>\n",
              "      <th>6569</th>\n",
              "      <td>2_397069</td>\n",
              "      <td>sk하이닉스 gold p31 1tb 디지털</td>\n",
              "      <td>30</td>\n",
              "    </tr>\n",
              "    <tr>\n",
              "      <th>6570</th>\n",
              "      <td>2_400276</td>\n",
              "      <td>2021 아이맥 24 퍼플 m1 8cpu 8gpu 16gb 256ssd 디지털</td>\n",
              "      <td>30</td>\n",
              "    </tr>\n",
              "    <tr>\n",
              "      <th>6571</th>\n",
              "      <td>2_400468</td>\n",
              "      <td>삼성 evo plus 512g 21년판 하얀색 카카오핸드타월 증정 디지털</td>\n",
              "      <td>30</td>\n",
              "    </tr>\n",
              "  </tbody>\n",
              "</table>\n",
              "<p>6572 rows × 3 columns</p>\n",
              "</div>"
            ],
            "text/plain": [
              "         index                                        title  label\n",
              "0     2_400125                              renzo racer 디지털      0\n",
              "1     2_399669                       die young prologue 디지털      0\n",
              "2     2_399617                       chop chop princess 디지털      0\n",
              "3     2_399592                  tom clancys ghost recon 디지털      0\n",
              "4     2_399583      ghost recon wildlands fallen ghosts 디지털      0\n",
              "...        ...                                          ...    ...\n",
              "6567  2_397263                        삼성전자 외장ssd t7 1tb 디지털     30\n",
              "6568  2_390074             씨게이트 바라쿠다 510 m 2 nvme 500gb 디지털     30\n",
              "6569  2_397069                      sk하이닉스 gold p31 1tb 디지털     30\n",
              "6570  2_400276  2021 아이맥 24 퍼플 m1 8cpu 8gpu 16gb 256ssd 디지털     30\n",
              "6571  2_400468     삼성 evo plus 512g 21년판 하얀색 카카오핸드타월 증정 디지털     30\n",
              "\n",
              "[6572 rows x 3 columns]"
            ]
          },
          "metadata": {},
          "execution_count": 35
        }
      ]
    },
    {
      "cell_type": "code",
      "metadata": {
        "id": "cGjwPbn8dPLR"
      },
      "source": [
        "train_data_loader = create_data_loader(train, tokenizer_bert_kor_base, MAX_LEN, BATCH_SIZE, shuffle_=True)\n",
        "valid_data_loader = create_data_loader(valid, tokenizer_bert_kor_base, MAX_LEN, BATCH_SIZE, valid=True)"
      ],
      "execution_count": null,
      "outputs": []
    },
    {
      "cell_type": "code",
      "metadata": {
        "colab": {
          "base_uri": "https://localhost:8080/"
        },
        "id": "52G7zzgEriBv",
        "outputId": "eab7d824-13c6-4ac7-e870-c1da3f52093a"
      },
      "source": [
        "import gc\n",
        "\n",
        "\n",
        "EPOCHS = 10\n",
        "model_bert_kor_base = ReviewClassifier(n_classes=31).to(device)\n",
        "optimizer = AdamW(model_bert_kor_base.parameters(), lr=3e-5)\n",
        "total_steps = len(train_data_loader) * EPOCHS\n",
        "scheduler = get_cosine_schedule_with_warmup(\n",
        "  optimizer,\n",
        "  num_warmup_steps=int(total_steps*0.1),\n",
        "  num_training_steps=total_steps\n",
        ")\n",
        "loss_fn = nn.CrossEntropyLoss().to(device)"
      ],
      "execution_count": null,
      "outputs": [
        {
          "output_type": "stream",
          "name": "stderr",
          "text": [
            "Some weights of the model checkpoint at kykim/bert-kor-base were not used when initializing BertModel: ['cls.predictions.bias', 'cls.predictions.transform.dense.bias', 'cls.predictions.decoder.weight', 'cls.predictions.transform.LayerNorm.weight', 'cls.predictions.transform.LayerNorm.bias', 'cls.seq_relationship.bias', 'cls.predictions.decoder.bias', 'cls.seq_relationship.weight', 'cls.predictions.transform.dense.weight']\n",
            "- This IS expected if you are initializing BertModel from the checkpoint of a model trained on another task or with another architecture (e.g. initializing a BertForSequenceClassification model from a BertForPreTraining model).\n",
            "- This IS NOT expected if you are initializing BertModel from the checkpoint of a model that you expect to be exactly identical (initializing a BertForSequenceClassification model from a BertForSequenceClassification model).\n"
          ]
        }
      ]
    },
    {
      "cell_type": "code",
      "metadata": {
        "colab": {
          "base_uri": "https://localhost:8080/",
          "height": 1000
        },
        "id": "XfZ8bRsgc9iC",
        "outputId": "26d4417a-5489-4aa4-b95f-51bfcdd3d5a9"
      },
      "source": [
        "from tqdm import tqdm\n",
        "def train_epoch(model,data_loader,loss_fn,optimizer,device,scheduler,n_examples):\n",
        "\n",
        "  batch_time = AverageMeter()     \n",
        "  data_time = AverageMeter()      \n",
        "  losses = AverageMeter()         \n",
        "  accuracies = AverageMeter()\n",
        "  f1_accuracies = AverageMeter()\n",
        "  \n",
        "  sent_count = AverageMeter()   \n",
        "    \n",
        "\n",
        "  start = end = time.time()\n",
        "\n",
        "  model = model.train()\n",
        "  correct_predictions = 0\n",
        "  for step,d in enumerate(data_loader):\n",
        "    data_time.update(time.time() - end)\n",
        "    batch_size = d[\"input_ids\"].size(0) \n",
        "\n",
        "    input_ids = d[\"input_ids\"].to(device)\n",
        "    attention_mask = d[\"attention_mask\"].to(device)\n",
        "    targets = d[\"targets\"].to(device)\n",
        "    outputs = model(\n",
        "      input_ids=input_ids,\n",
        "      attention_mask=attention_mask\n",
        "    )\n",
        "    _, preds = torch.max(outputs, dim=1)\n",
        "    loss = loss_fn(outputs, targets)\n",
        "    correct_predictions += torch.sum(preds == targets)\n",
        "    losses.update(loss.item(), batch_size)\n",
        "    loss.backward()\n",
        "    nn.utils.clip_grad_norm_(model.parameters(), max_norm=1.0)\n",
        "    optimizer.step()\n",
        "    scheduler.step()\n",
        "    optimizer.zero_grad()\n",
        "\n",
        "    batch_time.update(time.time() - end)\n",
        "    end = time.time()\n",
        "\n",
        "    sent_count.update(batch_size)\n",
        "    if step % 20 == 0 or step == (len(data_loader)-1):\n",
        "                acc,f1_acc = calc_review_acc(outputs, targets)\n",
        "                accuracies.update(acc, batch_size)\n",
        "                f1_accuracies.update(f1_acc, batch_size)\n",
        "\n",
        "                \n",
        "                print('Epoch: [{0}][{1}/{2}] '\n",
        "                      'Data {data_time.val:.3f} ({data_time.avg:.3f}) '\n",
        "                      'Elapsed {remain:s} '\n",
        "                      'Loss: {loss.val:.3f}({loss.avg:.3f}) '\n",
        "                      'Acc: {acc.val:.3f}({acc.avg:.3f}) '   \n",
        "                      'f1_Acc: {f1_acc.val:.3f}({f1_acc.avg:.3f}) '           \n",
        "                      'sent/s {sent_s:.0f} '\n",
        "                      .format(\n",
        "                      epoch, step+1, len(data_loader),\n",
        "                      data_time=data_time, loss=losses,\n",
        "                      acc=accuracies,\n",
        "                      f1_acc=f1_accuracies,\n",
        "                      remain=timeSince(start, float(step+1)/len(data_loader)),\n",
        "                      sent_s=sent_count.avg/batch_time.avg\n",
        "                      ))\n",
        "\n",
        "  return correct_predictions.double() / n_examples, losses.avg\n",
        "\n",
        "def validate(model,data_loader,loss_fn,optimizer,device,scheduler,n_examples):\n",
        "  model = model.eval()\n",
        "  losses = []\n",
        "  correct_predictions = 0\n",
        "  for d in tqdm(data_loader):\n",
        "    input_ids = d[\"input_ids\"].to(device)\n",
        "    attention_mask = d[\"attention_mask\"].to(device)\n",
        "    targets = d[\"targets\"].to(device)\n",
        "    outputs = model(\n",
        "      input_ids=input_ids,\n",
        "      attention_mask=attention_mask\n",
        "    )\n",
        "    _, preds = torch.max(outputs, dim=1)\n",
        "    loss = loss_fn(outputs, targets)\n",
        "    correct_predictions += torch.sum(preds == targets)\n",
        "    losses.append(loss.item())\n",
        "    nn.utils.clip_grad_norm_(model.parameters(), max_norm=1.0)\n",
        "  return correct_predictions.double() / n_examples, np.mean(losses)\n",
        "\n",
        "for epoch in range(EPOCHS):\n",
        "  print('-' * 10)\n",
        "  print(f'Epoch {epoch}/{EPOCHS-1}')\n",
        "  print('-' * 10)\n",
        "  train_acc, train_loss = train_epoch(\n",
        "    model_bert_kor_base,\n",
        "    train_data_loader,\n",
        "    loss_fn,\n",
        "    optimizer,\n",
        "    device,\n",
        "    scheduler,\n",
        "    len(train)\n",
        "  )\n",
        "  validate_acc, validate_loss = validate(\n",
        "    model_bert_kor_base,\n",
        "    valid_data_loader,\n",
        "    loss_fn,\n",
        "    optimizer,\n",
        "    device,\n",
        "    scheduler,\n",
        "    len(valid)\n",
        "  )\n",
        "  print(f'Train loss {train_loss} accuracy {train_acc}')\n",
        "  print(f'Validate loss {validate_loss} accuracy {validate_acc}')\n",
        "  print(\"\")\n",
        "  print(\"\")"
      ],
      "execution_count": null,
      "outputs": [
        {
          "output_type": "stream",
          "name": "stdout",
          "text": [
            "----------\n",
            "Epoch 0/29\n",
            "----------\n",
            "Epoch: [0][1/52] Data 0.235 (0.235) Elapsed 0m 0s (remain 0m 49s) Loss: 3.487(3.487) Acc: 0.031(0.031) f1_Acc: 0.006(0.006) sent/s 133 \n",
            "Epoch: [0][21/52] Data 0.002 (0.013) Elapsed 0m 14s (remain 0m 22s) Loss: 3.455(3.498) Acc: 0.039(0.035) f1_Acc: 0.016(0.011) sent/s 180 \n",
            "Epoch: [0][41/52] Data 0.002 (0.008) Elapsed 0m 28s (remain 0m 7s) Loss: 3.329(3.460) Acc: 0.102(0.057) f1_Acc: 0.065(0.029) sent/s 182 \n",
            "Epoch: [0][52/52] Data 0.002 (0.007) Elapsed 0m 36s (remain 0m 0s) Loss: 3.256(3.432) Acc: 0.114(0.063) f1_Acc: 0.083(0.034) sent/s 182 \n"
          ]
        },
        {
          "output_type": "stream",
          "name": "stderr",
          "text": [
            "100%|██████████| 2/2 [00:00<00:00,  3.68it/s]"
          ]
        },
        {
          "output_type": "stream",
          "name": "stdout",
          "text": [
            "Train loss 3.432412601431477 accuracy 0.04580036518563603\n",
            "Validate loss 3.252536416053772 accuracy 0.17482517482517482\n",
            "\n",
            "\n",
            "----------\n",
            "Epoch 1/29\n",
            "----------\n"
          ]
        },
        {
          "output_type": "stream",
          "name": "stderr",
          "text": [
            "\n"
          ]
        },
        {
          "output_type": "stream",
          "name": "stdout",
          "text": [
            "Epoch: [1][1/52] Data 0.225 (0.225) Elapsed 0m 0s (remain 0m 47s) Loss: 3.284(3.284) Acc: 0.094(0.094) f1_Acc: 0.077(0.077) sent/s 139 \n",
            "Epoch: [1][21/52] Data 0.002 (0.013) Elapsed 0m 14s (remain 0m 21s) Loss: 2.845(3.098) Acc: 0.469(0.281) f1_Acc: 0.371(0.224) sent/s 181 \n",
            "Epoch: [1][41/52] Data 0.002 (0.008) Elapsed 0m 28s (remain 0m 7s) Loss: 2.158(2.812) Acc: 0.727(0.430) f1_Acc: 0.687(0.378) sent/s 182 \n",
            "Epoch: [1][52/52] Data 0.002 (0.007) Elapsed 0m 36s (remain 0m 0s) Loss: 1.675(2.629) Acc: 0.864(0.474) f1_Acc: 0.807(0.422) sent/s 182 \n"
          ]
        },
        {
          "output_type": "stream",
          "name": "stderr",
          "text": [
            "100%|██████████| 2/2 [00:00<00:00,  3.68it/s]"
          ]
        },
        {
          "output_type": "stream",
          "name": "stdout",
          "text": [
            "Train loss 2.6291085122492133 accuracy 0.4888922702373707\n",
            "Validate loss 1.9756014347076416 accuracy 0.6083916083916084\n",
            "\n",
            "\n",
            "----------\n",
            "Epoch 2/29\n",
            "----------\n"
          ]
        },
        {
          "output_type": "stream",
          "name": "stderr",
          "text": [
            "\n"
          ]
        },
        {
          "output_type": "stream",
          "name": "stdout",
          "text": [
            "Epoch: [2][1/52] Data 0.256 (0.256) Elapsed 0m 0s (remain 0m 48s) Loss: 1.690(1.690) Acc: 0.828(0.828) f1_Acc: 0.794(0.794) sent/s 134 \n",
            "Epoch: [2][21/52] Data 0.002 (0.014) Elapsed 0m 14s (remain 0m 22s) Loss: 1.012(1.331) Acc: 0.898(0.863) f1_Acc: 0.841(0.817) sent/s 180 \n",
            "Epoch: [2][41/52] Data 0.002 (0.009) Elapsed 0m 28s (remain 0m 7s) Loss: 0.621(1.047) Acc: 0.891(0.872) f1_Acc: 0.853(0.829) sent/s 182 \n",
            "Epoch: [2][52/52] Data 0.002 (0.007) Elapsed 0m 36s (remain 0m 0s) Loss: 0.428(0.926) Acc: 0.955(0.881) f1_Acc: 0.944(0.841) sent/s 182 \n"
          ]
        },
        {
          "output_type": "stream",
          "name": "stderr",
          "text": [
            "100%|██████████| 2/2 [00:00<00:00,  3.64it/s]"
          ]
        },
        {
          "output_type": "stream",
          "name": "stdout",
          "text": [
            "Train loss 0.9255709692210013 accuracy 0.8851186853317103\n",
            "Validate loss 0.864747166633606 accuracy 0.7762237762237763\n",
            "\n",
            "\n",
            "----------\n",
            "Epoch 3/29\n",
            "----------\n"
          ]
        },
        {
          "output_type": "stream",
          "name": "stderr",
          "text": [
            "\n"
          ]
        },
        {
          "output_type": "stream",
          "name": "stdout",
          "text": [
            "Epoch: [3][1/52] Data 0.229 (0.229) Elapsed 0m 0s (remain 0m 47s) Loss: 0.363(0.363) Acc: 0.961(0.961) f1_Acc: 0.948(0.948) sent/s 139 \n",
            "Epoch: [3][21/52] Data 0.002 (0.013) Elapsed 0m 14s (remain 0m 21s) Loss: 0.319(0.305) Acc: 0.945(0.953) f1_Acc: 0.942(0.945) sent/s 181 \n",
            "Epoch: [3][41/52] Data 0.003 (0.008) Elapsed 0m 28s (remain 0m 7s) Loss: 0.154(0.252) Acc: 0.977(0.961) f1_Acc: 0.966(0.952) sent/s 182 \n",
            "Epoch: [3][52/52] Data 0.002 (0.007) Elapsed 0m 36s (remain 0m 0s) Loss: 0.157(0.235) Acc: 0.977(0.963) f1_Acc: 0.980(0.955) sent/s 182 \n"
          ]
        },
        {
          "output_type": "stream",
          "name": "stderr",
          "text": [
            "100%|██████████| 2/2 [00:00<00:00,  3.64it/s]"
          ]
        },
        {
          "output_type": "stream",
          "name": "stdout",
          "text": [
            "Train loss 0.23513117707399644 accuracy 0.9697200243457091\n",
            "Validate loss 0.6603798866271973 accuracy 0.8951048951048951\n",
            "\n",
            "\n",
            "----------\n",
            "Epoch 4/29\n",
            "----------\n"
          ]
        },
        {
          "output_type": "stream",
          "name": "stderr",
          "text": [
            "\n"
          ]
        },
        {
          "output_type": "stream",
          "name": "stdout",
          "text": [
            "Epoch: [4][1/52] Data 0.247 (0.247) Elapsed 0m 0s (remain 0m 48s) Loss: 0.090(0.090) Acc: 1.000(1.000) f1_Acc: 1.000(1.000) sent/s 136 \n",
            "Epoch: [4][21/52] Data 0.002 (0.014) Elapsed 0m 14s (remain 0m 22s) Loss: 0.100(0.114) Acc: 0.984(0.992) f1_Acc: 0.983(0.992) sent/s 180 \n",
            "Epoch: [4][41/52] Data 0.002 (0.008) Elapsed 0m 28s (remain 0m 7s) Loss: 0.069(0.099) Acc: 1.000(0.995) f1_Acc: 1.000(0.994) sent/s 182 \n",
            "Epoch: [4][52/52] Data 0.002 (0.007) Elapsed 0m 36s (remain 0m 0s) Loss: 0.043(0.093) Acc: 1.000(0.995) f1_Acc: 1.000(0.995) sent/s 182 \n"
          ]
        },
        {
          "output_type": "stream",
          "name": "stderr",
          "text": [
            "100%|██████████| 2/2 [00:00<00:00,  3.63it/s]"
          ]
        },
        {
          "output_type": "stream",
          "name": "stdout",
          "text": [
            "Train loss 0.09339097004363396 accuracy 0.9882836275106512\n",
            "Validate loss 0.7368495762348175 accuracy 0.8881118881118881\n",
            "\n",
            "\n",
            "----------\n",
            "Epoch 5/29\n",
            "----------\n"
          ]
        },
        {
          "output_type": "stream",
          "name": "stderr",
          "text": [
            "\n"
          ]
        },
        {
          "output_type": "stream",
          "name": "stdout",
          "text": [
            "Epoch: [5][1/52] Data 0.228 (0.228) Elapsed 0m 0s (remain 0m 47s) Loss: 0.084(0.084) Acc: 0.992(0.992) f1_Acc: 0.993(0.993) sent/s 137 \n",
            "Epoch: [5][21/52] Data 0.002 (0.013) Elapsed 0m 14s (remain 0m 22s) Loss: 0.032(0.058) Acc: 1.000(0.996) f1_Acc: 1.000(0.997) sent/s 180 \n",
            "Epoch: [5][41/52] Data 0.002 (0.008) Elapsed 0m 28s (remain 0m 7s) Loss: 0.038(0.055) Acc: 0.992(0.995) f1_Acc: 0.983(0.992) sent/s 182 \n",
            "Epoch: [5][52/52] Data 0.002 (0.007) Elapsed 0m 36s (remain 0m 0s) Loss: 0.025(0.052) Acc: 1.000(0.995) f1_Acc: 1.000(0.993) sent/s 182 \n"
          ]
        },
        {
          "output_type": "stream",
          "name": "stderr",
          "text": [
            "100%|██████████| 2/2 [00:00<00:00,  3.61it/s]"
          ]
        },
        {
          "output_type": "stream",
          "name": "stdout",
          "text": [
            "Train loss 0.05249623066960532 accuracy 0.9928484479610469\n",
            "Validate loss 0.7598369866609573 accuracy 0.8811188811188811\n",
            "\n",
            "\n",
            "----------\n",
            "Epoch 6/29\n",
            "----------\n"
          ]
        },
        {
          "output_type": "stream",
          "name": "stderr",
          "text": [
            "\n"
          ]
        },
        {
          "output_type": "stream",
          "name": "stdout",
          "text": [
            "Epoch: [6][1/52] Data 0.235 (0.235) Elapsed 0m 0s (remain 0m 47s) Loss: 0.026(0.026) Acc: 1.000(1.000) f1_Acc: 1.000(1.000) sent/s 138 \n",
            "Epoch: [6][21/52] Data 0.002 (0.013) Elapsed 0m 14s (remain 0m 21s) Loss: 0.096(0.037) Acc: 0.977(0.988) f1_Acc: 0.972(0.986) sent/s 181 \n",
            "Epoch: [6][41/52] Data 0.002 (0.008) Elapsed 0m 28s (remain 0m 7s) Loss: 0.015(0.032) Acc: 1.000(0.992) f1_Acc: 1.000(0.991) sent/s 182 \n",
            "Epoch: [6][52/52] Data 0.002 (0.007) Elapsed 0m 36s (remain 0m 0s) Loss: 0.014(0.032) Acc: 1.000(0.993) f1_Acc: 1.000(0.992) sent/s 182 \n"
          ]
        },
        {
          "output_type": "stream",
          "name": "stderr",
          "text": [
            "100%|██████████| 2/2 [00:00<00:00,  3.69it/s]"
          ]
        },
        {
          "output_type": "stream",
          "name": "stdout",
          "text": [
            "Train loss 0.03173078497621212 accuracy 0.9957395009129641\n",
            "Validate loss 0.7970761507749557 accuracy 0.8881118881118881\n",
            "\n",
            "\n",
            "----------\n",
            "Epoch 7/29\n",
            "----------\n"
          ]
        },
        {
          "output_type": "stream",
          "name": "stderr",
          "text": [
            "\n"
          ]
        },
        {
          "output_type": "stream",
          "name": "stdout",
          "text": [
            "Epoch: [7][1/52] Data 0.245 (0.245) Elapsed 0m 0s (remain 0m 48s) Loss: 0.049(0.049) Acc: 0.984(0.984) f1_Acc: 0.990(0.990) sent/s 136 \n",
            "Epoch: [7][21/52] Data 0.002 (0.014) Elapsed 0m 14s (remain 0m 21s) Loss: 0.011(0.027) Acc: 1.000(0.992) f1_Acc: 1.000(0.995) sent/s 180 \n",
            "Epoch: [7][41/52] Data 0.003 (0.008) Elapsed 0m 28s (remain 0m 7s) Loss: 0.017(0.022) Acc: 0.992(0.992) f1_Acc: 0.989(0.993) sent/s 182 \n",
            "Epoch: [7][52/52] Data 0.002 (0.007) Elapsed 0m 36s (remain 0m 0s) Loss: 0.021(0.019) Acc: 1.000(0.993) f1_Acc: 1.000(0.994) sent/s 182 \n"
          ]
        },
        {
          "output_type": "stream",
          "name": "stderr",
          "text": [
            "100%|██████████| 2/2 [00:00<00:00,  3.68it/s]"
          ]
        },
        {
          "output_type": "stream",
          "name": "stdout",
          "text": [
            "Train loss 0.019494031008947425 accuracy 0.9972611077297626\n",
            "Validate loss 0.8711387515068054 accuracy 0.9020979020979021\n",
            "\n",
            "\n",
            "----------\n",
            "Epoch 8/29\n",
            "----------\n"
          ]
        },
        {
          "output_type": "stream",
          "name": "stderr",
          "text": [
            "\n"
          ]
        },
        {
          "output_type": "stream",
          "name": "stdout",
          "text": [
            "Epoch: [8][1/52] Data 0.237 (0.237) Elapsed 0m 0s (remain 0m 47s) Loss: 0.029(0.029) Acc: 0.992(0.992) f1_Acc: 0.995(0.995) sent/s 137 \n",
            "Epoch: [8][21/52] Data 0.002 (0.013) Elapsed 0m 14s (remain 0m 21s) Loss: 0.008(0.017) Acc: 1.000(0.996) f1_Acc: 1.000(0.997) sent/s 181 \n",
            "Epoch: [8][41/52] Data 0.002 (0.008) Elapsed 0m 28s (remain 0m 7s) Loss: 0.018(0.015) Acc: 0.992(0.995) f1_Acc: 0.990(0.995) sent/s 182 \n",
            "Epoch: [8][52/52] Data 0.002 (0.007) Elapsed 0m 36s (remain 0m 0s) Loss: 0.009(0.016) Acc: 1.000(0.995) f1_Acc: 1.000(0.996) sent/s 182 \n"
          ]
        },
        {
          "output_type": "stream",
          "name": "stderr",
          "text": [
            "100%|██████████| 2/2 [00:00<00:00,  3.68it/s]"
          ]
        },
        {
          "output_type": "stream",
          "name": "stdout",
          "text": [
            "Train loss 0.016293115551655458 accuracy 0.9974132684114425\n",
            "Validate loss 0.8125591278076172 accuracy 0.9020979020979021\n",
            "\n",
            "\n",
            "----------\n",
            "Epoch 9/29\n",
            "----------\n"
          ]
        },
        {
          "output_type": "stream",
          "name": "stderr",
          "text": [
            "\n"
          ]
        },
        {
          "output_type": "stream",
          "name": "stdout",
          "text": [
            "Epoch: [9][1/52] Data 0.247 (0.247) Elapsed 0m 0s (remain 0m 48s) Loss: 0.012(0.012) Acc: 1.000(1.000) f1_Acc: 1.000(1.000) sent/s 135 \n",
            "Epoch: [9][21/52] Data 0.003 (0.014) Elapsed 0m 14s (remain 0m 21s) Loss: 0.052(0.012) Acc: 0.992(0.996) f1_Acc: 0.992(0.996) sent/s 181 \n",
            "Epoch: [9][41/52] Data 0.002 (0.008) Elapsed 0m 28s (remain 0m 7s) Loss: 0.006(0.013) Acc: 1.000(0.997) f1_Acc: 1.000(0.997) sent/s 182 \n",
            "Epoch: [9][52/52] Data 0.002 (0.007) Elapsed 0m 36s (remain 0m 0s) Loss: 0.005(0.012) Acc: 1.000(0.998) f1_Acc: 1.000(0.998) sent/s 182 \n"
          ]
        },
        {
          "output_type": "stream",
          "name": "stderr",
          "text": [
            "100%|██████████| 2/2 [00:00<00:00,  3.61it/s]"
          ]
        },
        {
          "output_type": "stream",
          "name": "stdout",
          "text": [
            "Train loss 0.012399725678047518 accuracy 0.9978697504564821\n",
            "Validate loss 0.8015386164188385 accuracy 0.8951048951048951\n",
            "\n",
            "\n",
            "----------\n",
            "Epoch 10/29\n",
            "----------\n"
          ]
        },
        {
          "output_type": "stream",
          "name": "stderr",
          "text": [
            "\n"
          ]
        },
        {
          "output_type": "stream",
          "name": "stdout",
          "text": [
            "Epoch: [10][1/52] Data 0.246 (0.246) Elapsed 0m 0s (remain 0m 48s) Loss: 0.005(0.005) Acc: 1.000(1.000) f1_Acc: 1.000(1.000) sent/s 136 \n",
            "Epoch: [10][21/52] Data 0.002 (0.014) Elapsed 0m 14s (remain 0m 21s) Loss: 0.020(0.012) Acc: 0.992(0.996) f1_Acc: 0.986(0.993) sent/s 181 \n",
            "Epoch: [10][41/52] Data 0.002 (0.008) Elapsed 0m 28s (remain 0m 7s) Loss: 0.007(0.011) Acc: 1.000(0.997) f1_Acc: 1.000(0.995) sent/s 182 \n",
            "Epoch: [10][52/52] Data 0.002 (0.007) Elapsed 0m 36s (remain 0m 0s) Loss: 0.005(0.013) Acc: 1.000(0.998) f1_Acc: 1.000(0.996) sent/s 182 \n"
          ]
        },
        {
          "output_type": "stream",
          "name": "stderr",
          "text": [
            "100%|██████████| 2/2 [00:00<00:00,  3.64it/s]"
          ]
        },
        {
          "output_type": "stream",
          "name": "stdout",
          "text": [
            "Train loss 0.012954818731036696 accuracy 0.9972611077297626\n",
            "Validate loss 0.8035883903503418 accuracy 0.9020979020979021\n",
            "\n",
            "\n",
            "----------\n",
            "Epoch 11/29\n",
            "----------\n"
          ]
        },
        {
          "output_type": "stream",
          "name": "stderr",
          "text": [
            "\n"
          ]
        },
        {
          "output_type": "stream",
          "name": "stdout",
          "text": [
            "Epoch: [11][1/52] Data 0.235 (0.235) Elapsed 0m 0s (remain 0m 47s) Loss: 0.005(0.005) Acc: 1.000(1.000) f1_Acc: 1.000(1.000) sent/s 138 \n",
            "Epoch: [11][21/52] Data 0.002 (0.013) Elapsed 0m 14s (remain 0m 21s) Loss: 0.013(0.014) Acc: 0.992(0.996) f1_Acc: 0.991(0.996) sent/s 181 \n",
            "Epoch: [11][41/52] Data 0.002 (0.008) Elapsed 0m 28s (remain 0m 7s) Loss: 0.008(0.013) Acc: 1.000(0.997) f1_Acc: 1.000(0.997) sent/s 182 \n",
            "Epoch: [11][52/52] Data 0.002 (0.007) Elapsed 0m 36s (remain 0m 0s) Loss: 0.004(0.012) Acc: 1.000(0.998) f1_Acc: 1.000(0.997) sent/s 182 \n"
          ]
        },
        {
          "output_type": "stream",
          "name": "stderr",
          "text": [
            "100%|██████████| 2/2 [00:00<00:00,  3.72it/s]"
          ]
        },
        {
          "output_type": "stream",
          "name": "stdout",
          "text": [
            "Train loss 0.011775030669480182 accuracy 0.9972611077297626\n",
            "Validate loss 0.7732358872890472 accuracy 0.8951048951048951\n",
            "\n",
            "\n",
            "----------\n",
            "Epoch 12/29\n",
            "----------\n"
          ]
        },
        {
          "output_type": "stream",
          "name": "stderr",
          "text": [
            "\n"
          ]
        },
        {
          "output_type": "stream",
          "name": "stdout",
          "text": [
            "Epoch: [12][1/52] Data 0.242 (0.242) Elapsed 0m 0s (remain 0m 48s) Loss: 0.006(0.006) Acc: 1.000(1.000) f1_Acc: 1.000(1.000) sent/s 137 \n",
            "Epoch: [12][21/52] Data 0.002 (0.014) Elapsed 0m 14s (remain 0m 21s) Loss: 0.004(0.008) Acc: 1.000(1.000) f1_Acc: 1.000(1.000) sent/s 181 \n",
            "Epoch: [12][41/52] Data 0.002 (0.008) Elapsed 0m 28s (remain 0m 7s) Loss: 0.004(0.010) Acc: 1.000(1.000) f1_Acc: 1.000(1.000) sent/s 182 \n",
            "Epoch: [12][52/52] Data 0.002 (0.007) Elapsed 0m 36s (remain 0m 0s) Loss: 0.004(0.009) Acc: 1.000(1.000) f1_Acc: 1.000(1.000) sent/s 182 \n"
          ]
        },
        {
          "output_type": "stream",
          "name": "stderr",
          "text": [
            "100%|██████████| 2/2 [00:00<00:00,  3.63it/s]"
          ]
        },
        {
          "output_type": "stream",
          "name": "stdout",
          "text": [
            "Train loss 0.0094117858286718 accuracy 0.998021911138162\n",
            "Validate loss 0.7160119861364365 accuracy 0.9020979020979021\n",
            "\n",
            "\n",
            "----------\n",
            "Epoch 13/29\n",
            "----------\n"
          ]
        },
        {
          "output_type": "stream",
          "name": "stderr",
          "text": [
            "\n"
          ]
        },
        {
          "output_type": "stream",
          "name": "stdout",
          "text": [
            "Epoch: [13][1/52] Data 0.240 (0.240) Elapsed 0m 0s (remain 0m 47s) Loss: 0.009(0.009) Acc: 1.000(1.000) f1_Acc: 1.000(1.000) sent/s 137 \n",
            "Epoch: [13][21/52] Data 0.002 (0.014) Elapsed 0m 14s (remain 0m 21s) Loss: 0.004(0.012) Acc: 1.000(1.000) f1_Acc: 1.000(1.000) sent/s 180 \n",
            "Epoch: [13][41/52] Data 0.002 (0.008) Elapsed 0m 28s (remain 0m 7s) Loss: 0.005(0.017) Acc: 1.000(1.000) f1_Acc: 1.000(1.000) sent/s 182 \n",
            "Epoch: [13][52/52] Data 0.002 (0.007) Elapsed 0m 36s (remain 0m 0s) Loss: 0.003(0.016) Acc: 1.000(1.000) f1_Acc: 1.000(1.000) sent/s 182 \n"
          ]
        },
        {
          "output_type": "stream",
          "name": "stderr",
          "text": [
            "100%|██████████| 2/2 [00:00<00:00,  3.65it/s]"
          ]
        },
        {
          "output_type": "stream",
          "name": "stdout",
          "text": [
            "Train loss 0.01585186889513588 accuracy 0.9965003043213634\n",
            "Validate loss 0.8320854306221008 accuracy 0.8951048951048951\n",
            "\n",
            "\n",
            "----------\n",
            "Epoch 14/29\n",
            "----------\n"
          ]
        },
        {
          "output_type": "stream",
          "name": "stderr",
          "text": [
            "\n"
          ]
        },
        {
          "output_type": "stream",
          "name": "stdout",
          "text": [
            "Epoch: [14][1/52] Data 0.232 (0.232) Elapsed 0m 0s (remain 0m 47s) Loss: 0.006(0.006) Acc: 1.000(1.000) f1_Acc: 1.000(1.000) sent/s 139 \n",
            "Epoch: [14][21/52] Data 0.002 (0.013) Elapsed 0m 14s (remain 0m 21s) Loss: 0.007(0.010) Acc: 1.000(1.000) f1_Acc: 1.000(1.000) sent/s 181 \n",
            "Epoch: [14][41/52] Data 0.002 (0.008) Elapsed 0m 28s (remain 0m 7s) Loss: 0.003(0.008) Acc: 1.000(1.000) f1_Acc: 1.000(1.000) sent/s 182 \n",
            "Epoch: [14][52/52] Data 0.002 (0.007) Elapsed 0m 36s (remain 0m 0s) Loss: 0.003(0.008) Acc: 1.000(1.000) f1_Acc: 1.000(1.000) sent/s 182 \n"
          ]
        },
        {
          "output_type": "stream",
          "name": "stderr",
          "text": [
            "100%|██████████| 2/2 [00:00<00:00,  3.66it/s]"
          ]
        },
        {
          "output_type": "stream",
          "name": "stdout",
          "text": [
            "Train loss 0.007988256552101896 accuracy 0.9981740718198417\n",
            "Validate loss 0.8773552179336548 accuracy 0.9020979020979021\n",
            "\n",
            "\n",
            "----------\n",
            "Epoch 15/29\n",
            "----------\n"
          ]
        },
        {
          "output_type": "stream",
          "name": "stderr",
          "text": [
            "\n"
          ]
        },
        {
          "output_type": "stream",
          "name": "stdout",
          "text": [
            "Epoch: [15][1/52] Data 0.249 (0.249) Elapsed 0m 0s (remain 0m 48s) Loss: 0.018(0.018) Acc: 0.992(0.992) f1_Acc: 0.991(0.991) sent/s 136 \n",
            "Epoch: [15][21/52] Data 0.002 (0.014) Elapsed 0m 14s (remain 0m 21s) Loss: 0.003(0.005) Acc: 1.000(0.996) f1_Acc: 1.000(0.995) sent/s 181 \n",
            "Epoch: [15][41/52] Data 0.002 (0.008) Elapsed 0m 28s (remain 0m 7s) Loss: 0.003(0.006) Acc: 1.000(0.997) f1_Acc: 1.000(0.997) sent/s 182 \n",
            "Epoch: [15][52/52] Data 0.002 (0.007) Elapsed 0m 36s (remain 0m 0s) Loss: 0.003(0.007) Acc: 1.000(0.998) f1_Acc: 1.000(0.997) sent/s 182 \n"
          ]
        },
        {
          "output_type": "stream",
          "name": "stderr",
          "text": [
            "100%|██████████| 2/2 [00:00<00:00,  3.64it/s]"
          ]
        },
        {
          "output_type": "stream",
          "name": "stdout",
          "text": [
            "Train loss 0.006943186564933298 accuracy 0.9984783931832015\n",
            "Validate loss 0.8279214203357697 accuracy 0.9020979020979021\n",
            "\n",
            "\n",
            "----------\n",
            "Epoch 16/29\n",
            "----------\n"
          ]
        },
        {
          "output_type": "stream",
          "name": "stderr",
          "text": [
            "\n"
          ]
        },
        {
          "output_type": "stream",
          "name": "stdout",
          "text": [
            "Epoch: [16][1/52] Data 0.232 (0.232) Elapsed 0m 0s (remain 0m 47s) Loss: 0.011(0.011) Acc: 0.992(0.992) f1_Acc: 0.995(0.995) sent/s 138 \n",
            "Epoch: [16][21/52] Data 0.002 (0.013) Elapsed 0m 14s (remain 0m 21s) Loss: 0.013(0.008) Acc: 0.992(0.992) f1_Acc: 0.986(0.990) sent/s 181 \n",
            "Epoch: [16][41/52] Data 0.003 (0.008) Elapsed 0m 28s (remain 0m 7s) Loss: 0.003(0.007) Acc: 1.000(0.995) f1_Acc: 1.000(0.994) sent/s 182 \n",
            "Epoch: [16][52/52] Data 0.002 (0.007) Elapsed 0m 36s (remain 0m 0s) Loss: 0.003(0.007) Acc: 1.000(0.995) f1_Acc: 1.000(0.994) sent/s 182 \n"
          ]
        },
        {
          "output_type": "stream",
          "name": "stderr",
          "text": [
            "100%|██████████| 2/2 [00:00<00:00,  3.68it/s]"
          ]
        },
        {
          "output_type": "stream",
          "name": "stdout",
          "text": [
            "Train loss 0.006510003100444658 accuracy 0.9983262325015216\n",
            "Validate loss 0.885341078042984 accuracy 0.9020979020979021\n",
            "\n",
            "\n",
            "----------\n",
            "Epoch 17/29\n",
            "----------\n"
          ]
        },
        {
          "output_type": "stream",
          "name": "stderr",
          "text": [
            "\n"
          ]
        },
        {
          "output_type": "stream",
          "name": "stdout",
          "text": [
            "Epoch: [17][1/52] Data 0.223 (0.223) Elapsed 0m 0s (remain 0m 47s) Loss: 0.003(0.003) Acc: 1.000(1.000) f1_Acc: 1.000(1.000) sent/s 140 \n",
            "Epoch: [17][21/52] Data 0.002 (0.013) Elapsed 0m 14s (remain 0m 21s) Loss: 0.016(0.004) Acc: 0.992(0.996) f1_Acc: 0.963(0.981) sent/s 181 \n",
            "Epoch: [17][41/52] Data 0.002 (0.008) Elapsed 0m 28s (remain 0m 7s) Loss: 0.003(0.007) Acc: 1.000(0.997) f1_Acc: 1.000(0.988) sent/s 182 \n",
            "Epoch: [17][52/52] Data 0.002 (0.007) Elapsed 0m 36s (remain 0m 0s) Loss: 0.017(0.007) Acc: 1.000(0.998) f1_Acc: 1.000(0.989) sent/s 182 \n"
          ]
        },
        {
          "output_type": "stream",
          "name": "stderr",
          "text": [
            "100%|██████████| 2/2 [00:00<00:00,  3.67it/s]"
          ]
        },
        {
          "output_type": "stream",
          "name": "stdout",
          "text": [
            "Train loss 0.007300241861086536 accuracy 0.9978697504564821\n",
            "Validate loss 0.8647738993167877 accuracy 0.9020979020979021\n",
            "\n",
            "\n",
            "----------\n",
            "Epoch 18/29\n",
            "----------\n"
          ]
        },
        {
          "output_type": "stream",
          "name": "stderr",
          "text": [
            "\n"
          ]
        },
        {
          "output_type": "stream",
          "name": "stdout",
          "text": [
            "Epoch: [18][1/52] Data 0.243 (0.243) Elapsed 0m 0s (remain 0m 48s) Loss: 0.003(0.003) Acc: 1.000(1.000) f1_Acc: 1.000(1.000) sent/s 137 \n",
            "Epoch: [18][21/52] Data 0.002 (0.014) Elapsed 0m 14s (remain 0m 21s) Loss: 0.004(0.006) Acc: 1.000(1.000) f1_Acc: 1.000(1.000) sent/s 181 \n",
            "Epoch: [18][41/52] Data 0.002 (0.008) Elapsed 0m 28s (remain 0m 7s) Loss: 0.003(0.006) Acc: 1.000(1.000) f1_Acc: 1.000(1.000) sent/s 182 \n",
            "Epoch: [18][52/52] Data 0.002 (0.007) Elapsed 0m 36s (remain 0m 0s) Loss: 0.002(0.007) Acc: 1.000(1.000) f1_Acc: 1.000(1.000) sent/s 182 \n"
          ]
        },
        {
          "output_type": "stream",
          "name": "stderr",
          "text": [
            "100%|██████████| 2/2 [00:00<00:00,  3.67it/s]"
          ]
        },
        {
          "output_type": "stream",
          "name": "stdout",
          "text": [
            "Train loss 0.00663793850060931 accuracy 0.9983262325015216\n",
            "Validate loss 0.9220758080482483 accuracy 0.8951048951048951\n",
            "\n",
            "\n",
            "----------\n",
            "Epoch 19/29\n",
            "----------\n"
          ]
        },
        {
          "output_type": "stream",
          "name": "stderr",
          "text": [
            "\n"
          ]
        },
        {
          "output_type": "stream",
          "name": "stdout",
          "text": [
            "Epoch: [19][1/52] Data 0.232 (0.232) Elapsed 0m 0s (remain 0m 47s) Loss: 0.002(0.002) Acc: 1.000(1.000) f1_Acc: 1.000(1.000) sent/s 138 \n"
          ]
        },
        {
          "output_type": "error",
          "ename": "KeyboardInterrupt",
          "evalue": "ignored",
          "traceback": [
            "\u001b[0;31m---------------------------------------------------------------------------\u001b[0m",
            "\u001b[0;31mKeyboardInterrupt\u001b[0m                         Traceback (most recent call last)",
            "\u001b[0;32m<ipython-input-38-42af27872f05>\u001b[0m in \u001b[0;36m<module>\u001b[0;34m()\u001b[0m\n\u001b[1;32m     94\u001b[0m     \u001b[0mdevice\u001b[0m\u001b[0;34m,\u001b[0m\u001b[0;34m\u001b[0m\u001b[0;34m\u001b[0m\u001b[0m\n\u001b[1;32m     95\u001b[0m     \u001b[0mscheduler\u001b[0m\u001b[0;34m,\u001b[0m\u001b[0;34m\u001b[0m\u001b[0;34m\u001b[0m\u001b[0m\n\u001b[0;32m---> 96\u001b[0;31m     \u001b[0mlen\u001b[0m\u001b[0;34m(\u001b[0m\u001b[0mtrain\u001b[0m\u001b[0;34m)\u001b[0m\u001b[0;34m\u001b[0m\u001b[0;34m\u001b[0m\u001b[0m\n\u001b[0m\u001b[1;32m     97\u001b[0m   )\n\u001b[1;32m     98\u001b[0m   validate_acc, validate_loss = validate(\n",
            "\u001b[0;32m<ipython-input-38-42af27872f05>\u001b[0m in \u001b[0;36mtrain_epoch\u001b[0;34m(model, data_loader, loss_fn, optimizer, device, scheduler, n_examples)\u001b[0m\n\u001b[1;32m     31\u001b[0m     \u001b[0mlosses\u001b[0m\u001b[0;34m.\u001b[0m\u001b[0mupdate\u001b[0m\u001b[0;34m(\u001b[0m\u001b[0mloss\u001b[0m\u001b[0;34m.\u001b[0m\u001b[0mitem\u001b[0m\u001b[0;34m(\u001b[0m\u001b[0;34m)\u001b[0m\u001b[0;34m,\u001b[0m \u001b[0mbatch_size\u001b[0m\u001b[0;34m)\u001b[0m\u001b[0;34m\u001b[0m\u001b[0;34m\u001b[0m\u001b[0m\n\u001b[1;32m     32\u001b[0m     \u001b[0mloss\u001b[0m\u001b[0;34m.\u001b[0m\u001b[0mbackward\u001b[0m\u001b[0;34m(\u001b[0m\u001b[0;34m)\u001b[0m\u001b[0;34m\u001b[0m\u001b[0;34m\u001b[0m\u001b[0m\n\u001b[0;32m---> 33\u001b[0;31m     \u001b[0mnn\u001b[0m\u001b[0;34m.\u001b[0m\u001b[0mutils\u001b[0m\u001b[0;34m.\u001b[0m\u001b[0mclip_grad_norm_\u001b[0m\u001b[0;34m(\u001b[0m\u001b[0mmodel\u001b[0m\u001b[0;34m.\u001b[0m\u001b[0mparameters\u001b[0m\u001b[0;34m(\u001b[0m\u001b[0;34m)\u001b[0m\u001b[0;34m,\u001b[0m \u001b[0mmax_norm\u001b[0m\u001b[0;34m=\u001b[0m\u001b[0;36m1.0\u001b[0m\u001b[0;34m)\u001b[0m\u001b[0;34m\u001b[0m\u001b[0;34m\u001b[0m\u001b[0m\n\u001b[0m\u001b[1;32m     34\u001b[0m     \u001b[0moptimizer\u001b[0m\u001b[0;34m.\u001b[0m\u001b[0mstep\u001b[0m\u001b[0;34m(\u001b[0m\u001b[0;34m)\u001b[0m\u001b[0;34m\u001b[0m\u001b[0;34m\u001b[0m\u001b[0m\n\u001b[1;32m     35\u001b[0m     \u001b[0mscheduler\u001b[0m\u001b[0;34m.\u001b[0m\u001b[0mstep\u001b[0m\u001b[0;34m(\u001b[0m\u001b[0;34m)\u001b[0m\u001b[0;34m\u001b[0m\u001b[0;34m\u001b[0m\u001b[0m\n",
            "\u001b[0;32m/usr/local/lib/python3.7/dist-packages/torch/nn/utils/clip_grad.py\u001b[0m in \u001b[0;36mclip_grad_norm_\u001b[0;34m(parameters, max_norm, norm_type, error_if_nonfinite)\u001b[0m\n\u001b[1;32m     30\u001b[0m     \u001b[0;32mif\u001b[0m \u001b[0misinstance\u001b[0m\u001b[0;34m(\u001b[0m\u001b[0mparameters\u001b[0m\u001b[0;34m,\u001b[0m \u001b[0mtorch\u001b[0m\u001b[0;34m.\u001b[0m\u001b[0mTensor\u001b[0m\u001b[0;34m)\u001b[0m\u001b[0;34m:\u001b[0m\u001b[0;34m\u001b[0m\u001b[0;34m\u001b[0m\u001b[0m\n\u001b[1;32m     31\u001b[0m         \u001b[0mparameters\u001b[0m \u001b[0;34m=\u001b[0m \u001b[0;34m[\u001b[0m\u001b[0mparameters\u001b[0m\u001b[0;34m]\u001b[0m\u001b[0;34m\u001b[0m\u001b[0;34m\u001b[0m\u001b[0m\n\u001b[0;32m---> 32\u001b[0;31m     \u001b[0mparameters\u001b[0m \u001b[0;34m=\u001b[0m \u001b[0;34m[\u001b[0m\u001b[0mp\u001b[0m \u001b[0;32mfor\u001b[0m \u001b[0mp\u001b[0m \u001b[0;32min\u001b[0m \u001b[0mparameters\u001b[0m \u001b[0;32mif\u001b[0m \u001b[0mp\u001b[0m\u001b[0;34m.\u001b[0m\u001b[0mgrad\u001b[0m \u001b[0;32mis\u001b[0m \u001b[0;32mnot\u001b[0m \u001b[0;32mNone\u001b[0m\u001b[0;34m]\u001b[0m\u001b[0;34m\u001b[0m\u001b[0;34m\u001b[0m\u001b[0m\n\u001b[0m\u001b[1;32m     33\u001b[0m     \u001b[0mmax_norm\u001b[0m \u001b[0;34m=\u001b[0m \u001b[0mfloat\u001b[0m\u001b[0;34m(\u001b[0m\u001b[0mmax_norm\u001b[0m\u001b[0;34m)\u001b[0m\u001b[0;34m\u001b[0m\u001b[0;34m\u001b[0m\u001b[0m\n\u001b[1;32m     34\u001b[0m     \u001b[0mnorm_type\u001b[0m \u001b[0;34m=\u001b[0m \u001b[0mfloat\u001b[0m\u001b[0;34m(\u001b[0m\u001b[0mnorm_type\u001b[0m\u001b[0;34m)\u001b[0m\u001b[0;34m\u001b[0m\u001b[0;34m\u001b[0m\u001b[0m\n",
            "\u001b[0;32m/usr/local/lib/python3.7/dist-packages/torch/nn/utils/clip_grad.py\u001b[0m in \u001b[0;36m<listcomp>\u001b[0;34m(.0)\u001b[0m\n\u001b[1;32m     30\u001b[0m     \u001b[0;32mif\u001b[0m \u001b[0misinstance\u001b[0m\u001b[0;34m(\u001b[0m\u001b[0mparameters\u001b[0m\u001b[0;34m,\u001b[0m \u001b[0mtorch\u001b[0m\u001b[0;34m.\u001b[0m\u001b[0mTensor\u001b[0m\u001b[0;34m)\u001b[0m\u001b[0;34m:\u001b[0m\u001b[0;34m\u001b[0m\u001b[0;34m\u001b[0m\u001b[0m\n\u001b[1;32m     31\u001b[0m         \u001b[0mparameters\u001b[0m \u001b[0;34m=\u001b[0m \u001b[0;34m[\u001b[0m\u001b[0mparameters\u001b[0m\u001b[0;34m]\u001b[0m\u001b[0;34m\u001b[0m\u001b[0;34m\u001b[0m\u001b[0m\n\u001b[0;32m---> 32\u001b[0;31m     \u001b[0mparameters\u001b[0m \u001b[0;34m=\u001b[0m \u001b[0;34m[\u001b[0m\u001b[0mp\u001b[0m \u001b[0;32mfor\u001b[0m \u001b[0mp\u001b[0m \u001b[0;32min\u001b[0m \u001b[0mparameters\u001b[0m \u001b[0;32mif\u001b[0m \u001b[0mp\u001b[0m\u001b[0;34m.\u001b[0m\u001b[0mgrad\u001b[0m \u001b[0;32mis\u001b[0m \u001b[0;32mnot\u001b[0m \u001b[0;32mNone\u001b[0m\u001b[0;34m]\u001b[0m\u001b[0;34m\u001b[0m\u001b[0;34m\u001b[0m\u001b[0m\n\u001b[0m\u001b[1;32m     33\u001b[0m     \u001b[0mmax_norm\u001b[0m \u001b[0;34m=\u001b[0m \u001b[0mfloat\u001b[0m\u001b[0;34m(\u001b[0m\u001b[0mmax_norm\u001b[0m\u001b[0;34m)\u001b[0m\u001b[0;34m\u001b[0m\u001b[0;34m\u001b[0m\u001b[0m\n\u001b[1;32m     34\u001b[0m     \u001b[0mnorm_type\u001b[0m \u001b[0;34m=\u001b[0m \u001b[0mfloat\u001b[0m\u001b[0;34m(\u001b[0m\u001b[0mnorm_type\u001b[0m\u001b[0;34m)\u001b[0m\u001b[0;34m\u001b[0m\u001b[0;34m\u001b[0m\u001b[0m\n",
            "\u001b[0;31mKeyboardInterrupt\u001b[0m: "
          ]
        }
      ]
    },
    {
      "cell_type": "code",
      "metadata": {
        "colab": {
          "base_uri": "https://localhost:8080/"
        },
        "id": "GydFfVUhc9m0",
        "outputId": "ae9810bb-ad5a-449f-f784-c973c59bb94b"
      },
      "source": [
        "def validate_matrix(model,data_loader,loss_fn,optimizer,device,scheduler):\n",
        "  model = model.eval()\n",
        "  losses = []\n",
        "  correct_predictions = 0\n",
        "  conf = np.zeros((31,31),dtype=np.int16)\n",
        "\n",
        "  for d in tqdm(data_loader):\n",
        "    input_ids = d[\"input_ids\"].to(device)\n",
        "    attention_mask = d[\"attention_mask\"].to(device)\n",
        "    targets = d[\"targets\"].to(device)\n",
        "    outputs = model(\n",
        "      input_ids=input_ids,\n",
        "      attention_mask=attention_mask\n",
        "    )\n",
        "    _, preds = torch.max(outputs, dim=1)\n",
        "    loss = loss_fn(outputs, targets)\n",
        "    for i in range(len(preds)):\n",
        "      conf[preds[i].item()][targets[i].item()] +=1\n",
        "    correct_predictions += torch.sum(preds == targets)\n",
        "    losses.append(loss.item())\n",
        "    nn.utils.clip_grad_norm_(model.parameters(), max_norm=1.0)\n",
        "\n",
        "  return conf\n",
        "conf = validate_matrix(\n",
        "  model_bert_kor_base,\n",
        "  valid_data_loader,\n",
        "  loss_fn,\n",
        "  optimizer,\n",
        "  device,\n",
        "  scheduler\n",
        ")"
      ],
      "execution_count": null,
      "outputs": [
        {
          "output_type": "stream",
          "name": "stderr",
          "text": [
            "100%|██████████| 2/2 [00:00<00:00,  3.59it/s]\n"
          ]
        }
      ]
    },
    {
      "cell_type": "code",
      "metadata": {
        "colab": {
          "base_uri": "https://localhost:8080/"
        },
        "id": "P11DoVoQc9pe",
        "outputId": "1dd55a82-5289-4460-b980-2549d3434fe2"
      },
      "source": [
        "for i in conf:\n",
        "  print(i)"
      ],
      "execution_count": null,
      "outputs": [
        {
          "output_type": "stream",
          "name": "stdout",
          "text": [
            "[14  0  0  0  0  0  0  0  0  0  0  0  0  0  0  0  0  0  0  0  0  0  0  0\n",
            "  0  0  0  0  0  0  0]\n",
            "[0 0 0 0 0 0 0 0 0 0 0 0 0 0 0 0 0 0 0 0 0 0 0 0 0 0 0 0 0 0 0]\n",
            "[ 1  1 21  1  0  0  0  0  0  0  0  0  0  0  0  0  0  1  0  0  0  0  0  0\n",
            "  0  0  0  0  0  0  0]\n",
            "[0 0 1 1 0 0 0 0 0 0 0 0 0 0 0 0 0 0 0 0 0 0 0 0 0 0 0 0 0 0 0]\n",
            "[0 0 1 0 1 0 0 0 0 0 0 0 0 0 0 0 0 0 0 0 0 0 0 0 0 0 0 0 0 0 0]\n",
            "[0 0 0 0 0 4 0 0 0 0 0 0 0 0 0 0 0 0 0 0 0 0 0 0 0 0 0 0 0 0 0]\n",
            "[0 0 0 0 0 0 1 0 0 0 0 0 0 0 0 0 0 0 0 0 0 0 0 0 0 0 0 0 0 0 1]\n",
            "[0 0 0 0 0 0 0 4 0 0 0 0 0 0 0 0 0 0 0 0 0 0 0 0 0 0 0 0 0 0 0]\n",
            "[0 0 0 0 0 0 0 0 0 0 0 0 0 0 0 0 0 0 0 0 0 0 0 0 0 0 0 0 0 0 0]\n",
            "[0 0 1 0 0 0 0 0 0 1 0 0 0 0 0 0 0 0 0 0 0 0 0 0 0 0 0 0 0 0 0]\n",
            "[0 0 0 0 0 0 0 0 0 0 2 0 0 0 0 0 0 0 0 0 0 0 0 0 0 0 0 0 0 0 0]\n",
            "[0 0 0 0 0 0 0 0 0 0 0 0 0 0 0 0 0 0 0 0 0 0 0 0 0 0 0 0 0 0 0]\n",
            "[0 0 0 0 0 0 0 0 0 0 0 0 3 0 0 0 0 0 0 0 0 0 0 0 0 0 0 0 0 0 0]\n",
            "[0 0 0 0 0 0 0 0 0 0 0 0 0 8 0 0 0 0 0 0 0 0 0 0 0 0 0 0 0 0 0]\n",
            "[0 0 0 0 0 0 0 0 0 0 0 0 0 0 2 0 0 0 0 0 0 0 0 0 0 0 0 0 0 0 0]\n",
            "[0 0 0 0 0 0 0 0 0 0 0 0 0 0 0 2 0 0 0 0 0 0 0 0 0 0 0 0 0 0 0]\n",
            "[ 0  0  0  0  0  0  0  0  0  0  0  0  0  0  0  0 19  0  0  0  0  0  0  0\n",
            "  1  0  0  1  0  0  0]\n",
            "[0 0 0 0 0 0 0 0 0 0 0 0 0 0 0 0 0 0 0 0 0 0 0 0 0 0 0 0 0 0 0]\n",
            "[0 0 0 0 0 0 0 0 0 0 0 0 0 0 0 0 0 0 2 0 0 0 0 0 0 0 0 0 0 0 0]\n",
            "[0 0 0 0 0 0 0 0 1 0 0 0 0 0 0 0 0 0 0 5 0 0 0 0 0 0 0 0 0 0 0]\n",
            "[0 0 0 0 0 0 0 0 0 0 0 0 0 0 0 0 0 0 0 0 1 0 0 0 0 0 0 0 0 0 0]\n",
            "[0 0 0 0 0 0 0 0 0 0 0 0 0 0 0 0 0 0 0 0 0 3 0 0 0 0 0 0 0 0 0]\n",
            "[0 0 0 0 0 0 0 0 0 0 0 0 0 0 0 0 0 0 0 0 0 0 1 0 0 0 0 0 0 0 0]\n",
            "[0 0 0 0 0 0 0 0 0 0 0 0 0 0 0 0 0 0 0 0 0 0 0 2 0 0 0 0 0 0 0]\n",
            "[ 0  0  0  0  0  0  0  0  0  0  0  0  0  0  0  0  0  0  0  0  0  0  1  0\n",
            " 15  0  0  1  0  0  0]\n",
            "[0 0 0 0 0 0 0 0 0 0 0 0 1 0 0 0 0 0 0 0 0 0 0 0 0 3 0 0 0 0 0]\n",
            "[0 0 0 0 0 0 0 0 0 0 0 0 0 0 0 0 0 0 0 0 0 0 0 0 0 0 2 0 0 0 0]\n",
            "[0 0 0 0 0 0 0 0 0 0 0 0 0 0 0 0 0 0 0 0 0 0 0 0 0 0 0 6 0 0 0]\n",
            "[0 0 0 0 0 0 0 0 0 0 0 0 0 0 0 0 0 0 0 0 0 0 0 0 0 0 0 0 2 0 0]\n",
            "[0 0 0 0 0 0 0 0 0 0 0 0 0 0 0 0 0 0 0 0 0 0 0 0 0 0 0 0 0 3 0]\n",
            "[0 0 0 0 0 0 0 0 0 0 0 0 0 0 0 0 0 0 0 0 0 0 0 0 0 0 0 0 0 0 1]\n"
          ]
        }
      ]
    },
    {
      "cell_type": "code",
      "metadata": {
        "colab": {
          "base_uri": "https://localhost:8080/"
        },
        "id": "A3G9todjxHKw",
        "outputId": "4c362874-9cdb-4573-d07c-d16221f0737c"
      },
      "source": [
        "for i in range(31):\n",
        "  for j in range(31):\n",
        "    cnt += conf[i][j]\n",
        "  print(\"라벨\",i,\"의 정확도: \",conf[i][i]/cnt)\n",
        "  cnt = 0"
      ],
      "execution_count": null,
      "outputs": [
        {
          "output_type": "stream",
          "name": "stdout",
          "text": [
            "라벨 0 의 정확도:  0.3181818181818182\n",
            "라벨 1 의 정확도:  nan\n",
            "라벨 2 의 정확도:  0.84\n",
            "라벨 3 의 정확도:  0.5\n",
            "라벨 4 의 정확도:  0.5\n",
            "라벨 5 의 정확도:  1.0\n",
            "라벨 6 의 정확도:  0.5\n",
            "라벨 7 의 정확도:  1.0\n",
            "라벨 8 의 정확도:  nan\n",
            "라벨 9 의 정확도:  0.5\n",
            "라벨 10 의 정확도:  1.0\n",
            "라벨 11 의 정확도:  nan\n",
            "라벨 12 의 정확도:  1.0\n",
            "라벨 13 의 정확도:  1.0\n",
            "라벨 14 의 정확도:  1.0\n",
            "라벨 15 의 정확도:  1.0\n",
            "라벨 16 의 정확도:  0.9047619047619048\n",
            "라벨 17 의 정확도:  nan\n",
            "라벨 18 의 정확도:  1.0\n",
            "라벨 19 의 정확도:  0.8333333333333334\n",
            "라벨 20 의 정확도:  1.0\n",
            "라벨 21 의 정확도:  1.0\n",
            "라벨 22 의 정확도:  1.0\n",
            "라벨 23 의 정확도:  1.0\n",
            "라벨 24 의 정확도:  0.8823529411764706\n",
            "라벨 25 의 정확도:  0.75\n",
            "라벨 26 의 정확도:  1.0\n",
            "라벨 27 의 정확도:  1.0\n",
            "라벨 28 의 정확도:  1.0\n",
            "라벨 29 의 정확도:  1.0\n",
            "라벨 30 의 정확도:  1.0\n"
          ]
        }
      ]
    },
    {
      "cell_type": "markdown",
      "metadata": {
        "id": "kiPN_uyxaK_X"
      },
      "source": [
        "## Funnel-kor-base (pretrained)"
      ]
    },
    {
      "cell_type": "markdown",
      "metadata": {
        "id": "IFGGUG89wzPO"
      },
      "source": [
        "### oversampling Version"
      ]
    },
    {
      "cell_type": "code",
      "metadata": {
        "colab": {
          "base_uri": "https://localhost:8080/",
          "height": 1000,
          "referenced_widgets": [
            "176df1e9acf640958fd396ccdae4136b",
            "00b78a2d498946a4900e01278b7d436d",
            "fef99705313e47639e0edffc2a02dd89",
            "b7bd1dbf1dd041e4a2c44033639427f0",
            "b9a039c1c1ab48a6bf4a234c5848bd06",
            "2861c323e1d248ab853343b26b890b59",
            "2e36d0dc555744a1a78420b8daf27a39",
            "bb5d0575438b4e4aad9b7b8313b47bf0",
            "3dae216809854d1099a39d9c08403a33",
            "9d7818198d8f472aa3e4fac3a9530344",
            "945f111fb7ac45cb9204bee1e27a1641",
            "f8cd67371d164f8db4c77f6c80285642",
            "12e2ad581bf44b0b876d8c2ae87d2c7f",
            "369163e9e9154c83aab827996f269a94",
            "97038fc40b1444d4b22a687d8c3c6c8b",
            "574e4b971d6f429db1cd3e055f6a25bd",
            "a16121fc05d04264b5f6dbab53d2ddb3",
            "48f39813baa5411b9d178238e9b55e23",
            "f677987ee9964f82be3c5c0c883f13da",
            "36ba615e9a134f8b9fe4a4351f9b9196",
            "12c6bc4ea23a416b92c9273e6358f949",
            "1fe40518142b46d5abb5dc580d156319",
            "1578063aa31441c098a476504de4f40c",
            "e732c76f61ea453da34f26ef321d103c",
            "cbba749e3c4d4a9d9fa354e7e78d86a5",
            "9842fface4044e38b631b14c9384aadf",
            "84c5abfa393f4cb4a67936308266ebc1",
            "229e54d0a5dd4184a0136182803e2e16",
            "a4a9aad7de5e425fac621af157749667",
            "e1766e3d49bb4d8f9bde301282dd1ead",
            "941af46601b3439796a9fac7f426c713",
            "ac9f758a71a4471c80ecf333039317a8",
            "68e948d51884477981c4d79cf970e785",
            "ad9b69ebacd04e848842b25014537ae0",
            "20cdfadc28df4a868a7c42b9b051642c",
            "54eb6e7d797346478e2fda7e824355c5",
            "5200e7dd28df49b6a3a37d4fe20a57ee",
            "38f543190ad54f38b19014f15cf81490",
            "73c843ae509a467b9aa44cc74d32109a",
            "0dee403ef6094f9ab88fbf3865c348c2",
            "fe37bb1da885416286d20d3a6bff13f6",
            "1520d259e5e9405cb1c7024b6e1c7ea2",
            "30c2c490701349a2b50caccfb28e3e44",
            "527cdabad41146208362899ee3c7fea9",
            "868365bede98441cbfe693ea7ea8d9c0",
            "b50588eaff384ba0a41724044dfe51c5",
            "2af56585c8444e7a9f888f787186dd16",
            "1f270d7c24ee4da8ab6ec31ba1ef8d7e",
            "50437e2d401f48089e7933cbe99ddf5e",
            "473e108af630487582e68616a58542bc",
            "365586f62ac342ffb5e06c32313b87f5",
            "5d62c690729a4e7d9fb2d20c8b90c5dd",
            "fa079e94790545108e8ff3951f22b794",
            "08b8f938815e464a999619a41ec549b4",
            "7dd82d4fe3514aa4b04e898f811914a7"
          ]
        },
        "id": "u0Mvs0UAwYfg",
        "outputId": "5e72ce5c-1cbf-4cce-838e-33271403b53f"
      },
      "source": [
        "from transformers import AutoTokenizer, AutoModelForSequenceClassification, AutoModel,BertTokenizerFast,FunnelTokenizerFast, FunnelModel, BertModel, AutoTokenizer\n",
        "\n",
        "tokenizer_funnel = FunnelTokenizerFast.from_pretrained(\"kykim/funnel-kor-base\")\n",
        "BATCH_SIZE =128\n",
        "MAX_LEN =64\n",
        "train_data_loader = create_data_loader(train, tokenizer_funnel, MAX_LEN, BATCH_SIZE, shuffle_=True)\n",
        "valid_data_loader = create_data_loader(valid, tokenizer_funnel, MAX_LEN, BATCH_SIZE, valid=True)\n",
        "\n",
        "class ReviewClassifier(nn.Module):\n",
        "  def __init__(self, n_classes):\n",
        "    super(ReviewClassifier, self).__init__()\n",
        "    self.bert = BertModel.from_pretrained(\"kykim/funnel-kor-base\")\n",
        "    self.drop = nn.Dropout(p=0.5)\n",
        "    self.out = nn.Linear(self.bert.config.hidden_size, n_classes)\n",
        "  def forward(self, input_ids, attention_mask):\n",
        "    _, pooled_output = self.bert(\n",
        "      input_ids=input_ids,\n",
        "      attention_mask=attention_mask,\n",
        "       return_dict=False\n",
        "    )\n",
        "    output = self.drop(pooled_output)\n",
        "    return self.out(output)\n",
        "\n",
        "device = torch.device(\"cuda\")\n",
        "\n",
        "def get_predictions(model, data_loader):\n",
        "  model = model.eval()\n",
        "  subject_texts = []\n",
        "  predictions = []\n",
        "  prediction_probs = []\n",
        "  with torch.no_grad():\n",
        "    for d in data_loader:\n",
        "      texts = d[\"subject_text\"]\n",
        "      input_ids = d[\"input_ids\"].to(device)\n",
        "      attention_mask = d[\"attention_mask\"].to(device)\n",
        "      targets = d[\"targets\"].to(device)\n",
        "      outputs = model(\n",
        "        input_ids=input_ids,\n",
        "        attention_mask=attention_mask\n",
        "      )\n",
        "      _, preds = torch.max(outputs, dim=1)\n",
        "      subject_texts.extend(texts)\n",
        "      predictions.extend(preds)\n",
        "      prediction_probs.extend(outputs)\n",
        "  predictions = torch.stack(predictions).cpu()\n",
        "  prediction_probs = torch.stack(prediction_probs).cpu()\n",
        "  return subject_texts, predictions, prediction_probs\n",
        "\n",
        "import gc\n",
        "\n",
        "\n",
        "EPOCHS = 15\n",
        "model_funnel = ReviewClassifier(n_classes=11).to(device)\n",
        "optimizer = AdamW(model_funnel.parameters(), lr=3e-5)\n",
        "total_steps = len(train_data_loader) * EPOCHS\n",
        "scheduler = get_cosine_schedule_with_warmup(\n",
        "  optimizer,\n",
        "  num_warmup_steps=int(total_steps*0.1),\n",
        "  num_training_steps=total_steps\n",
        ")\n",
        "loss_fn = nn.CrossEntropyLoss().to(device)\n",
        "\n",
        "from tqdm import tqdm\n",
        "def train_epoch(model,data_loader,loss_fn,optimizer,device,scheduler,n_examples):\n",
        "\n",
        "  batch_time = AverageMeter()  \n",
        "  data_time = AverageMeter()     \n",
        "  losses = AverageMeter()        \n",
        "  accuracies = AverageMeter()  \n",
        "  f1_accuracies = AverageMeter()\n",
        "  \n",
        "  sent_count = AverageMeter()     \n",
        "    \n",
        "\n",
        "  start = end = time.time()\n",
        "\n",
        "  model = model.train()\n",
        "  correct_predictions = 0\n",
        "  for step,d in enumerate(data_loader):\n",
        "    data_time.update(time.time() - end)\n",
        "    batch_size = d[\"input_ids\"].size(0) \n",
        "\n",
        "    input_ids = d[\"input_ids\"].to(device)\n",
        "    attention_mask = d[\"attention_mask\"].to(device)\n",
        "    targets = d[\"targets\"].to(device)\n",
        "    outputs = model(\n",
        "      input_ids=input_ids,\n",
        "      attention_mask=attention_mask\n",
        "    )\n",
        "    _, preds = torch.max(outputs, dim=1)\n",
        "    loss = loss_fn(outputs, targets)\n",
        "    correct_predictions += torch.sum(preds == targets)\n",
        "    losses.update(loss.item(), batch_size)\n",
        "    loss.backward()\n",
        "    nn.utils.clip_grad_norm_(model.parameters(), max_norm=1.0)\n",
        "    optimizer.step()\n",
        "    scheduler.step()\n",
        "    optimizer.zero_grad()\n",
        "\n",
        "    batch_time.update(time.time() - end)\n",
        "    end = time.time()\n",
        "\n",
        "    sent_count.update(batch_size)\n",
        "    if step % 200 == 0 or step == (len(data_loader)-1):\n",
        "                acc,f1_acc = calc_review_acc(outputs, targets)\n",
        "                accuracies.update(acc, batch_size)\n",
        "                f1_accuracies.update(f1_acc, batch_size)\n",
        "\n",
        "                \n",
        "                print('Epoch: [{0}][{1}/{2}] '\n",
        "                      'Data {data_time.val:.3f} ({data_time.avg:.3f}) '\n",
        "                      'Elapsed {remain:s} '\n",
        "                      'Loss: {loss.val:.3f}({loss.avg:.3f}) '\n",
        "                      'Acc: {acc.val:.3f}({acc.avg:.3f}) '   \n",
        "                      'f1_Acc: {f1_acc.val:.3f}({f1_acc.avg:.3f}) '           \n",
        "                      'sent/s {sent_s:.0f} '\n",
        "                      .format(\n",
        "                      epoch, step+1, len(data_loader),\n",
        "                      data_time=data_time, loss=losses,\n",
        "                      acc=accuracies,\n",
        "                      f1_acc=f1_accuracies,\n",
        "                      remain=timeSince(start, float(step+1)/len(data_loader)),\n",
        "                      sent_s=sent_count.avg/batch_time.avg\n",
        "                      ))\n",
        "\n",
        "  return correct_predictions.double() / n_examples, losses.avg\n",
        "\n",
        "def validate(model,data_loader,loss_fn,optimizer,device,scheduler,n_examples):\n",
        "  model = model.eval()\n",
        "  losses = []\n",
        "  correct_predictions = 0\n",
        "  for d in tqdm(data_loader):\n",
        "    input_ids = d[\"input_ids\"].to(device)\n",
        "    attention_mask = d[\"attention_mask\"].to(device)\n",
        "    targets = d[\"targets\"].to(device)\n",
        "    outputs = model(\n",
        "      input_ids=input_ids,\n",
        "      attention_mask=attention_mask\n",
        "    )\n",
        "    _, preds = torch.max(outputs, dim=1)\n",
        "    loss = loss_fn(outputs, targets)\n",
        "    correct_predictions += torch.sum(preds == targets)\n",
        "    losses.append(loss.item())\n",
        "    nn.utils.clip_grad_norm_(model.parameters(), max_norm=1.0)\n",
        "  return correct_predictions.double() / n_examples, np.mean(losses)\n",
        "\n",
        "for epoch in range(EPOCHS):\n",
        "  print('-' * 10)\n",
        "  print(f'Epoch {epoch}/{EPOCHS-1}')\n",
        "  print('-' * 10)\n",
        "  train_acc, train_loss = train_epoch(\n",
        "    model_bert_kor_base,\n",
        "    train_data_loader,\n",
        "    loss_fn,\n",
        "    optimizer,\n",
        "    device,\n",
        "    scheduler,\n",
        "    len(train)\n",
        "  )\n",
        "  validate_acc, validate_loss = validate(\n",
        "    model_bert_kor_base,\n",
        "    valid_data_loader,\n",
        "    loss_fn,\n",
        "    optimizer,\n",
        "    device,\n",
        "    scheduler,\n",
        "    len(valid)\n",
        "  )\n",
        "  print(f'Train loss {train_loss} accuracy {train_acc}')\n",
        "  print(f'Validate loss {validate_loss} accuracy {validate_acc}')\n",
        "  print(\"\")\n",
        "  print(\"\")\n"
      ],
      "execution_count": null,
      "outputs": [
        {
          "output_type": "display_data",
          "data": {
            "application/vnd.jupyter.widget-view+json": {
              "model_id": "176df1e9acf640958fd396ccdae4136b",
              "version_minor": 0,
              "version_major": 2
            },
            "text/plain": [
              "Downloading:   0%|          | 0.00/336k [00:00<?, ?B/s]"
            ]
          },
          "metadata": {}
        },
        {
          "output_type": "display_data",
          "data": {
            "application/vnd.jupyter.widget-view+json": {
              "model_id": "f8cd67371d164f8db4c77f6c80285642",
              "version_minor": 0,
              "version_major": 2
            },
            "text/plain": [
              "Downloading:   0%|          | 0.00/153 [00:00<?, ?B/s]"
            ]
          },
          "metadata": {}
        },
        {
          "output_type": "display_data",
          "data": {
            "application/vnd.jupyter.widget-view+json": {
              "model_id": "1578063aa31441c098a476504de4f40c",
              "version_minor": 0,
              "version_major": 2
            },
            "text/plain": [
              "Downloading:   0%|          | 0.00/363 [00:00<?, ?B/s]"
            ]
          },
          "metadata": {}
        },
        {
          "output_type": "display_data",
          "data": {
            "application/vnd.jupyter.widget-view+json": {
              "model_id": "ad9b69ebacd04e848842b25014537ae0",
              "version_minor": 0,
              "version_major": 2
            },
            "text/plain": [
              "Downloading:   0%|          | 0.00/725 [00:00<?, ?B/s]"
            ]
          },
          "metadata": {}
        },
        {
          "output_type": "stream",
          "name": "stderr",
          "text": [
            "You are using a model of type funnel to instantiate a model of type bert. This is not supported for all configurations of models and can yield errors.\n"
          ]
        },
        {
          "output_type": "display_data",
          "data": {
            "application/vnd.jupyter.widget-view+json": {
              "model_id": "868365bede98441cbfe693ea7ea8d9c0",
              "version_minor": 0,
              "version_major": 2
            },
            "text/plain": [
              "Downloading:   0%|          | 0.00/709M [00:00<?, ?B/s]"
            ]
          },
          "metadata": {}
        },
        {
          "output_type": "stream",
          "name": "stderr",
          "text": [
            "Some weights of the model checkpoint at kykim/funnel-kor-base were not used when initializing BertModel: ['encoder.blocks.2.0.attention.v_head.weight', 'encoder.blocks.2.2.attention.layer_norm.bias', 'encoder.blocks.2.5.ffn.layer_norm.bias', 'encoder.blocks.0.4.attention.post_proj.bias', 'encoder.blocks.1.3.ffn.linear_2.weight', 'encoder.blocks.1.0.ffn.layer_norm.weight', 'decoder.layers.1.attention.layer_norm.weight', 'encoder.blocks.1.0.attention.layer_norm.weight', 'encoder.blocks.1.3.attention.r_s_bias', 'encoder.blocks.2.3.attention.k_head.weight', 'encoder.blocks.2.0.attention.q_head.weight', 'embeddings.layer_norm.weight', 'encoder.blocks.1.3.ffn.layer_norm.bias', 'encoder.blocks.0.3.attention.k_head.bias', 'decoder.layers.0.ffn.linear_1.weight', 'encoder.blocks.0.5.ffn.layer_norm.weight', 'encoder.blocks.0.4.attention.r_w_bias', 'encoder.blocks.0.1.attention.v_head.bias', 'encoder.blocks.2.1.attention.r_w_bias', 'encoder.blocks.2.5.attention.v_head.weight', 'encoder.blocks.2.5.ffn.layer_norm.weight', 'encoder.blocks.1.3.attention.k_head.bias', 'encoder.blocks.2.5.attention.layer_norm.weight', 'encoder.blocks.1.1.ffn.linear_1.weight', 'encoder.blocks.1.5.ffn.linear_1.bias', 'encoder.blocks.2.1.attention.r_kernel', 'encoder.blocks.2.3.attention.r_kernel', 'encoder.blocks.1.1.attention.post_proj.bias', 'encoder.blocks.2.3.ffn.linear_1.bias', 'encoder.blocks.1.1.attention.r_kernel', 'encoder.blocks.1.5.attention.r_w_bias', 'encoder.blocks.0.5.attention.k_head.bias', 'encoder.blocks.1.2.attention.r_r_bias', 'encoder.blocks.1.2.attention.q_head.weight', 'decoder.layers.1.attention.seg_embed', 'encoder.blocks.2.1.attention.seg_embed', 'decoder.layers.0.attention.r_s_bias', 'encoder.blocks.1.0.attention.k_head.bias', 'encoder.blocks.2.5.attention.v_head.bias', 'encoder.blocks.0.4.attention.v_head.weight', 'encoder.blocks.0.4.attention.k_head.weight', 'decoder.layers.0.attention.post_proj.weight', 'encoder.blocks.0.2.ffn.layer_norm.weight', 'decoder.layers.0.attention.r_r_bias', 'decoder.layers.1.ffn.linear_2.weight', 'encoder.blocks.0.1.attention.r_kernel', 'encoder.blocks.2.2.ffn.linear_2.bias', 'encoder.blocks.1.2.attention.post_proj.weight', 'encoder.blocks.0.1.ffn.layer_norm.weight', 'encoder.blocks.1.0.attention.q_head.weight', 'encoder.blocks.2.3.attention.q_head.weight', 'encoder.blocks.1.4.attention.r_w_bias', 'encoder.blocks.0.4.attention.k_head.bias', 'encoder.blocks.1.4.ffn.layer_norm.weight', 'encoder.blocks.0.1.attention.layer_norm.bias', 'encoder.blocks.1.1.attention.k_head.weight', 'encoder.blocks.1.2.attention.r_w_bias', 'encoder.blocks.1.1.attention.r_w_bias', 'encoder.blocks.2.2.attention.v_head.weight', 'encoder.blocks.2.2.attention.layer_norm.weight', 'encoder.blocks.0.4.attention.seg_embed', 'encoder.blocks.2.3.attention.seg_embed', 'encoder.blocks.0.1.attention.q_head.weight', 'encoder.blocks.0.5.attention.k_head.weight', 'encoder.blocks.2.0.ffn.linear_2.weight', 'encoder.blocks.0.3.attention.seg_embed', 'encoder.blocks.2.0.ffn.linear_1.bias', 'encoder.blocks.0.2.attention.layer_norm.weight', 'encoder.blocks.1.3.attention.v_head.bias', 'encoder.blocks.1.4.attention.r_s_bias', 'encoder.blocks.0.2.attention.k_head.weight', 'encoder.blocks.0.5.attention.r_s_bias', 'encoder.blocks.2.3.ffn.linear_2.bias', 'encoder.blocks.0.1.attention.k_head.bias', 'encoder.blocks.2.4.ffn.layer_norm.bias', 'encoder.blocks.0.4.ffn.linear_1.weight', 'encoder.blocks.2.0.attention.layer_norm.bias', 'encoder.blocks.0.3.attention.v_head.weight', 'encoder.blocks.0.3.attention.r_w_bias', 'encoder.blocks.2.3.attention.layer_norm.weight', 'encoder.blocks.0.1.ffn.linear_2.weight', 'encoder.blocks.0.5.attention.layer_norm.bias', 'encoder.blocks.2.0.attention.post_proj.bias', 'encoder.blocks.2.4.ffn.layer_norm.weight', 'encoder.blocks.2.0.attention.r_kernel', 'decoder.layers.1.attention.k_head.weight', 'encoder.blocks.1.3.attention.k_head.weight', 'encoder.blocks.0.3.ffn.linear_1.weight', 'encoder.blocks.1.0.attention.post_proj.weight', 'decoder.layers.0.attention.v_head.bias', 'encoder.blocks.1.5.attention.post_proj.weight', 'encoder.blocks.0.1.attention.v_head.weight', 'encoder.blocks.0.0.attention.post_proj.weight', 'decoder.layers.1.attention.r_w_bias', 'encoder.blocks.1.3.attention.layer_norm.weight', 'encoder.blocks.0.0.attention.q_head.weight', 'encoder.blocks.0.1.attention.r_r_bias', 'encoder.blocks.2.3.attention.r_r_bias', 'encoder.blocks.2.4.ffn.linear_1.weight', 'decoder.layers.0.attention.r_kernel', 'encoder.blocks.1.3.attention.post_proj.bias', 'encoder.blocks.1.3.ffn.linear_1.weight', 'encoder.blocks.1.0.attention.k_head.weight', 'decoder.layers.1.attention.v_head.bias', 'encoder.blocks.0.1.ffn.linear_2.bias', 'encoder.blocks.0.3.attention.post_proj.weight', 'encoder.blocks.1.0.attention.r_w_bias', 'encoder.blocks.2.5.attention.post_proj.bias', 'encoder.blocks.0.2.attention.r_r_bias', 'encoder.blocks.1.4.attention.layer_norm.weight', 'encoder.blocks.0.2.ffn.layer_norm.bias', 'decoder.layers.1.attention.k_head.bias', 'encoder.blocks.0.0.attention.k_head.bias', 'decoder.layers.1.attention.post_proj.bias', 'encoder.blocks.1.5.attention.post_proj.bias', 'encoder.blocks.2.4.attention.r_r_bias', 'encoder.blocks.0.5.attention.v_head.bias', 'decoder.layers.0.attention.layer_norm.weight', 'encoder.blocks.0.0.attention.r_w_bias', 'decoder.layers.1.attention.r_r_bias', 'encoder.blocks.2.2.attention.post_proj.weight', 'encoder.blocks.0.1.ffn.linear_1.weight', 'encoder.blocks.0.2.attention.r_kernel', 'encoder.blocks.1.2.attention.v_head.weight', 'encoder.blocks.0.3.attention.v_head.bias', 'encoder.blocks.1.4.attention.r_r_bias', 'encoder.blocks.0.5.attention.layer_norm.weight', 'decoder.layers.0.attention.layer_norm.bias', 'embeddings.layer_norm.bias', 'encoder.blocks.0.5.attention.q_head.weight', 'decoder.layers.1.ffn.layer_norm.bias', 'decoder.layers.1.attention.q_head.weight', 'decoder.layers.0.attention.q_head.weight', 'encoder.blocks.0.1.ffn.linear_1.bias', 'encoder.blocks.1.2.attention.r_s_bias', 'encoder.blocks.0.1.attention.k_head.weight', 'encoder.blocks.1.3.attention.q_head.weight', 'encoder.blocks.0.2.attention.layer_norm.bias', 'encoder.blocks.2.5.attention.k_head.bias', 'encoder.blocks.1.2.ffn.linear_1.weight', 'encoder.blocks.0.2.attention.r_w_bias', 'decoder.layers.0.attention.post_proj.bias', 'encoder.blocks.0.2.attention.r_s_bias', 'decoder.layers.0.ffn.layer_norm.weight', 'encoder.blocks.1.5.attention.layer_norm.bias', 'encoder.blocks.2.4.ffn.linear_2.bias', 'encoder.blocks.1.0.attention.v_head.bias', 'decoder.layers.0.attention.k_head.bias', 'encoder.blocks.0.0.attention.r_s_bias', 'encoder.blocks.1.2.attention.seg_embed', 'encoder.blocks.1.3.attention.v_head.weight', 'encoder.blocks.1.4.ffn.linear_1.bias', 'encoder.blocks.1.2.attention.k_head.bias', 'encoder.blocks.1.5.attention.k_head.bias', 'decoder.layers.1.attention.v_head.weight', 'encoder.blocks.1.4.attention.post_proj.weight', 'encoder.blocks.1.4.attention.v_head.weight', 'encoder.blocks.2.4.attention.r_s_bias', 'encoder.blocks.1.3.attention.post_proj.weight', 'encoder.blocks.1.5.ffn.linear_2.bias', 'decoder.layers.1.ffn.linear_2.bias', 'encoder.blocks.2.1.ffn.linear_1.bias', 'encoder.blocks.0.5.ffn.layer_norm.bias', 'decoder.layers.0.attention.v_head.weight', 'encoder.blocks.0.2.ffn.linear_2.weight', 'encoder.blocks.0.0.ffn.linear_1.weight', 'encoder.blocks.1.5.ffn.layer_norm.weight', 'encoder.blocks.1.5.attention.seg_embed', 'encoder.blocks.2.0.attention.seg_embed', 'encoder.blocks.0.4.ffn.layer_norm.weight', 'encoder.blocks.2.4.attention.v_head.bias', 'encoder.blocks.0.1.attention.post_proj.bias', 'encoder.blocks.2.1.attention.r_r_bias', 'encoder.blocks.2.0.ffn.layer_norm.weight', 'encoder.blocks.2.1.attention.v_head.weight', 'encoder.blocks.0.4.attention.r_s_bias', 'encoder.blocks.1.1.attention.post_proj.weight', 'encoder.blocks.1.5.attention.q_head.weight', 'encoder.blocks.1.5.attention.v_head.weight', 'encoder.blocks.1.5.ffn.linear_2.weight', 'decoder.layers.1.attention.r_s_bias', 'encoder.blocks.1.3.attention.r_kernel', 'encoder.blocks.1.1.attention.r_r_bias', 'encoder.blocks.2.4.attention.layer_norm.bias', 'encoder.blocks.1.2.attention.layer_norm.weight', 'decoder.layers.1.attention.r_kernel', 'encoder.blocks.2.1.attention.layer_norm.weight', 'encoder.blocks.1.3.attention.seg_embed', 'encoder.blocks.0.1.attention.layer_norm.weight', 'encoder.blocks.2.2.attention.seg_embed', 'encoder.blocks.2.2.ffn.layer_norm.bias', 'encoder.blocks.2.4.attention.v_head.weight', 'decoder.layers.0.attention.r_w_bias', 'encoder.blocks.2.0.attention.r_r_bias', 'encoder.blocks.2.0.attention.k_head.weight', 'encoder.blocks.1.1.attention.seg_embed', 'encoder.blocks.0.4.attention.layer_norm.bias', 'encoder.blocks.0.5.attention.post_proj.bias', 'encoder.blocks.1.1.ffn.linear_1.bias', 'encoder.blocks.2.0.attention.k_head.bias', 'encoder.blocks.2.3.attention.post_proj.weight', 'encoder.blocks.1.4.attention.k_head.weight', 'encoder.blocks.2.4.attention.post_proj.bias', 'encoder.blocks.2.3.attention.v_head.weight', 'encoder.blocks.0.4.attention.layer_norm.weight', 'encoder.blocks.0.3.ffn.layer_norm.bias', 'encoder.blocks.2.2.attention.r_kernel', 'encoder.blocks.1.1.attention.r_s_bias', 'encoder.blocks.2.4.ffn.linear_2.weight', 'encoder.blocks.0.5.ffn.linear_1.weight', 'encoder.blocks.0.0.attention.post_proj.bias', 'encoder.blocks.0.1.attention.r_w_bias', 'encoder.blocks.0.0.attention.r_kernel', 'encoder.blocks.1.2.ffn.linear_2.weight', 'encoder.blocks.2.1.attention.post_proj.weight', 'encoder.blocks.2.2.attention.r_w_bias', 'decoder.layers.0.ffn.linear_2.weight', 'encoder.blocks.1.3.attention.r_r_bias', 'decoder.layers.0.ffn.layer_norm.bias', 'encoder.blocks.1.5.attention.k_head.weight', 'encoder.blocks.0.0.attention.k_head.weight', 'encoder.blocks.1.0.attention.r_r_bias', 'encoder.blocks.1.4.attention.q_head.weight', 'decoder.layers.1.ffn.linear_1.bias', 'encoder.blocks.1.0.attention.r_kernel', 'encoder.blocks.2.3.ffn.linear_2.weight', 'encoder.blocks.2.1.attention.v_head.bias', 'encoder.blocks.2.5.attention.r_r_bias', 'encoder.blocks.1.0.ffn.layer_norm.bias', 'encoder.blocks.0.3.attention.q_head.weight', 'encoder.blocks.1.4.attention.seg_embed', 'encoder.blocks.1.0.attention.r_s_bias', 'encoder.blocks.2.2.attention.v_head.bias', 'encoder.blocks.2.4.attention.q_head.weight', 'encoder.blocks.0.2.attention.seg_embed', 'encoder.blocks.1.4.attention.v_head.bias', 'encoder.blocks.2.1.attention.q_head.weight', 'encoder.blocks.0.0.attention.r_r_bias', 'encoder.blocks.1.0.attention.layer_norm.bias', 'encoder.blocks.1.3.ffn.layer_norm.weight', 'decoder.layers.1.ffn.layer_norm.weight', 'encoder.blocks.2.2.attention.post_proj.bias', 'encoder.blocks.0.2.ffn.linear_2.bias', 'encoder.blocks.0.4.ffn.linear_2.weight', 'encoder.blocks.0.0.ffn.linear_2.weight', 'encoder.blocks.1.4.attention.layer_norm.bias', 'encoder.blocks.0.2.attention.v_head.bias', 'encoder.blocks.0.0.ffn.layer_norm.weight', 'encoder.blocks.2.4.attention.k_head.weight', 'encoder.blocks.1.4.attention.post_proj.bias', 'encoder.blocks.2.2.ffn.linear_1.bias', 'encoder.blocks.2.1.attention.k_head.bias', 'encoder.blocks.0.3.attention.r_s_bias', 'encoder.blocks.1.1.attention.k_head.bias', 'encoder.blocks.2.4.attention.layer_norm.weight', 'encoder.blocks.0.5.attention.r_w_bias', 'encoder.blocks.2.3.attention.v_head.bias', 'encoder.blocks.2.1.ffn.linear_1.weight', 'encoder.blocks.1.2.ffn.linear_1.bias', 'encoder.blocks.0.3.attention.post_proj.bias', 'encoder.blocks.2.3.attention.r_s_bias', 'encoder.blocks.0.3.attention.layer_norm.weight', 'encoder.blocks.2.5.attention.r_kernel', 'encoder.blocks.1.0.ffn.linear_2.bias', 'encoder.blocks.1.0.ffn.linear_1.weight', 'encoder.blocks.1.2.attention.k_head.weight', 'encoder.blocks.0.0.attention.seg_embed', 'encoder.blocks.0.0.attention.layer_norm.weight', 'encoder.blocks.2.3.attention.r_w_bias', 'encoder.blocks.1.3.ffn.linear_1.bias', 'encoder.blocks.2.3.attention.k_head.bias', 'encoder.blocks.2.1.attention.layer_norm.bias', 'encoder.blocks.2.0.ffn.layer_norm.bias', 'encoder.blocks.0.3.attention.k_head.weight', 'encoder.blocks.0.0.ffn.layer_norm.bias', 'encoder.blocks.1.4.attention.k_head.bias', 'encoder.blocks.2.5.attention.post_proj.weight', 'encoder.blocks.2.2.attention.r_s_bias', 'encoder.blocks.2.2.ffn.layer_norm.weight', 'encoder.blocks.0.3.attention.layer_norm.bias', 'encoder.blocks.1.1.ffn.linear_2.weight', 'encoder.blocks.2.2.attention.q_head.weight', 'encoder.blocks.1.3.attention.layer_norm.bias', 'encoder.blocks.2.0.ffn.linear_1.weight', 'encoder.blocks.0.2.ffn.linear_1.weight', 'encoder.blocks.2.4.ffn.linear_1.bias', 'encoder.blocks.1.5.attention.v_head.bias', 'decoder.layers.1.ffn.linear_1.weight', 'encoder.blocks.0.0.ffn.linear_2.bias', 'encoder.blocks.2.3.ffn.layer_norm.weight', 'encoder.blocks.1.1.ffn.linear_2.bias', 'encoder.blocks.1.4.ffn.linear_1.weight', 'encoder.blocks.1.2.attention.v_head.bias', 'encoder.blocks.2.5.attention.layer_norm.bias', 'encoder.blocks.1.5.ffn.layer_norm.bias', 'encoder.blocks.0.4.ffn.layer_norm.bias', 'encoder.blocks.1.1.attention.v_head.bias', 'encoder.blocks.1.4.ffn.linear_2.bias', 'encoder.blocks.1.2.ffn.layer_norm.weight', 'encoder.blocks.2.1.ffn.layer_norm.bias', 'encoder.blocks.2.5.attention.seg_embed', 'encoder.blocks.0.5.attention.r_r_bias', 'encoder.blocks.0.5.ffn.linear_2.weight', 'encoder.blocks.2.2.ffn.linear_1.weight', 'encoder.blocks.2.3.ffn.layer_norm.bias', 'encoder.blocks.0.2.attention.post_proj.bias', 'encoder.blocks.2.0.ffn.linear_2.bias', 'encoder.blocks.0.2.attention.v_head.weight', 'encoder.blocks.0.0.attention.v_head.weight', 'encoder.blocks.0.5.attention.seg_embed', 'encoder.blocks.0.1.ffn.layer_norm.bias', 'encoder.blocks.0.4.ffn.linear_2.bias', 'encoder.blocks.1.5.attention.r_r_bias', 'encoder.blocks.2.0.attention.r_w_bias', 'encoder.blocks.1.4.ffn.layer_norm.bias', 'encoder.blocks.2.0.attention.r_s_bias', 'encoder.blocks.1.5.attention.r_s_bias', 'encoder.blocks.2.4.attention.r_kernel', 'encoder.blocks.2.1.ffn.linear_2.bias', 'encoder.blocks.1.1.attention.layer_norm.bias', 'encoder.blocks.2.4.attention.seg_embed', 'encoder.blocks.2.1.ffn.layer_norm.weight', 'encoder.blocks.1.5.attention.r_kernel', 'encoder.blocks.2.3.ffn.linear_1.weight', 'encoder.blocks.2.1.attention.k_head.weight', 'encoder.blocks.0.5.ffn.linear_2.bias', 'encoder.blocks.2.5.attention.q_head.weight', 'encoder.blocks.2.0.attention.post_proj.weight', 'encoder.blocks.0.0.attention.layer_norm.bias', 'encoder.blocks.1.2.attention.post_proj.bias', 'encoder.blocks.0.4.attention.q_head.weight', 'encoder.blocks.0.2.attention.q_head.weight', 'encoder.blocks.2.2.attention.k_head.bias', 'encoder.blocks.0.4.attention.r_r_bias', 'encoder.blocks.0.4.attention.post_proj.weight', 'encoder.blocks.2.0.attention.layer_norm.weight', 'encoder.blocks.0.3.ffn.linear_2.bias', 'encoder.blocks.1.1.ffn.layer_norm.weight', 'encoder.blocks.2.4.attention.k_head.bias', 'encoder.blocks.1.1.attention.layer_norm.weight', 'encoder.blocks.2.0.attention.v_head.bias', 'encoder.blocks.0.3.ffn.layer_norm.weight', 'encoder.blocks.1.0.attention.seg_embed', 'encoder.blocks.1.2.ffn.linear_2.bias', 'encoder.blocks.1.4.ffn.linear_2.weight', 'encoder.blocks.0.3.attention.r_kernel', 'encoder.blocks.0.2.attention.post_proj.weight', 'encoder.blocks.2.5.ffn.linear_1.weight', 'encoder.blocks.2.3.attention.layer_norm.bias', 'encoder.blocks.1.5.ffn.linear_1.weight', 'encoder.blocks.1.0.attention.post_proj.bias', 'encoder.blocks.1.0.attention.v_head.weight', 'encoder.blocks.0.4.ffn.linear_1.bias', 'encoder.blocks.2.5.ffn.linear_1.bias', 'encoder.blocks.0.5.ffn.linear_1.bias', 'decoder.layers.0.attention.k_head.weight', 'encoder.blocks.1.2.ffn.layer_norm.bias', 'decoder.layers.1.attention.layer_norm.bias', 'encoder.blocks.1.1.ffn.layer_norm.bias', 'encoder.blocks.2.1.ffn.linear_2.weight', 'encoder.blocks.1.3.ffn.linear_2.bias', 'encoder.blocks.1.2.attention.r_kernel', 'encoder.blocks.2.5.ffn.linear_2.weight', 'encoder.blocks.1.0.ffn.linear_2.weight', 'encoder.blocks.0.4.attention.r_kernel', 'encoder.blocks.1.3.attention.r_w_bias', 'encoder.blocks.2.5.attention.r_s_bias', 'encoder.blocks.2.2.attention.k_head.weight', 'encoder.blocks.0.0.attention.v_head.bias', 'decoder.layers.0.attention.seg_embed', 'encoder.blocks.1.4.attention.r_kernel', 'encoder.blocks.0.3.ffn.linear_2.weight', 'encoder.blocks.1.2.attention.layer_norm.bias', 'encoder.blocks.2.4.attention.r_w_bias', 'encoder.blocks.0.1.attention.seg_embed', 'encoder.blocks.1.0.ffn.linear_1.bias', 'encoder.blocks.2.2.attention.r_r_bias', 'encoder.blocks.2.5.ffn.linear_2.bias', 'encoder.blocks.2.1.attention.r_s_bias', 'encoder.blocks.0.3.attention.r_r_bias', 'encoder.blocks.2.4.attention.post_proj.weight', 'encoder.blocks.0.1.attention.post_proj.weight', 'decoder.layers.0.ffn.linear_1.bias', 'encoder.blocks.1.1.attention.q_head.weight', 'encoder.blocks.0.2.ffn.linear_1.bias', 'encoder.blocks.2.1.attention.post_proj.bias', 'decoder.layers.0.ffn.linear_2.bias', 'encoder.blocks.0.2.attention.k_head.bias', 'encoder.blocks.0.0.ffn.linear_1.bias', 'encoder.blocks.1.5.attention.layer_norm.weight', 'encoder.blocks.0.1.attention.r_s_bias', 'encoder.blocks.2.5.attention.k_head.weight', 'encoder.blocks.2.2.ffn.linear_2.weight', 'encoder.blocks.0.5.attention.v_head.weight', 'encoder.blocks.0.5.attention.post_proj.weight', 'encoder.blocks.1.1.attention.v_head.weight', 'encoder.blocks.0.3.ffn.linear_1.bias', 'encoder.blocks.2.3.attention.post_proj.bias', 'encoder.blocks.0.4.attention.v_head.bias', 'decoder.layers.1.attention.post_proj.weight', 'encoder.blocks.0.5.attention.r_kernel', 'encoder.blocks.2.5.attention.r_w_bias']\n",
            "- This IS expected if you are initializing BertModel from the checkpoint of a model trained on another task or with another architecture (e.g. initializing a BertForSequenceClassification model from a BertForPreTraining model).\n",
            "- This IS NOT expected if you are initializing BertModel from the checkpoint of a model that you expect to be exactly identical (initializing a BertForSequenceClassification model from a BertForSequenceClassification model).\n",
            "Some weights of BertModel were not initialized from the model checkpoint at kykim/funnel-kor-base and are newly initialized: ['encoder.layer.5.attention.output.dense.weight', 'encoder.layer.9.attention.self.value.bias', 'encoder.layer.8.attention.self.key.weight', 'encoder.layer.11.output.LayerNorm.bias', 'encoder.layer.8.attention.self.key.bias', 'encoder.layer.1.intermediate.dense.weight', 'encoder.layer.7.attention.output.dense.weight', 'encoder.layer.4.output.dense.weight', 'encoder.layer.6.attention.self.key.weight', 'encoder.layer.8.attention.self.query.weight', 'encoder.layer.5.output.dense.weight', 'encoder.layer.1.intermediate.dense.bias', 'encoder.layer.0.attention.self.key.bias', 'encoder.layer.1.attention.self.key.weight', 'embeddings.LayerNorm.bias', 'encoder.layer.2.attention.self.query.weight', 'encoder.layer.10.output.dense.weight', 'encoder.layer.0.intermediate.dense.weight', 'encoder.layer.11.attention.self.key.weight', 'encoder.layer.10.output.dense.bias', 'encoder.layer.10.attention.self.query.weight', 'encoder.layer.0.intermediate.dense.bias', 'encoder.layer.1.output.dense.weight', 'encoder.layer.6.attention.output.dense.bias', 'encoder.layer.4.attention.output.LayerNorm.weight', 'encoder.layer.7.attention.self.key.bias', 'encoder.layer.5.attention.output.LayerNorm.weight', 'encoder.layer.7.attention.output.LayerNorm.weight', 'encoder.layer.11.attention.output.dense.bias', 'encoder.layer.4.attention.self.query.weight', 'encoder.layer.11.attention.output.dense.weight', 'encoder.layer.8.output.LayerNorm.bias', 'encoder.layer.9.attention.self.query.weight', 'encoder.layer.6.intermediate.dense.weight', 'encoder.layer.11.attention.output.LayerNorm.weight', 'encoder.layer.7.output.LayerNorm.bias', 'encoder.layer.4.attention.self.query.bias', 'encoder.layer.4.attention.output.dense.weight', 'encoder.layer.7.attention.self.value.weight', 'encoder.layer.2.attention.self.value.bias', 'encoder.layer.5.attention.self.key.bias', 'encoder.layer.5.attention.output.LayerNorm.bias', 'encoder.layer.5.attention.self.value.bias', 'encoder.layer.3.output.LayerNorm.bias', 'pooler.dense.weight', 'encoder.layer.0.output.dense.bias', 'embeddings.LayerNorm.weight', 'encoder.layer.0.attention.self.value.weight', 'encoder.layer.0.attention.output.dense.bias', 'encoder.layer.4.attention.output.LayerNorm.bias', 'encoder.layer.5.attention.self.query.bias', 'encoder.layer.2.output.dense.weight', 'encoder.layer.6.output.dense.weight', 'encoder.layer.7.attention.self.query.weight', 'encoder.layer.10.intermediate.dense.bias', 'encoder.layer.3.intermediate.dense.weight', 'encoder.layer.8.attention.output.LayerNorm.bias', 'encoder.layer.1.attention.self.value.weight', 'encoder.layer.2.output.dense.bias', 'encoder.layer.0.attention.self.query.weight', 'encoder.layer.4.attention.self.key.weight', 'encoder.layer.5.intermediate.dense.bias', 'encoder.layer.10.output.LayerNorm.bias', 'encoder.layer.10.attention.self.query.bias', 'encoder.layer.4.output.LayerNorm.weight', 'encoder.layer.4.output.LayerNorm.bias', 'encoder.layer.11.output.dense.bias', 'encoder.layer.7.attention.output.dense.bias', 'encoder.layer.3.attention.output.LayerNorm.bias', 'encoder.layer.10.attention.output.dense.weight', 'encoder.layer.11.output.LayerNorm.weight', 'encoder.layer.11.attention.self.value.weight', 'encoder.layer.6.attention.self.value.weight', 'encoder.layer.3.output.dense.bias', 'encoder.layer.6.attention.output.LayerNorm.weight', 'encoder.layer.8.attention.self.value.bias', 'encoder.layer.2.intermediate.dense.bias', 'encoder.layer.9.output.LayerNorm.bias', 'encoder.layer.3.attention.self.value.weight', 'encoder.layer.6.attention.output.dense.weight', 'encoder.layer.9.attention.output.LayerNorm.weight', 'encoder.layer.6.attention.output.LayerNorm.bias', 'encoder.layer.1.attention.self.query.weight', 'encoder.layer.1.attention.output.LayerNorm.weight', 'encoder.layer.5.attention.self.value.weight', 'encoder.layer.6.output.LayerNorm.bias', 'encoder.layer.4.intermediate.dense.weight', 'encoder.layer.0.attention.output.LayerNorm.weight', 'encoder.layer.2.attention.output.LayerNorm.bias', 'encoder.layer.0.attention.output.dense.weight', 'encoder.layer.2.attention.self.key.bias', 'encoder.layer.7.attention.self.key.weight', 'encoder.layer.5.attention.self.key.weight', 'encoder.layer.6.intermediate.dense.bias', 'encoder.layer.9.attention.output.LayerNorm.bias', 'encoder.layer.1.attention.output.dense.weight', 'encoder.layer.0.output.dense.weight', 'encoder.layer.1.output.LayerNorm.bias', 'encoder.layer.3.intermediate.dense.bias', 'encoder.layer.10.attention.output.LayerNorm.bias', 'encoder.layer.11.attention.self.value.bias', 'encoder.layer.9.intermediate.dense.bias', 'encoder.layer.6.output.LayerNorm.weight', 'encoder.layer.9.attention.output.dense.weight', 'encoder.layer.7.intermediate.dense.bias', 'pooler.dense.bias', 'encoder.layer.2.attention.self.key.weight', 'encoder.layer.10.attention.output.LayerNorm.weight', 'encoder.layer.8.intermediate.dense.weight', 'encoder.layer.2.output.LayerNorm.bias', 'encoder.layer.10.output.LayerNorm.weight', 'encoder.layer.10.attention.self.key.weight', 'encoder.layer.3.attention.self.key.bias', 'encoder.layer.6.attention.self.query.bias', 'encoder.layer.1.attention.self.key.bias', 'encoder.layer.11.attention.self.query.bias', 'encoder.layer.4.attention.self.key.bias', 'encoder.layer.5.attention.output.dense.bias', 'encoder.layer.0.output.LayerNorm.bias', 'encoder.layer.2.attention.output.dense.bias', 'encoder.layer.8.attention.output.dense.bias', 'encoder.layer.4.attention.self.value.bias', 'encoder.layer.3.attention.output.LayerNorm.weight', 'encoder.layer.1.attention.self.query.bias', 'encoder.layer.2.output.LayerNorm.weight', 'encoder.layer.5.output.LayerNorm.bias', 'encoder.layer.6.attention.self.value.bias', 'encoder.layer.10.attention.self.key.bias', 'encoder.layer.3.attention.output.dense.weight', 'encoder.layer.4.output.dense.bias', 'encoder.layer.0.attention.self.query.bias', 'encoder.layer.9.output.LayerNorm.weight', 'encoder.layer.7.output.dense.bias', 'encoder.layer.8.attention.self.query.bias', 'encoder.layer.5.intermediate.dense.weight', 'encoder.layer.3.attention.self.query.weight', 'encoder.layer.3.output.LayerNorm.weight', 'encoder.layer.11.intermediate.dense.weight', 'encoder.layer.0.attention.output.LayerNorm.bias', 'encoder.layer.4.intermediate.dense.bias', 'encoder.layer.5.output.dense.bias', 'encoder.layer.7.attention.self.query.bias', 'encoder.layer.2.intermediate.dense.weight', 'encoder.layer.2.attention.self.value.weight', 'encoder.layer.8.intermediate.dense.bias', 'encoder.layer.9.attention.output.dense.bias', 'encoder.layer.1.attention.output.dense.bias', 'encoder.layer.9.attention.self.query.bias', 'encoder.layer.5.attention.self.query.weight', 'encoder.layer.11.attention.self.key.bias', 'encoder.layer.9.attention.self.value.weight', 'encoder.layer.6.attention.self.key.bias', 'encoder.layer.4.attention.output.dense.bias', 'encoder.layer.9.attention.self.key.bias', 'encoder.layer.8.output.dense.weight', 'encoder.layer.7.output.LayerNorm.weight', 'encoder.layer.8.output.LayerNorm.weight', 'encoder.layer.11.output.dense.weight', 'encoder.layer.0.attention.self.key.weight', 'encoder.layer.1.output.LayerNorm.weight', 'encoder.layer.10.attention.output.dense.bias', 'encoder.layer.5.output.LayerNorm.weight', 'encoder.layer.0.output.LayerNorm.weight', 'encoder.layer.9.output.dense.weight', 'encoder.layer.9.intermediate.dense.weight', 'encoder.layer.9.output.dense.bias', 'encoder.layer.7.attention.output.LayerNorm.bias', 'encoder.layer.2.attention.output.dense.weight', 'encoder.layer.10.attention.self.value.bias', 'encoder.layer.3.attention.output.dense.bias', 'encoder.layer.10.intermediate.dense.weight', 'encoder.layer.8.attention.self.value.weight', 'encoder.layer.1.attention.output.LayerNorm.bias', 'encoder.layer.1.output.dense.bias', 'encoder.layer.7.attention.self.value.bias', 'encoder.layer.7.intermediate.dense.weight', 'encoder.layer.7.output.dense.weight', 'encoder.layer.3.output.dense.weight', 'encoder.layer.8.attention.output.dense.weight', 'embeddings.token_type_embeddings.weight', 'encoder.layer.6.output.dense.bias', 'encoder.layer.8.output.dense.bias', 'encoder.layer.2.attention.output.LayerNorm.weight', 'encoder.layer.6.attention.self.query.weight', 'encoder.layer.2.attention.self.query.bias', 'encoder.layer.10.attention.self.value.weight', 'encoder.layer.11.attention.output.LayerNorm.bias', 'embeddings.position_embeddings.weight', 'encoder.layer.0.attention.self.value.bias', 'encoder.layer.8.attention.output.LayerNorm.weight', 'encoder.layer.11.attention.self.query.weight', 'encoder.layer.4.attention.self.value.weight', 'encoder.layer.3.attention.self.query.bias', 'encoder.layer.3.attention.self.key.weight', 'encoder.layer.11.intermediate.dense.bias', 'encoder.layer.1.attention.self.value.bias', 'encoder.layer.9.attention.self.key.weight', 'encoder.layer.3.attention.self.value.bias']\n",
            "You should probably TRAIN this model on a down-stream task to be able to use it for predictions and inference.\n"
          ]
        },
        {
          "output_type": "stream",
          "name": "stdout",
          "text": [
            "----------\n",
            "Epoch 0/14\n",
            "----------\n",
            "Epoch: [0][1/52] Data 0.236 (0.236) Elapsed 0m 0s (remain 0m 47s) Loss: 0.006(0.006) Acc: 1.000(1.000) f1_Acc: 1.000(1.000) sent/s 138 \n",
            "Epoch: [0][52/52] Data 0.002 (0.006) Elapsed 0m 35s (remain 0m 0s) Loss: 0.002(0.006) Acc: 1.000(1.000) f1_Acc: 1.000(1.000) sent/s 186 \n"
          ]
        },
        {
          "output_type": "stream",
          "name": "stderr",
          "text": [
            "100%|██████████| 2/2 [00:00<00:00,  3.57it/s]"
          ]
        },
        {
          "output_type": "stream",
          "name": "stdout",
          "text": [
            "Train loss 0.005845277355496369 accuracy 0.9983262325015216\n",
            "Validate loss 0.9122368693351746 accuracy 0.9020979020979021\n",
            "\n",
            "\n",
            "----------\n",
            "Epoch 1/14\n",
            "----------\n"
          ]
        },
        {
          "output_type": "stream",
          "name": "stderr",
          "text": [
            "\n"
          ]
        },
        {
          "output_type": "stream",
          "name": "stdout",
          "text": [
            "Epoch: [1][1/52] Data 0.252 (0.252) Elapsed 0m 0s (remain 0m 47s) Loss: 0.007(0.007) Acc: 1.000(1.000) f1_Acc: 1.000(1.000) sent/s 137 \n",
            "Epoch: [1][52/52] Data 0.002 (0.007) Elapsed 0m 35s (remain 0m 0s) Loss: 0.023(0.006) Acc: 0.977(0.994) f1_Acc: 0.942(0.985) sent/s 186 \n"
          ]
        },
        {
          "output_type": "stream",
          "name": "stderr",
          "text": [
            "100%|██████████| 2/2 [00:00<00:00,  3.61it/s]"
          ]
        },
        {
          "output_type": "stream",
          "name": "stdout",
          "text": [
            "Train loss 0.006047308118475405 accuracy 0.9983262325015216\n",
            "Validate loss 0.9122368693351746 accuracy 0.9020979020979021\n",
            "\n",
            "\n",
            "----------\n",
            "Epoch 2/14\n",
            "----------\n"
          ]
        },
        {
          "output_type": "stream",
          "name": "stderr",
          "text": [
            "\n"
          ]
        },
        {
          "output_type": "stream",
          "name": "stdout",
          "text": [
            "Epoch: [2][1/52] Data 0.230 (0.230) Elapsed 0m 0s (remain 0m 46s) Loss: 0.002(0.002) Acc: 1.000(1.000) f1_Acc: 1.000(1.000) sent/s 140 \n",
            "Epoch: [2][52/52] Data 0.002 (0.006) Elapsed 0m 35s (remain 0m 0s) Loss: 0.024(0.006) Acc: 0.977(0.994) f1_Acc: 0.972(0.993) sent/s 186 \n"
          ]
        },
        {
          "output_type": "stream",
          "name": "stderr",
          "text": [
            "100%|██████████| 2/2 [00:00<00:00,  3.56it/s]"
          ]
        },
        {
          "output_type": "stream",
          "name": "stdout",
          "text": [
            "Train loss 0.005611330519044319 accuracy 0.9984783931832015\n",
            "Validate loss 0.9122368693351746 accuracy 0.9020979020979021\n",
            "\n",
            "\n",
            "----------\n",
            "Epoch 3/14\n",
            "----------\n"
          ]
        },
        {
          "output_type": "stream",
          "name": "stderr",
          "text": [
            "\n"
          ]
        },
        {
          "output_type": "stream",
          "name": "stdout",
          "text": [
            "Epoch: [3][1/52] Data 0.251 (0.251) Elapsed 0m 0s (remain 0m 47s) Loss: 0.003(0.003) Acc: 1.000(1.000) f1_Acc: 1.000(1.000) sent/s 137 \n",
            "Epoch: [3][52/52] Data 0.002 (0.007) Elapsed 0m 35s (remain 0m 0s) Loss: 0.002(0.006) Acc: 1.000(1.000) f1_Acc: 1.000(1.000) sent/s 186 \n"
          ]
        },
        {
          "output_type": "stream",
          "name": "stderr",
          "text": [
            "100%|██████████| 2/2 [00:00<00:00,  3.59it/s]"
          ]
        },
        {
          "output_type": "stream",
          "name": "stdout",
          "text": [
            "Train loss 0.0057198318229944 accuracy 0.9984783931832015\n",
            "Validate loss 0.9122368693351746 accuracy 0.9020979020979021\n",
            "\n",
            "\n",
            "----------\n",
            "Epoch 4/14\n",
            "----------\n"
          ]
        },
        {
          "output_type": "stream",
          "name": "stderr",
          "text": [
            "\n"
          ]
        },
        {
          "output_type": "stream",
          "name": "stdout",
          "text": [
            "Epoch: [4][1/52] Data 0.235 (0.235) Elapsed 0m 0s (remain 0m 46s) Loss: 0.003(0.003) Acc: 1.000(1.000) f1_Acc: 1.000(1.000) sent/s 140 \n",
            "Epoch: [4][52/52] Data 0.002 (0.007) Elapsed 0m 35s (remain 0m 0s) Loss: 0.003(0.006) Acc: 1.000(1.000) f1_Acc: 1.000(1.000) sent/s 186 \n"
          ]
        },
        {
          "output_type": "stream",
          "name": "stderr",
          "text": [
            "100%|██████████| 2/2 [00:00<00:00,  3.63it/s]"
          ]
        },
        {
          "output_type": "stream",
          "name": "stdout",
          "text": [
            "Train loss 0.005784207562889339 accuracy 0.9984783931832015\n",
            "Validate loss 0.9122368693351746 accuracy 0.9020979020979021\n",
            "\n",
            "\n",
            "----------\n",
            "Epoch 5/14\n",
            "----------\n"
          ]
        },
        {
          "output_type": "stream",
          "name": "stderr",
          "text": [
            "\n"
          ]
        },
        {
          "output_type": "stream",
          "name": "stdout",
          "text": [
            "Epoch: [5][1/52] Data 0.321 (0.321) Elapsed 0m 1s (remain 0m 51s) Loss: 0.003(0.003) Acc: 1.000(1.000) f1_Acc: 1.000(1.000) sent/s 127 \n",
            "Epoch: [5][52/52] Data 0.002 (0.008) Elapsed 0m 35s (remain 0m 0s) Loss: 0.002(0.006) Acc: 1.000(1.000) f1_Acc: 1.000(1.000) sent/s 186 \n"
          ]
        },
        {
          "output_type": "stream",
          "name": "stderr",
          "text": [
            "100%|██████████| 2/2 [00:00<00:00,  3.57it/s]"
          ]
        },
        {
          "output_type": "stream",
          "name": "stdout",
          "text": [
            "Train loss 0.005836675991800207 accuracy 0.9984783931832015\n",
            "Validate loss 0.9122368693351746 accuracy 0.9020979020979021\n",
            "\n",
            "\n",
            "----------\n",
            "Epoch 6/14\n",
            "----------\n"
          ]
        },
        {
          "output_type": "stream",
          "name": "stderr",
          "text": [
            "\n"
          ]
        },
        {
          "output_type": "stream",
          "name": "stdout",
          "text": [
            "Epoch: [6][1/52] Data 0.245 (0.245) Elapsed 0m 0s (remain 0m 47s) Loss: 0.011(0.011) Acc: 0.992(0.992) f1_Acc: 0.993(0.993) sent/s 138 \n",
            "Epoch: [6][52/52] Data 0.002 (0.007) Elapsed 0m 35s (remain 0m 0s) Loss: 0.003(0.005) Acc: 1.000(0.994) f1_Acc: 1.000(0.995) sent/s 186 \n"
          ]
        },
        {
          "output_type": "stream",
          "name": "stderr",
          "text": [
            "100%|██████████| 2/2 [00:00<00:00,  3.63it/s]"
          ]
        },
        {
          "output_type": "stream",
          "name": "stdout",
          "text": [
            "Train loss 0.005464639125122024 accuracy 0.9987827145465612\n",
            "Validate loss 0.9122368693351746 accuracy 0.9020979020979021\n",
            "\n",
            "\n",
            "----------\n",
            "Epoch 7/14\n",
            "----------\n"
          ]
        },
        {
          "output_type": "stream",
          "name": "stderr",
          "text": [
            "\n"
          ]
        },
        {
          "output_type": "stream",
          "name": "stdout",
          "text": [
            "Epoch: [7][1/52] Data 0.252 (0.252) Elapsed 0m 0s (remain 0m 47s) Loss: 0.003(0.003) Acc: 1.000(1.000) f1_Acc: 1.000(1.000) sent/s 138 \n",
            "Epoch: [7][52/52] Data 0.002 (0.007) Elapsed 0m 35s (remain 0m 0s) Loss: 0.026(0.006) Acc: 0.977(0.994) f1_Acc: 0.948(0.987) sent/s 186 \n"
          ]
        },
        {
          "output_type": "stream",
          "name": "stderr",
          "text": [
            "100%|██████████| 2/2 [00:00<00:00,  3.61it/s]"
          ]
        },
        {
          "output_type": "stream",
          "name": "stdout",
          "text": [
            "Train loss 0.006007374192310845 accuracy 0.9981740718198417\n",
            "Validate loss 0.9122368693351746 accuracy 0.9020979020979021\n",
            "\n",
            "\n",
            "----------\n",
            "Epoch 8/14\n",
            "----------\n"
          ]
        },
        {
          "output_type": "stream",
          "name": "stderr",
          "text": [
            "\n"
          ]
        },
        {
          "output_type": "stream",
          "name": "stdout",
          "text": [
            "Epoch: [8][1/52] Data 0.244 (0.244) Elapsed 0m 0s (remain 0m 47s) Loss: 0.003(0.003) Acc: 1.000(1.000) f1_Acc: 1.000(1.000) sent/s 139 \n",
            "Epoch: [8][52/52] Data 0.002 (0.007) Elapsed 0m 35s (remain 0m 0s) Loss: 0.012(0.006) Acc: 1.000(1.000) f1_Acc: 1.000(1.000) sent/s 186 \n"
          ]
        },
        {
          "output_type": "stream",
          "name": "stderr",
          "text": [
            "100%|██████████| 2/2 [00:00<00:00,  3.60it/s]"
          ]
        },
        {
          "output_type": "stream",
          "name": "stdout",
          "text": [
            "Train loss 0.005731242707728143 accuracy 0.9984783931832015\n",
            "Validate loss 0.9122368693351746 accuracy 0.9020979020979021\n",
            "\n",
            "\n",
            "----------\n",
            "Epoch 9/14\n",
            "----------\n"
          ]
        },
        {
          "output_type": "stream",
          "name": "stderr",
          "text": [
            "\n"
          ]
        },
        {
          "output_type": "stream",
          "name": "stdout",
          "text": [
            "Epoch: [9][1/52] Data 0.259 (0.259) Elapsed 0m 0s (remain 0m 48s) Loss: 0.002(0.002) Acc: 1.000(1.000) f1_Acc: 1.000(1.000) sent/s 136 \n",
            "Epoch: [9][52/52] Data 0.002 (0.007) Elapsed 0m 35s (remain 0m 0s) Loss: 0.011(0.006) Acc: 1.000(1.000) f1_Acc: 1.000(1.000) sent/s 187 \n"
          ]
        },
        {
          "output_type": "stream",
          "name": "stderr",
          "text": [
            "100%|██████████| 2/2 [00:00<00:00,  3.59it/s]"
          ]
        },
        {
          "output_type": "stream",
          "name": "stdout",
          "text": [
            "Train loss 0.005890155990499769 accuracy 0.9981740718198417\n",
            "Validate loss 0.9122368693351746 accuracy 0.9020979020979021\n",
            "\n",
            "\n",
            "----------\n",
            "Epoch 10/14\n",
            "----------\n"
          ]
        },
        {
          "output_type": "stream",
          "name": "stderr",
          "text": [
            "\n"
          ]
        },
        {
          "output_type": "stream",
          "name": "stdout",
          "text": [
            "Epoch: [10][1/52] Data 0.242 (0.242) Elapsed 0m 0s (remain 0m 47s) Loss: 0.003(0.003) Acc: 1.000(1.000) f1_Acc: 1.000(1.000) sent/s 137 \n",
            "Epoch: [10][52/52] Data 0.002 (0.007) Elapsed 0m 35s (remain 0m 0s) Loss: 0.002(0.006) Acc: 1.000(1.000) f1_Acc: 1.000(1.000) sent/s 186 \n"
          ]
        },
        {
          "output_type": "stream",
          "name": "stderr",
          "text": [
            "100%|██████████| 2/2 [00:00<00:00,  3.62it/s]"
          ]
        },
        {
          "output_type": "stream",
          "name": "stdout",
          "text": [
            "Train loss 0.005880043095650012 accuracy 0.9984783931832015\n",
            "Validate loss 0.9122368693351746 accuracy 0.9020979020979021\n",
            "\n",
            "\n",
            "----------\n",
            "Epoch 11/14\n",
            "----------\n"
          ]
        },
        {
          "output_type": "stream",
          "name": "stderr",
          "text": [
            "\n"
          ]
        },
        {
          "output_type": "stream",
          "name": "stdout",
          "text": [
            "Epoch: [11][1/52] Data 0.241 (0.241) Elapsed 0m 0s (remain 0m 47s) Loss: 0.003(0.003) Acc: 1.000(1.000) f1_Acc: 1.000(1.000) sent/s 138 \n",
            "Epoch: [11][52/52] Data 0.002 (0.007) Elapsed 0m 35s (remain 0m 0s) Loss: 0.002(0.006) Acc: 1.000(1.000) f1_Acc: 1.000(1.000) sent/s 186 \n"
          ]
        },
        {
          "output_type": "stream",
          "name": "stderr",
          "text": [
            "100%|██████████| 2/2 [00:00<00:00,  3.59it/s]"
          ]
        },
        {
          "output_type": "stream",
          "name": "stdout",
          "text": [
            "Train loss 0.005861621198419547 accuracy 0.9983262325015216\n",
            "Validate loss 0.9122368693351746 accuracy 0.9020979020979021\n",
            "\n",
            "\n",
            "----------\n",
            "Epoch 12/14\n",
            "----------\n"
          ]
        },
        {
          "output_type": "stream",
          "name": "stderr",
          "text": [
            "\n"
          ]
        },
        {
          "output_type": "stream",
          "name": "stdout",
          "text": [
            "Epoch: [12][1/52] Data 0.258 (0.258) Elapsed 0m 0s (remain 0m 47s) Loss: 0.006(0.006) Acc: 1.000(1.000) f1_Acc: 1.000(1.000) sent/s 136 \n",
            "Epoch: [12][52/52] Data 0.002 (0.007) Elapsed 0m 35s (remain 0m 0s) Loss: 0.002(0.006) Acc: 1.000(1.000) f1_Acc: 1.000(1.000) sent/s 186 \n"
          ]
        },
        {
          "output_type": "stream",
          "name": "stderr",
          "text": [
            "100%|██████████| 2/2 [00:00<00:00,  3.60it/s]"
          ]
        },
        {
          "output_type": "stream",
          "name": "stdout",
          "text": [
            "Train loss 0.005698771128398086 accuracy 0.9986305538648813\n",
            "Validate loss 0.9122368693351746 accuracy 0.9020979020979021\n",
            "\n",
            "\n",
            "----------\n",
            "Epoch 13/14\n",
            "----------\n"
          ]
        },
        {
          "output_type": "stream",
          "name": "stderr",
          "text": [
            "\n"
          ]
        },
        {
          "output_type": "stream",
          "name": "stdout",
          "text": [
            "Epoch: [13][1/52] Data 0.240 (0.240) Elapsed 0m 0s (remain 0m 47s) Loss: 0.008(0.008) Acc: 1.000(1.000) f1_Acc: 1.000(1.000) sent/s 139 \n",
            "Epoch: [13][52/52] Data 0.002 (0.007) Elapsed 0m 35s (remain 0m 0s) Loss: 0.003(0.006) Acc: 1.000(1.000) f1_Acc: 1.000(1.000) sent/s 186 \n"
          ]
        },
        {
          "output_type": "stream",
          "name": "stderr",
          "text": [
            "100%|██████████| 2/2 [00:00<00:00,  3.56it/s]"
          ]
        },
        {
          "output_type": "stream",
          "name": "stdout",
          "text": [
            "Train loss 0.0057202270903527665 accuracy 0.9984783931832015\n",
            "Validate loss 0.9122368693351746 accuracy 0.9020979020979021\n",
            "\n",
            "\n",
            "----------\n",
            "Epoch 14/14\n",
            "----------\n"
          ]
        },
        {
          "output_type": "stream",
          "name": "stderr",
          "text": [
            "\n"
          ]
        },
        {
          "output_type": "stream",
          "name": "stdout",
          "text": [
            "Epoch: [14][1/52] Data 0.247 (0.247) Elapsed 0m 0s (remain 0m 47s) Loss: 0.005(0.005) Acc: 1.000(1.000) f1_Acc: 1.000(1.000) sent/s 137 \n",
            "Epoch: [14][52/52] Data 0.002 (0.007) Elapsed 0m 35s (remain 0m 0s) Loss: 0.002(0.006) Acc: 1.000(1.000) f1_Acc: 1.000(1.000) sent/s 186 \n"
          ]
        },
        {
          "output_type": "stream",
          "name": "stderr",
          "text": [
            "100%|██████████| 2/2 [00:00<00:00,  2.63it/s]"
          ]
        },
        {
          "output_type": "stream",
          "name": "stdout",
          "text": [
            "Train loss 0.005739174567404466 accuracy 0.9984783931832015\n",
            "Validate loss 0.9122368693351746 accuracy 0.9020979020979021\n",
            "\n",
            "\n"
          ]
        },
        {
          "output_type": "stream",
          "name": "stderr",
          "text": [
            "\n"
          ]
        }
      ]
    },
    {
      "cell_type": "code",
      "metadata": {
        "id": "dv_sNGvmwYh6"
      },
      "source": [
        ""
      ],
      "execution_count": null,
      "outputs": []
    },
    {
      "cell_type": "markdown",
      "metadata": {
        "id": "sKROOPoXr0Cb"
      },
      "source": [
        "## Score정리\n",
        "\n",
        "\n",
        "\n",
        "(%)|kor-bert-base(No upsampling) | kor-bert-base(Upsampling)|Funnel-kor-base(Upsampling)|Ko-gpt2(No upsampling)| albert(No upsampling) |\n",
        "---|---|---|---|---|---|\n",
        "`validate acc` | 0.902 | 0.895 | 0.902 | 0.881 | 0.888 |"
      ]
    },
    {
      "cell_type": "markdown",
      "metadata": {
        "id": "0vA7PBDAxl1F"
      },
      "source": [
        "# 모델 평가 중간정리 (Fasttext는 안쓸예정)\n",
        "### 각 라벨별 Treshold를 잘 설정하여 TruePositives 을 100을 목표로 보수적으로 접근하고 나머지를 기타 카테고리로 보내버리는 전략을 할 계획이다\n",
        "\n",
        "1. 데이터를 엄청나게 실시간 단위로 작업을 해야하는가 ? ->  \n",
        "솔직히 아닌거 같다. 물론 초특가로 품절이 될가능성이 매우 높은 제품군이면 그럴 수 있다고 보는데 대부분은 아니라고 생각한다.  \n",
        "1분정도는 모델을 돌려서 보내도 된다고 판단된다. -> 3개 정도의 모델 앙상블 계획중\n",
        "\n",
        "2. 데이터의 양을 늘려야 더 정확한 평가가 가능할거 같다 -> 지속적인 라벨링 작업 필요\n",
        "\n",
        "3. TruePositives가 중요한 비즈니스로 평가지표를 acc -> F1-score, TrainLoss를 FocalLoss로 바꿔서 실험해볼 예정이다.\n",
        "\n",
        "4. 여러 Pre-trained Transformers 중에 kor-bert-base,Funnel-kor-base가 가장 우수한거같다. -> 두 모델에 파라미터를 최적화하고 모델 구조를 살짝은 변형시켜서 실험을 해볼 예정이다."
      ]
    },
    {
      "cell_type": "code",
      "metadata": {
        "id": "5Q29PPjcwYku"
      },
      "source": [
        ""
      ],
      "execution_count": null,
      "outputs": []
    },
    {
      "cell_type": "code",
      "metadata": {
        "id": "9D910EDUwYnl"
      },
      "source": [
        ""
      ],
      "execution_count": null,
      "outputs": []
    },
    {
      "cell_type": "code",
      "metadata": {
        "id": "sIYBzze7wYqK"
      },
      "source": [
        ""
      ],
      "execution_count": null,
      "outputs": []
    },
    {
      "cell_type": "code",
      "metadata": {
        "id": "2ptNJ7sRwYtK"
      },
      "source": [
        ""
      ],
      "execution_count": null,
      "outputs": []
    },
    {
      "cell_type": "code",
      "metadata": {
        "id": "h0O5EM_BwYv8"
      },
      "source": [
        ""
      ],
      "execution_count": null,
      "outputs": []
    },
    {
      "cell_type": "code",
      "metadata": {
        "id": "qwGwA9ZIwYyy"
      },
      "source": [
        ""
      ],
      "execution_count": null,
      "outputs": []
    }
  ]
}
