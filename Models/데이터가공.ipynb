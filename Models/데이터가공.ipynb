{
  "nbformat": 4,
  "nbformat_minor": 5,
  "metadata": {
    "kernelspec": {
      "display_name": "Python 3 (ipykernel)",
      "language": "python",
      "name": "python3"
    },
    "language_info": {
      "codemirror_mode": {
        "name": "ipython",
        "version": 3
      },
      "file_extension": ".py",
      "mimetype": "text/x-python",
      "name": "python",
      "nbconvert_exporter": "python",
      "pygments_lexer": "ipython3",
      "version": "3.8.12"
    },
    "colab": {
      "name": "데이터가공.ipynb",
      "provenance": [],
      "include_colab_link": true
    }
  },
  "cells": [
    {
      "cell_type": "markdown",
      "metadata": {
        "id": "view-in-github",
        "colab_type": "text"
      },
      "source": [
        "<a href=\"https://colab.research.google.com/github/OKHYUNJONG/CapstoneTermProject/blob/main/%E1%84%83%E1%85%A6%E1%84%8B%E1%85%B5%E1%84%90%E1%85%A5%E1%84%80%E1%85%A1%E1%84%80%E1%85%A9%E1%86%BC.ipynb\" target=\"_parent\"><img src=\"https://colab.research.google.com/assets/colab-badge.svg\" alt=\"Open In Colab\"/></a>"
      ]
    },
    {
      "cell_type": "code",
      "metadata": {
        "scrolled": false,
        "id": "6aa9c22b"
      },
      "source": [
        "import pandas as pd\n",
        "import matplotlib.pyplot as plt"
      ],
      "id": "6aa9c22b",
      "execution_count": null,
      "outputs": []
    },
    {
      "cell_type": "code",
      "metadata": {
        "id": "053c1f68"
      },
      "source": [
        "train = pd.read_csv('ppomppu_hotdeal.csv')"
      ],
      "id": "053c1f68",
      "execution_count": null,
      "outputs": []
    },
    {
      "cell_type": "code",
      "metadata": {
        "id": "I9RpE6zdg0Ee"
      },
      "source": [
        "from collections import Counter\n",
        "\n",
        "def count_words(i,col):\n",
        "  print(\"category:\",i)\n",
        "  train_category=train[train['category'] == i]\n",
        "  train_category=train_category[[col,'category']]\n",
        "  train_tmp = train_category[[col]]\n",
        "\n",
        "  to_txt = '' \n",
        "  for i in range(len(train_category)): \n",
        "    to_txt += str(train_tmp.iloc[i,0]) + '\\n'\n",
        "    \n",
        "  with open('train.txt', 'w', encoding='utf-8') as f: \n",
        "    f.write(to_txt)\n",
        "\n",
        "  with open('train.txt', 'r') as f:\n",
        "      words = [w.strip('.,') for w in f.read().split()]\n",
        "      print(\"총 문장의 갯수:\",len(train_category))\n",
        "      for w, c in Counter(words).most_common(120):\n",
        "          print(w, c)\n",
        "  print(\"\")\n",
        "  print(\"---------------------------------\")"
      ],
      "id": "I9RpE6zdg0Ee",
      "execution_count": null,
      "outputs": []
    },
    {
      "cell_type": "code",
      "metadata": {
        "colab": {
          "base_uri": "https://localhost:8080/",
          "height": 598
        },
        "id": "Dte9l0yyhK3t",
        "outputId": "cd900bf8-73ae-41c0-d2bf-39627ab30f3c"
      },
      "source": [
        "data.head()"
      ],
      "id": "Dte9l0yyhK3t",
      "execution_count": null,
      "outputs": [
        {
          "output_type": "execute_result",
          "data": {
            "text/html": [
              "<div>\n",
              "<style scoped>\n",
              "    .dataframe tbody tr th:only-of-type {\n",
              "        vertical-align: middle;\n",
              "    }\n",
              "\n",
              "    .dataframe tbody tr th {\n",
              "        vertical-align: top;\n",
              "    }\n",
              "\n",
              "    .dataframe thead th {\n",
              "        text-align: right;\n",
              "    }\n",
              "</style>\n",
              "<table border=\"1\" class=\"dataframe\">\n",
              "  <thead>\n",
              "    <tr style=\"text-align: right;\">\n",
              "      <th></th>\n",
              "      <th>Unnamed: 0</th>\n",
              "      <th>id</th>\n",
              "      <th>title</th>\n",
              "      <th>category</th>\n",
              "      <th>product_name</th>\n",
              "      <th>price</th>\n",
              "      <th>shopping_fee</th>\n",
              "      <th>hotdeal_place</th>\n",
              "      <th>link</th>\n",
              "      <th>img_url</th>\n",
              "      <th>shop_url</th>\n",
              "      <th>text</th>\n",
              "      <th>date</th>\n",
              "      <th>label</th>\n",
              "    </tr>\n",
              "  </thead>\n",
              "  <tbody>\n",
              "    <tr>\n",
              "      <th>0</th>\n",
              "      <td>0</td>\n",
              "      <td>2_400748</td>\n",
              "      <td>아토세이프 섬유유연제 2.5L x 4개</td>\n",
              "      <td>[기타]</td>\n",
              "      <td>아토세이프 섬유유연제 2.5L x 4개</td>\n",
              "      <td>6,900원</td>\n",
              "      <td>무료배송</td>\n",
              "      <td>옥션</td>\n",
              "      <td>https://www.ppomppu.co.kr/zboard/view.php?id=p...</td>\n",
              "      <td>https://cdn.ppomppu.co.kr/images/personal_sett...</td>\n",
              "      <td>https://s.ppomppu.co.kr?idno=ppomppu_400748&amp;en...</td>\n",
              "      <td>\\n\\n \\n아토세이프 섬유유연제 2.5L x 4개 무료배송\\n \\n네이버경유하면...</td>\n",
              "      <td>21/10/21</td>\n",
              "      <td>0</td>\n",
              "    </tr>\n",
              "    <tr>\n",
              "      <th>1</th>\n",
              "      <td>1</td>\n",
              "      <td>2_400747</td>\n",
              "      <td>오바다 국내산 반건조오징어 10미</td>\n",
              "      <td>[식품/건강]</td>\n",
              "      <td>오바다 국내산 반건조오징어 10미</td>\n",
              "      <td>1.2kg내외)(19,740</td>\n",
              "      <td>무료</td>\n",
              "      <td>인터파크</td>\n",
              "      <td>https://www.ppomppu.co.kr/zboard/view.php?id=p...</td>\n",
              "      <td>no_image</td>\n",
              "      <td>https://s.ppomppu.co.kr?idno=ppomppu_400747&amp;en...</td>\n",
              "      <td>쿠폰은 링크에서 바로 다운가능합니다\\n수산대전 30%+10% 중복 총40%할인이네요\\n</td>\n",
              "      <td>21/10/21</td>\n",
              "      <td>0</td>\n",
              "    </tr>\n",
              "    <tr>\n",
              "      <th>2</th>\n",
              "      <td>2</td>\n",
              "      <td>2_400746</td>\n",
              "      <td>휴지공방무형광 3겹 롤휴지 * 2개</td>\n",
              "      <td>[기타]</td>\n",
              "      <td>휴지공방무형광 3겹 롤휴지 * 2개</td>\n",
              "      <td>15,900</td>\n",
              "      <td>무료</td>\n",
              "      <td>11번가</td>\n",
              "      <td>https://www.ppomppu.co.kr/zboard/view.php?id=p...</td>\n",
              "      <td>https://cdn.ppomppu.co.kr/images/personal_sett...</td>\n",
              "      <td>https://s.ppomppu.co.kr?idno=ppomppu_400746&amp;en...</td>\n",
              "      <td>\\n요거 원래 한묶음에 9900원정도 하고\\n평상시엔 두묶음에 2만원 이거든요 ~...</td>\n",
              "      <td>21/10/21</td>\n",
              "      <td>0</td>\n",
              "    </tr>\n",
              "    <tr>\n",
              "      <th>3</th>\n",
              "      <td>3</td>\n",
              "      <td>2_400745</td>\n",
              "      <td>파우트 노필터 초음파 미니가습기 타임딜</td>\n",
              "      <td>[가전/가구]</td>\n",
              "      <td>파우트 노필터 초음파 미니가습기 타임딜</td>\n",
              "      <td>19900원</td>\n",
              "      <td>무배</td>\n",
              "      <td>터파크</td>\n",
              "      <td>https://www.ppomppu.co.kr/zboard/view.php?id=p...</td>\n",
              "      <td>https://cdn.ppomppu.co.kr/images/personal_sett...</td>\n",
              "      <td>https://s.ppomppu.co.kr?idno=ppomppu_400745&amp;en...</td>\n",
              "      <td>요즘 건조해서 미니 가습기 하나 장만했는데 \\n가격은 찾아본것중엔 젤 싼거 같아요 ...</td>\n",
              "      <td>21/10/21</td>\n",
              "      <td>0</td>\n",
              "    </tr>\n",
              "    <tr>\n",
              "      <th>4</th>\n",
              "      <td>4</td>\n",
              "      <td>2_400743</td>\n",
              "      <td>앤드지 세미 오버핏 트렌치 코트 1+1</td>\n",
              "      <td>[의류/잡화]</td>\n",
              "      <td>앤드지 세미 오버핏 트렌치 코트 1+1</td>\n",
              "      <td>79710</td>\n",
              "      <td>무료</td>\n",
              "      <td>11번가</td>\n",
              "      <td>https://www.ppomppu.co.kr/zboard/view.php?id=p...</td>\n",
              "      <td>https://cdn.ppomppu.co.kr/images/personal_sett...</td>\n",
              "      <td>https://s.ppomppu.co.kr?idno=ppomppu_400743&amp;en...</td>\n",
              "      <td>\\n\\n\\n\\n \\n \\n\\n\\n\\n \\n \\n\\n\\n\\n \\n \\n\\n\\n\\n ...</td>\n",
              "      <td>21/10/21</td>\n",
              "      <td>0</td>\n",
              "    </tr>\n",
              "  </tbody>\n",
              "</table>\n",
              "</div>"
            ],
            "text/plain": [
              "   Unnamed: 0        id  ...      date label\n",
              "0           0  2_400748  ...  21/10/21     0\n",
              "1           1  2_400747  ...  21/10/21     0\n",
              "2           2  2_400746  ...  21/10/21     0\n",
              "3           3  2_400745  ...  21/10/21     0\n",
              "4           4  2_400743  ...  21/10/21     0\n",
              "\n",
              "[5 rows x 14 columns]"
            ]
          },
          "metadata": {},
          "execution_count": 19
        }
      ]
    },
    {
      "cell_type": "code",
      "metadata": {
        "colab": {
          "base_uri": "https://localhost:8080/"
        },
        "id": "TzvovNtthG3-",
        "outputId": "2eaa81d4-68e6-4010-e4b0-d237948e3942"
      },
      "source": [
        "count_words(\"[화장품]\",\"title\")"
      ],
      "id": "TzvovNtthG3-",
      "execution_count": null,
      "outputs": [
        {
          "output_type": "stream",
          "name": "stdout",
          "text": [
            "category: [화장품]\n",
            "총 문장의 갯수: 593\n",
            "+ 53\n",
            "1+1 41\n",
            "2개 38\n",
            "샴푸 32\n",
            "설화수 30\n",
            "x 28\n",
            "로션 27\n",
            "해피바스 26\n",
            "크림 25\n",
            "3개 24\n",
            "[화장 24\n",
            "세트 24\n",
            "nan 21\n",
            "올인원 20\n",
            "150ml 20\n",
            "바디워시 20\n",
            "50ml 18\n",
            "2종 18\n",
            "클렌징폼 18\n",
            "200ml 17\n",
            "니베아 15\n",
            "미샤 15\n",
            "세타필 14\n",
            "100ml 14\n",
            "클렌징 14\n",
            "일리윤 14\n",
            "외 14\n",
            "헤드앤숄더 13\n",
            "이니스프리 13\n",
            "대용량 13\n",
            "피지오겔 13\n",
            "폼 12\n",
            "스킨 12\n",
            "등 11\n",
            "기획세트 11\n",
            "랩시리즈 11\n",
            "레스큐 11\n",
            "약산성 10\n",
            "증정 10\n",
            "핸드크림 10\n",
            "500ml 10\n",
            "자음2종 10\n",
            "포맨 10\n",
            "익스트림 10\n",
            "아모레퍼시픽 10\n",
            "체험키트 9\n",
            "클렌저 9\n",
            "데오드란트 9\n",
            "자음 9\n",
            "400ml 8\n",
            "립밤 8\n",
            "마스크팩 8\n",
            "기획 8\n",
            "에센스 8\n",
            "워터로션 8\n",
            "체험팩 8\n",
            "온더바디 8\n",
            "2 8\n",
            "4종 7\n",
            "30ml 7\n",
            "5개 7\n",
            "X 7\n",
            "4개 7\n",
            "473ml 7\n",
            "앰플 7\n",
            "뉴트로지나 7\n",
            "사은품 7\n",
            "세라마이드 7\n",
            "향수 7\n",
            "DMT 7\n",
            "립스틱 6\n",
            "동인비 6\n",
            "바세린 6\n",
            "수딩젤 6\n",
            "토너 6\n",
            "댄트롤 6\n",
            "딥클린 6\n",
            "3종 6\n",
            "에뛰드 6\n",
            "화장솜 6\n",
            "페이셜 6\n",
            "125ml 6\n",
            "850ml 6\n",
            "체험 6\n",
            "미쟝센 6\n",
            "센서티브 6\n",
            "선크림 6\n",
            "려 6\n",
            "2통 6\n",
            "스프레이 6\n",
            "무료배송 5\n",
            "갈색병 5\n",
            "수분크림 5\n",
            "4 5\n",
            "쉐이빙폼 5\n",
            "닥터자르트 5\n",
            "솔루션 5\n",
            "250ml 5\n",
            "맨 5\n",
            "폼클렌징 5\n",
            "200g 5\n",
            "샘플 5\n",
            "쿨킥 5\n",
            "레드 5\n",
            "* 5\n",
            "20매 5\n",
            "500g 5\n",
            "1+1+1 5\n",
            "화장품 5\n",
            "카밀 5\n",
            "/ 5\n",
            "1통 5\n",
            "내추럴 5\n",
            "화산송이 5\n",
            "900ml 4\n",
            "10ml 4\n",
            "클리니컬 4\n",
            "12개 4\n",
            "토니모리 4\n",
            "퓨어 4\n",
            "\n",
            "---------------------------------\n"
          ]
        }
      ]
    },
    {
      "cell_type": "code",
      "metadata": {
        "colab": {
          "base_uri": "https://localhost:8080/"
        },
        "id": "_okbcQPKh6Rm",
        "outputId": "aee77084-3e18-482d-dc34-d8073773018e"
      },
      "source": [
        "count_words(\"[가전/가구]\",\"title\")"
      ],
      "id": "_okbcQPKh6Rm",
      "execution_count": null,
      "outputs": [
        {
          "output_type": "stream",
          "name": "stdout",
          "text": [
            "category: [가전/가구]\n",
            "총 문장의 갯수: 1544\n",
            "삼성 133\n",
            "LG 130\n",
            "[가전/가 78\n",
            "+ 75\n",
            "에어컨 74\n",
            "샤오미 73\n",
            "공기청정기 56\n",
            "필립스 55\n",
            "삼성전자 50\n",
            "식기세척기 48\n",
            "무선청소기 47\n",
            "TV 47\n",
            "쿠쿠 45\n",
            "로봇청소기 42\n",
            "선풍기 40\n",
            "건조기 39\n",
            "창문형 39\n",
            "무선 37\n",
            "제습기 37\n",
            "트롬 34\n",
            "화이트 32\n",
            "에스프레소 31\n",
            "16kg 31\n",
            "LG전자 29\n",
            "드리미 29\n",
            "커피머신 28\n",
            "스타일러 28\n",
            "냉장고 28\n",
            "AI 28\n",
            "/ 27\n",
            "그랑데 27\n",
            "청소기 26\n",
            "비스포크 24\n",
            "제트 24\n",
            "다이슨 24\n",
            "6인용 23\n",
            "에어랩 23\n",
            "nan 22\n",
            "BLDC 22\n",
            "플러스 22\n",
            "로보락 22\n",
            "UHD 22\n",
            "패키지 21\n",
            "세탁기 20\n",
            "에어프라이어 20\n",
            "컴플리트 20\n",
            "4K 20\n",
            "인덕션 19\n",
            "캐리어 19\n",
            "DV16T8740BW 19\n",
            "\n",
            "---------------------------------\n"
          ]
        }
      ]
    },
    {
      "cell_type": "code",
      "metadata": {
        "scrolled": true,
        "colab": {
          "base_uri": "https://localhost:8080/"
        },
        "id": "b5dee4ef",
        "outputId": "c659ab3f-a2f7-4efa-b300-ce679e0dfa5a"
      },
      "source": [
        "category1 = data.groupby('category')\n",
        "\n",
        "for name, group in category1:\n",
        "    print(name + ' : ' + str(len(group)))"
      ],
      "id": "b5dee4ef",
      "execution_count": null,
      "outputs": [
        {
          "output_type": "stream",
          "name": "stdout",
          "text": [
            "[가전/가구] : 1544\n",
            "[기타] : 2773\n",
            "[등산/캠핑] : 169\n",
            "[디지털] : 2913\n",
            "[상품권] : 938\n",
            "[서적] : 66\n",
            "[식품/건강] : 7050\n",
            "[육아] : 425\n",
            "[의류/잡화] : 1609\n",
            "[컴퓨터] : 1498\n",
            "[화장품] : 593\n"
          ]
        }
      ]
    },
    {
      "cell_type": "code",
      "metadata": {
        "scrolled": true,
        "colab": {
          "base_uri": "https://localhost:8080/",
          "height": 661
        },
        "id": "5b9db2ee",
        "outputId": "023daa51-034b-4794-df40-ed4f4320bc9f"
      },
      "source": [
        "import numpy as np\n",
        "from matplotlib import font_manager, rc\n",
        "\n",
        "nameList = []\n",
        "countList = []\n",
        "\n",
        "for name, group in category1:\n",
        "    nameList.append(name)\n",
        "    countList.append((len(group)))\n",
        "\n",
        "x = np.arange(12)\n",
        "plt.bar(x, countList)\n",
        "plt.xlabel('카테고리')\n",
        "plt.ylabel('개수')\n",
        "plt.xticks(x, nameList)\n",
        "plt.xticks(rotation=45)\n",
        "\n",
        "plt.show()"
      ],
      "id": "5b9db2ee",
      "execution_count": null,
      "outputs": [
        {
          "output_type": "error",
          "ename": "ValueError",
          "evalue": "ignored",
          "traceback": [
            "\u001b[0;31m---------------------------------------------------------------------------\u001b[0m",
            "\u001b[0;31mValueError\u001b[0m                                Traceback (most recent call last)",
            "\u001b[0;32m<ipython-input-9-d65a78e49ed4>\u001b[0m in \u001b[0;36m<module>\u001b[0;34m()\u001b[0m\n\u001b[1;32m     10\u001b[0m \u001b[0;34m\u001b[0m\u001b[0m\n\u001b[1;32m     11\u001b[0m \u001b[0mx\u001b[0m \u001b[0;34m=\u001b[0m \u001b[0mnp\u001b[0m\u001b[0;34m.\u001b[0m\u001b[0marange\u001b[0m\u001b[0;34m(\u001b[0m\u001b[0;36m12\u001b[0m\u001b[0;34m)\u001b[0m\u001b[0;34m\u001b[0m\u001b[0;34m\u001b[0m\u001b[0m\n\u001b[0;32m---> 12\u001b[0;31m \u001b[0mplt\u001b[0m\u001b[0;34m.\u001b[0m\u001b[0mbar\u001b[0m\u001b[0;34m(\u001b[0m\u001b[0mx\u001b[0m\u001b[0;34m,\u001b[0m \u001b[0mcountList\u001b[0m\u001b[0;34m)\u001b[0m\u001b[0;34m\u001b[0m\u001b[0;34m\u001b[0m\u001b[0m\n\u001b[0m\u001b[1;32m     13\u001b[0m \u001b[0mplt\u001b[0m\u001b[0;34m.\u001b[0m\u001b[0mxlabel\u001b[0m\u001b[0;34m(\u001b[0m\u001b[0;34m'카테고리'\u001b[0m\u001b[0;34m)\u001b[0m\u001b[0;34m\u001b[0m\u001b[0;34m\u001b[0m\u001b[0m\n\u001b[1;32m     14\u001b[0m \u001b[0mplt\u001b[0m\u001b[0;34m.\u001b[0m\u001b[0mylabel\u001b[0m\u001b[0;34m(\u001b[0m\u001b[0;34m'개수'\u001b[0m\u001b[0;34m)\u001b[0m\u001b[0;34m\u001b[0m\u001b[0;34m\u001b[0m\u001b[0m\n",
            "\u001b[0;32m/usr/local/lib/python3.7/dist-packages/matplotlib/pyplot.py\u001b[0m in \u001b[0;36mbar\u001b[0;34m(x, height, width, bottom, align, data, **kwargs)\u001b[0m\n\u001b[1;32m   2407\u001b[0m     return gca().bar(\n\u001b[1;32m   2408\u001b[0m         \u001b[0mx\u001b[0m\u001b[0;34m,\u001b[0m \u001b[0mheight\u001b[0m\u001b[0;34m,\u001b[0m \u001b[0mwidth\u001b[0m\u001b[0;34m=\u001b[0m\u001b[0mwidth\u001b[0m\u001b[0;34m,\u001b[0m \u001b[0mbottom\u001b[0m\u001b[0;34m=\u001b[0m\u001b[0mbottom\u001b[0m\u001b[0;34m,\u001b[0m \u001b[0malign\u001b[0m\u001b[0;34m=\u001b[0m\u001b[0malign\u001b[0m\u001b[0;34m,\u001b[0m\u001b[0;34m\u001b[0m\u001b[0;34m\u001b[0m\u001b[0m\n\u001b[0;32m-> 2409\u001b[0;31m         **({\"data\": data} if data is not None else {}), **kwargs)\n\u001b[0m\u001b[1;32m   2410\u001b[0m \u001b[0;34m\u001b[0m\u001b[0m\n\u001b[1;32m   2411\u001b[0m \u001b[0;34m\u001b[0m\u001b[0m\n",
            "\u001b[0;32m/usr/local/lib/python3.7/dist-packages/matplotlib/__init__.py\u001b[0m in \u001b[0;36minner\u001b[0;34m(ax, data, *args, **kwargs)\u001b[0m\n\u001b[1;32m   1563\u001b[0m     \u001b[0;32mdef\u001b[0m \u001b[0minner\u001b[0m\u001b[0;34m(\u001b[0m\u001b[0max\u001b[0m\u001b[0;34m,\u001b[0m \u001b[0;34m*\u001b[0m\u001b[0margs\u001b[0m\u001b[0;34m,\u001b[0m \u001b[0mdata\u001b[0m\u001b[0;34m=\u001b[0m\u001b[0;32mNone\u001b[0m\u001b[0;34m,\u001b[0m \u001b[0;34m**\u001b[0m\u001b[0mkwargs\u001b[0m\u001b[0;34m)\u001b[0m\u001b[0;34m:\u001b[0m\u001b[0;34m\u001b[0m\u001b[0;34m\u001b[0m\u001b[0m\n\u001b[1;32m   1564\u001b[0m         \u001b[0;32mif\u001b[0m \u001b[0mdata\u001b[0m \u001b[0;32mis\u001b[0m \u001b[0;32mNone\u001b[0m\u001b[0;34m:\u001b[0m\u001b[0;34m\u001b[0m\u001b[0;34m\u001b[0m\u001b[0m\n\u001b[0;32m-> 1565\u001b[0;31m             \u001b[0;32mreturn\u001b[0m \u001b[0mfunc\u001b[0m\u001b[0;34m(\u001b[0m\u001b[0max\u001b[0m\u001b[0;34m,\u001b[0m \u001b[0;34m*\u001b[0m\u001b[0mmap\u001b[0m\u001b[0;34m(\u001b[0m\u001b[0msanitize_sequence\u001b[0m\u001b[0;34m,\u001b[0m \u001b[0margs\u001b[0m\u001b[0;34m)\u001b[0m\u001b[0;34m,\u001b[0m \u001b[0;34m**\u001b[0m\u001b[0mkwargs\u001b[0m\u001b[0;34m)\u001b[0m\u001b[0;34m\u001b[0m\u001b[0;34m\u001b[0m\u001b[0m\n\u001b[0m\u001b[1;32m   1566\u001b[0m \u001b[0;34m\u001b[0m\u001b[0m\n\u001b[1;32m   1567\u001b[0m         \u001b[0mbound\u001b[0m \u001b[0;34m=\u001b[0m \u001b[0mnew_sig\u001b[0m\u001b[0;34m.\u001b[0m\u001b[0mbind\u001b[0m\u001b[0;34m(\u001b[0m\u001b[0max\u001b[0m\u001b[0;34m,\u001b[0m \u001b[0;34m*\u001b[0m\u001b[0margs\u001b[0m\u001b[0;34m,\u001b[0m \u001b[0;34m**\u001b[0m\u001b[0mkwargs\u001b[0m\u001b[0;34m)\u001b[0m\u001b[0;34m\u001b[0m\u001b[0;34m\u001b[0m\u001b[0m\n",
            "\u001b[0;32m/usr/local/lib/python3.7/dist-packages/matplotlib/axes/_axes.py\u001b[0m in \u001b[0;36mbar\u001b[0;34m(self, x, height, width, bottom, align, **kwargs)\u001b[0m\n\u001b[1;32m   2340\u001b[0m         x, height, width, y, linewidth = np.broadcast_arrays(\n\u001b[1;32m   2341\u001b[0m             \u001b[0;31m# Make args iterable too.\u001b[0m\u001b[0;34m\u001b[0m\u001b[0;34m\u001b[0m\u001b[0;34m\u001b[0m\u001b[0m\n\u001b[0;32m-> 2342\u001b[0;31m             np.atleast_1d(x), height, width, y, linewidth)\n\u001b[0m\u001b[1;32m   2343\u001b[0m \u001b[0;34m\u001b[0m\u001b[0m\n\u001b[1;32m   2344\u001b[0m         \u001b[0;31m# Now that units have been converted, set the tick locations.\u001b[0m\u001b[0;34m\u001b[0m\u001b[0;34m\u001b[0m\u001b[0;34m\u001b[0m\u001b[0m\n",
            "\u001b[0;32m<__array_function__ internals>\u001b[0m in \u001b[0;36mbroadcast_arrays\u001b[0;34m(*args, **kwargs)\u001b[0m\n",
            "\u001b[0;32m/usr/local/lib/python3.7/dist-packages/numpy/lib/stride_tricks.py\u001b[0m in \u001b[0;36mbroadcast_arrays\u001b[0;34m(subok, *args)\u001b[0m\n\u001b[1;32m    256\u001b[0m     \u001b[0margs\u001b[0m \u001b[0;34m=\u001b[0m \u001b[0;34m[\u001b[0m\u001b[0mnp\u001b[0m\u001b[0;34m.\u001b[0m\u001b[0marray\u001b[0m\u001b[0;34m(\u001b[0m\u001b[0m_m\u001b[0m\u001b[0;34m,\u001b[0m \u001b[0mcopy\u001b[0m\u001b[0;34m=\u001b[0m\u001b[0;32mFalse\u001b[0m\u001b[0;34m,\u001b[0m \u001b[0msubok\u001b[0m\u001b[0;34m=\u001b[0m\u001b[0msubok\u001b[0m\u001b[0;34m)\u001b[0m \u001b[0;32mfor\u001b[0m \u001b[0m_m\u001b[0m \u001b[0;32min\u001b[0m \u001b[0margs\u001b[0m\u001b[0;34m]\u001b[0m\u001b[0;34m\u001b[0m\u001b[0;34m\u001b[0m\u001b[0m\n\u001b[1;32m    257\u001b[0m \u001b[0;34m\u001b[0m\u001b[0m\n\u001b[0;32m--> 258\u001b[0;31m     \u001b[0mshape\u001b[0m \u001b[0;34m=\u001b[0m \u001b[0m_broadcast_shape\u001b[0m\u001b[0;34m(\u001b[0m\u001b[0;34m*\u001b[0m\u001b[0margs\u001b[0m\u001b[0;34m)\u001b[0m\u001b[0;34m\u001b[0m\u001b[0;34m\u001b[0m\u001b[0m\n\u001b[0m\u001b[1;32m    259\u001b[0m \u001b[0;34m\u001b[0m\u001b[0m\n\u001b[1;32m    260\u001b[0m     \u001b[0;32mif\u001b[0m \u001b[0mall\u001b[0m\u001b[0;34m(\u001b[0m\u001b[0marray\u001b[0m\u001b[0;34m.\u001b[0m\u001b[0mshape\u001b[0m \u001b[0;34m==\u001b[0m \u001b[0mshape\u001b[0m \u001b[0;32mfor\u001b[0m \u001b[0marray\u001b[0m \u001b[0;32min\u001b[0m \u001b[0margs\u001b[0m\u001b[0;34m)\u001b[0m\u001b[0;34m:\u001b[0m\u001b[0;34m\u001b[0m\u001b[0;34m\u001b[0m\u001b[0m\n",
            "\u001b[0;32m/usr/local/lib/python3.7/dist-packages/numpy/lib/stride_tricks.py\u001b[0m in \u001b[0;36m_broadcast_shape\u001b[0;34m(*args)\u001b[0m\n\u001b[1;32m    187\u001b[0m     \u001b[0;31m# use the old-iterator because np.nditer does not handle size 0 arrays\u001b[0m\u001b[0;34m\u001b[0m\u001b[0;34m\u001b[0m\u001b[0;34m\u001b[0m\u001b[0m\n\u001b[1;32m    188\u001b[0m     \u001b[0;31m# consistently\u001b[0m\u001b[0;34m\u001b[0m\u001b[0;34m\u001b[0m\u001b[0;34m\u001b[0m\u001b[0m\n\u001b[0;32m--> 189\u001b[0;31m     \u001b[0mb\u001b[0m \u001b[0;34m=\u001b[0m \u001b[0mnp\u001b[0m\u001b[0;34m.\u001b[0m\u001b[0mbroadcast\u001b[0m\u001b[0;34m(\u001b[0m\u001b[0;34m*\u001b[0m\u001b[0margs\u001b[0m\u001b[0;34m[\u001b[0m\u001b[0;34m:\u001b[0m\u001b[0;36m32\u001b[0m\u001b[0;34m]\u001b[0m\u001b[0;34m)\u001b[0m\u001b[0;34m\u001b[0m\u001b[0;34m\u001b[0m\u001b[0m\n\u001b[0m\u001b[1;32m    190\u001b[0m     \u001b[0;31m# unfortunately, it cannot handle 32 or more arguments directly\u001b[0m\u001b[0;34m\u001b[0m\u001b[0;34m\u001b[0m\u001b[0;34m\u001b[0m\u001b[0m\n\u001b[1;32m    191\u001b[0m     \u001b[0;32mfor\u001b[0m \u001b[0mpos\u001b[0m \u001b[0;32min\u001b[0m \u001b[0mrange\u001b[0m\u001b[0;34m(\u001b[0m\u001b[0;36m32\u001b[0m\u001b[0;34m,\u001b[0m \u001b[0mlen\u001b[0m\u001b[0;34m(\u001b[0m\u001b[0margs\u001b[0m\u001b[0;34m)\u001b[0m\u001b[0;34m,\u001b[0m \u001b[0;36m31\u001b[0m\u001b[0;34m)\u001b[0m\u001b[0;34m:\u001b[0m\u001b[0;34m\u001b[0m\u001b[0;34m\u001b[0m\u001b[0m\n",
            "\u001b[0;31mValueError\u001b[0m: shape mismatch: objects cannot be broadcast to a single shape"
          ]
        },
        {
          "output_type": "display_data",
          "data": {
            "image/png": "[encoded data removed]",
            "text/plain": [
              "<Figure size 432x288 with 1 Axes>"
            ]
          },
          "metadata": {
            "needs_background": "light"
          }
        }
      ]
    },
    {
      "cell_type": "code",
      "metadata": {
        "scrolled": false,
        "id": "f0983044",
        "outputId": "b154d41e-e769-47b3-d07c-6934852385e1"
      },
      "source": [
        "from collections import Counter\n",
        "import pprint\n",
        "newList = []\n",
        "for name, group in category1: # 각 그룹마다\n",
        "    print(name + ' : ')\n",
        "    listSum = ' '.join(group['product_name'].values.tolist()) # 상품명을 하나의 문자열로 합침\n",
        "    wordList = listSum.split() # 문자열을 공백단위로 나누어 리스트에 저장\n",
        "    countWord = Counter(wordList).most_common(20) # 리스트에 담긴 단어 중복 개수를 카운터로 저장\n",
        "    pprint.pprint(countWord)\n",
        "    print()\n",
        "    #pprint.pprint(pd.DataFrame(countWord))"
      ],
      "id": "f0983044",
      "execution_count": null,
      "outputs": [
        {
          "name": "stdout",
          "output_type": "stream",
          "text": [
            "[가전/가구] : \n"
          ]
        },
        {
          "ename": "TypeError",
          "evalue": "sequence item 18: expected str instance, float found",
          "output_type": "error",
          "traceback": [
            "\u001b[1;31m---------------------------------------------------------------------------\u001b[0m",
            "\u001b[1;31mTypeError\u001b[0m                                 Traceback (most recent call last)",
            "\u001b[1;32m~\\AppData\\Local\\Temp/ipykernel_1300/2408543054.py\u001b[0m in \u001b[0;36m<module>\u001b[1;34m\u001b[0m\n\u001b[0;32m      4\u001b[0m \u001b[1;32mfor\u001b[0m \u001b[0mname\u001b[0m\u001b[1;33m,\u001b[0m \u001b[0mgroup\u001b[0m \u001b[1;32min\u001b[0m \u001b[0mcategory1\u001b[0m\u001b[1;33m:\u001b[0m \u001b[1;31m# 각 그룹마다\u001b[0m\u001b[1;33m\u001b[0m\u001b[1;33m\u001b[0m\u001b[0m\n\u001b[0;32m      5\u001b[0m     \u001b[0mprint\u001b[0m\u001b[1;33m(\u001b[0m\u001b[0mname\u001b[0m \u001b[1;33m+\u001b[0m \u001b[1;34m' : '\u001b[0m\u001b[1;33m)\u001b[0m\u001b[1;33m\u001b[0m\u001b[1;33m\u001b[0m\u001b[0m\n\u001b[1;32m----> 6\u001b[1;33m     \u001b[0mlistSum\u001b[0m \u001b[1;33m=\u001b[0m \u001b[1;34m' '\u001b[0m\u001b[1;33m.\u001b[0m\u001b[0mjoin\u001b[0m\u001b[1;33m(\u001b[0m\u001b[0mgroup\u001b[0m\u001b[1;33m[\u001b[0m\u001b[1;34m'product_name'\u001b[0m\u001b[1;33m]\u001b[0m\u001b[1;33m.\u001b[0m\u001b[0mvalues\u001b[0m\u001b[1;33m.\u001b[0m\u001b[0mtolist\u001b[0m\u001b[1;33m(\u001b[0m\u001b[1;33m)\u001b[0m\u001b[1;33m)\u001b[0m \u001b[1;31m# 상품명을 하나의 문자열로 합침\u001b[0m\u001b[1;33m\u001b[0m\u001b[1;33m\u001b[0m\u001b[0m\n\u001b[0m\u001b[0;32m      7\u001b[0m     \u001b[0mwordList\u001b[0m \u001b[1;33m=\u001b[0m \u001b[0mlistSum\u001b[0m\u001b[1;33m.\u001b[0m\u001b[0msplit\u001b[0m\u001b[1;33m(\u001b[0m\u001b[1;33m)\u001b[0m \u001b[1;31m# 문자열을 공백단위로 나누어 리스트에 저장\u001b[0m\u001b[1;33m\u001b[0m\u001b[1;33m\u001b[0m\u001b[0m\n\u001b[0;32m      8\u001b[0m     \u001b[0mcountWord\u001b[0m \u001b[1;33m=\u001b[0m \u001b[0mCounter\u001b[0m\u001b[1;33m(\u001b[0m\u001b[0mwordList\u001b[0m\u001b[1;33m)\u001b[0m\u001b[1;33m.\u001b[0m\u001b[0mmost_common\u001b[0m\u001b[1;33m(\u001b[0m\u001b[1;36m20\u001b[0m\u001b[1;33m)\u001b[0m \u001b[1;31m# 리스트에 담긴 단어 중복 개수를 카운터로 저장\u001b[0m\u001b[1;33m\u001b[0m\u001b[1;33m\u001b[0m\u001b[0m\n",
            "\u001b[1;31mTypeError\u001b[0m: sequence item 18: expected str instance, float found"
          ]
        }
      ]
    },
    {
      "cell_type": "code",
      "metadata": {
        "id": "865a1070"
      },
      "source": [
        ""
      ],
      "id": "865a1070",
      "execution_count": null,
      "outputs": []
    },
    {
      "cell_type": "code",
      "metadata": {
        "id": "cc30cd04"
      },
      "source": [
        ""
      ],
      "id": "cc30cd04",
      "execution_count": null,
      "outputs": []
    }
  ]
}
