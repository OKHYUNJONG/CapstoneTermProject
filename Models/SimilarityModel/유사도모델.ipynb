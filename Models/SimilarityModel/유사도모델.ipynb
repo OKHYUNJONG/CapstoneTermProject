{
  "nbformat": 4,
  "nbformat_minor": 0,
  "metadata": {
    "colab": {
      "name": "유사도모델.ipynb",
      "provenance": [],
      "collapsed_sections": [],
      "authorship_tag": "ABX9TyM3CNarRV9tbvlqwIGgU53s"
    },
    "kernelspec": {
      "name": "python3",
      "display_name": "Python 3"
    },
    "language_info": {
      "name": "python"
    }
  },
  "cells": [
    {
      "cell_type": "code",
      "execution_count": null,
      "metadata": {
        "colab": {
          "base_uri": "https://localhost:8080/"
        },
        "id": "BrNc3mSG4tcN",
        "outputId": "59d29716-4c6d-41b5-8d0a-63b17ed726e1"
      },
      "outputs": [
        {
          "output_type": "stream",
          "name": "stdout",
          "text": [
            "Mounted at /content/drive\n"
          ]
        }
      ],
      "source": [
        "from google.colab import drive\n",
        "drive.mount('/content/drive')"
      ]
    },
    {
      "cell_type": "code",
      "source": [
        "import os\n",
        "import numpy as np\n",
        "import pandas as pd"
      ],
      "metadata": {
        "id": "9QK3AtNi4wbG"
      },
      "execution_count": null,
      "outputs": []
    },
    {
      "cell_type": "code",
      "source": [
        "data_dir = '/content/drive/MyDrive/ColabNotebooks/데이터분석캡스톤디자인' #경로 지정하기\n",
        "file_list = os.listdir(data_dir)\n",
        "print(file_list)"
      ],
      "metadata": {
        "colab": {
          "base_uri": "https://localhost:8080/"
        },
        "id": "y11ow7uW4wdk",
        "outputId": "612bc9c0-6fc3-4b68-d754-eddcdebacceb"
      },
      "execution_count": null,
      "outputs": [
        {
          "output_type": "stream",
          "name": "stdout",
          "text": [
            "['유사도모델.ipynb', 'data.csv', 'ppomppu.csv', 'fmkorea_hotdeal.csv', '2english.csv', 'data_digital.csv', 'Make_data.ipynb', '2korea.csv', 'ppomppu_DigitClassfiy_fold0.pt', 'ppomppu_DigitClassfiy_fold1.pt', 'ppomppu_DigitClassfiy_fold2.pt', 'ppomppu_DigitClassfiy_fold3.pt', 'ppomppu_DigitClassfiy_fold4.pt', 'DistilBert.ipynb', 'PreProcessing+Model.ipynb']\n"
          ]
        }
      ]
    },
    {
      "cell_type": "code",
      "source": [
        "df =pd.read_csv(data_dir + '/ppomppu.csv')\n",
        "df2 =pd.read_csv(data_dir + '/fmkorea_hotdeal.csv')"
      ],
      "metadata": {
        "id": "oICiX2_o4wgE"
      },
      "execution_count": null,
      "outputs": []
    },
    {
      "cell_type": "code",
      "source": [
        "from sklearn.feature_extraction.text import TfidfVectorizer\n",
        "from sklearn.metrics.pairwise import cosine_similarity"
      ],
      "metadata": {
        "id": "wTuVJG6uf6nJ"
      },
      "execution_count": null,
      "outputs": []
    },
    {
      "cell_type": "code",
      "source": [
        "import re\n",
        "s1 = re.compile('1+1')\n",
        "s2 = re.compile('역대가')\n",
        "p = re.compile('[\\!@#$%\\^&\\*\\(\\)\\-\\=\\[\\]\\{\\}\\.,/\\?~\\+\\'\"|_:;><`┃…]')\n",
        "\n",
        "def remove_special_characters(sentence, lower=True):\n",
        "    sentence = s1.sub(' ', str(sentence))\n",
        "    sentence = p.sub(' ', sentence) \n",
        "    sentence = s1.sub(' ', sentence)\n",
        "    sentence = ' '.join(sentence.split())\n",
        "    if lower:\n",
        "        sentence = sentence.lower()\n",
        "    return sentence\n",
        "\n",
        "df['title'] = df['title'].map(remove_special_characters)\n",
        "df2['title'] = df2['title'].map(remove_special_characters)"
      ],
      "metadata": {
        "id": "fj2k14rtienB"
      },
      "execution_count": null,
      "outputs": []
    },
    {
      "cell_type": "code",
      "source": [
        "df_full = pd.concat([df,df2],ignore_index=True)"
      ],
      "metadata": {
        "id": "5IKGWYxiietA"
      },
      "execution_count": null,
      "outputs": []
    },
    {
      "cell_type": "code",
      "source": [
        "df_full.head()"
      ],
      "metadata": {
        "colab": {
          "base_uri": "https://localhost:8080/",
          "height": 608
        },
        "id": "662B3y97nkFG",
        "outputId": "ab025a86-42a5-4912-e57c-d37c4c92c3f2"
      },
      "execution_count": null,
      "outputs": [
        {
          "output_type": "execute_result",
          "data": {
            "text/html": [
              "<div>\n",
              "<style scoped>\n",
              "    .dataframe tbody tr th:only-of-type {\n",
              "        vertical-align: middle;\n",
              "    }\n",
              "\n",
              "    .dataframe tbody tr th {\n",
              "        vertical-align: top;\n",
              "    }\n",
              "\n",
              "    .dataframe thead th {\n",
              "        text-align: right;\n",
              "    }\n",
              "</style>\n",
              "<table border=\"1\" class=\"dataframe\">\n",
              "  <thead>\n",
              "    <tr style=\"text-align: right;\">\n",
              "      <th></th>\n",
              "      <th>Unnamed: 0</th>\n",
              "      <th>Unnamed: 0.1</th>\n",
              "      <th>id</th>\n",
              "      <th>title</th>\n",
              "      <th>category</th>\n",
              "      <th>product_name</th>\n",
              "      <th>price</th>\n",
              "      <th>shopping_fee</th>\n",
              "      <th>hotdeal_place</th>\n",
              "      <th>link</th>\n",
              "      <th>img_url</th>\n",
              "      <th>shop_url</th>\n",
              "      <th>text</th>\n",
              "      <th>date</th>\n",
              "      <th>label</th>\n",
              "    </tr>\n",
              "  </thead>\n",
              "  <tbody>\n",
              "    <tr>\n",
              "      <th>0</th>\n",
              "      <td>0</td>\n",
              "      <td>0.0</td>\n",
              "      <td>2_400748</td>\n",
              "      <td>아토세이프 섬유유연제 2 5l x 4개</td>\n",
              "      <td>[기타]</td>\n",
              "      <td>아토세이프 섬유유연제 2.5L x 4개</td>\n",
              "      <td>6,900원</td>\n",
              "      <td>무료배송</td>\n",
              "      <td>옥션</td>\n",
              "      <td>https://www.ppomppu.co.kr/zboard/view.php?id=p...</td>\n",
              "      <td>https://cdn.ppomppu.co.kr/images/personal_sett...</td>\n",
              "      <td>https://s.ppomppu.co.kr?idno=ppomppu_400748&amp;en...</td>\n",
              "      <td>\\n\\n \\n아토세이프 섬유유연제 2.5L x 4개 무료배송\\n \\n네이버경유하면...</td>\n",
              "      <td>21/10/21</td>\n",
              "      <td>0.0</td>\n",
              "    </tr>\n",
              "    <tr>\n",
              "      <th>1</th>\n",
              "      <td>1</td>\n",
              "      <td>1.0</td>\n",
              "      <td>2_400747</td>\n",
              "      <td>오바다 국내산 반건조오징어 10미</td>\n",
              "      <td>[식품/건강]</td>\n",
              "      <td>오바다 국내산 반건조오징어 10미</td>\n",
              "      <td>1.2kg내외)(19,740</td>\n",
              "      <td>무료</td>\n",
              "      <td>인터파크</td>\n",
              "      <td>https://www.ppomppu.co.kr/zboard/view.php?id=p...</td>\n",
              "      <td>no_image</td>\n",
              "      <td>https://s.ppomppu.co.kr?idno=ppomppu_400747&amp;en...</td>\n",
              "      <td>쿠폰은 링크에서 바로 다운가능합니다\\n수산대전 30%+10% 중복 총40%할인이네요\\n</td>\n",
              "      <td>21/10/21</td>\n",
              "      <td>0.0</td>\n",
              "    </tr>\n",
              "    <tr>\n",
              "      <th>2</th>\n",
              "      <td>2</td>\n",
              "      <td>2.0</td>\n",
              "      <td>2_400746</td>\n",
              "      <td>휴지공방무형광 3겹 롤휴지 2개</td>\n",
              "      <td>[기타]</td>\n",
              "      <td>휴지공방무형광 3겹 롤휴지 * 2개</td>\n",
              "      <td>15,900</td>\n",
              "      <td>무료</td>\n",
              "      <td>11번가</td>\n",
              "      <td>https://www.ppomppu.co.kr/zboard/view.php?id=p...</td>\n",
              "      <td>https://cdn.ppomppu.co.kr/images/personal_sett...</td>\n",
              "      <td>https://s.ppomppu.co.kr?idno=ppomppu_400746&amp;en...</td>\n",
              "      <td>\\n요거 원래 한묶음에 9900원정도 하고\\n평상시엔 두묶음에 2만원 이거든요 ~...</td>\n",
              "      <td>21/10/21</td>\n",
              "      <td>0.0</td>\n",
              "    </tr>\n",
              "    <tr>\n",
              "      <th>3</th>\n",
              "      <td>3</td>\n",
              "      <td>3.0</td>\n",
              "      <td>2_400745</td>\n",
              "      <td>파우트 노필터 초음파 미니가습기 타임딜</td>\n",
              "      <td>[가전/가구]</td>\n",
              "      <td>파우트 노필터 초음파 미니가습기 타임딜</td>\n",
              "      <td>19900원</td>\n",
              "      <td>무배</td>\n",
              "      <td>터파크</td>\n",
              "      <td>https://www.ppomppu.co.kr/zboard/view.php?id=p...</td>\n",
              "      <td>https://cdn.ppomppu.co.kr/images/personal_sett...</td>\n",
              "      <td>https://s.ppomppu.co.kr?idno=ppomppu_400745&amp;en...</td>\n",
              "      <td>요즘 건조해서 미니 가습기 하나 장만했는데 \\n가격은 찾아본것중엔 젤 싼거 같아요 ...</td>\n",
              "      <td>21/10/21</td>\n",
              "      <td>0.0</td>\n",
              "    </tr>\n",
              "    <tr>\n",
              "      <th>4</th>\n",
              "      <td>4</td>\n",
              "      <td>4.0</td>\n",
              "      <td>2_400743</td>\n",
              "      <td>앤드지 세미 오버핏 트렌치 코트 1 1</td>\n",
              "      <td>[의류/잡화]</td>\n",
              "      <td>앤드지 세미 오버핏 트렌치 코트 1+1</td>\n",
              "      <td>79710</td>\n",
              "      <td>무료</td>\n",
              "      <td>11번가</td>\n",
              "      <td>https://www.ppomppu.co.kr/zboard/view.php?id=p...</td>\n",
              "      <td>https://cdn.ppomppu.co.kr/images/personal_sett...</td>\n",
              "      <td>https://s.ppomppu.co.kr?idno=ppomppu_400743&amp;en...</td>\n",
              "      <td>\\n\\n\\n\\n \\n \\n\\n\\n\\n \\n \\n\\n\\n\\n \\n \\n\\n\\n\\n ...</td>\n",
              "      <td>21/10/21</td>\n",
              "      <td>0.0</td>\n",
              "    </tr>\n",
              "  </tbody>\n",
              "</table>\n",
              "</div>"
            ],
            "text/plain": [
              "   Unnamed: 0  Unnamed: 0.1  ...      date label\n",
              "0           0           0.0  ...  21/10/21   0.0\n",
              "1           1           1.0  ...  21/10/21   0.0\n",
              "2           2           2.0  ...  21/10/21   0.0\n",
              "3           3           3.0  ...  21/10/21   0.0\n",
              "4           4           4.0  ...  21/10/21   0.0\n",
              "\n",
              "[5 rows x 15 columns]"
            ]
          },
          "metadata": {},
          "execution_count": 19
        }
      ]
    },
    {
      "cell_type": "code",
      "source": [
        "tfidf = TfidfVectorizer()\n",
        "tfidf_matrix = tfidf.fit_transform(df_full['title'])"
      ],
      "metadata": {
        "id": "b2F6FgjwnLpz"
      },
      "execution_count": null,
      "outputs": []
    },
    {
      "cell_type": "code",
      "source": [
        "cosine_sim = cosine_similarity(tfidf_matrix, tfidf_matrix)"
      ],
      "metadata": {
        "id": "An68xqgenYmm"
      },
      "execution_count": null,
      "outputs": []
    },
    {
      "cell_type": "code",
      "source": [
        "indices = pd.Series(df_full.index, index=df_full['title']).drop_duplicates()"
      ],
      "metadata": {
        "id": "vYOaTXSZnYpN"
      },
      "execution_count": null,
      "outputs": []
    },
    {
      "cell_type": "code",
      "source": [
        "def get_recommendations(title, cosine_sim=cosine_sim):\n",
        "    idx = indices[title]\n",
        "\n",
        "    sim_scores = list(enumerate(cosine_sim[idx]))\n",
        "\n",
        "    sim_scores = sorted(sim_scores, key=lambda x: x[1], reverse=True)\n",
        "\n",
        "    sim_scores = sim_scores[1:11]\n",
        "\n",
        "    product_indices = [i[0] for i in sim_scores]\n",
        "\n",
        "    return df_full.iloc[product_indices]"
      ],
      "metadata": {
        "id": "IXbNoeFenYrj"
      },
      "execution_count": null,
      "outputs": []
    },
    {
      "cell_type": "code",
      "source": [
        "df_full.loc[2,\"title\"]"
      ],
      "metadata": {
        "colab": {
          "base_uri": "https://localhost:8080/",
          "height": 35
        },
        "id": "r7rLE3TdrjXc",
        "outputId": "e8508f05-326f-4c2e-f384-f555ea8936a1"
      },
      "execution_count": null,
      "outputs": [
        {
          "output_type": "execute_result",
          "data": {
            "application/vnd.google.colaboratory.intrinsic+json": {
              "type": "string"
            },
            "text/plain": [
              "'휴지공방무형광 3겹 롤휴지 2개'"
            ]
          },
          "metadata": {},
          "execution_count": 24
        }
      ]
    },
    {
      "cell_type": "code",
      "source": [
        "import re\n",
        "sameProduct = []\n",
        "for j in range(10):\n",
        "  products = get_recommendations(df_full.loc[j,\"title\"])\n",
        "  products.reset_index(inplace=True)\n",
        "  for i in range(len(products)):\n",
        "    try :\n",
        "      if re.sub(r'[^0-9]', '', products.loc[i,\"price\"]) == \"\":\n",
        "        price1 = 0\n",
        "      else:\n",
        "        price1 = int(re.sub(r'[^0-9]', '', products.loc[i,\"price\"]))\n",
        "      if re.sub(r'[^0-9]', '', df_full.loc[j,\"price\"]) == \"\":\n",
        "        price2 = 0\n",
        "      else:\n",
        "        price2 = int(re.sub(r'[^0-9]', '', df_full.loc[j,\"price\"]))\n",
        "    except:\n",
        "      continue\n",
        "    if products.loc[i,\"hotdeal_place\"] == df_full.loc[j,\"hotdeal_place\"] and abs(((price1 - price2) // price2))< 0.05:\n",
        "      sameProduct += [[products.loc[i,\"title\"],df_full.loc[j,\"title\"]]]"
      ],
      "metadata": {
        "id": "SVmf07ygnYue"
      },
      "execution_count": null,
      "outputs": []
    },
    {
      "cell_type": "code",
      "source": [
        "sameProduct"
      ],
      "metadata": {
        "id": "DfSwBsLInYxN",
        "colab": {
          "base_uri": "https://localhost:8080/"
        },
        "outputId": "5c3a26f2-689a-4002-e58a-0bceae2fdf57"
      },
      "execution_count": null,
      "outputs": [
        {
          "output_type": "execute_result",
          "data": {
            "text/plain": [
              "[['아토세이프 섬유유연제 13l', '아토세이프 섬유유연제 2 5l x 4개'],\n",
              " ['스마일 섬유유연제 후리지아향 2 5l 4개', '아토세이프 섬유유연제 2 5l x 4개'],\n",
              " ['크리넥스 데코앤소프트 3겹 27m 30롤 2팩', '휴지공방무형광 3겹 롤휴지 2개'],\n",
              " ['테이퍼드핏 스트링 팬츠', '지오다노 5 tr 테이퍼드핏 히든밴딩 슬랙스'],\n",
              " ['디스커버리 아동 구스다운', '에디션앤드지 구스다운 패딩코트']]"
            ]
          },
          "metadata": {},
          "execution_count": 70
        }
      ]
    },
    {
      "cell_type": "code",
      "source": [
        ""
      ],
      "metadata": {
        "id": "vPjZ4m_MnLsE"
      },
      "execution_count": null,
      "outputs": []
    },
    {
      "cell_type": "code",
      "source": [
        ""
      ],
      "metadata": {
        "id": "e9zGSkvOievu"
      },
      "execution_count": null,
      "outputs": []
    },
    {
      "cell_type": "code",
      "source": [
        ""
      ],
      "metadata": {
        "id": "7_dMb_vPieyv"
      },
      "execution_count": null,
      "outputs": []
    },
    {
      "cell_type": "code",
      "source": [
        ""
      ],
      "metadata": {
        "id": "nYSRUnboie2N"
      },
      "execution_count": null,
      "outputs": []
    }
  ]
}
